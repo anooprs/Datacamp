{
 "cells": [
  {
   "cell_type": "markdown",
   "metadata": {},
   "source": [
    "**Problem statement**\n",
    "\n",
    "*Though, many of us don't appreciate much, but a farmer's job is real test of endurance and determination. Once the seeds are sown, he works days and nights to make sure that he cultivates a good harvest at the end of season. A good harvest is ensured by several factors such as availability of water, soil fertility, protecting crops from rodents, timely use of pesticides & other useful chemicals and nature. While a lot of these factors are difficult to control for, the amount and frequency of pesticides is something the farmer can control.*\n",
    "\n",
    "*Pesticides are also special, because while they protect the crop with the right dosage. But, if you add more than required, they may spoil the entire harvest. A high level of pesticide can deem the crop dead / unsuitable for consumption among many outcomes. This data is based on crops harvested by various farmers at the end of harvest season. To simplify the problem, you can assume that all other factors like variations in farming techniques have been controlled for.*\n",
    "\n",
    "*You need to determine the outcome of the harvest season, i.e. whether the crop would be healthy (alive), damaged by pesticides or damaged by other reasons.*"
   ]
  },
  {
   "cell_type": "code",
   "execution_count": 70,
   "metadata": {
    "ExecuteTime": {
     "end_time": "2021-11-18T17:20:19.418092Z",
     "start_time": "2021-11-18T17:20:19.370078Z"
    }
   },
   "outputs": [],
   "source": [
    "import numpy as np\n",
    "import pandas as pd\n",
    "from matplotlib import pyplot as plt\n",
    "%matplotlib inline\n",
    "import seaborn as sns\n",
    "\n",
    "from sklearn.compose import ColumnTransformer\n",
    "from sklearn.datasets import fetch_openml\n",
    "from sklearn.pipeline import Pipeline\n",
    "from sklearn.impute import SimpleImputer\n",
    "from sklearn.preprocessing import StandardScaler, OneHotEncoder\n",
    "from sklearn.experimental import enable_iterative_imputer\n",
    "from sklearn.impute import IterativeImputer\n",
    "from sklearn.model_selection import train_test_split\n",
    "from catboost import CatBoostClassifier\n",
    "\n",
    "import collections\n",
    "from sklearn.metrics import confusion_matrix, accuracy_score, classification_report"
   ]
  },
  {
   "cell_type": "code",
   "execution_count": 6,
   "metadata": {
    "ExecuteTime": {
     "end_time": "2021-11-18T12:43:01.569532Z",
     "start_time": "2021-11-18T12:43:01.030964Z"
    }
   },
   "outputs": [],
   "source": [
    "train  = pd.read_csv('train_agriculture.csv')\n",
    "test = pd.read_csv('test_agriculture.csv')\n",
    "sample = pd.read_csv(\"sample_submission_agriculture.csv\")"
   ]
  },
  {
   "cell_type": "code",
   "execution_count": 7,
   "metadata": {
    "ExecuteTime": {
     "end_time": "2021-11-18T12:43:31.020680Z",
     "start_time": "2021-11-18T12:43:30.953716Z"
    }
   },
   "outputs": [
    {
     "data": {
      "text/html": [
       "<div>\n",
       "<style scoped>\n",
       "    .dataframe tbody tr th:only-of-type {\n",
       "        vertical-align: middle;\n",
       "    }\n",
       "\n",
       "    .dataframe tbody tr th {\n",
       "        vertical-align: top;\n",
       "    }\n",
       "\n",
       "    .dataframe thead th {\n",
       "        text-align: right;\n",
       "    }\n",
       "</style>\n",
       "<table border=\"1\" class=\"dataframe\">\n",
       "  <thead>\n",
       "    <tr style=\"text-align: right;\">\n",
       "      <th></th>\n",
       "      <th>ID</th>\n",
       "      <th>Estimated_Insects_Count</th>\n",
       "      <th>Crop_Type</th>\n",
       "      <th>Soil_Type</th>\n",
       "      <th>Pesticide_Use_Category</th>\n",
       "      <th>Number_Doses_Week</th>\n",
       "      <th>Number_Weeks_Used</th>\n",
       "      <th>Number_Weeks_Quit</th>\n",
       "      <th>Season</th>\n",
       "      <th>Crop_Damage</th>\n",
       "    </tr>\n",
       "  </thead>\n",
       "  <tbody>\n",
       "    <tr>\n",
       "      <th>0</th>\n",
       "      <td>F00000001</td>\n",
       "      <td>188</td>\n",
       "      <td>1</td>\n",
       "      <td>0</td>\n",
       "      <td>1</td>\n",
       "      <td>0</td>\n",
       "      <td>0.0</td>\n",
       "      <td>0</td>\n",
       "      <td>1</td>\n",
       "      <td>0</td>\n",
       "    </tr>\n",
       "    <tr>\n",
       "      <th>1</th>\n",
       "      <td>F00000003</td>\n",
       "      <td>209</td>\n",
       "      <td>1</td>\n",
       "      <td>0</td>\n",
       "      <td>1</td>\n",
       "      <td>0</td>\n",
       "      <td>0.0</td>\n",
       "      <td>0</td>\n",
       "      <td>2</td>\n",
       "      <td>1</td>\n",
       "    </tr>\n",
       "    <tr>\n",
       "      <th>2</th>\n",
       "      <td>F00000004</td>\n",
       "      <td>257</td>\n",
       "      <td>1</td>\n",
       "      <td>0</td>\n",
       "      <td>1</td>\n",
       "      <td>0</td>\n",
       "      <td>0.0</td>\n",
       "      <td>0</td>\n",
       "      <td>2</td>\n",
       "      <td>1</td>\n",
       "    </tr>\n",
       "    <tr>\n",
       "      <th>3</th>\n",
       "      <td>F00000005</td>\n",
       "      <td>257</td>\n",
       "      <td>1</td>\n",
       "      <td>1</td>\n",
       "      <td>1</td>\n",
       "      <td>0</td>\n",
       "      <td>0.0</td>\n",
       "      <td>0</td>\n",
       "      <td>2</td>\n",
       "      <td>1</td>\n",
       "    </tr>\n",
       "    <tr>\n",
       "      <th>4</th>\n",
       "      <td>F00000006</td>\n",
       "      <td>342</td>\n",
       "      <td>1</td>\n",
       "      <td>0</td>\n",
       "      <td>1</td>\n",
       "      <td>0</td>\n",
       "      <td>0.0</td>\n",
       "      <td>0</td>\n",
       "      <td>2</td>\n",
       "      <td>1</td>\n",
       "    </tr>\n",
       "  </tbody>\n",
       "</table>\n",
       "</div>"
      ],
      "text/plain": [
       "          ID  Estimated_Insects_Count  Crop_Type  Soil_Type  \\\n",
       "0  F00000001                      188          1          0   \n",
       "1  F00000003                      209          1          0   \n",
       "2  F00000004                      257          1          0   \n",
       "3  F00000005                      257          1          1   \n",
       "4  F00000006                      342          1          0   \n",
       "\n",
       "   Pesticide_Use_Category  Number_Doses_Week  Number_Weeks_Used  \\\n",
       "0                       1                  0                0.0   \n",
       "1                       1                  0                0.0   \n",
       "2                       1                  0                0.0   \n",
       "3                       1                  0                0.0   \n",
       "4                       1                  0                0.0   \n",
       "\n",
       "   Number_Weeks_Quit  Season  Crop_Damage  \n",
       "0                  0       1            0  \n",
       "1                  0       2            1  \n",
       "2                  0       2            1  \n",
       "3                  0       2            1  \n",
       "4                  0       2            1  "
      ]
     },
     "execution_count": 7,
     "metadata": {},
     "output_type": "execute_result"
    }
   ],
   "source": [
    "train.head()"
   ]
  },
  {
   "cell_type": "code",
   "execution_count": 8,
   "metadata": {
    "ExecuteTime": {
     "end_time": "2021-11-18T12:43:37.255974Z",
     "start_time": "2021-11-18T12:43:37.233986Z"
    }
   },
   "outputs": [
    {
     "data": {
      "text/html": [
       "<div>\n",
       "<style scoped>\n",
       "    .dataframe tbody tr th:only-of-type {\n",
       "        vertical-align: middle;\n",
       "    }\n",
       "\n",
       "    .dataframe tbody tr th {\n",
       "        vertical-align: top;\n",
       "    }\n",
       "\n",
       "    .dataframe thead th {\n",
       "        text-align: right;\n",
       "    }\n",
       "</style>\n",
       "<table border=\"1\" class=\"dataframe\">\n",
       "  <thead>\n",
       "    <tr style=\"text-align: right;\">\n",
       "      <th></th>\n",
       "      <th>ID</th>\n",
       "      <th>Estimated_Insects_Count</th>\n",
       "      <th>Crop_Type</th>\n",
       "      <th>Soil_Type</th>\n",
       "      <th>Pesticide_Use_Category</th>\n",
       "      <th>Number_Doses_Week</th>\n",
       "      <th>Number_Weeks_Used</th>\n",
       "      <th>Number_Weeks_Quit</th>\n",
       "      <th>Season</th>\n",
       "    </tr>\n",
       "  </thead>\n",
       "  <tbody>\n",
       "    <tr>\n",
       "      <th>0</th>\n",
       "      <td>F00000002</td>\n",
       "      <td>188</td>\n",
       "      <td>1</td>\n",
       "      <td>1</td>\n",
       "      <td>1</td>\n",
       "      <td>0</td>\n",
       "      <td>NaN</td>\n",
       "      <td>0</td>\n",
       "      <td>2</td>\n",
       "    </tr>\n",
       "    <tr>\n",
       "      <th>1</th>\n",
       "      <td>F00000007</td>\n",
       "      <td>410</td>\n",
       "      <td>1</td>\n",
       "      <td>1</td>\n",
       "      <td>1</td>\n",
       "      <td>0</td>\n",
       "      <td>0.0</td>\n",
       "      <td>0</td>\n",
       "      <td>2</td>\n",
       "    </tr>\n",
       "    <tr>\n",
       "      <th>2</th>\n",
       "      <td>F00000011</td>\n",
       "      <td>626</td>\n",
       "      <td>1</td>\n",
       "      <td>0</td>\n",
       "      <td>1</td>\n",
       "      <td>0</td>\n",
       "      <td>0.0</td>\n",
       "      <td>0</td>\n",
       "      <td>2</td>\n",
       "    </tr>\n",
       "    <tr>\n",
       "      <th>3</th>\n",
       "      <td>F00000013</td>\n",
       "      <td>731</td>\n",
       "      <td>1</td>\n",
       "      <td>0</td>\n",
       "      <td>1</td>\n",
       "      <td>0</td>\n",
       "      <td>0.0</td>\n",
       "      <td>0</td>\n",
       "      <td>2</td>\n",
       "    </tr>\n",
       "    <tr>\n",
       "      <th>4</th>\n",
       "      <td>F00000014</td>\n",
       "      <td>789</td>\n",
       "      <td>0</td>\n",
       "      <td>0</td>\n",
       "      <td>1</td>\n",
       "      <td>0</td>\n",
       "      <td>0.0</td>\n",
       "      <td>0</td>\n",
       "      <td>1</td>\n",
       "    </tr>\n",
       "  </tbody>\n",
       "</table>\n",
       "</div>"
      ],
      "text/plain": [
       "          ID  Estimated_Insects_Count  Crop_Type  Soil_Type  \\\n",
       "0  F00000002                      188          1          1   \n",
       "1  F00000007                      410          1          1   \n",
       "2  F00000011                      626          1          0   \n",
       "3  F00000013                      731          1          0   \n",
       "4  F00000014                      789          0          0   \n",
       "\n",
       "   Pesticide_Use_Category  Number_Doses_Week  Number_Weeks_Used  \\\n",
       "0                       1                  0                NaN   \n",
       "1                       1                  0                0.0   \n",
       "2                       1                  0                0.0   \n",
       "3                       1                  0                0.0   \n",
       "4                       1                  0                0.0   \n",
       "\n",
       "   Number_Weeks_Quit  Season  \n",
       "0                  0       2  \n",
       "1                  0       2  \n",
       "2                  0       2  \n",
       "3                  0       2  \n",
       "4                  0       1  "
      ]
     },
     "execution_count": 8,
     "metadata": {},
     "output_type": "execute_result"
    }
   ],
   "source": [
    "test.head()"
   ]
  },
  {
   "cell_type": "code",
   "execution_count": 9,
   "metadata": {
    "ExecuteTime": {
     "end_time": "2021-11-18T12:43:50.376219Z",
     "start_time": "2021-11-18T12:43:50.356215Z"
    }
   },
   "outputs": [
    {
     "data": {
      "text/html": [
       "<div>\n",
       "<style scoped>\n",
       "    .dataframe tbody tr th:only-of-type {\n",
       "        vertical-align: middle;\n",
       "    }\n",
       "\n",
       "    .dataframe tbody tr th {\n",
       "        vertical-align: top;\n",
       "    }\n",
       "\n",
       "    .dataframe thead th {\n",
       "        text-align: right;\n",
       "    }\n",
       "</style>\n",
       "<table border=\"1\" class=\"dataframe\">\n",
       "  <thead>\n",
       "    <tr style=\"text-align: right;\">\n",
       "      <th></th>\n",
       "      <th>Unnamed: 0</th>\n",
       "      <th>ID</th>\n",
       "      <th>Crop_Damage</th>\n",
       "    </tr>\n",
       "  </thead>\n",
       "  <tbody>\n",
       "    <tr>\n",
       "      <th>0</th>\n",
       "      <td>0</td>\n",
       "      <td>F00000002</td>\n",
       "      <td>1</td>\n",
       "    </tr>\n",
       "    <tr>\n",
       "      <th>1</th>\n",
       "      <td>1</td>\n",
       "      <td>F00000011</td>\n",
       "      <td>1</td>\n",
       "    </tr>\n",
       "    <tr>\n",
       "      <th>2</th>\n",
       "      <td>2</td>\n",
       "      <td>F00000014</td>\n",
       "      <td>1</td>\n",
       "    </tr>\n",
       "    <tr>\n",
       "      <th>3</th>\n",
       "      <td>3</td>\n",
       "      <td>F00000015</td>\n",
       "      <td>1</td>\n",
       "    </tr>\n",
       "    <tr>\n",
       "      <th>4</th>\n",
       "      <td>4</td>\n",
       "      <td>F00000016</td>\n",
       "      <td>1</td>\n",
       "    </tr>\n",
       "  </tbody>\n",
       "</table>\n",
       "</div>"
      ],
      "text/plain": [
       "   Unnamed: 0         ID  Crop_Damage\n",
       "0           0  F00000002            1\n",
       "1           1  F00000011            1\n",
       "2           2  F00000014            1\n",
       "3           3  F00000015            1\n",
       "4           4  F00000016            1"
      ]
     },
     "execution_count": 9,
     "metadata": {},
     "output_type": "execute_result"
    }
   ],
   "source": [
    "sample.head()"
   ]
  },
  {
   "cell_type": "code",
   "execution_count": 10,
   "metadata": {
    "ExecuteTime": {
     "end_time": "2021-11-18T12:44:16.118509Z",
     "start_time": "2021-11-18T12:44:15.795758Z"
    }
   },
   "outputs": [
    {
     "name": "stdout",
     "output_type": "stream",
     "text": [
      "<class 'pandas.core.frame.DataFrame'>\n",
      "RangeIndex: 88858 entries, 0 to 88857\n",
      "Data columns (total 10 columns):\n",
      " #   Column                   Non-Null Count  Dtype  \n",
      "---  ------                   --------------  -----  \n",
      " 0   ID                       88858 non-null  object \n",
      " 1   Estimated_Insects_Count  88858 non-null  int64  \n",
      " 2   Crop_Type                88858 non-null  int64  \n",
      " 3   Soil_Type                88858 non-null  int64  \n",
      " 4   Pesticide_Use_Category   88858 non-null  int64  \n",
      " 5   Number_Doses_Week        88858 non-null  int64  \n",
      " 6   Number_Weeks_Used        79858 non-null  float64\n",
      " 7   Number_Weeks_Quit        88858 non-null  int64  \n",
      " 8   Season                   88858 non-null  int64  \n",
      " 9   Crop_Damage              88858 non-null  int64  \n",
      "dtypes: float64(1), int64(8), object(1)\n",
      "memory usage: 6.8+ MB\n"
     ]
    }
   ],
   "source": [
    "train.info()"
   ]
  },
  {
   "cell_type": "code",
   "execution_count": 11,
   "metadata": {
    "ExecuteTime": {
     "end_time": "2021-11-18T12:44:29.163794Z",
     "start_time": "2021-11-18T12:44:29.143804Z"
    }
   },
   "outputs": [
    {
     "name": "stdout",
     "output_type": "stream",
     "text": [
      "<class 'pandas.core.frame.DataFrame'>\n",
      "RangeIndex: 59310 entries, 0 to 59309\n",
      "Data columns (total 9 columns):\n",
      " #   Column                   Non-Null Count  Dtype  \n",
      "---  ------                   --------------  -----  \n",
      " 0   ID                       59310 non-null  object \n",
      " 1   Estimated_Insects_Count  59310 non-null  int64  \n",
      " 2   Crop_Type                59310 non-null  int64  \n",
      " 3   Soil_Type                59310 non-null  int64  \n",
      " 4   Pesticide_Use_Category   59310 non-null  int64  \n",
      " 5   Number_Doses_Week        59310 non-null  int64  \n",
      " 6   Number_Weeks_Used        53417 non-null  float64\n",
      " 7   Number_Weeks_Quit        59310 non-null  int64  \n",
      " 8   Season                   59310 non-null  int64  \n",
      "dtypes: float64(1), int64(7), object(1)\n",
      "memory usage: 4.1+ MB\n"
     ]
    }
   ],
   "source": [
    "test.info()"
   ]
  },
  {
   "cell_type": "code",
   "execution_count": 12,
   "metadata": {
    "ExecuteTime": {
     "end_time": "2021-11-18T12:44:52.649569Z",
     "start_time": "2021-11-18T12:44:52.398995Z"
    }
   },
   "outputs": [
    {
     "data": {
      "text/html": [
       "<div>\n",
       "<style scoped>\n",
       "    .dataframe tbody tr th:only-of-type {\n",
       "        vertical-align: middle;\n",
       "    }\n",
       "\n",
       "    .dataframe tbody tr th {\n",
       "        vertical-align: top;\n",
       "    }\n",
       "\n",
       "    .dataframe thead th {\n",
       "        text-align: right;\n",
       "    }\n",
       "</style>\n",
       "<table border=\"1\" class=\"dataframe\">\n",
       "  <thead>\n",
       "    <tr style=\"text-align: right;\">\n",
       "      <th></th>\n",
       "      <th>Estimated_Insects_Count</th>\n",
       "      <th>Crop_Type</th>\n",
       "      <th>Soil_Type</th>\n",
       "      <th>Pesticide_Use_Category</th>\n",
       "      <th>Number_Doses_Week</th>\n",
       "      <th>Number_Weeks_Used</th>\n",
       "      <th>Number_Weeks_Quit</th>\n",
       "      <th>Season</th>\n",
       "      <th>Crop_Damage</th>\n",
       "    </tr>\n",
       "  </thead>\n",
       "  <tbody>\n",
       "    <tr>\n",
       "      <th>count</th>\n",
       "      <td>88858.000000</td>\n",
       "      <td>88858.000000</td>\n",
       "      <td>88858.000000</td>\n",
       "      <td>88858.000000</td>\n",
       "      <td>88858.000000</td>\n",
       "      <td>79858.000000</td>\n",
       "      <td>88858.000000</td>\n",
       "      <td>88858.000000</td>\n",
       "      <td>88858.000000</td>\n",
       "    </tr>\n",
       "    <tr>\n",
       "      <th>mean</th>\n",
       "      <td>1399.012210</td>\n",
       "      <td>0.284375</td>\n",
       "      <td>0.458417</td>\n",
       "      <td>2.264186</td>\n",
       "      <td>25.849952</td>\n",
       "      <td>28.623970</td>\n",
       "      <td>9.589986</td>\n",
       "      <td>1.896959</td>\n",
       "      <td>0.190562</td>\n",
       "    </tr>\n",
       "    <tr>\n",
       "      <th>std</th>\n",
       "      <td>849.048781</td>\n",
       "      <td>0.451119</td>\n",
       "      <td>0.498271</td>\n",
       "      <td>0.461772</td>\n",
       "      <td>15.554428</td>\n",
       "      <td>12.391881</td>\n",
       "      <td>9.900631</td>\n",
       "      <td>0.701322</td>\n",
       "      <td>0.454215</td>\n",
       "    </tr>\n",
       "    <tr>\n",
       "      <th>min</th>\n",
       "      <td>150.000000</td>\n",
       "      <td>0.000000</td>\n",
       "      <td>0.000000</td>\n",
       "      <td>1.000000</td>\n",
       "      <td>0.000000</td>\n",
       "      <td>0.000000</td>\n",
       "      <td>0.000000</td>\n",
       "      <td>1.000000</td>\n",
       "      <td>0.000000</td>\n",
       "    </tr>\n",
       "    <tr>\n",
       "      <th>25%</th>\n",
       "      <td>731.000000</td>\n",
       "      <td>0.000000</td>\n",
       "      <td>0.000000</td>\n",
       "      <td>2.000000</td>\n",
       "      <td>15.000000</td>\n",
       "      <td>20.000000</td>\n",
       "      <td>0.000000</td>\n",
       "      <td>1.000000</td>\n",
       "      <td>0.000000</td>\n",
       "    </tr>\n",
       "    <tr>\n",
       "      <th>50%</th>\n",
       "      <td>1212.000000</td>\n",
       "      <td>0.000000</td>\n",
       "      <td>0.000000</td>\n",
       "      <td>2.000000</td>\n",
       "      <td>20.000000</td>\n",
       "      <td>28.000000</td>\n",
       "      <td>7.000000</td>\n",
       "      <td>2.000000</td>\n",
       "      <td>0.000000</td>\n",
       "    </tr>\n",
       "    <tr>\n",
       "      <th>75%</th>\n",
       "      <td>1898.000000</td>\n",
       "      <td>1.000000</td>\n",
       "      <td>1.000000</td>\n",
       "      <td>3.000000</td>\n",
       "      <td>40.000000</td>\n",
       "      <td>37.000000</td>\n",
       "      <td>16.000000</td>\n",
       "      <td>2.000000</td>\n",
       "      <td>0.000000</td>\n",
       "    </tr>\n",
       "    <tr>\n",
       "      <th>max</th>\n",
       "      <td>4097.000000</td>\n",
       "      <td>1.000000</td>\n",
       "      <td>1.000000</td>\n",
       "      <td>3.000000</td>\n",
       "      <td>95.000000</td>\n",
       "      <td>67.000000</td>\n",
       "      <td>50.000000</td>\n",
       "      <td>3.000000</td>\n",
       "      <td>2.000000</td>\n",
       "    </tr>\n",
       "  </tbody>\n",
       "</table>\n",
       "</div>"
      ],
      "text/plain": [
       "       Estimated_Insects_Count     Crop_Type     Soil_Type  \\\n",
       "count             88858.000000  88858.000000  88858.000000   \n",
       "mean               1399.012210      0.284375      0.458417   \n",
       "std                 849.048781      0.451119      0.498271   \n",
       "min                 150.000000      0.000000      0.000000   \n",
       "25%                 731.000000      0.000000      0.000000   \n",
       "50%                1212.000000      0.000000      0.000000   \n",
       "75%                1898.000000      1.000000      1.000000   \n",
       "max                4097.000000      1.000000      1.000000   \n",
       "\n",
       "       Pesticide_Use_Category  Number_Doses_Week  Number_Weeks_Used  \\\n",
       "count            88858.000000       88858.000000       79858.000000   \n",
       "mean                 2.264186          25.849952          28.623970   \n",
       "std                  0.461772          15.554428          12.391881   \n",
       "min                  1.000000           0.000000           0.000000   \n",
       "25%                  2.000000          15.000000          20.000000   \n",
       "50%                  2.000000          20.000000          28.000000   \n",
       "75%                  3.000000          40.000000          37.000000   \n",
       "max                  3.000000          95.000000          67.000000   \n",
       "\n",
       "       Number_Weeks_Quit        Season   Crop_Damage  \n",
       "count       88858.000000  88858.000000  88858.000000  \n",
       "mean            9.589986      1.896959      0.190562  \n",
       "std             9.900631      0.701322      0.454215  \n",
       "min             0.000000      1.000000      0.000000  \n",
       "25%             0.000000      1.000000      0.000000  \n",
       "50%             7.000000      2.000000      0.000000  \n",
       "75%            16.000000      2.000000      0.000000  \n",
       "max            50.000000      3.000000      2.000000  "
      ]
     },
     "execution_count": 12,
     "metadata": {},
     "output_type": "execute_result"
    }
   ],
   "source": [
    "train.describe()"
   ]
  },
  {
   "cell_type": "code",
   "execution_count": 13,
   "metadata": {
    "ExecuteTime": {
     "end_time": "2021-11-18T12:45:08.525625Z",
     "start_time": "2021-11-18T12:45:08.461663Z"
    }
   },
   "outputs": [
    {
     "data": {
      "text/html": [
       "<div>\n",
       "<style scoped>\n",
       "    .dataframe tbody tr th:only-of-type {\n",
       "        vertical-align: middle;\n",
       "    }\n",
       "\n",
       "    .dataframe tbody tr th {\n",
       "        vertical-align: top;\n",
       "    }\n",
       "\n",
       "    .dataframe thead th {\n",
       "        text-align: right;\n",
       "    }\n",
       "</style>\n",
       "<table border=\"1\" class=\"dataframe\">\n",
       "  <thead>\n",
       "    <tr style=\"text-align: right;\">\n",
       "      <th></th>\n",
       "      <th>Estimated_Insects_Count</th>\n",
       "      <th>Crop_Type</th>\n",
       "      <th>Soil_Type</th>\n",
       "      <th>Pesticide_Use_Category</th>\n",
       "      <th>Number_Doses_Week</th>\n",
       "      <th>Number_Weeks_Used</th>\n",
       "      <th>Number_Weeks_Quit</th>\n",
       "      <th>Season</th>\n",
       "    </tr>\n",
       "  </thead>\n",
       "  <tbody>\n",
       "    <tr>\n",
       "      <th>count</th>\n",
       "      <td>59310.000000</td>\n",
       "      <td>59310.000000</td>\n",
       "      <td>59310.000000</td>\n",
       "      <td>59310.000000</td>\n",
       "      <td>59310.000000</td>\n",
       "      <td>53417.000000</td>\n",
       "      <td>59310.000000</td>\n",
       "      <td>59310.000000</td>\n",
       "    </tr>\n",
       "    <tr>\n",
       "      <th>mean</th>\n",
       "      <td>1397.014129</td>\n",
       "      <td>0.287068</td>\n",
       "      <td>0.455117</td>\n",
       "      <td>2.263227</td>\n",
       "      <td>25.851880</td>\n",
       "      <td>28.705094</td>\n",
       "      <td>9.528376</td>\n",
       "      <td>1.900877</td>\n",
       "    </tr>\n",
       "    <tr>\n",
       "      <th>std</th>\n",
       "      <td>849.425808</td>\n",
       "      <td>0.452397</td>\n",
       "      <td>0.497986</td>\n",
       "      <td>0.461733</td>\n",
       "      <td>15.481957</td>\n",
       "      <td>12.421211</td>\n",
       "      <td>9.855341</td>\n",
       "      <td>0.701934</td>\n",
       "    </tr>\n",
       "    <tr>\n",
       "      <th>min</th>\n",
       "      <td>150.000000</td>\n",
       "      <td>0.000000</td>\n",
       "      <td>0.000000</td>\n",
       "      <td>1.000000</td>\n",
       "      <td>0.000000</td>\n",
       "      <td>0.000000</td>\n",
       "      <td>0.000000</td>\n",
       "      <td>1.000000</td>\n",
       "    </tr>\n",
       "    <tr>\n",
       "      <th>25%</th>\n",
       "      <td>731.000000</td>\n",
       "      <td>0.000000</td>\n",
       "      <td>0.000000</td>\n",
       "      <td>2.000000</td>\n",
       "      <td>15.000000</td>\n",
       "      <td>20.000000</td>\n",
       "      <td>0.000000</td>\n",
       "      <td>1.000000</td>\n",
       "    </tr>\n",
       "    <tr>\n",
       "      <th>50%</th>\n",
       "      <td>1212.000000</td>\n",
       "      <td>0.000000</td>\n",
       "      <td>0.000000</td>\n",
       "      <td>2.000000</td>\n",
       "      <td>20.000000</td>\n",
       "      <td>28.000000</td>\n",
       "      <td>7.000000</td>\n",
       "      <td>2.000000</td>\n",
       "    </tr>\n",
       "    <tr>\n",
       "      <th>75%</th>\n",
       "      <td>1898.000000</td>\n",
       "      <td>1.000000</td>\n",
       "      <td>1.000000</td>\n",
       "      <td>3.000000</td>\n",
       "      <td>40.000000</td>\n",
       "      <td>38.000000</td>\n",
       "      <td>16.000000</td>\n",
       "      <td>2.000000</td>\n",
       "    </tr>\n",
       "    <tr>\n",
       "      <th>max</th>\n",
       "      <td>4097.000000</td>\n",
       "      <td>1.000000</td>\n",
       "      <td>1.000000</td>\n",
       "      <td>3.000000</td>\n",
       "      <td>95.000000</td>\n",
       "      <td>67.000000</td>\n",
       "      <td>50.000000</td>\n",
       "      <td>3.000000</td>\n",
       "    </tr>\n",
       "  </tbody>\n",
       "</table>\n",
       "</div>"
      ],
      "text/plain": [
       "       Estimated_Insects_Count     Crop_Type     Soil_Type  \\\n",
       "count             59310.000000  59310.000000  59310.000000   \n",
       "mean               1397.014129      0.287068      0.455117   \n",
       "std                 849.425808      0.452397      0.497986   \n",
       "min                 150.000000      0.000000      0.000000   \n",
       "25%                 731.000000      0.000000      0.000000   \n",
       "50%                1212.000000      0.000000      0.000000   \n",
       "75%                1898.000000      1.000000      1.000000   \n",
       "max                4097.000000      1.000000      1.000000   \n",
       "\n",
       "       Pesticide_Use_Category  Number_Doses_Week  Number_Weeks_Used  \\\n",
       "count            59310.000000       59310.000000       53417.000000   \n",
       "mean                 2.263227          25.851880          28.705094   \n",
       "std                  0.461733          15.481957          12.421211   \n",
       "min                  1.000000           0.000000           0.000000   \n",
       "25%                  2.000000          15.000000          20.000000   \n",
       "50%                  2.000000          20.000000          28.000000   \n",
       "75%                  3.000000          40.000000          38.000000   \n",
       "max                  3.000000          95.000000          67.000000   \n",
       "\n",
       "       Number_Weeks_Quit        Season  \n",
       "count       59310.000000  59310.000000  \n",
       "mean            9.528376      1.900877  \n",
       "std             9.855341      0.701934  \n",
       "min             0.000000      1.000000  \n",
       "25%             0.000000      1.000000  \n",
       "50%             7.000000      2.000000  \n",
       "75%            16.000000      2.000000  \n",
       "max            50.000000      3.000000  "
      ]
     },
     "execution_count": 13,
     "metadata": {},
     "output_type": "execute_result"
    }
   ],
   "source": [
    "test.describe()"
   ]
  },
  {
   "cell_type": "code",
   "execution_count": 14,
   "metadata": {
    "ExecuteTime": {
     "end_time": "2021-11-18T12:45:37.999193Z",
     "start_time": "2021-11-18T12:45:37.977208Z"
    }
   },
   "outputs": [
    {
     "data": {
      "text/plain": [
       "ID                            0\n",
       "Estimated_Insects_Count       0\n",
       "Crop_Type                     0\n",
       "Soil_Type                     0\n",
       "Pesticide_Use_Category        0\n",
       "Number_Doses_Week             0\n",
       "Number_Weeks_Used          9000\n",
       "Number_Weeks_Quit             0\n",
       "Season                        0\n",
       "Crop_Damage                   0\n",
       "dtype: int64"
      ]
     },
     "execution_count": 14,
     "metadata": {},
     "output_type": "execute_result"
    }
   ],
   "source": [
    "train.isnull().sum()"
   ]
  },
  {
   "cell_type": "code",
   "execution_count": 15,
   "metadata": {
    "ExecuteTime": {
     "end_time": "2021-11-18T12:46:01.322368Z",
     "start_time": "2021-11-18T12:46:01.305382Z"
    }
   },
   "outputs": [
    {
     "data": {
      "text/plain": [
       "ID                            0\n",
       "Estimated_Insects_Count       0\n",
       "Crop_Type                     0\n",
       "Soil_Type                     0\n",
       "Pesticide_Use_Category        0\n",
       "Number_Doses_Week             0\n",
       "Number_Weeks_Used          5893\n",
       "Number_Weeks_Quit             0\n",
       "Season                        0\n",
       "dtype: int64"
      ]
     },
     "execution_count": 15,
     "metadata": {},
     "output_type": "execute_result"
    }
   ],
   "source": [
    "test.isnull().sum()"
   ]
  },
  {
   "cell_type": "code",
   "execution_count": 16,
   "metadata": {
    "ExecuteTime": {
     "end_time": "2021-11-18T12:48:14.360018Z",
     "start_time": "2021-11-18T12:48:12.034829Z"
    }
   },
   "outputs": [
    {
     "data": {
      "text/plain": [
       "<AxesSubplot:>"
      ]
     },
     "execution_count": 16,
     "metadata": {},
     "output_type": "execute_result"
    },
    {
     "data": {
      "image/png": "[encoded data removed]",
      "text/plain": [
       "<Figure size 1152x576 with 2 Axes>"
      ]
     },
     "metadata": {
      "needs_background": "light"
     },
     "output_type": "display_data"
    }
   ],
   "source": [
    "plt.figure(figsize=(16,8))\n",
    "sns.heatmap(train.corr(), annot=True, cmap=\"YlGnBu\")"
   ]
  },
  {
   "cell_type": "code",
   "execution_count": 20,
   "metadata": {
    "ExecuteTime": {
     "end_time": "2021-11-18T12:59:12.332827Z",
     "start_time": "2021-11-18T12:59:12.285142Z"
    }
   },
   "outputs": [
    {
     "data": {
      "text/html": [
       "<div>\n",
       "<style scoped>\n",
       "    .dataframe tbody tr th:only-of-type {\n",
       "        vertical-align: middle;\n",
       "    }\n",
       "\n",
       "    .dataframe tbody tr th {\n",
       "        vertical-align: top;\n",
       "    }\n",
       "\n",
       "    .dataframe thead th {\n",
       "        text-align: right;\n",
       "    }\n",
       "</style>\n",
       "<table border=\"1\" class=\"dataframe\">\n",
       "  <thead>\n",
       "    <tr style=\"text-align: right;\">\n",
       "      <th></th>\n",
       "      <th>Crop_Damage</th>\n",
       "      <th>Estimated_Insects_Count</th>\n",
       "      <th>Crop_Type</th>\n",
       "      <th>Soil_Type</th>\n",
       "      <th>Pesticide_Use_Category</th>\n",
       "      <th>Number_Doses_Week</th>\n",
       "      <th>Number_Weeks_Used</th>\n",
       "      <th>Number_Weeks_Quit</th>\n",
       "      <th>Season</th>\n",
       "    </tr>\n",
       "  </thead>\n",
       "  <tbody>\n",
       "    <tr>\n",
       "      <th>0</th>\n",
       "      <td>0</td>\n",
       "      <td>97675485</td>\n",
       "      <td>21460</td>\n",
       "      <td>34397</td>\n",
       "      <td>165520</td>\n",
       "      <td>1939040</td>\n",
       "      <td>1825397.0</td>\n",
       "      <td>750594</td>\n",
       "      <td>140847</td>\n",
       "    </tr>\n",
       "    <tr>\n",
       "      <th>1</th>\n",
       "      <td>1</td>\n",
       "      <td>22633880</td>\n",
       "      <td>3103</td>\n",
       "      <td>5354</td>\n",
       "      <td>29741</td>\n",
       "      <td>297535</td>\n",
       "      <td>382528.0</td>\n",
       "      <td>93911</td>\n",
       "      <td>23310</td>\n",
       "    </tr>\n",
       "    <tr>\n",
       "      <th>2</th>\n",
       "      <td>2</td>\n",
       "      <td>4004062</td>\n",
       "      <td>706</td>\n",
       "      <td>983</td>\n",
       "      <td>5930</td>\n",
       "      <td>60400</td>\n",
       "      <td>77928.0</td>\n",
       "      <td>7642</td>\n",
       "      <td>4403</td>\n",
       "    </tr>\n",
       "  </tbody>\n",
       "</table>\n",
       "</div>"
      ],
      "text/plain": [
       "   Crop_Damage  Estimated_Insects_Count  Crop_Type  Soil_Type  \\\n",
       "0            0                 97675485      21460      34397   \n",
       "1            1                 22633880       3103       5354   \n",
       "2            2                  4004062        706        983   \n",
       "\n",
       "   Pesticide_Use_Category  Number_Doses_Week  Number_Weeks_Used  \\\n",
       "0                  165520            1939040          1825397.0   \n",
       "1                   29741             297535           382528.0   \n",
       "2                    5930              60400            77928.0   \n",
       "\n",
       "   Number_Weeks_Quit  Season  \n",
       "0             750594  140847  \n",
       "1              93911   23310  \n",
       "2               7642    4403  "
      ]
     },
     "execution_count": 20,
     "metadata": {},
     "output_type": "execute_result"
    }
   ],
   "source": [
    "damage = train.groupby(by=(\"Crop_Damage\")).sum().reset_index()\n",
    "damage"
   ]
  },
  {
   "cell_type": "code",
   "execution_count": 21,
   "metadata": {
    "ExecuteTime": {
     "end_time": "2021-11-18T13:00:04.555516Z",
     "start_time": "2021-11-18T13:00:03.913236Z"
    }
   },
   "outputs": [
    {
     "data": {
      "text/plain": [
       "<AxesSubplot:xlabel='Crop_Damage'>"
      ]
     },
     "execution_count": 21,
     "metadata": {},
     "output_type": "execute_result"
    },
    {
     "data": {
      "image/png": "[encoded data removed]",
      "text/plain": [
       "<Figure size 432x288 with 1 Axes>"
      ]
     },
     "metadata": {
      "needs_background": "light"
     },
     "output_type": "display_data"
    }
   ],
   "source": [
    "sns.distplot(train[\"Crop_Damage\"])"
   ]
  },
  {
   "cell_type": "code",
   "execution_count": 22,
   "metadata": {
    "ExecuteTime": {
     "end_time": "2021-11-18T15:13:49.062081Z",
     "start_time": "2021-11-18T15:13:48.748458Z"
    }
   },
   "outputs": [
    {
     "data": {
      "text/plain": [
       "<AxesSubplot:xlabel='Estimated_Insects_Count'>"
      ]
     },
     "execution_count": 22,
     "metadata": {},
     "output_type": "execute_result"
    },
    {
     "data": {
      "image/png": "[encoded data removed]",
      "text/plain": [
       "<Figure size 432x288 with 1 Axes>"
      ]
     },
     "metadata": {
      "needs_background": "light"
     },
     "output_type": "display_data"
    }
   ],
   "source": [
    "sns.distplot(train['Estimated_Insects_Count'])"
   ]
  },
  {
   "cell_type": "code",
   "execution_count": 24,
   "metadata": {
    "ExecuteTime": {
     "end_time": "2021-11-18T15:15:05.931650Z",
     "start_time": "2021-11-18T15:15:05.896671Z"
    }
   },
   "outputs": [
    {
     "data": {
      "text/html": [
       "<div>\n",
       "<style scoped>\n",
       "    .dataframe tbody tr th:only-of-type {\n",
       "        vertical-align: middle;\n",
       "    }\n",
       "\n",
       "    .dataframe tbody tr th {\n",
       "        vertical-align: top;\n",
       "    }\n",
       "\n",
       "    .dataframe thead th {\n",
       "        text-align: right;\n",
       "    }\n",
       "</style>\n",
       "<table border=\"1\" class=\"dataframe\">\n",
       "  <thead>\n",
       "    <tr style=\"text-align: right;\">\n",
       "      <th></th>\n",
       "      <th>Estimated_Insects_Count</th>\n",
       "      <th>Crop_Damage</th>\n",
       "    </tr>\n",
       "  </thead>\n",
       "  <tbody>\n",
       "    <tr>\n",
       "      <th>0</th>\n",
       "      <td>150</td>\n",
       "      <td>13</td>\n",
       "    </tr>\n",
       "    <tr>\n",
       "      <th>1</th>\n",
       "      <td>151</td>\n",
       "      <td>2</td>\n",
       "    </tr>\n",
       "    <tr>\n",
       "      <th>2</th>\n",
       "      <td>168</td>\n",
       "      <td>12</td>\n",
       "    </tr>\n",
       "    <tr>\n",
       "      <th>3</th>\n",
       "      <td>169</td>\n",
       "      <td>2</td>\n",
       "    </tr>\n",
       "    <tr>\n",
       "      <th>4</th>\n",
       "      <td>188</td>\n",
       "      <td>10</td>\n",
       "    </tr>\n",
       "    <tr>\n",
       "      <th>...</th>\n",
       "      <td>...</td>\n",
       "      <td>...</td>\n",
       "    </tr>\n",
       "    <tr>\n",
       "      <th>66</th>\n",
       "      <td>3702</td>\n",
       "      <td>261</td>\n",
       "    </tr>\n",
       "    <tr>\n",
       "      <th>67</th>\n",
       "      <td>3895</td>\n",
       "      <td>159</td>\n",
       "    </tr>\n",
       "    <tr>\n",
       "      <th>68</th>\n",
       "      <td>3896</td>\n",
       "      <td>57</td>\n",
       "    </tr>\n",
       "    <tr>\n",
       "      <th>69</th>\n",
       "      <td>4096</td>\n",
       "      <td>111</td>\n",
       "    </tr>\n",
       "    <tr>\n",
       "      <th>70</th>\n",
       "      <td>4097</td>\n",
       "      <td>52</td>\n",
       "    </tr>\n",
       "  </tbody>\n",
       "</table>\n",
       "<p>71 rows × 2 columns</p>\n",
       "</div>"
      ],
      "text/plain": [
       "    Estimated_Insects_Count  Crop_Damage\n",
       "0                       150           13\n",
       "1                       151            2\n",
       "2                       168           12\n",
       "3                       169            2\n",
       "4                       188           10\n",
       "..                      ...          ...\n",
       "66                     3702          261\n",
       "67                     3895          159\n",
       "68                     3896           57\n",
       "69                     4096          111\n",
       "70                     4097           52\n",
       "\n",
       "[71 rows x 2 columns]"
      ]
     },
     "execution_count": 24,
     "metadata": {},
     "output_type": "execute_result"
    }
   ],
   "source": [
    "insect = train.groupby('Estimated_Insects_Count')['Crop_Damage'].sum().reset_index()\n",
    "insect"
   ]
  },
  {
   "cell_type": "code",
   "execution_count": 25,
   "metadata": {
    "ExecuteTime": {
     "end_time": "2021-11-18T15:15:42.772072Z",
     "start_time": "2021-11-18T15:15:42.531708Z"
    }
   },
   "outputs": [
    {
     "data": {
      "text/plain": [
       "<AxesSubplot:xlabel='Crop_Type'>"
      ]
     },
     "execution_count": 25,
     "metadata": {},
     "output_type": "execute_result"
    },
    {
     "data": {
      "image/png": "[encoded data removed]",
      "text/plain": [
       "<Figure size 432x288 with 1 Axes>"
      ]
     },
     "metadata": {
      "needs_background": "light"
     },
     "output_type": "display_data"
    }
   ],
   "source": [
    "sns.distplot(train['Crop_Type'])"
   ]
  },
  {
   "cell_type": "code",
   "execution_count": 27,
   "metadata": {
    "ExecuteTime": {
     "end_time": "2021-11-18T15:16:42.969798Z",
     "start_time": "2021-11-18T15:16:42.947813Z"
    }
   },
   "outputs": [
    {
     "data": {
      "text/html": [
       "<div>\n",
       "<style scoped>\n",
       "    .dataframe tbody tr th:only-of-type {\n",
       "        vertical-align: middle;\n",
       "    }\n",
       "\n",
       "    .dataframe tbody tr th {\n",
       "        vertical-align: top;\n",
       "    }\n",
       "\n",
       "    .dataframe thead th {\n",
       "        text-align: right;\n",
       "    }\n",
       "</style>\n",
       "<table border=\"1\" class=\"dataframe\">\n",
       "  <thead>\n",
       "    <tr style=\"text-align: right;\">\n",
       "      <th></th>\n",
       "      <th>Crop_Type</th>\n",
       "      <th>Crop_Damage</th>\n",
       "    </tr>\n",
       "  </thead>\n",
       "  <tbody>\n",
       "    <tr>\n",
       "      <th>0</th>\n",
       "      <td>0</td>\n",
       "      <td>12418</td>\n",
       "    </tr>\n",
       "    <tr>\n",
       "      <th>1</th>\n",
       "      <td>1</td>\n",
       "      <td>4515</td>\n",
       "    </tr>\n",
       "  </tbody>\n",
       "</table>\n",
       "</div>"
      ],
      "text/plain": [
       "   Crop_Type  Crop_Damage\n",
       "0          0        12418\n",
       "1          1         4515"
      ]
     },
     "execution_count": 27,
     "metadata": {},
     "output_type": "execute_result"
    }
   ],
   "source": [
    "crop = train.groupby('Crop_Type')['Crop_Damage'].sum().reset_index()\n",
    "crop"
   ]
  },
  {
   "cell_type": "code",
   "execution_count": 28,
   "metadata": {
    "ExecuteTime": {
     "end_time": "2021-11-18T15:17:07.041734Z",
     "start_time": "2021-11-18T15:17:06.808302Z"
    }
   },
   "outputs": [
    {
     "data": {
      "text/plain": [
       "<AxesSubplot:xlabel='Soil_Type'>"
      ]
     },
     "execution_count": 28,
     "metadata": {},
     "output_type": "execute_result"
    },
    {
     "data": {
      "image/png": "[encoded data removed]",
      "text/plain": [
       "<Figure size 432x288 with 1 Axes>"
      ]
     },
     "metadata": {
      "needs_background": "light"
     },
     "output_type": "display_data"
    }
   ],
   "source": [
    "sns.distplot(train['Soil_Type'])"
   ]
  },
  {
   "cell_type": "code",
   "execution_count": 30,
   "metadata": {
    "ExecuteTime": {
     "end_time": "2021-11-18T15:17:57.360810Z",
     "start_time": "2021-11-18T15:17:57.338812Z"
    }
   },
   "outputs": [
    {
     "data": {
      "text/html": [
       "<div>\n",
       "<style scoped>\n",
       "    .dataframe tbody tr th:only-of-type {\n",
       "        vertical-align: middle;\n",
       "    }\n",
       "\n",
       "    .dataframe tbody tr th {\n",
       "        vertical-align: top;\n",
       "    }\n",
       "\n",
       "    .dataframe thead th {\n",
       "        text-align: right;\n",
       "    }\n",
       "</style>\n",
       "<table border=\"1\" class=\"dataframe\">\n",
       "  <thead>\n",
       "    <tr style=\"text-align: right;\">\n",
       "      <th></th>\n",
       "      <th>Soil_Type</th>\n",
       "      <th>Crop_Damage</th>\n",
       "    </tr>\n",
       "  </thead>\n",
       "  <tbody>\n",
       "    <tr>\n",
       "      <th>0</th>\n",
       "      <td>0</td>\n",
       "      <td>9613</td>\n",
       "    </tr>\n",
       "    <tr>\n",
       "      <th>1</th>\n",
       "      <td>1</td>\n",
       "      <td>7320</td>\n",
       "    </tr>\n",
       "  </tbody>\n",
       "</table>\n",
       "</div>"
      ],
      "text/plain": [
       "   Soil_Type  Crop_Damage\n",
       "0          0         9613\n",
       "1          1         7320"
      ]
     },
     "execution_count": 30,
     "metadata": {},
     "output_type": "execute_result"
    }
   ],
   "source": [
    "soil = train.groupby('Soil_Type')['Crop_Damage'].sum().reset_index()\n",
    "soil"
   ]
  },
  {
   "cell_type": "code",
   "execution_count": 31,
   "metadata": {
    "ExecuteTime": {
     "end_time": "2021-11-18T15:18:19.805590Z",
     "start_time": "2021-11-18T15:18:19.543112Z"
    }
   },
   "outputs": [
    {
     "data": {
      "text/plain": [
       "<AxesSubplot:xlabel='Pesticide_Use_Category'>"
      ]
     },
     "execution_count": 31,
     "metadata": {},
     "output_type": "execute_result"
    },
    {
     "data": {
      "image/png": "[encoded data removed]",
      "text/plain": [
       "<Figure size 432x288 with 1 Axes>"
      ]
     },
     "metadata": {
      "needs_background": "light"
     },
     "output_type": "display_data"
    }
   ],
   "source": [
    "sns.distplot(train['Pesticide_Use_Category'])"
   ]
  },
  {
   "cell_type": "code",
   "execution_count": 34,
   "metadata": {
    "ExecuteTime": {
     "end_time": "2021-11-18T15:19:29.728118Z",
     "start_time": "2021-11-18T15:19:29.698121Z"
    }
   },
   "outputs": [
    {
     "data": {
      "text/html": [
       "<div>\n",
       "<style scoped>\n",
       "    .dataframe tbody tr th:only-of-type {\n",
       "        vertical-align: middle;\n",
       "    }\n",
       "\n",
       "    .dataframe tbody tr th {\n",
       "        vertical-align: top;\n",
       "    }\n",
       "\n",
       "    .dataframe thead th {\n",
       "        text-align: right;\n",
       "    }\n",
       "</style>\n",
       "<table border=\"1\" class=\"dataframe\">\n",
       "  <thead>\n",
       "    <tr style=\"text-align: right;\">\n",
       "      <th></th>\n",
       "      <th>Pesticide_Use_Category</th>\n",
       "      <th>Crop_Damage</th>\n",
       "    </tr>\n",
       "  </thead>\n",
       "  <tbody>\n",
       "    <tr>\n",
       "      <th>0</th>\n",
       "      <td>1</td>\n",
       "      <td>884</td>\n",
       "    </tr>\n",
       "    <tr>\n",
       "      <th>1</th>\n",
       "      <td>2</td>\n",
       "      <td>7430</td>\n",
       "    </tr>\n",
       "    <tr>\n",
       "      <th>2</th>\n",
       "      <td>3</td>\n",
       "      <td>8619</td>\n",
       "    </tr>\n",
       "  </tbody>\n",
       "</table>\n",
       "</div>"
      ],
      "text/plain": [
       "   Pesticide_Use_Category  Crop_Damage\n",
       "0                       1          884\n",
       "1                       2         7430\n",
       "2                       3         8619"
      ]
     },
     "execution_count": 34,
     "metadata": {},
     "output_type": "execute_result"
    }
   ],
   "source": [
    "pest = train.groupby('Pesticide_Use_Category')['Crop_Damage'].sum().reset_index()\n",
    "pest"
   ]
  },
  {
   "cell_type": "code",
   "execution_count": 35,
   "metadata": {
    "ExecuteTime": {
     "end_time": "2021-11-18T15:19:59.353955Z",
     "start_time": "2021-11-18T15:19:59.060970Z"
    }
   },
   "outputs": [
    {
     "data": {
      "text/plain": [
       "<AxesSubplot:xlabel='Number_Doses_Week'>"
      ]
     },
     "execution_count": 35,
     "metadata": {},
     "output_type": "execute_result"
    },
    {
     "data": {
      "image/png": "[encoded data removed]",
      "text/plain": [
       "<Figure size 432x288 with 1 Axes>"
      ]
     },
     "metadata": {
      "needs_background": "light"
     },
     "output_type": "display_data"
    }
   ],
   "source": [
    "sns.distplot(train['Number_Doses_Week'])"
   ]
  },
  {
   "cell_type": "code",
   "execution_count": 36,
   "metadata": {
    "ExecuteTime": {
     "end_time": "2021-11-18T15:20:14.228919Z",
     "start_time": "2021-11-18T15:20:14.201937Z"
    }
   },
   "outputs": [
    {
     "data": {
      "text/html": [
       "<div>\n",
       "<style scoped>\n",
       "    .dataframe tbody tr th:only-of-type {\n",
       "        vertical-align: middle;\n",
       "    }\n",
       "\n",
       "    .dataframe tbody tr th {\n",
       "        vertical-align: top;\n",
       "    }\n",
       "\n",
       "    .dataframe thead th {\n",
       "        text-align: right;\n",
       "    }\n",
       "</style>\n",
       "<table border=\"1\" class=\"dataframe\">\n",
       "  <thead>\n",
       "    <tr style=\"text-align: right;\">\n",
       "      <th></th>\n",
       "      <th>Number_Doses_Week</th>\n",
       "      <th>Crop_Damage</th>\n",
       "    </tr>\n",
       "  </thead>\n",
       "  <tbody>\n",
       "    <tr>\n",
       "      <th>0</th>\n",
       "      <td>0</td>\n",
       "      <td>884</td>\n",
       "    </tr>\n",
       "    <tr>\n",
       "      <th>1</th>\n",
       "      <td>5</td>\n",
       "      <td>553</td>\n",
       "    </tr>\n",
       "    <tr>\n",
       "      <th>2</th>\n",
       "      <td>10</td>\n",
       "      <td>1836</td>\n",
       "    </tr>\n",
       "    <tr>\n",
       "      <th>3</th>\n",
       "      <td>15</td>\n",
       "      <td>1190</td>\n",
       "    </tr>\n",
       "    <tr>\n",
       "      <th>4</th>\n",
       "      <td>20</td>\n",
       "      <td>5558</td>\n",
       "    </tr>\n",
       "    <tr>\n",
       "      <th>5</th>\n",
       "      <td>25</td>\n",
       "      <td>692</td>\n",
       "    </tr>\n",
       "    <tr>\n",
       "      <th>6</th>\n",
       "      <td>30</td>\n",
       "      <td>2061</td>\n",
       "    </tr>\n",
       "    <tr>\n",
       "      <th>7</th>\n",
       "      <td>35</td>\n",
       "      <td>215</td>\n",
       "    </tr>\n",
       "    <tr>\n",
       "      <th>8</th>\n",
       "      <td>40</td>\n",
       "      <td>2615</td>\n",
       "    </tr>\n",
       "    <tr>\n",
       "      <th>9</th>\n",
       "      <td>45</td>\n",
       "      <td>81</td>\n",
       "    </tr>\n",
       "    <tr>\n",
       "      <th>10</th>\n",
       "      <td>50</td>\n",
       "      <td>432</td>\n",
       "    </tr>\n",
       "    <tr>\n",
       "      <th>11</th>\n",
       "      <td>55</td>\n",
       "      <td>29</td>\n",
       "    </tr>\n",
       "    <tr>\n",
       "      <th>12</th>\n",
       "      <td>60</td>\n",
       "      <td>627</td>\n",
       "    </tr>\n",
       "    <tr>\n",
       "      <th>13</th>\n",
       "      <td>65</td>\n",
       "      <td>7</td>\n",
       "    </tr>\n",
       "    <tr>\n",
       "      <th>14</th>\n",
       "      <td>70</td>\n",
       "      <td>35</td>\n",
       "    </tr>\n",
       "    <tr>\n",
       "      <th>15</th>\n",
       "      <td>75</td>\n",
       "      <td>5</td>\n",
       "    </tr>\n",
       "    <tr>\n",
       "      <th>16</th>\n",
       "      <td>80</td>\n",
       "      <td>96</td>\n",
       "    </tr>\n",
       "    <tr>\n",
       "      <th>17</th>\n",
       "      <td>85</td>\n",
       "      <td>3</td>\n",
       "    </tr>\n",
       "    <tr>\n",
       "      <th>18</th>\n",
       "      <td>90</td>\n",
       "      <td>12</td>\n",
       "    </tr>\n",
       "    <tr>\n",
       "      <th>19</th>\n",
       "      <td>95</td>\n",
       "      <td>2</td>\n",
       "    </tr>\n",
       "  </tbody>\n",
       "</table>\n",
       "</div>"
      ],
      "text/plain": [
       "    Number_Doses_Week  Crop_Damage\n",
       "0                   0          884\n",
       "1                   5          553\n",
       "2                  10         1836\n",
       "3                  15         1190\n",
       "4                  20         5558\n",
       "5                  25          692\n",
       "6                  30         2061\n",
       "7                  35          215\n",
       "8                  40         2615\n",
       "9                  45           81\n",
       "10                 50          432\n",
       "11                 55           29\n",
       "12                 60          627\n",
       "13                 65            7\n",
       "14                 70           35\n",
       "15                 75            5\n",
       "16                 80           96\n",
       "17                 85            3\n",
       "18                 90           12\n",
       "19                 95            2"
      ]
     },
     "execution_count": 36,
     "metadata": {},
     "output_type": "execute_result"
    }
   ],
   "source": [
    "dose = train.groupby(by=(\"Number_Doses_Week\"))[\"Crop_Damage\"].sum().reset_index()\n",
    "dose"
   ]
  },
  {
   "cell_type": "code",
   "execution_count": 37,
   "metadata": {
    "ExecuteTime": {
     "end_time": "2021-11-18T15:20:28.878837Z",
     "start_time": "2021-11-18T15:20:28.506277Z"
    }
   },
   "outputs": [
    {
     "data": {
      "text/plain": [
       "<AxesSubplot:xlabel='Number_Weeks_Used'>"
      ]
     },
     "execution_count": 37,
     "metadata": {},
     "output_type": "execute_result"
    },
    {
     "data": {
      "image/png": "[encoded data removed]",
      "text/plain": [
       "<Figure size 432x288 with 1 Axes>"
      ]
     },
     "metadata": {
      "needs_background": "light"
     },
     "output_type": "display_data"
    }
   ],
   "source": [
    "sns.distplot(train['Number_Weeks_Used'])"
   ]
  },
  {
   "cell_type": "code",
   "execution_count": 38,
   "metadata": {
    "ExecuteTime": {
     "end_time": "2021-11-18T15:20:45.583888Z",
     "start_time": "2021-11-18T15:20:45.497940Z"
    }
   },
   "outputs": [
    {
     "data": {
      "text/html": [
       "<div>\n",
       "<style scoped>\n",
       "    .dataframe tbody tr th:only-of-type {\n",
       "        vertical-align: middle;\n",
       "    }\n",
       "\n",
       "    .dataframe tbody tr th {\n",
       "        vertical-align: top;\n",
       "    }\n",
       "\n",
       "    .dataframe thead th {\n",
       "        text-align: right;\n",
       "    }\n",
       "</style>\n",
       "<table border=\"1\" class=\"dataframe\">\n",
       "  <thead>\n",
       "    <tr style=\"text-align: right;\">\n",
       "      <th></th>\n",
       "      <th>Number_Weeks_Used</th>\n",
       "      <th>Crop_Damage</th>\n",
       "    </tr>\n",
       "  </thead>\n",
       "  <tbody>\n",
       "    <tr>\n",
       "      <th>0</th>\n",
       "      <td>0.0</td>\n",
       "      <td>771</td>\n",
       "    </tr>\n",
       "    <tr>\n",
       "      <th>1</th>\n",
       "      <td>5.0</td>\n",
       "      <td>33</td>\n",
       "    </tr>\n",
       "    <tr>\n",
       "      <th>2</th>\n",
       "      <td>6.0</td>\n",
       "      <td>15</td>\n",
       "    </tr>\n",
       "    <tr>\n",
       "      <th>3</th>\n",
       "      <td>7.0</td>\n",
       "      <td>18</td>\n",
       "    </tr>\n",
       "    <tr>\n",
       "      <th>4</th>\n",
       "      <td>8.0</td>\n",
       "      <td>32</td>\n",
       "    </tr>\n",
       "    <tr>\n",
       "      <th>...</th>\n",
       "      <td>...</td>\n",
       "      <td>...</td>\n",
       "    </tr>\n",
       "    <tr>\n",
       "      <th>59</th>\n",
       "      <td>63.0</td>\n",
       "      <td>21</td>\n",
       "    </tr>\n",
       "    <tr>\n",
       "      <th>60</th>\n",
       "      <td>64.0</td>\n",
       "      <td>21</td>\n",
       "    </tr>\n",
       "    <tr>\n",
       "      <th>61</th>\n",
       "      <td>65.0</td>\n",
       "      <td>23</td>\n",
       "    </tr>\n",
       "    <tr>\n",
       "      <th>62</th>\n",
       "      <td>66.0</td>\n",
       "      <td>8</td>\n",
       "    </tr>\n",
       "    <tr>\n",
       "      <th>63</th>\n",
       "      <td>67.0</td>\n",
       "      <td>3</td>\n",
       "    </tr>\n",
       "  </tbody>\n",
       "</table>\n",
       "<p>64 rows × 2 columns</p>\n",
       "</div>"
      ],
      "text/plain": [
       "    Number_Weeks_Used  Crop_Damage\n",
       "0                 0.0          771\n",
       "1                 5.0           33\n",
       "2                 6.0           15\n",
       "3                 7.0           18\n",
       "4                 8.0           32\n",
       "..                ...          ...\n",
       "59               63.0           21\n",
       "60               64.0           21\n",
       "61               65.0           23\n",
       "62               66.0            8\n",
       "63               67.0            3\n",
       "\n",
       "[64 rows x 2 columns]"
      ]
     },
     "execution_count": 38,
     "metadata": {},
     "output_type": "execute_result"
    }
   ],
   "source": [
    "week = train.groupby(by=(\"Number_Weeks_Used\"))[\"Crop_Damage\"].sum().reset_index()\n",
    "week"
   ]
  },
  {
   "cell_type": "code",
   "execution_count": 39,
   "metadata": {
    "ExecuteTime": {
     "end_time": "2021-11-18T15:20:58.092259Z",
     "start_time": "2021-11-18T15:20:57.805020Z"
    }
   },
   "outputs": [
    {
     "data": {
      "text/plain": [
       "<AxesSubplot:xlabel='Number_Weeks_Quit'>"
      ]
     },
     "execution_count": 39,
     "metadata": {},
     "output_type": "execute_result"
    },
    {
     "data": {
      "image/png": "[encoded data removed]",
      "text/plain": [
       "<Figure size 432x288 with 1 Axes>"
      ]
     },
     "metadata": {
      "needs_background": "light"
     },
     "output_type": "display_data"
    }
   ],
   "source": [
    "sns.distplot(train['Number_Weeks_Quit'])"
   ]
  },
  {
   "cell_type": "code",
   "execution_count": 40,
   "metadata": {
    "ExecuteTime": {
     "end_time": "2021-11-18T15:21:09.214306Z",
     "start_time": "2021-11-18T15:21:09.183307Z"
    }
   },
   "outputs": [
    {
     "data": {
      "text/html": [
       "<div>\n",
       "<style scoped>\n",
       "    .dataframe tbody tr th:only-of-type {\n",
       "        vertical-align: middle;\n",
       "    }\n",
       "\n",
       "    .dataframe tbody tr th {\n",
       "        vertical-align: top;\n",
       "    }\n",
       "\n",
       "    .dataframe thead th {\n",
       "        text-align: right;\n",
       "    }\n",
       "</style>\n",
       "<table border=\"1\" class=\"dataframe\">\n",
       "  <thead>\n",
       "    <tr style=\"text-align: right;\">\n",
       "      <th></th>\n",
       "      <th>Number_Weeks_Quit</th>\n",
       "      <th>Crop_Damage</th>\n",
       "    </tr>\n",
       "  </thead>\n",
       "  <tbody>\n",
       "    <tr>\n",
       "      <th>0</th>\n",
       "      <td>0</td>\n",
       "      <td>9557</td>\n",
       "    </tr>\n",
       "    <tr>\n",
       "      <th>1</th>\n",
       "      <td>1</td>\n",
       "      <td>147</td>\n",
       "    </tr>\n",
       "    <tr>\n",
       "      <th>2</th>\n",
       "      <td>2</td>\n",
       "      <td>241</td>\n",
       "    </tr>\n",
       "    <tr>\n",
       "      <th>3</th>\n",
       "      <td>3</td>\n",
       "      <td>286</td>\n",
       "    </tr>\n",
       "    <tr>\n",
       "      <th>4</th>\n",
       "      <td>4</td>\n",
       "      <td>278</td>\n",
       "    </tr>\n",
       "    <tr>\n",
       "      <th>5</th>\n",
       "      <td>5</td>\n",
       "      <td>390</td>\n",
       "    </tr>\n",
       "    <tr>\n",
       "      <th>6</th>\n",
       "      <td>6</td>\n",
       "      <td>326</td>\n",
       "    </tr>\n",
       "    <tr>\n",
       "      <th>7</th>\n",
       "      <td>7</td>\n",
       "      <td>308</td>\n",
       "    </tr>\n",
       "    <tr>\n",
       "      <th>8</th>\n",
       "      <td>8</td>\n",
       "      <td>277</td>\n",
       "    </tr>\n",
       "    <tr>\n",
       "      <th>9</th>\n",
       "      <td>9</td>\n",
       "      <td>231</td>\n",
       "    </tr>\n",
       "    <tr>\n",
       "      <th>10</th>\n",
       "      <td>10</td>\n",
       "      <td>393</td>\n",
       "    </tr>\n",
       "    <tr>\n",
       "      <th>11</th>\n",
       "      <td>11</td>\n",
       "      <td>247</td>\n",
       "    </tr>\n",
       "    <tr>\n",
       "      <th>12</th>\n",
       "      <td>12</td>\n",
       "      <td>316</td>\n",
       "    </tr>\n",
       "    <tr>\n",
       "      <th>13</th>\n",
       "      <td>13</td>\n",
       "      <td>277</td>\n",
       "    </tr>\n",
       "    <tr>\n",
       "      <th>14</th>\n",
       "      <td>14</td>\n",
       "      <td>316</td>\n",
       "    </tr>\n",
       "    <tr>\n",
       "      <th>15</th>\n",
       "      <td>15</td>\n",
       "      <td>340</td>\n",
       "    </tr>\n",
       "    <tr>\n",
       "      <th>16</th>\n",
       "      <td>16</td>\n",
       "      <td>239</td>\n",
       "    </tr>\n",
       "    <tr>\n",
       "      <th>17</th>\n",
       "      <td>17</td>\n",
       "      <td>221</td>\n",
       "    </tr>\n",
       "    <tr>\n",
       "      <th>18</th>\n",
       "      <td>18</td>\n",
       "      <td>196</td>\n",
       "    </tr>\n",
       "    <tr>\n",
       "      <th>19</th>\n",
       "      <td>19</td>\n",
       "      <td>248</td>\n",
       "    </tr>\n",
       "    <tr>\n",
       "      <th>20</th>\n",
       "      <td>20</td>\n",
       "      <td>287</td>\n",
       "    </tr>\n",
       "    <tr>\n",
       "      <th>21</th>\n",
       "      <td>21</td>\n",
       "      <td>174</td>\n",
       "    </tr>\n",
       "    <tr>\n",
       "      <th>22</th>\n",
       "      <td>22</td>\n",
       "      <td>164</td>\n",
       "    </tr>\n",
       "    <tr>\n",
       "      <th>23</th>\n",
       "      <td>23</td>\n",
       "      <td>142</td>\n",
       "    </tr>\n",
       "    <tr>\n",
       "      <th>24</th>\n",
       "      <td>24</td>\n",
       "      <td>120</td>\n",
       "    </tr>\n",
       "    <tr>\n",
       "      <th>25</th>\n",
       "      <td>25</td>\n",
       "      <td>152</td>\n",
       "    </tr>\n",
       "    <tr>\n",
       "      <th>26</th>\n",
       "      <td>26</td>\n",
       "      <td>125</td>\n",
       "    </tr>\n",
       "    <tr>\n",
       "      <th>27</th>\n",
       "      <td>27</td>\n",
       "      <td>87</td>\n",
       "    </tr>\n",
       "    <tr>\n",
       "      <th>28</th>\n",
       "      <td>28</td>\n",
       "      <td>112</td>\n",
       "    </tr>\n",
       "    <tr>\n",
       "      <th>29</th>\n",
       "      <td>29</td>\n",
       "      <td>100</td>\n",
       "    </tr>\n",
       "    <tr>\n",
       "      <th>30</th>\n",
       "      <td>30</td>\n",
       "      <td>102</td>\n",
       "    </tr>\n",
       "    <tr>\n",
       "      <th>31</th>\n",
       "      <td>31</td>\n",
       "      <td>81</td>\n",
       "    </tr>\n",
       "    <tr>\n",
       "      <th>32</th>\n",
       "      <td>32</td>\n",
       "      <td>62</td>\n",
       "    </tr>\n",
       "    <tr>\n",
       "      <th>33</th>\n",
       "      <td>33</td>\n",
       "      <td>52</td>\n",
       "    </tr>\n",
       "    <tr>\n",
       "      <th>34</th>\n",
       "      <td>34</td>\n",
       "      <td>57</td>\n",
       "    </tr>\n",
       "    <tr>\n",
       "      <th>35</th>\n",
       "      <td>35</td>\n",
       "      <td>51</td>\n",
       "    </tr>\n",
       "    <tr>\n",
       "      <th>36</th>\n",
       "      <td>36</td>\n",
       "      <td>26</td>\n",
       "    </tr>\n",
       "    <tr>\n",
       "      <th>37</th>\n",
       "      <td>37</td>\n",
       "      <td>43</td>\n",
       "    </tr>\n",
       "    <tr>\n",
       "      <th>38</th>\n",
       "      <td>38</td>\n",
       "      <td>27</td>\n",
       "    </tr>\n",
       "    <tr>\n",
       "      <th>39</th>\n",
       "      <td>39</td>\n",
       "      <td>17</td>\n",
       "    </tr>\n",
       "    <tr>\n",
       "      <th>40</th>\n",
       "      <td>40</td>\n",
       "      <td>31</td>\n",
       "    </tr>\n",
       "    <tr>\n",
       "      <th>41</th>\n",
       "      <td>41</td>\n",
       "      <td>20</td>\n",
       "    </tr>\n",
       "    <tr>\n",
       "      <th>42</th>\n",
       "      <td>42</td>\n",
       "      <td>15</td>\n",
       "    </tr>\n",
       "    <tr>\n",
       "      <th>43</th>\n",
       "      <td>43</td>\n",
       "      <td>8</td>\n",
       "    </tr>\n",
       "    <tr>\n",
       "      <th>44</th>\n",
       "      <td>44</td>\n",
       "      <td>10</td>\n",
       "    </tr>\n",
       "    <tr>\n",
       "      <th>45</th>\n",
       "      <td>45</td>\n",
       "      <td>7</td>\n",
       "    </tr>\n",
       "    <tr>\n",
       "      <th>46</th>\n",
       "      <td>46</td>\n",
       "      <td>10</td>\n",
       "    </tr>\n",
       "    <tr>\n",
       "      <th>47</th>\n",
       "      <td>47</td>\n",
       "      <td>8</td>\n",
       "    </tr>\n",
       "    <tr>\n",
       "      <th>48</th>\n",
       "      <td>48</td>\n",
       "      <td>6</td>\n",
       "    </tr>\n",
       "    <tr>\n",
       "      <th>49</th>\n",
       "      <td>49</td>\n",
       "      <td>2</td>\n",
       "    </tr>\n",
       "    <tr>\n",
       "      <th>50</th>\n",
       "      <td>50</td>\n",
       "      <td>1</td>\n",
       "    </tr>\n",
       "  </tbody>\n",
       "</table>\n",
       "</div>"
      ],
      "text/plain": [
       "    Number_Weeks_Quit  Crop_Damage\n",
       "0                   0         9557\n",
       "1                   1          147\n",
       "2                   2          241\n",
       "3                   3          286\n",
       "4                   4          278\n",
       "5                   5          390\n",
       "6                   6          326\n",
       "7                   7          308\n",
       "8                   8          277\n",
       "9                   9          231\n",
       "10                 10          393\n",
       "11                 11          247\n",
       "12                 12          316\n",
       "13                 13          277\n",
       "14                 14          316\n",
       "15                 15          340\n",
       "16                 16          239\n",
       "17                 17          221\n",
       "18                 18          196\n",
       "19                 19          248\n",
       "20                 20          287\n",
       "21                 21          174\n",
       "22                 22          164\n",
       "23                 23          142\n",
       "24                 24          120\n",
       "25                 25          152\n",
       "26                 26          125\n",
       "27                 27           87\n",
       "28                 28          112\n",
       "29                 29          100\n",
       "30                 30          102\n",
       "31                 31           81\n",
       "32                 32           62\n",
       "33                 33           52\n",
       "34                 34           57\n",
       "35                 35           51\n",
       "36                 36           26\n",
       "37                 37           43\n",
       "38                 38           27\n",
       "39                 39           17\n",
       "40                 40           31\n",
       "41                 41           20\n",
       "42                 42           15\n",
       "43                 43            8\n",
       "44                 44           10\n",
       "45                 45            7\n",
       "46                 46           10\n",
       "47                 47            8\n",
       "48                 48            6\n",
       "49                 49            2\n",
       "50                 50            1"
      ]
     },
     "execution_count": 40,
     "metadata": {},
     "output_type": "execute_result"
    }
   ],
   "source": [
    "quit = train.groupby(by=(\"Number_Weeks_Quit\"))[\"Crop_Damage\"].sum().reset_index()\n",
    "quit"
   ]
  },
  {
   "cell_type": "code",
   "execution_count": 41,
   "metadata": {
    "ExecuteTime": {
     "end_time": "2021-11-18T15:21:36.318413Z",
     "start_time": "2021-11-18T15:21:36.048993Z"
    }
   },
   "outputs": [
    {
     "data": {
      "text/plain": [
       "<AxesSubplot:xlabel='Season'>"
      ]
     },
     "execution_count": 41,
     "metadata": {},
     "output_type": "execute_result"
    },
    {
     "data": {
      "image/png": "[encoded data removed]",
      "text/plain": [
       "<Figure size 432x288 with 1 Axes>"
      ]
     },
     "metadata": {
      "needs_background": "light"
     },
     "output_type": "display_data"
    }
   ],
   "source": [
    "sns.distplot(train['Season'])"
   ]
  },
  {
   "cell_type": "code",
   "execution_count": 42,
   "metadata": {
    "ExecuteTime": {
     "end_time": "2021-11-18T15:21:49.353123Z",
     "start_time": "2021-11-18T15:21:49.322274Z"
    }
   },
   "outputs": [
    {
     "data": {
      "text/html": [
       "<div>\n",
       "<style scoped>\n",
       "    .dataframe tbody tr th:only-of-type {\n",
       "        vertical-align: middle;\n",
       "    }\n",
       "\n",
       "    .dataframe tbody tr th {\n",
       "        vertical-align: top;\n",
       "    }\n",
       "\n",
       "    .dataframe thead th {\n",
       "        text-align: right;\n",
       "    }\n",
       "</style>\n",
       "<table border=\"1\" class=\"dataframe\">\n",
       "  <thead>\n",
       "    <tr style=\"text-align: right;\">\n",
       "      <th></th>\n",
       "      <th>Season</th>\n",
       "      <th>Crop_Damage</th>\n",
       "    </tr>\n",
       "  </thead>\n",
       "  <tbody>\n",
       "    <tr>\n",
       "      <th>0</th>\n",
       "      <td>1</td>\n",
       "      <td>5070</td>\n",
       "    </tr>\n",
       "    <tr>\n",
       "      <th>1</th>\n",
       "      <td>2</td>\n",
       "      <td>8543</td>\n",
       "    </tr>\n",
       "    <tr>\n",
       "      <th>2</th>\n",
       "      <td>3</td>\n",
       "      <td>3320</td>\n",
       "    </tr>\n",
       "  </tbody>\n",
       "</table>\n",
       "</div>"
      ],
      "text/plain": [
       "   Season  Crop_Damage\n",
       "0       1         5070\n",
       "1       2         8543\n",
       "2       3         3320"
      ]
     },
     "execution_count": 42,
     "metadata": {},
     "output_type": "execute_result"
    }
   ],
   "source": [
    "season = train.groupby(by=(\"Season\"))[\"Crop_Damage\"].sum().reset_index()\n",
    "season"
   ]
  },
  {
   "cell_type": "code",
   "execution_count": 44,
   "metadata": {
    "ExecuteTime": {
     "end_time": "2021-11-18T16:36:03.163315Z",
     "start_time": "2021-11-18T16:36:03.089604Z"
    }
   },
   "outputs": [],
   "source": [
    "#define X, y and x_test\n",
    "ID = test.ID\n",
    "\n",
    "y = train.Crop_Damage\n",
    "X = train.drop([\"ID\", \"Crop_Damage\"], axis=1)\n",
    "X_test = test.drop([\"ID\"], axis=1)"
   ]
  },
  {
   "cell_type": "code",
   "execution_count": 45,
   "metadata": {
    "ExecuteTime": {
     "end_time": "2021-11-18T16:36:23.954315Z",
     "start_time": "2021-11-18T16:36:23.296042Z"
    }
   },
   "outputs": [
    {
     "name": "stdout",
     "output_type": "stream",
     "text": [
      "<class 'pandas.core.frame.DataFrame'>\n",
      "RangeIndex: 88858 entries, 0 to 88857\n",
      "Data columns (total 8 columns):\n",
      " #   Column                   Non-Null Count  Dtype  \n",
      "---  ------                   --------------  -----  \n",
      " 0   Estimated_Insects_Count  88858 non-null  int64  \n",
      " 1   Crop_Type                88858 non-null  int64  \n",
      " 2   Soil_Type                88858 non-null  int64  \n",
      " 3   Pesticide_Use_Category   88858 non-null  int64  \n",
      " 4   Number_Doses_Week        88858 non-null  int64  \n",
      " 5   Number_Weeks_Used        79858 non-null  float64\n",
      " 6   Number_Weeks_Quit        88858 non-null  int64  \n",
      " 7   Season                   88858 non-null  int64  \n",
      "dtypes: float64(1), int64(7)\n",
      "memory usage: 5.4 MB\n"
     ]
    }
   ],
   "source": [
    "X.info()"
   ]
  },
  {
   "cell_type": "code",
   "execution_count": 50,
   "metadata": {
    "ExecuteTime": {
     "end_time": "2021-11-18T16:40:57.900697Z",
     "start_time": "2021-11-18T16:40:57.894714Z"
    }
   },
   "outputs": [],
   "source": [
    "numeric_features = [0, 1, 2, 3, 4, 5, 6, 7]\n",
    "numeric_transformer = Pipeline(steps=[('imputer', IterativeImputer(random_state=1)),\n",
    "    ('scaler', StandardScaler())])\n",
    "\n",
    "#categorical_features = ['Embarked', 'Sex', 'Pclass', 'Title']\n",
    "#categorical_transformer = Pipeline(steps=[('imputer', SimpleImputer(strategy='constant', fill_value='missing')),\n",
    "#    ('onehot', OneHotEncoder(handle_unknown='ignore'))])\n",
    "\n",
    "preprocessor = ColumnTransformer(transformers=[\n",
    "        ('num', numeric_transformer, numeric_features),\n",
    "        #('cat', categorical_transformer, categorical_features)\n",
    "        ])"
   ]
  },
  {
   "cell_type": "code",
   "execution_count": 53,
   "metadata": {
    "ExecuteTime": {
     "end_time": "2021-11-18T16:42:03.452212Z",
     "start_time": "2021-11-18T16:42:03.027266Z"
    }
   },
   "outputs": [
    {
     "data": {
      "text/plain": [
       "((79972, 8), (8886, 8), (79972,), (8886,), (59310, 8))"
      ]
     },
     "execution_count": 53,
     "metadata": {},
     "output_type": "execute_result"
    }
   ],
   "source": [
    "#split training set for training and testing\n",
    "\n",
    "X_train, X_val, y_train, y_val = train_test_split(X, y, random_state=1, test_size=0.10, stratify=y, shuffle=True)\n",
    "X_train.shape, X_val.shape, y_train.shape, y_val.shape, X_test.shape"
   ]
  },
  {
   "cell_type": "code",
   "execution_count": 55,
   "metadata": {
    "ExecuteTime": {
     "end_time": "2021-11-18T16:48:45.142981Z",
     "start_time": "2021-11-18T16:43:22.390283Z"
    }
   },
   "outputs": [
    {
     "name": "stdout",
     "output_type": "stream",
     "text": [
      "Learning rate set to 0.039103\n",
      "0:\tlearn: 1.0742151\ttotal: 533ms\tremaining: 26m 37s\n",
      "1:\tlearn: 1.0518582\ttotal: 686ms\tremaining: 17m 7s\n",
      "2:\tlearn: 1.0314373\ttotal: 811ms\tremaining: 13m 30s\n",
      "3:\tlearn: 1.0126341\ttotal: 926ms\tremaining: 11m 33s\n",
      "4:\tlearn: 0.9951353\ttotal: 1.05s\tremaining: 10m 27s\n",
      "5:\tlearn: 0.9785738\ttotal: 1.14s\tremaining: 9m 31s\n",
      "6:\tlearn: 0.9635508\ttotal: 1.24s\tremaining: 8m 49s\n",
      "7:\tlearn: 0.9496648\ttotal: 1.35s\tremaining: 8m 23s\n",
      "8:\tlearn: 0.9367005\ttotal: 1.44s\tremaining: 8m\n",
      "9:\tlearn: 0.9243071\ttotal: 1.55s\tremaining: 7m 42s\n",
      "10:\tlearn: 0.9129279\ttotal: 1.64s\tremaining: 7m 26s\n",
      "11:\tlearn: 0.9021844\ttotal: 1.75s\tremaining: 7m 14s\n",
      "12:\tlearn: 0.8924785\ttotal: 1.84s\tremaining: 7m 3s\n",
      "13:\tlearn: 0.8833440\ttotal: 1.95s\tremaining: 6m 55s\n",
      "14:\tlearn: 0.8747590\ttotal: 2.04s\tremaining: 6m 46s\n",
      "15:\tlearn: 0.8667791\ttotal: 2.15s\tremaining: 6m 40s\n",
      "16:\tlearn: 0.8589620\ttotal: 2.24s\tremaining: 6m 33s\n",
      "17:\tlearn: 0.8517108\ttotal: 2.34s\tremaining: 6m 27s\n",
      "18:\tlearn: 0.8449474\ttotal: 2.44s\tremaining: 6m 23s\n",
      "19:\tlearn: 0.8385039\ttotal: 2.54s\tremaining: 6m 18s\n",
      "20:\tlearn: 0.8321916\ttotal: 2.65s\tremaining: 6m 15s\n",
      "21:\tlearn: 0.8263790\ttotal: 2.75s\tremaining: 6m 11s\n",
      "22:\tlearn: 0.8209801\ttotal: 2.85s\tremaining: 6m 8s\n",
      "23:\tlearn: 0.8159052\ttotal: 2.95s\tremaining: 6m 5s\n",
      "24:\tlearn: 0.8111114\ttotal: 3.05s\tremaining: 6m 3s\n",
      "25:\tlearn: 0.8063516\ttotal: 3.15s\tremaining: 6m\n",
      "26:\tlearn: 0.8019002\ttotal: 3.25s\tremaining: 5m 58s\n",
      "27:\tlearn: 0.7978596\ttotal: 3.35s\tremaining: 5m 55s\n",
      "28:\tlearn: 0.7938846\ttotal: 3.45s\tremaining: 5m 53s\n",
      "29:\tlearn: 0.7900523\ttotal: 3.55s\tremaining: 5m 51s\n",
      "30:\tlearn: 0.7865544\ttotal: 3.65s\tremaining: 5m 49s\n",
      "31:\tlearn: 0.7831914\ttotal: 3.75s\tremaining: 5m 47s\n",
      "32:\tlearn: 0.7800408\ttotal: 3.85s\tremaining: 5m 46s\n",
      "33:\tlearn: 0.7770114\ttotal: 3.96s\tremaining: 5m 45s\n",
      "34:\tlearn: 0.7741164\ttotal: 4.05s\tremaining: 5m 43s\n",
      "35:\tlearn: 0.7713550\ttotal: 4.15s\tremaining: 5m 41s\n",
      "36:\tlearn: 0.7688190\ttotal: 4.25s\tremaining: 5m 40s\n",
      "37:\tlearn: 0.7663224\ttotal: 4.35s\tremaining: 5m 39s\n",
      "38:\tlearn: 0.7639986\ttotal: 4.46s\tremaining: 5m 38s\n",
      "39:\tlearn: 0.7617090\ttotal: 4.55s\tremaining: 5m 36s\n",
      "40:\tlearn: 0.7595522\ttotal: 4.66s\tremaining: 5m 36s\n",
      "41:\tlearn: 0.7574051\ttotal: 4.77s\tremaining: 5m 35s\n",
      "42:\tlearn: 0.7553653\ttotal: 4.86s\tremaining: 5m 34s\n",
      "43:\tlearn: 0.7536089\ttotal: 4.96s\tremaining: 5m 33s\n",
      "44:\tlearn: 0.7518244\ttotal: 5.07s\tremaining: 5m 32s\n",
      "45:\tlearn: 0.7501330\ttotal: 5.17s\tremaining: 5m 31s\n",
      "46:\tlearn: 0.7484029\ttotal: 5.27s\tremaining: 5m 31s\n",
      "47:\tlearn: 0.7468351\ttotal: 5.37s\tremaining: 5m 30s\n",
      "48:\tlearn: 0.7454079\ttotal: 5.47s\tremaining: 5m 29s\n",
      "49:\tlearn: 0.7440108\ttotal: 5.57s\tremaining: 5m 28s\n",
      "50:\tlearn: 0.7424894\ttotal: 5.67s\tremaining: 5m 28s\n",
      "51:\tlearn: 0.7412443\ttotal: 5.77s\tremaining: 5m 27s\n",
      "52:\tlearn: 0.7399426\ttotal: 5.87s\tremaining: 5m 26s\n",
      "53:\tlearn: 0.7387158\ttotal: 5.97s\tremaining: 5m 25s\n",
      "54:\tlearn: 0.7375162\ttotal: 6.07s\tremaining: 5m 25s\n",
      "55:\tlearn: 0.7364897\ttotal: 6.18s\tremaining: 5m 24s\n",
      "56:\tlearn: 0.7355290\ttotal: 6.27s\tremaining: 5m 23s\n",
      "57:\tlearn: 0.7345640\ttotal: 6.39s\tremaining: 5m 24s\n",
      "58:\tlearn: 0.7334715\ttotal: 6.49s\tremaining: 5m 23s\n",
      "59:\tlearn: 0.7324659\ttotal: 6.59s\tremaining: 5m 22s\n",
      "60:\tlearn: 0.7314875\ttotal: 6.68s\tremaining: 5m 22s\n",
      "61:\tlearn: 0.7306544\ttotal: 6.79s\tremaining: 5m 21s\n",
      "62:\tlearn: 0.7297467\ttotal: 6.88s\tremaining: 5m 20s\n",
      "63:\tlearn: 0.7287661\ttotal: 6.99s\tremaining: 5m 20s\n",
      "64:\tlearn: 0.7283414\ttotal: 7.01s\tremaining: 5m 16s\n",
      "65:\tlearn: 0.7274774\ttotal: 7.12s\tremaining: 5m 16s\n",
      "66:\tlearn: 0.7268104\ttotal: 7.22s\tremaining: 5m 15s\n",
      "67:\tlearn: 0.7260286\ttotal: 7.31s\tremaining: 5m 15s\n",
      "68:\tlearn: 0.7252143\ttotal: 7.42s\tremaining: 5m 15s\n",
      "69:\tlearn: 0.7246937\ttotal: 7.52s\tremaining: 5m 14s\n",
      "70:\tlearn: 0.7240449\ttotal: 7.62s\tremaining: 5m 14s\n",
      "71:\tlearn: 0.7232743\ttotal: 7.72s\tremaining: 5m 13s\n",
      "72:\tlearn: 0.7228019\ttotal: 7.82s\tremaining: 5m 13s\n",
      "73:\tlearn: 0.7220329\ttotal: 7.92s\tremaining: 5m 13s\n",
      "74:\tlearn: 0.7214968\ttotal: 8.02s\tremaining: 5m 12s\n",
      "75:\tlearn: 0.7208589\ttotal: 8.12s\tremaining: 5m 12s\n",
      "76:\tlearn: 0.7202721\ttotal: 8.23s\tremaining: 5m 12s\n",
      "77:\tlearn: 0.7195721\ttotal: 8.33s\tremaining: 5m 11s\n",
      "78:\tlearn: 0.7189271\ttotal: 8.44s\tremaining: 5m 11s\n",
      "79:\tlearn: 0.7185455\ttotal: 8.53s\tremaining: 5m 11s\n",
      "80:\tlearn: 0.7179717\ttotal: 8.63s\tremaining: 5m 11s\n",
      "81:\tlearn: 0.7174741\ttotal: 8.73s\tremaining: 5m 10s\n",
      "82:\tlearn: 0.7170072\ttotal: 8.84s\tremaining: 5m 10s\n",
      "83:\tlearn: 0.7165663\ttotal: 8.94s\tremaining: 5m 10s\n",
      "84:\tlearn: 0.7161687\ttotal: 9.04s\tremaining: 5m 10s\n",
      "85:\tlearn: 0.7158052\ttotal: 9.14s\tremaining: 5m 9s\n",
      "86:\tlearn: 0.7153971\ttotal: 9.25s\tremaining: 5m 9s\n",
      "87:\tlearn: 0.7148817\ttotal: 9.35s\tremaining: 5m 9s\n",
      "88:\tlearn: 0.7144508\ttotal: 9.46s\tremaining: 5m 9s\n",
      "89:\tlearn: 0.7140691\ttotal: 9.57s\tremaining: 5m 9s\n",
      "90:\tlearn: 0.7136535\ttotal: 9.67s\tremaining: 5m 9s\n",
      "91:\tlearn: 0.7131964\ttotal: 9.76s\tremaining: 5m 8s\n",
      "92:\tlearn: 0.7128088\ttotal: 9.87s\tremaining: 5m 8s\n",
      "93:\tlearn: 0.7123839\ttotal: 9.97s\tremaining: 5m 8s\n",
      "94:\tlearn: 0.7118316\ttotal: 10.1s\tremaining: 5m 8s\n",
      "95:\tlearn: 0.7115105\ttotal: 10.2s\tremaining: 5m 7s\n",
      "96:\tlearn: 0.7111219\ttotal: 10.3s\tremaining: 5m 8s\n",
      "97:\tlearn: 0.7106566\ttotal: 10.4s\tremaining: 5m 8s\n",
      "98:\tlearn: 0.7101941\ttotal: 10.5s\tremaining: 5m 7s\n",
      "99:\tlearn: 0.7098434\ttotal: 10.6s\tremaining: 5m 7s\n",
      "100:\tlearn: 0.7094354\ttotal: 10.7s\tremaining: 5m 7s\n",
      "101:\tlearn: 0.7091619\ttotal: 10.8s\tremaining: 5m 7s\n",
      "102:\tlearn: 0.7087312\ttotal: 10.9s\tremaining: 5m 7s\n",
      "103:\tlearn: 0.7084032\ttotal: 11s\tremaining: 5m 6s\n",
      "104:\tlearn: 0.7081121\ttotal: 11.1s\tremaining: 5m 6s\n",
      "105:\tlearn: 0.7076205\ttotal: 11.2s\tremaining: 5m 6s\n",
      "106:\tlearn: 0.7073306\ttotal: 11.4s\tremaining: 5m 7s\n",
      "107:\tlearn: 0.7070684\ttotal: 11.5s\tremaining: 5m 6s\n",
      "108:\tlearn: 0.7067788\ttotal: 11.6s\tremaining: 5m 6s\n",
      "109:\tlearn: 0.7065530\ttotal: 11.7s\tremaining: 5m 6s\n",
      "110:\tlearn: 0.7063542\ttotal: 11.8s\tremaining: 5m 6s\n",
      "111:\tlearn: 0.7060814\ttotal: 11.9s\tremaining: 5m 6s\n",
      "112:\tlearn: 0.7058836\ttotal: 12s\tremaining: 5m 6s\n",
      "113:\tlearn: 0.7054768\ttotal: 12.1s\tremaining: 5m 5s\n",
      "114:\tlearn: 0.7052182\ttotal: 12.2s\tremaining: 5m 5s\n",
      "115:\tlearn: 0.7048002\ttotal: 12.3s\tremaining: 5m 5s\n",
      "116:\tlearn: 0.7045004\ttotal: 12.4s\tremaining: 5m 5s\n",
      "117:\tlearn: 0.7042496\ttotal: 12.5s\tremaining: 5m 5s\n",
      "118:\tlearn: 0.7039364\ttotal: 12.6s\tremaining: 5m 5s\n",
      "119:\tlearn: 0.7036277\ttotal: 12.7s\tremaining: 5m 4s\n",
      "120:\tlearn: 0.7033858\ttotal: 12.8s\tremaining: 5m 4s\n",
      "121:\tlearn: 0.7030654\ttotal: 12.9s\tremaining: 5m 4s\n",
      "122:\tlearn: 0.7027788\ttotal: 13s\tremaining: 5m 4s\n",
      "123:\tlearn: 0.7024801\ttotal: 13.1s\tremaining: 5m 4s\n",
      "124:\tlearn: 0.7022147\ttotal: 13.2s\tremaining: 5m 3s\n",
      "125:\tlearn: 0.7019824\ttotal: 13.3s\tremaining: 5m 3s\n",
      "126:\tlearn: 0.7017618\ttotal: 13.4s\tremaining: 5m 3s\n",
      "127:\tlearn: 0.7015442\ttotal: 13.5s\tremaining: 5m 3s\n",
      "128:\tlearn: 0.7013283\ttotal: 13.6s\tremaining: 5m 3s\n",
      "129:\tlearn: 0.7010805\ttotal: 13.7s\tremaining: 5m 3s\n",
      "130:\tlearn: 0.7008824\ttotal: 13.8s\tremaining: 5m 2s\n",
      "131:\tlearn: 0.7005815\ttotal: 13.9s\tremaining: 5m 2s\n",
      "132:\tlearn: 0.7004022\ttotal: 14s\tremaining: 5m 2s\n",
      "133:\tlearn: 0.7002177\ttotal: 14.1s\tremaining: 5m 2s\n",
      "134:\tlearn: 0.7000089\ttotal: 14.3s\tremaining: 5m 2s\n",
      "135:\tlearn: 0.6995855\ttotal: 14.4s\tremaining: 5m 2s\n",
      "136:\tlearn: 0.6993268\ttotal: 14.5s\tremaining: 5m 2s\n",
      "137:\tlearn: 0.6990389\ttotal: 14.6s\tremaining: 5m 1s\n",
      "138:\tlearn: 0.6986868\ttotal: 14.7s\tremaining: 5m 1s\n",
      "139:\tlearn: 0.6984681\ttotal: 14.8s\tremaining: 5m 1s\n",
      "140:\tlearn: 0.6982820\ttotal: 14.9s\tremaining: 5m 1s\n",
      "141:\tlearn: 0.6979970\ttotal: 15s\tremaining: 5m 1s\n",
      "142:\tlearn: 0.6977615\ttotal: 15.1s\tremaining: 5m\n",
      "143:\tlearn: 0.6975786\ttotal: 15.2s\tremaining: 5m\n",
      "144:\tlearn: 0.6973036\ttotal: 15.3s\tremaining: 5m\n",
      "145:\tlearn: 0.6968991\ttotal: 15.4s\tremaining: 5m\n",
      "146:\tlearn: 0.6964442\ttotal: 15.5s\tremaining: 4m 59s\n",
      "147:\tlearn: 0.6961835\ttotal: 15.6s\tremaining: 5m\n",
      "148:\tlearn: 0.6959266\ttotal: 15.7s\tremaining: 4m 59s\n",
      "149:\tlearn: 0.6956577\ttotal: 15.8s\tremaining: 5m\n",
      "150:\tlearn: 0.6953658\ttotal: 15.9s\tremaining: 5m\n",
      "151:\tlearn: 0.6952238\ttotal: 16s\tremaining: 4m 59s\n",
      "152:\tlearn: 0.6950229\ttotal: 16.1s\tremaining: 4m 59s\n",
      "153:\tlearn: 0.6949026\ttotal: 16.2s\tremaining: 4m 59s\n",
      "154:\tlearn: 0.6945552\ttotal: 16.3s\tremaining: 4m 59s\n",
      "155:\tlearn: 0.6942355\ttotal: 16.4s\tremaining: 4m 58s\n",
      "156:\tlearn: 0.6939390\ttotal: 16.5s\tremaining: 4m 58s\n",
      "157:\tlearn: 0.6936267\ttotal: 16.6s\tremaining: 4m 58s\n",
      "158:\tlearn: 0.6933895\ttotal: 16.7s\tremaining: 4m 58s\n",
      "159:\tlearn: 0.6931701\ttotal: 16.8s\tremaining: 4m 58s\n",
      "160:\tlearn: 0.6929272\ttotal: 16.9s\tremaining: 4m 57s\n",
      "161:\tlearn: 0.6927589\ttotal: 17s\tremaining: 4m 57s\n",
      "162:\tlearn: 0.6925264\ttotal: 17.1s\tremaining: 4m 57s\n",
      "163:\tlearn: 0.6923395\ttotal: 17.2s\tremaining: 4m 57s\n",
      "164:\tlearn: 0.6920736\ttotal: 17.3s\tremaining: 4m 56s\n",
      "165:\tlearn: 0.6918608\ttotal: 17.4s\tremaining: 4m 56s\n",
      "166:\tlearn: 0.6915812\ttotal: 17.5s\tremaining: 4m 56s\n",
      "167:\tlearn: 0.6914612\ttotal: 17.6s\tremaining: 4m 56s\n",
      "168:\tlearn: 0.6912305\ttotal: 17.7s\tremaining: 4m 55s\n",
      "169:\tlearn: 0.6910261\ttotal: 17.8s\tremaining: 4m 55s\n",
      "170:\tlearn: 0.6908215\ttotal: 17.9s\tremaining: 4m 55s\n",
      "171:\tlearn: 0.6906470\ttotal: 18s\tremaining: 4m 55s\n",
      "172:\tlearn: 0.6903163\ttotal: 18.1s\tremaining: 4m 55s\n",
      "173:\tlearn: 0.6901527\ttotal: 18.2s\tremaining: 4m 54s\n",
      "174:\tlearn: 0.6899171\ttotal: 18.2s\tremaining: 4m 54s\n",
      "175:\tlearn: 0.6895485\ttotal: 18.3s\tremaining: 4m 54s\n",
      "176:\tlearn: 0.6893276\ttotal: 18.4s\tremaining: 4m 54s\n",
      "177:\tlearn: 0.6890696\ttotal: 18.5s\tremaining: 4m 53s\n",
      "178:\tlearn: 0.6888607\ttotal: 18.7s\tremaining: 4m 53s\n",
      "179:\tlearn: 0.6886517\ttotal: 18.8s\tremaining: 4m 54s\n",
      "180:\tlearn: 0.6884506\ttotal: 18.9s\tremaining: 4m 53s\n",
      "181:\tlearn: 0.6882626\ttotal: 19s\tremaining: 4m 53s\n",
      "182:\tlearn: 0.6879601\ttotal: 19.1s\tremaining: 4m 53s\n",
      "183:\tlearn: 0.6877887\ttotal: 19.2s\tremaining: 4m 53s\n",
      "184:\tlearn: 0.6874613\ttotal: 19.3s\tremaining: 4m 53s\n",
      "185:\tlearn: 0.6871640\ttotal: 19.4s\tremaining: 4m 52s\n",
      "186:\tlearn: 0.6869261\ttotal: 19.5s\tremaining: 4m 52s\n",
      "187:\tlearn: 0.6867089\ttotal: 19.5s\tremaining: 4m 52s\n",
      "188:\tlearn: 0.6865659\ttotal: 19.6s\tremaining: 4m 52s\n",
      "189:\tlearn: 0.6863590\ttotal: 19.7s\tremaining: 4m 51s\n",
      "190:\tlearn: 0.6861543\ttotal: 19.8s\tremaining: 4m 51s\n",
      "191:\tlearn: 0.6858768\ttotal: 19.9s\tremaining: 4m 51s\n",
      "192:\tlearn: 0.6"
     ]
    },
    {
     "data": {
      "text/html": [
       "<b>limit_output extension: Maximum message size of 10000 exceeded with 10036 characters</b>"
      ]
     },
     "metadata": {},
     "output_type": "display_data"
    }
   ],
   "source": [
    "model = Pipeline(steps=[('preprocessor', preprocessor),\n",
    "                      ('classifier', CatBoostClassifier(loss_function='MultiClass', class_weights= [.21, .82, .97], iterations=3000, depth=10, random_state=1))]).fit(X_train, y_train)\n",
    "print(model.score(X_train, y_train))"
   ]
  },
  {
   "cell_type": "code",
   "execution_count": 56,
   "metadata": {
    "ExecuteTime": {
     "end_time": "2021-11-18T16:48:45.690910Z",
     "start_time": "2021-11-18T16:48:45.181344Z"
    }
   },
   "outputs": [
    {
     "name": "stdout",
     "output_type": "stream",
     "text": [
      "{'memory': None, 'steps': [('preprocessor', ColumnTransformer(transformers=[('num',\n",
      "                                 Pipeline(steps=[('imputer',\n",
      "                                                  IterativeImputer(random_state=1)),\n",
      "                                                 ('scaler', StandardScaler())]),\n",
      "                                 [0, 1, 2, 3, 4, 5, 6, 7])])), ('classifier', <catboost.core.CatBoostClassifier object at 0x00000145AC9687F0>)], 'verbose': False, 'preprocessor': ColumnTransformer(transformers=[('num',\n",
      "                                 Pipeline(steps=[('imputer',\n",
      "                                                  IterativeImputer(random_state=1)),\n",
      "                                                 ('scaler', StandardScaler())]),\n",
      "                                 [0, 1, 2, 3, 4, 5, 6, 7])]), 'classifier': <catboost.core.CatBoostClassifier object at 0x00000145AC9687F0>, 'preprocessor__n_jobs': None, 'preprocessor__remainder': 'drop', 'preprocessor__sparse_threshold': 0.3, 'preprocessor__transformer_weights': None, 'preprocessor__transformers': [('num', Pipeline(steps=[('imputer', IterativeImputer(random_state=1)),\n",
      "                ('scaler', StandardScaler())]), [0, 1, 2, 3, 4, 5, 6, 7])], 'preprocessor__verbose': False, 'preprocessor__verbose_feature_names_out': True, 'preprocessor__num': Pipeline(steps=[('imputer', IterativeImputer(random_state=1)),\n",
      "                ('scaler', StandardScaler())]), 'preprocessor__num__memory': None, 'preprocessor__num__steps': [('imputer', IterativeImputer(random_state=1)), ('scaler', StandardScaler())], 'preprocessor__num__verbose': False, 'preprocessor__num__imputer': IterativeImputer(random_state=1), 'preprocessor__num__scaler': StandardScaler(), 'preprocessor__num__imputer__add_indicator': False, 'preprocessor__num__imputer__estimator': None, 'preprocessor__num__imputer__imputation_order': 'ascending', 'preprocessor__num__imputer__initial_strategy': 'mean', 'preprocessor__num__imputer__max_iter': 10, 'preprocessor__num__imputer__max_value': inf, 'preprocessor__num__imputer__min_value': -inf, 'preprocessor__num__imputer__missing_values': nan, 'preprocessor__num__imputer__n_nearest_features': None, 'preprocessor__num__imputer__random_state': 1, 'preprocessor__num__imputer__sample_posterior': False, 'preprocessor__num__imputer__skip_complete': False, 'preprocessor__num__imputer__tol': 0.001, 'preprocessor__num__imputer__verbose': 0, 'preprocessor__num__scaler__copy': True, 'preprocessor__num__scaler__with_mean': True, 'preprocessor__num__scaler__with_std': True, 'classifier__iterations': 3000, 'classifier__depth': 10, 'classifier__loss_function': 'MultiClass', 'classifier__class_weights': [0.21, 0.82, 0.97], 'classifier__random_state': 1}\n"
     ]
    }
   ],
   "source": [
    "#print the tunable parameters (They were not tuned in this example, everything kept as default)\n",
    "params = model.get_params()\n",
    "print(params)"
   ]
  },
  {
   "cell_type": "code",
   "execution_count": 57,
   "metadata": {
    "ExecuteTime": {
     "end_time": "2021-11-18T16:48:47.048172Z",
     "start_time": "2021-11-18T16:48:46.071524Z"
    }
   },
   "outputs": [
    {
     "data": {
      "text/html": [
       "<div>\n",
       "<style scoped>\n",
       "    .dataframe tbody tr th:only-of-type {\n",
       "        vertical-align: middle;\n",
       "    }\n",
       "\n",
       "    .dataframe tbody tr th {\n",
       "        vertical-align: top;\n",
       "    }\n",
       "\n",
       "    .dataframe thead th {\n",
       "        text-align: right;\n",
       "    }\n",
       "</style>\n",
       "<table border=\"1\" class=\"dataframe\">\n",
       "  <thead>\n",
       "    <tr style=\"text-align: right;\">\n",
       "      <th></th>\n",
       "      <th>Actual</th>\n",
       "      <th>Predicted</th>\n",
       "    </tr>\n",
       "  </thead>\n",
       "  <tbody>\n",
       "    <tr>\n",
       "      <th>30555</th>\n",
       "      <td>0</td>\n",
       "      <td>0</td>\n",
       "    </tr>\n",
       "    <tr>\n",
       "      <th>37993</th>\n",
       "      <td>0</td>\n",
       "      <td>0</td>\n",
       "    </tr>\n",
       "    <tr>\n",
       "      <th>72387</th>\n",
       "      <td>0</td>\n",
       "      <td>0</td>\n",
       "    </tr>\n",
       "    <tr>\n",
       "      <th>30750</th>\n",
       "      <td>1</td>\n",
       "      <td>1</td>\n",
       "    </tr>\n",
       "    <tr>\n",
       "      <th>6458</th>\n",
       "      <td>0</td>\n",
       "      <td>0</td>\n",
       "    </tr>\n",
       "    <tr>\n",
       "      <th>...</th>\n",
       "      <td>...</td>\n",
       "      <td>...</td>\n",
       "    </tr>\n",
       "    <tr>\n",
       "      <th>70597</th>\n",
       "      <td>1</td>\n",
       "      <td>0</td>\n",
       "    </tr>\n",
       "    <tr>\n",
       "      <th>85070</th>\n",
       "      <td>0</td>\n",
       "      <td>0</td>\n",
       "    </tr>\n",
       "    <tr>\n",
       "      <th>5794</th>\n",
       "      <td>1</td>\n",
       "      <td>0</td>\n",
       "    </tr>\n",
       "    <tr>\n",
       "      <th>86532</th>\n",
       "      <td>0</td>\n",
       "      <td>0</td>\n",
       "    </tr>\n",
       "    <tr>\n",
       "      <th>79757</th>\n",
       "      <td>0</td>\n",
       "      <td>0</td>\n",
       "    </tr>\n",
       "  </tbody>\n",
       "</table>\n",
       "<p>8886 rows × 2 columns</p>\n",
       "</div>"
      ],
      "text/plain": [
       "       Actual  Predicted\n",
       "30555       0          0\n",
       "37993       0          0\n",
       "72387       0          0\n",
       "30750       1          1\n",
       "6458        0          0\n",
       "...       ...        ...\n",
       "70597       1          0\n",
       "85070       0          0\n",
       "5794        1          0\n",
       "86532       0          0\n",
       "79757       0          0\n",
       "\n",
       "[8886 rows x 2 columns]"
      ]
     },
     "execution_count": 57,
     "metadata": {},
     "output_type": "execute_result"
    }
   ],
   "source": [
    "y_pred = model.predict(X_val)\n",
    "\n",
    "df=pd.DataFrame({'Actual': y_val, 'Predicted':y_pred.ravel()})\n",
    "df"
   ]
  },
  {
   "cell_type": "code",
   "execution_count": 59,
   "metadata": {
    "ExecuteTime": {
     "end_time": "2021-11-18T17:06:38.068086Z",
     "start_time": "2021-11-18T17:06:34.676201Z"
    }
   },
   "outputs": [
    {
     "data": {
      "text/plain": [
       "<AxesSubplot:>"
      ]
     },
     "execution_count": 59,
     "metadata": {},
     "output_type": "execute_result"
    },
    {
     "data": {
      "image/png": "[encoded data removed]",
      "text/plain": [
       "<Figure size 432x288 with 1 Axes>"
      ]
     },
     "metadata": {
      "needs_background": "light"
     },
     "output_type": "display_data"
    }
   ],
   "source": [
    "sns.distplot(y_pred)"
   ]
  },
  {
   "cell_type": "code",
   "execution_count": 64,
   "metadata": {
    "ExecuteTime": {
     "end_time": "2021-11-18T17:10:33.890657Z",
     "start_time": "2021-11-18T17:10:33.609814Z"
    }
   },
   "outputs": [
    {
     "data": {
      "text/plain": [
       "Counter({0: 7424, 1: 1231, 2: 231})"
      ]
     },
     "execution_count": 64,
     "metadata": {},
     "output_type": "execute_result"
    }
   ],
   "source": [
    "collections.Counter(y_val)"
   ]
  },
  {
   "cell_type": "code",
   "execution_count": 65,
   "metadata": {
    "ExecuteTime": {
     "end_time": "2021-11-18T17:10:40.501718Z",
     "start_time": "2021-11-18T17:10:40.485738Z"
    }
   },
   "outputs": [
    {
     "data": {
      "text/plain": [
       "Counter({0: 7073, 1: 1686, 2: 127})"
      ]
     },
     "execution_count": 65,
     "metadata": {},
     "output_type": "execute_result"
    }
   ],
   "source": [
    "collections.Counter(y_pred.ravel())"
   ]
  },
  {
   "cell_type": "code",
   "execution_count": 68,
   "metadata": {
    "ExecuteTime": {
     "end_time": "2021-11-18T17:11:15.495409Z",
     "start_time": "2021-11-18T17:11:14.541089Z"
    }
   },
   "outputs": [
    {
     "data": {
      "text/plain": [
       "array([[6390,  972,   62],\n",
       "       [ 612,  569,   50],\n",
       "       [  71,  145,   15]], dtype=int64)"
      ]
     },
     "execution_count": 68,
     "metadata": {},
     "output_type": "execute_result"
    }
   ],
   "source": [
    "#Create a confusion matrix\n",
    "\n",
    "confusion_matrix(y_val, y_pred)"
   ]
  },
  {
   "cell_type": "code",
   "execution_count": 69,
   "metadata": {
    "ExecuteTime": {
     "end_time": "2021-11-18T17:19:12.437679Z",
     "start_time": "2021-11-18T17:19:10.311974Z"
    }
   },
   "outputs": [
    {
     "data": {
      "text/html": [
       "<div>\n",
       "<style scoped>\n",
       "    .dataframe tbody tr th:only-of-type {\n",
       "        vertical-align: middle;\n",
       "    }\n",
       "\n",
       "    .dataframe tbody tr th {\n",
       "        vertical-align: top;\n",
       "    }\n",
       "\n",
       "    .dataframe thead th {\n",
       "        text-align: right;\n",
       "    }\n",
       "</style>\n",
       "<table border=\"1\" class=\"dataframe\">\n",
       "  <thead>\n",
       "    <tr style=\"text-align: right;\">\n",
       "      <th></th>\n",
       "      <th>predicted_Alive</th>\n",
       "      <th>predicted_Other_Causes</th>\n",
       "      <th>predicted_Pesticides</th>\n",
       "    </tr>\n",
       "  </thead>\n",
       "  <tbody>\n",
       "    <tr>\n",
       "      <th>Alive</th>\n",
       "      <td>6390</td>\n",
       "      <td>972</td>\n",
       "      <td>62</td>\n",
       "    </tr>\n",
       "    <tr>\n",
       "      <th>Other_Causes</th>\n",
       "      <td>612</td>\n",
       "      <td>569</td>\n",
       "      <td>50</td>\n",
       "    </tr>\n",
       "    <tr>\n",
       "      <th>Pesticides</th>\n",
       "      <td>71</td>\n",
       "      <td>145</td>\n",
       "      <td>15</td>\n",
       "    </tr>\n",
       "  </tbody>\n",
       "</table>\n",
       "</div>"
      ],
      "text/plain": [
       "              predicted_Alive  predicted_Other_Causes  predicted_Pesticides\n",
       "Alive                    6390                     972                    62\n",
       "Other_Causes              612                     569                    50\n",
       "Pesticides                 71                     145                    15"
      ]
     },
     "execution_count": 69,
     "metadata": {},
     "output_type": "execute_result"
    }
   ],
   "source": [
    "#transform confusion matrix into array\n",
    "#the matrix is stored in a vaiable called confmtrx\n",
    "confmtrx = np.array(confusion_matrix(y_val, y_pred))\n",
    "#Create DataFrame from confmtrx array \n",
    "#rows for test: Male, Female, Infant designation as index \n",
    "#columns for preds: male, predicted_female, predicted_infant as column\n",
    "pd.DataFrame(confmtrx, index=['Alive','Other_Causes', 'Pesticides'],\n",
    "columns=['predicted_Alive', 'predicted_Other_Causes', 'predicted_Pesticides'])"
   ]
  },
  {
   "cell_type": "code",
   "execution_count": 71,
   "metadata": {
    "ExecuteTime": {
     "end_time": "2021-11-18T17:20:47.370384Z",
     "start_time": "2021-11-18T17:20:46.887038Z"
    }
   },
   "outputs": [
    {
     "name": "stdout",
     "output_type": "stream",
     "text": [
      "Accuracy Score: 0.7848300697726761\n",
      "              precision    recall  f1-score   support\n",
      "\n",
      "           0       0.90      0.86      0.88      7424\n",
      "           1       0.34      0.46      0.39      1231\n",
      "           2       0.12      0.06      0.08       231\n",
      "\n",
      "    accuracy                           0.78      8886\n",
      "   macro avg       0.45      0.46      0.45      8886\n",
      "weighted avg       0.80      0.78      0.79      8886\n",
      "\n"
     ]
    }
   ],
   "source": [
    "#Accuracy statistics\n",
    "print('Accuracy Score:', accuracy_score(y_val, y_pred)) \n",
    "\n",
    "#Create classification report\n",
    "class_report=classification_report(y_val, y_pred)\n",
    "print(class_report)"
   ]
  },
  {
   "cell_type": "code",
   "execution_count": 72,
   "metadata": {
    "ExecuteTime": {
     "end_time": "2021-11-18T17:21:20.234458Z",
     "start_time": "2021-11-18T17:21:15.635232Z"
    }
   },
   "outputs": [
    {
     "data": {
      "text/plain": [
       "array([[1],\n",
       "       [1],\n",
       "       [1],\n",
       "       ...,\n",
       "       [1],\n",
       "       [1],\n",
       "       [1]], dtype=int64)"
      ]
     },
     "execution_count": 72,
     "metadata": {},
     "output_type": "execute_result"
    }
   ],
   "source": [
    "predictions = model.predict(X_test)\n",
    "predictions"
   ]
  },
  {
   "cell_type": "code",
   "execution_count": 73,
   "metadata": {
    "ExecuteTime": {
     "end_time": "2021-11-18T17:21:22.753618Z",
     "start_time": "2021-11-18T17:21:21.999802Z"
    }
   },
   "outputs": [
    {
     "data": {
      "text/html": [
       "<div>\n",
       "<style scoped>\n",
       "    .dataframe tbody tr th:only-of-type {\n",
       "        vertical-align: middle;\n",
       "    }\n",
       "\n",
       "    .dataframe tbody tr th {\n",
       "        vertical-align: top;\n",
       "    }\n",
       "\n",
       "    .dataframe thead th {\n",
       "        text-align: right;\n",
       "    }\n",
       "</style>\n",
       "<table border=\"1\" class=\"dataframe\">\n",
       "  <thead>\n",
       "    <tr style=\"text-align: right;\">\n",
       "      <th></th>\n",
       "      <th>ID</th>\n",
       "      <th>Crop_Damage</th>\n",
       "    </tr>\n",
       "  </thead>\n",
       "  <tbody>\n",
       "    <tr>\n",
       "      <th>0</th>\n",
       "      <td>F00000002</td>\n",
       "      <td>1</td>\n",
       "    </tr>\n",
       "    <tr>\n",
       "      <th>1</th>\n",
       "      <td>F00000007</td>\n",
       "      <td>1</td>\n",
       "    </tr>\n",
       "    <tr>\n",
       "      <th>2</th>\n",
       "      <td>F00000011</td>\n",
       "      <td>1</td>\n",
       "    </tr>\n",
       "    <tr>\n",
       "      <th>3</th>\n",
       "      <td>F00000013</td>\n",
       "      <td>1</td>\n",
       "    </tr>\n",
       "    <tr>\n",
       "      <th>4</th>\n",
       "      <td>F00000014</td>\n",
       "      <td>1</td>\n",
       "    </tr>\n",
       "    <tr>\n",
       "      <th>...</th>\n",
       "      <td>...</td>\n",
       "      <td>...</td>\n",
       "    </tr>\n",
       "    <tr>\n",
       "      <th>59305</th>\n",
       "      <td>F00155937</td>\n",
       "      <td>0</td>\n",
       "    </tr>\n",
       "    <tr>\n",
       "      <th>59306</th>\n",
       "      <td>F00155940</td>\n",
       "      <td>0</td>\n",
       "    </tr>\n",
       "    <tr>\n",
       "      <th>59307</th>\n",
       "      <td>F00155941</td>\n",
       "      <td>1</td>\n",
       "    </tr>\n",
       "    <tr>\n",
       "      <th>59308</th>\n",
       "      <td>F00155943</td>\n",
       "      <td>1</td>\n",
       "    </tr>\n",
       "    <tr>\n",
       "      <th>59309</th>\n",
       "      <td>F00155944</td>\n",
       "      <td>1</td>\n",
       "    </tr>\n",
       "  </tbody>\n",
       "</table>\n",
       "<p>59310 rows × 2 columns</p>\n",
       "</div>"
      ],
      "text/plain": [
       "              ID  Crop_Damage\n",
       "0      F00000002            1\n",
       "1      F00000007            1\n",
       "2      F00000011            1\n",
       "3      F00000013            1\n",
       "4      F00000014            1\n",
       "...          ...          ...\n",
       "59305  F00155937            0\n",
       "59306  F00155940            0\n",
       "59307  F00155941            1\n",
       "59308  F00155943            1\n",
       "59309  F00155944            1\n",
       "\n",
       "[59310 rows x 2 columns]"
      ]
     },
     "execution_count": 73,
     "metadata": {},
     "output_type": "execute_result"
    }
   ],
   "source": [
    "submission = pd.DataFrame({\n",
    "        \"ID\": ID,\n",
    "        \"Crop_Damage\": predictions.ravel()\n",
    "    })\n",
    "submission.to_csv('submission.csv', index=False)\n",
    "submission"
   ]
  }
 ],
 "metadata": {
  "hide_input": false,
  "kernelspec": {
   "display_name": "Python 3",
   "language": "python",
   "name": "python3"
  },
  "language_info": {
   "codemirror_mode": {
    "name": "ipython",
    "version": 3
   },
   "file_extension": ".py",
   "mimetype": "text/x-python",
   "name": "python",
   "nbconvert_exporter": "python",
   "pygments_lexer": "ipython3",
   "version": "3.8.3"
  },
  "latex_envs": {
   "LaTeX_envs_menu_present": true,
   "autoclose": false,
   "autocomplete": true,
   "bibliofile": "biblio.bib",
   "cite_by": "apalike",
   "current_citInitial": 1,
   "eqLabelWithNumbers": true,
   "eqNumInitial": 1,
   "hotkeys": {
    "equation": "Ctrl-E",
    "itemize": "Ctrl-I"
   },
   "labels_anchors": false,
   "latex_user_defs": false,
   "report_style_numbering": false,
   "user_envs_cfg": false
  },
  "toc": {
   "base_numbering": 1,
   "nav_menu": {},
   "number_sections": true,
   "sideBar": true,
   "skip_h1_title": false,
   "title_cell": "Table of Contents",
   "title_sidebar": "Contents",
   "toc_cell": false,
   "toc_position": {},
   "toc_section_display": true,
   "toc_window_display": false
  }
 },
 "nbformat": 4,
 "nbformat_minor": 4
}
