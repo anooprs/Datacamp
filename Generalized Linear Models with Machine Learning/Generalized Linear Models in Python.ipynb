{
 "cells": [
  {
   "cell_type": "markdown",
   "metadata": {},
   "source": [
    "## Description"
   ]
  },
  {
   "cell_type": "markdown",
   "metadata": {},
   "source": [
    "Imagine being able to handle data where the response variable is either binary, count, or approximately normal, all under one single framework. Well, you don't have to imagine. Enter the Generalized Linear Models in Python course! In this course you will extend your regression toolbox with the logistic and Poisson models, by learning how to fit, understand, assess model performance and finally use the model to make predictions on new data. You will practice using data from real world studies such the largest population poisoning in world's history, nesting of horseshoe crabs and counting the bike crossings on the bridges in New York City."
   ]
  },
  {
   "cell_type": "markdown",
   "metadata": {},
   "source": [
    "### Introduction to GLMs"
   ]
  },
  {
   "cell_type": "code",
   "execution_count": 131,
   "metadata": {
    "ExecuteTime": {
     "end_time": "2021-11-07T12:23:32.128514Z",
     "start_time": "2021-11-07T12:23:32.102803Z"
    }
   },
   "outputs": [],
   "source": [
    "import pandas as pd\n",
    "import numpy as np\n",
    "import matplotlib.pyplot as plt\n",
    "import statsmodels.api as sm\n",
    "from statsmodels.formula.api import ols, glm\n",
    "import seaborn as sns\n",
    "from sklearn.model_selection import train_test_split\n",
    "import math\n",
    "from statsmodels.stats.outliers_influence import variance_inflation_factor\n",
    "from patsy import dmatrix"
   ]
  },
  {
   "cell_type": "code",
   "execution_count": 32,
   "metadata": {
    "ExecuteTime": {
     "end_time": "2021-11-06T11:02:47.233768Z",
     "start_time": "2021-11-06T11:02:45.413979Z"
    }
   },
   "outputs": [],
   "source": [
    "salary = pd.read_csv('salary.csv')"
   ]
  },
  {
   "cell_type": "code",
   "execution_count": 33,
   "metadata": {
    "ExecuteTime": {
     "end_time": "2021-11-06T11:02:49.220368Z",
     "start_time": "2021-11-06T11:02:47.236748Z"
    }
   },
   "outputs": [
    {
     "name": "stdout",
     "output_type": "stream",
     "text": [
      "Intercept     25792.200199\n",
      "Experience     9449.962321\n",
      "dtype: float64\n"
     ]
    }
   ],
   "source": [
    "# Fit a linear model\n",
    "model_lm = ols(formula = 'Salary ~ Experience',\n",
    "               data = salary).fit()\n",
    "\n",
    "# View model coefficients\n",
    "print(model_lm.params)"
   ]
  },
  {
   "cell_type": "code",
   "execution_count": 34,
   "metadata": {
    "ExecuteTime": {
     "end_time": "2021-11-06T11:02:49.738064Z",
     "start_time": "2021-11-06T11:02:49.220368Z"
    }
   },
   "outputs": [
    {
     "name": "stdout",
     "output_type": "stream",
     "text": [
      "Intercept     25792.200199\n",
      "Experience     9449.962321\n",
      "dtype: float64\n"
     ]
    }
   ],
   "source": [
    "# Fit a GLM\n",
    "model_glm = glm(formula = 'Salary ~ Experience',\n",
    "                data = salary,\n",
    "                family = sm.families.Gaussian()).fit()\n",
    "\n",
    "# View model coefficients\n",
    "print(model_glm.params)"
   ]
  },
  {
   "cell_type": "markdown",
   "metadata": {
    "ExecuteTime": {
     "end_time": "2021-11-06T05:45:31.890193Z",
     "start_time": "2021-11-06T05:45:31.874204Z"
    }
   },
   "source": [
    "**Looking at the coefficient estimates notice how both models give the same values.**"
   ]
  },
  {
   "cell_type": "markdown",
   "metadata": {},
   "source": [
    "### Data type and distribution family"
   ]
  },
  {
   "cell_type": "markdown",
   "metadata": {},
   "source": [
    "#### Linear model and a binary response variable"
   ]
  },
  {
   "cell_type": "code",
   "execution_count": 35,
   "metadata": {
    "ExecuteTime": {
     "end_time": "2021-11-06T11:02:56.619433Z",
     "start_time": "2021-11-06T11:02:56.126695Z"
    }
   },
   "outputs": [],
   "source": [
    "crab = pd.read_csv('crab.csv')"
   ]
  },
  {
   "cell_type": "code",
   "execution_count": 36,
   "metadata": {
    "ExecuteTime": {
     "end_time": "2021-11-06T11:02:57.399706Z",
     "start_time": "2021-11-06T11:02:56.619433Z"
    }
   },
   "outputs": [
    {
     "name": "stdout",
     "output_type": "stream",
     "text": [
      "                 Generalized Linear Model Regression Results                  \n",
      "==============================================================================\n",
      "Dep. Variable:                      y   No. Observations:                  173\n",
      "Model:                            GLM   Df Residuals:                      171\n",
      "Model Family:                Gaussian   Df Model:                            1\n",
      "Link Function:               identity   Scale:                         0.19515\n",
      "Method:                          IRLS   Log-Likelihood:                -103.13\n",
      "Date:                Sat, 06 Nov 2021   Deviance:                       33.371\n",
      "Time:                        16:32:57   Pearson chi2:                     33.4\n",
      "No. Iterations:                     3   Pseudo R-squ. (CS):             0.1730\n",
      "Covariance Type:            nonrobust                                         \n",
      "==============================================================================\n",
      "                 coef    std err          z      P>|z|      [0.025      0.975]\n",
      "------------------------------------------------------------------------------\n",
      "Intercept     -1.7655      0.421     -4.190      0.000      -2.591      -0.940\n",
      "width          0.0915      0.016      5.731      0.000       0.060       0.123\n",
      "==============================================================================\n",
      "                 Generalized Linear Model Regression Results                  \n",
      "==============================================================================\n",
      "Dep. Variable:                      y   No. Observations:                  173\n",
      "Model:                            GLM   Df Residuals:                      171\n",
      "Model Family:                Binomial   Df Model:                            1\n",
      "Link Function:                  logit   Scale:                          1.0000\n",
      "Method:                          IRLS   Log-Likelihood:                -97.226\n",
      "Date:                Sat, 06 Nov 2021   Deviance:                       194.45\n",
      "Time:                        16:32:57   Pearson chi2:                     165.\n",
      "No. Iterations:                     4   Pseudo R-squ. (CS):             0.1655\n",
      "Covariance Type:            nonrobust                                         \n",
      "==============================================================================\n",
      "                 coef    std err          z      P>|z|      [0.025      0.975]\n",
      "------------------------------------------------------------------------------\n",
      "Intercept    -12.3508      2.629     -4.698      0.000     -17.503      -7.199\n",
      "width          0.4972      0.102      4.887      0.000       0.298       0.697\n",
      "==============================================================================\n"
     ]
    }
   ],
   "source": [
    "# Define model formula\n",
    "formula = 'y ~ width'\n",
    "\n",
    "# Define probability distribution for the response variable for \n",
    "# the linear (LM) and logistic (GLM) model\n",
    "family_LM = sm.families.Gaussian()\n",
    "family_GLM = sm.families.Binomial()\n",
    "\n",
    "# Define and fit a linear regression model\n",
    "model_LM = glm(formula = formula, data = crab, family = family_LM).fit()\n",
    "print(model_LM.summary())\n",
    "\n",
    "# Define and fit a logistic regression model\n",
    "model_GLM = glm(formula = formula, data = crab, family = family_GLM).fit()\n",
    "print(model_GLM.summary())"
   ]
  },
  {
   "cell_type": "markdown",
   "metadata": {},
   "source": [
    "**Defining model formula should look familiar from linear regression. In GLMs you have to pay special attention to the family argument which specifies the probability distribution of the response.**"
   ]
  },
  {
   "cell_type": "code",
   "execution_count": 37,
   "metadata": {
    "ExecuteTime": {
     "end_time": "2021-11-06T11:02:59.842411Z",
     "start_time": "2021-11-06T11:02:59.257495Z"
    },
    "scrolled": true
   },
   "outputs": [],
   "source": [
    "crab_train = crab[:150]\n",
    "crab_test = crab[150:]"
   ]
  },
  {
   "cell_type": "code",
   "execution_count": 38,
   "metadata": {
    "ExecuteTime": {
     "end_time": "2021-11-06T11:03:02.851642Z",
     "start_time": "2021-11-06T11:03:01.589932Z"
    }
   },
   "outputs": [
    {
     "data": {
      "text/html": [
       "<div>\n",
       "<style scoped>\n",
       "    .dataframe tbody tr th:only-of-type {\n",
       "        vertical-align: middle;\n",
       "    }\n",
       "\n",
       "    .dataframe tbody tr th {\n",
       "        vertical-align: top;\n",
       "    }\n",
       "\n",
       "    .dataframe thead th {\n",
       "        text-align: right;\n",
       "    }\n",
       "</style>\n",
       "<table border=\"1\" class=\"dataframe\">\n",
       "  <thead>\n",
       "    <tr style=\"text-align: right;\">\n",
       "      <th></th>\n",
       "      <th>crab</th>\n",
       "      <th>sat</th>\n",
       "      <th>y</th>\n",
       "      <th>weight</th>\n",
       "      <th>width</th>\n",
       "      <th>color</th>\n",
       "      <th>spine</th>\n",
       "      <th>width_C</th>\n",
       "      <th>Pred_LM</th>\n",
       "      <th>Pred_GLM</th>\n",
       "    </tr>\n",
       "  </thead>\n",
       "  <tbody>\n",
       "    <tr>\n",
       "      <th>150</th>\n",
       "      <td>151</td>\n",
       "      <td>4</td>\n",
       "      <td>1</td>\n",
       "      <td>2.85</td>\n",
       "      <td>27.6</td>\n",
       "      <td>2</td>\n",
       "      <td>3</td>\n",
       "      <td>[27.25, 28.25)</td>\n",
       "      <td>0.760714</td>\n",
       "      <td>0.797824</td>\n",
       "    </tr>\n",
       "    <tr>\n",
       "      <th>151</th>\n",
       "      <td>152</td>\n",
       "      <td>0</td>\n",
       "      <td>0</td>\n",
       "      <td>2.30</td>\n",
       "      <td>26.2</td>\n",
       "      <td>2</td>\n",
       "      <td>3</td>\n",
       "      <td>[25.25, 26.25)</td>\n",
       "      <td>0.632571</td>\n",
       "      <td>0.662985</td>\n",
       "    </tr>\n",
       "    <tr>\n",
       "      <th>152</th>\n",
       "      <td>153</td>\n",
       "      <td>0</td>\n",
       "      <td>0</td>\n",
       "      <td>2.00</td>\n",
       "      <td>23.1</td>\n",
       "      <td>2</td>\n",
       "      <td>1</td>\n",
       "      <td>[0.0, 23.25)</td>\n",
       "      <td>0.348826</td>\n",
       "      <td>0.296339</td>\n",
       "    </tr>\n",
       "    <tr>\n",
       "      <th>153</th>\n",
       "      <td>154</td>\n",
       "      <td>0</td>\n",
       "      <td>0</td>\n",
       "      <td>1.60</td>\n",
       "      <td>22.9</td>\n",
       "      <td>2</td>\n",
       "      <td>1</td>\n",
       "      <td>[0.0, 23.25)</td>\n",
       "      <td>0.330520</td>\n",
       "      <td>0.276031</td>\n",
       "    </tr>\n",
       "    <tr>\n",
       "      <th>154</th>\n",
       "      <td>155</td>\n",
       "      <td>0</td>\n",
       "      <td>0</td>\n",
       "      <td>1.90</td>\n",
       "      <td>24.5</td>\n",
       "      <td>4</td>\n",
       "      <td>3</td>\n",
       "      <td>[24.25, 25.25)</td>\n",
       "      <td>0.476969</td>\n",
       "      <td>0.457933</td>\n",
       "    </tr>\n",
       "  </tbody>\n",
       "</table>\n",
       "</div>"
      ],
      "text/plain": [
       "     crab  sat  y  weight  width  color  spine         width_C   Pred_LM  \\\n",
       "150   151    4  1    2.85   27.6      2      3  [27.25, 28.25)  0.760714   \n",
       "151   152    0  0    2.30   26.2      2      3  [25.25, 26.25)  0.632571   \n",
       "152   153    0  0    2.00   23.1      2      1    [0.0, 23.25)  0.348826   \n",
       "153   154    0  0    1.60   22.9      2      1    [0.0, 23.25)  0.330520   \n",
       "154   155    0  0    1.90   24.5      4      3  [24.25, 25.25)  0.476969   \n",
       "\n",
       "     Pred_GLM  \n",
       "150  0.797824  \n",
       "151  0.662985  \n",
       "152  0.296339  \n",
       "153  0.276031  \n",
       "154  0.457933  "
      ]
     },
     "execution_count": 38,
     "metadata": {},
     "output_type": "execute_result"
    }
   ],
   "source": [
    "# View test set\n",
    "#print(crab_test)\n",
    "\n",
    "# Compute estimated probabilities for linear model: pred_lm\n",
    "Pred_LM = model_LM.predict(crab_test)\n",
    "\n",
    "# Compute estimated probabilities for GLM model: pred_glm\n",
    "Pred_GLM = model_GLM.predict(crab_test)\n",
    "\n",
    "# Create dataframe of predictions for linear and GLM model: predictions\n",
    "predictions = pd.DataFrame({'Pred_LM': Pred_LM, 'Pred_GLM': Pred_GLM})\n",
    "\n",
    "# Concatenate test sample and predictions and view the results\n",
    "all_data = pd.concat([crab_test, predictions], axis = 1)\n",
    "all_data.head()"
   ]
  },
  {
   "cell_type": "markdown",
   "metadata": {},
   "source": [
    "**Comparing the predicted values for both models, the GLM model provides values within the (0,1) range as is required by the binary response variable.**"
   ]
  },
  {
   "cell_type": "code",
   "execution_count": 39,
   "metadata": {
    "ExecuteTime": {
     "end_time": "2021-11-06T11:03:05.722465Z",
     "start_time": "2021-11-06T11:03:05.477957Z"
    }
   },
   "outputs": [],
   "source": [
    "wells = pd.read_csv('wells.csv')"
   ]
  },
  {
   "cell_type": "code",
   "execution_count": 40,
   "metadata": {
    "ExecuteTime": {
     "end_time": "2021-11-06T11:03:07.062692Z",
     "start_time": "2021-11-06T11:03:06.765790Z"
    }
   },
   "outputs": [],
   "source": [
    "# Define the formula the the logistic model\n",
    "model_formula = 'switch ~ distance100'\n",
    "\n",
    "# Fit the model\n",
    "wells_fit = glm(formula = model_formula, \n",
    "                 data = wells, \n",
    "                 family = sm.families.Binomial()).fit()"
   ]
  },
  {
   "cell_type": "code",
   "execution_count": 41,
   "metadata": {
    "ExecuteTime": {
     "end_time": "2021-11-06T11:03:08.270230Z",
     "start_time": "2021-11-06T11:03:08.117976Z"
    }
   },
   "outputs": [
    {
     "name": "stdout",
     "output_type": "stream",
     "text": [
      "                 Generalized Linear Model Regression Results                  \n",
      "==============================================================================\n",
      "Dep. Variable:                 switch   No. Observations:                 3010\n",
      "Model:                            GLM   Df Residuals:                     3008\n",
      "Model Family:                Binomial   Df Model:                            1\n",
      "Link Function:                  logit   Scale:                          1.0000\n",
      "Method:                          IRLS   Log-Likelihood:                -2030.6\n",
      "Date:                Sat, 06 Nov 2021   Deviance:                       4061.3\n",
      "Time:                        16:33:08   Pearson chi2:                 3.01e+03\n",
      "No. Iterations:                     4   Pseudo R-squ. (CS):            0.01409\n",
      "Covariance Type:            nonrobust                                         \n",
      "===============================================================================\n",
      "                  coef    std err          z      P>|z|      [0.025      0.975]\n",
      "-------------------------------------------------------------------------------\n",
      "Intercept       0.6108      0.060     10.104      0.000       0.492       0.729\n",
      "distance100    -0.6291      0.098     -6.446      0.000      -0.820      -0.438\n",
      "===============================================================================\n"
     ]
    }
   ],
   "source": [
    "# View the results of the wells_fit model\n",
    "print(wells_fit.summary())"
   ]
  },
  {
   "cell_type": "markdown",
   "metadata": {},
   "source": [
    "#### Extracting parameter estimates"
   ]
  },
  {
   "cell_type": "code",
   "execution_count": 42,
   "metadata": {
    "ExecuteTime": {
     "end_time": "2021-11-06T11:03:10.435192Z",
     "start_time": "2021-11-06T11:03:10.353418Z"
    }
   },
   "outputs": [
    {
     "name": "stdout",
     "output_type": "stream",
     "text": [
      "Intercept = 0.6108118803818954\n",
      "Slope = -0.6290808479557684\n",
      "                    0         1\n",
      "Intercept    0.492327  0.729297\n",
      "distance100 -0.820345 -0.437816\n"
     ]
    }
   ],
   "source": [
    "# Extract coefficients from the fitted model wells_fit\n",
    "intercept, slope = wells_fit.params\n",
    "\n",
    "# Print coefficients\n",
    "print('Intercept =', intercept)\n",
    "print('Slope =', slope)\n",
    "\n",
    "# Extract and print confidence intervals\n",
    "print(wells_fit.conf_int())"
   ]
  },
  {
   "cell_type": "markdown",
   "metadata": {
    "ExecuteTime": {
     "end_time": "2021-11-06T07:53:57.192832Z",
     "start_time": "2021-11-06T07:53:56.889781Z"
    }
   },
   "source": [
    "## Modeling Binary Data"
   ]
  },
  {
   "cell_type": "markdown",
   "metadata": {
    "ExecuteTime": {
     "end_time": "2021-11-06T07:54:20.182315Z",
     "start_time": "2021-11-06T07:54:20.127347Z"
    }
   },
   "source": [
    "### Fit logistic regression"
   ]
  },
  {
   "cell_type": "markdown",
   "metadata": {},
   "source": []
  },
  {
   "cell_type": "code",
   "execution_count": 43,
   "metadata": {
    "ExecuteTime": {
     "end_time": "2021-11-06T11:03:20.501977Z",
     "start_time": "2021-11-06T11:03:20.455003Z"
    }
   },
   "outputs": [
    {
     "name": "stdout",
     "output_type": "stream",
     "text": [
      "                 Generalized Linear Model Regression Results                  \n",
      "==============================================================================\n",
      "Dep. Variable:                 switch   No. Observations:                 3010\n",
      "Model:                            GLM   Df Residuals:                     3008\n",
      "Model Family:                Binomial   Df Model:                            1\n",
      "Link Function:                  logit   Scale:                          1.0000\n",
      "Method:                          IRLS   Log-Likelihood:                -1997.3\n",
      "Date:                Sat, 06 Nov 2021   Deviance:                       3994.6\n",
      "Time:                        16:33:20   Pearson chi2:                 3.03e+03\n",
      "No. Iterations:                     4   Pseudo R-squ. (CS):            0.03570\n",
      "Covariance Type:            nonrobust                                         \n",
      "==============================================================================\n",
      "                 coef    std err          z      P>|z|      [0.025      0.975]\n",
      "------------------------------------------------------------------------------\n",
      "Intercept     -0.3058      0.070     -4.340      0.000      -0.444      -0.168\n",
      "arsenic        0.3799      0.039      9.837      0.000       0.304       0.456\n",
      "==============================================================================\n"
     ]
    }
   ],
   "source": [
    "# Fit logistic regression model\n",
    "model_GLM = glm(formula = 'switch ~ arsenic',\n",
    "                data = wells,\n",
    "                family = sm.families.Binomial()).fit()\n",
    "\n",
    "# Print model summary\n",
    "print(model_GLM.summary())"
   ]
  },
  {
   "cell_type": "markdown",
   "metadata": {},
   "source": [
    "### Coefficients in terms of odds"
   ]
  },
  {
   "cell_type": "code",
   "execution_count": 44,
   "metadata": {
    "ExecuteTime": {
     "end_time": "2021-11-06T11:03:22.616956Z",
     "start_time": "2021-11-06T11:03:22.478051Z"
    }
   },
   "outputs": [
    {
     "name": "stdout",
     "output_type": "stream",
     "text": [
      "Model coefficients: \n",
      " Intercept      0.610812\n",
      "distance100   -0.629081\n",
      "dtype: float64\n",
      "Odds: \n",
      " Intercept      1.841926\n",
      "distance100    0.533082\n",
      "dtype: float64\n"
     ]
    }
   ],
   "source": [
    "# Fit logistic regression model\n",
    "model_GLM = glm(formula = 'switch ~ distance100',\n",
    "                data = wells,\n",
    "                family = sm.families.Binomial()).fit()\n",
    "\n",
    "# Extract model coefficients\n",
    "print('Model coefficients: \\n', model_GLM.params)\n",
    "\n",
    "# Compute the multiplicative effect on the odds\n",
    "print('Odds: \\n', np.exp(model_GLM.params))"
   ]
  },
  {
   "cell_type": "code",
   "execution_count": 45,
   "metadata": {
    "ExecuteTime": {
     "end_time": "2021-11-06T11:03:24.038307Z",
     "start_time": "2021-11-06T11:03:23.849053Z"
    }
   },
   "outputs": [
    {
     "name": "stdout",
     "output_type": "stream",
     "text": [
      "Estimated probability at x = 1.5:  0.4176\n",
      "The rate of change in probability:  -0.153\n"
     ]
    }
   ],
   "source": [
    "# Define x at 1.5\n",
    "x = 1.5\n",
    "\n",
    "wells_GLM = glm(formula = 'switch ~ distance100',\n",
    "                data = wells,\n",
    "                family = sm.families.Binomial()).fit()\n",
    "\n",
    "# Extract intercept & slope from the fitted model\n",
    "intercept, slope = wells_GLM.params\n",
    "\n",
    "# Compute and print the estimated probability\n",
    "est_prob = np.exp(intercept + slope*x)/(1+np.exp(intercept + slope*x))\n",
    "print('Estimated probability at x = 1.5: ', round(est_prob, 4))\n",
    "\n",
    "# Compute the slope of the tangent line for parameter beta at x\n",
    "slope_tan = slope * est_prob * (1 - est_prob)\n",
    "print('The rate of change in probability: ', round(slope_tan,3))"
   ]
  },
  {
   "cell_type": "markdown",
   "metadata": {},
   "source": [
    "**So at the `distance100` value of 1.5 the estimated probability is 0.419 with the rate of change in the estimated probability of negative 0.1514. This means that for every `100` m increase in `distance100` at the `distance100` value of 1.5 the probability of well switch decreases by 15,14%.**"
   ]
  },
  {
   "cell_type": "markdown",
   "metadata": {},
   "source": [
    "### Statistical significance"
   ]
  },
  {
   "cell_type": "code",
   "execution_count": 46,
   "metadata": {
    "ExecuteTime": {
     "end_time": "2021-11-06T11:29:13.385295Z",
     "start_time": "2021-11-06T11:29:12.942727Z"
    }
   },
   "outputs": [],
   "source": [
    "crab = pd.read_csv('crab.csv')"
   ]
  },
  {
   "cell_type": "code",
   "execution_count": 47,
   "metadata": {
    "ExecuteTime": {
     "end_time": "2021-11-06T11:30:44.416498Z",
     "start_time": "2021-11-06T11:30:44.233011Z"
    }
   },
   "outputs": [
    {
     "name": "stdout",
     "output_type": "stream",
     "text": [
      "                 Generalized Linear Model Regression Results                  \n",
      "==============================================================================\n",
      "Dep. Variable:                      y   No. Observations:                  173\n",
      "Model:                            GLM   Df Residuals:                      171\n",
      "Model Family:                Binomial   Df Model:                            1\n",
      "Link Function:                  logit   Scale:                          1.0000\n",
      "Method:                          IRLS   Log-Likelihood:                -97.226\n",
      "Date:                Sat, 06 Nov 2021   Deviance:                       194.45\n",
      "Time:                        17:00:44   Pearson chi2:                     165.\n",
      "No. Iterations:                     4   Pseudo R-squ. (CS):             0.1655\n",
      "Covariance Type:            nonrobust                                         \n",
      "==============================================================================\n",
      "                 coef    std err          z      P>|z|      [0.025      0.975]\n",
      "------------------------------------------------------------------------------\n",
      "Intercept    -12.3508      2.629     -4.698      0.000     -17.503      -7.199\n",
      "width          0.4972      0.102      4.887      0.000       0.298       0.697\n",
      "==============================================================================\n"
     ]
    }
   ],
   "source": [
    "# Fit logistic regression and save as crab_GLM\n",
    "crab_GLM = glm('y ~ width', data = crab, family = sm.families.Binomial()).fit()\n",
    "\n",
    "# Print model summary\n",
    "print(crab_GLM.summary())"
   ]
  },
  {
   "cell_type": "markdown",
   "metadata": {},
   "source": [
    "**Yes, the estimate is positive meaning that the fit is upward sloping which means that width increases the chance of a satellite.**"
   ]
  },
  {
   "cell_type": "markdown",
   "metadata": {},
   "source": [
    "### Computing Wald statistic"
   ]
  },
  {
   "cell_type": "code",
   "execution_count": 48,
   "metadata": {
    "ExecuteTime": {
     "end_time": "2021-11-06T11:50:26.686066Z",
     "start_time": "2021-11-06T11:50:26.344323Z"
    }
   },
   "outputs": [
    {
     "name": "stdout",
     "output_type": "stream",
     "text": [
      "           Intercept     width\n",
      "Intercept   6.910158 -0.266848\n",
      "width      -0.266848  0.010350\n",
      "SE:  0.1017\n",
      "Wald statistic:  4.8875\n"
     ]
    }
   ],
   "source": [
    "# Extract coefficients\n",
    "intercept, slope = crab_GLM.params\n",
    "\n",
    "# Estimated covariance matrix: crab_cov\n",
    "crab_cov = crab_GLM.cov_params()\n",
    "print(crab_cov)\n",
    "\n",
    "# Compute standard error (SE): std_error\n",
    "std_error = np.sqrt(crab_cov.loc['width', 'width'])\n",
    "print('SE: ', round(std_error, 4))\n",
    "\n",
    "# Compute Wald statistic\n",
    "wald_stat = slope/std_error\n",
    "print('Wald statistic: ', round(wald_stat,4))"
   ]
  },
  {
   "cell_type": "markdown",
   "metadata": {},
   "source": [
    "**With the Wald statistic at 4.887 we can conclude that the width variable is statistically significant if we apply the rule of thumb cut-off value of 2.**"
   ]
  },
  {
   "cell_type": "code",
   "execution_count": 53,
   "metadata": {
    "ExecuteTime": {
     "end_time": "2021-11-06T12:25:20.726386Z",
     "start_time": "2021-11-06T12:25:20.703398Z"
    }
   },
   "outputs": [
    {
     "name": "stdout",
     "output_type": "stream",
     "text": [
      "                   0         1\n",
      "Intercept -17.503010 -7.198625\n",
      "width       0.297833  0.696629\n"
     ]
    }
   ],
   "source": [
    "# Extract and print confidence intervals\n",
    "print(crab_GLM.conf_int())"
   ]
  },
  {
   "cell_type": "code",
   "execution_count": 52,
   "metadata": {
    "ExecuteTime": {
     "end_time": "2021-11-06T12:25:03.835611Z",
     "start_time": "2021-11-06T12:25:02.996938Z"
    }
   },
   "outputs": [
    {
     "name": "stdout",
     "output_type": "stream",
     "text": [
      "                      0         1\n",
      "Intercept  2.503452e-08  0.000748\n",
      "width      1.346936e+00  2.006975\n"
     ]
    }
   ],
   "source": [
    "# Compute confidence intervals for the odds\n",
    "print(np.exp(crab_GLM.conf_int()))"
   ]
  },
  {
   "cell_type": "markdown",
   "metadata": {},
   "source": [
    "**We can conclude that a 1 cm increase in width of a female crab has at least 35% increase odds (from lower bound) and at most it doubles the odds (from upper bound) that a satellite crab is present.**"
   ]
  },
  {
   "cell_type": "markdown",
   "metadata": {},
   "source": [
    "### Visualize model fit using regplot()\n"
   ]
  },
  {
   "cell_type": "code",
   "execution_count": 55,
   "metadata": {
    "ExecuteTime": {
     "end_time": "2021-11-06T12:36:07.123558Z",
     "start_time": "2021-11-06T12:36:02.981509Z"
    }
   },
   "outputs": [
    {
     "data": {
      "image/png": "[encoded data removed]",
      "text/plain": [
       "<Figure size 432x288 with 1 Axes>"
      ]
     },
     "metadata": {
      "needs_background": "light"
     },
     "output_type": "display_data"
    }
   ],
   "source": [
    "# Plot distance and switch and add overlay with the logistic fit\n",
    "sns.regplot(x = 'arsenic', y = 'switch', \n",
    "            y_jitter = 0.03,\n",
    "            data = wells, \n",
    "            logistic = True,\n",
    "            ci = None)\n",
    "\n",
    "# Display the plot\n",
    "plt.show()"
   ]
  },
  {
   "cell_type": "markdown",
   "metadata": {},
   "source": [
    "### Compute predictions"
   ]
  },
  {
   "cell_type": "markdown",
   "metadata": {},
   "source": [
    "Often, in practice, we are interested in using the fitted logistic regression to estimate the probabilities and construct confidence intervals for these estimates. Using the wells dataset and the model 'switch ~ arsenic' let's assume you have new observations wells_test which were not part of the training sample and you wish to predict the probability of switching to the nearest safe well."
   ]
  },
  {
   "cell_type": "code",
   "execution_count": 93,
   "metadata": {
    "ExecuteTime": {
     "end_time": "2021-11-06T12:57:51.496234Z",
     "start_time": "2021-11-06T12:57:51.465389Z"
    }
   },
   "outputs": [],
   "source": [
    "wells_train, wells_test = train_test_split(wells, test_size=0.0665, random_state = 111)"
   ]
  },
  {
   "cell_type": "code",
   "execution_count": 95,
   "metadata": {
    "ExecuteTime": {
     "end_time": "2021-11-06T12:59:24.176133Z",
     "start_time": "2021-11-06T12:59:24.006546Z"
    }
   },
   "outputs": [
    {
     "name": "stdout",
     "output_type": "stream",
     "text": [
      "      switch  arsenic  prediction\n",
      "1681       1     2.42    0.608834\n",
      "1354       1     2.29    0.425674\n",
      "2102       1     1.23    0.601674\n",
      "2954       1     3.66    0.612492\n",
      "794        0     2.95    0.475672\n"
     ]
    }
   ],
   "source": [
    "# Compute predictions for the test sample wells_test and save as prediction\n",
    "prediction = wells_fit.predict(exog = wells_test)\n",
    "\n",
    "# Add prediction to the existing data frame wells_test and assign column name prediction\n",
    "wells_test['prediction'] = prediction\n",
    "\n",
    "# Examine the first 5 computed predictions\n",
    "print(wells_test[['switch', 'arsenic', 'prediction']].head())"
   ]
  },
  {
   "cell_type": "markdown",
   "metadata": {},
   "source": [
    "### Compute confusion matrix"
   ]
  },
  {
   "cell_type": "code",
   "execution_count": 96,
   "metadata": {
    "ExecuteTime": {
     "end_time": "2021-11-06T13:32:36.321449Z",
     "start_time": "2021-11-06T13:32:34.832507Z"
    }
   },
   "outputs": [
    {
     "name": "stdout",
     "output_type": "stream",
     "text": [
      "Predicted   0    1  All\n",
      "Actual                 \n",
      "0          15   61   76\n",
      "1          15  110  125\n",
      "All        30  171  201\n"
     ]
    }
   ],
   "source": [
    "# Define the cutoff\n",
    "cutoff = 0.5\n",
    "\n",
    "# Compute class predictions: y_prediction\n",
    "y_prediction = np.where(prediction > cutoff, 1, 0)\n",
    "\n",
    "# Assign actual class labels from the test sample to y_actual\n",
    "y_actual = wells_test['switch']\n",
    "\n",
    "# Compute and print confusion matrix using crosstab function\n",
    "conf_mat = pd.crosstab(y_actual, y_prediction, \n",
    "                       rownames=['Actual'], \n",
    "                       colnames=['Predicted'], \n",
    "                       margins = True)\n",
    "                      \n",
    "# Print the confusion matrix\n",
    "print(conf_mat)"
   ]
  },
  {
   "cell_type": "markdown",
   "metadata": {},
   "source": [
    "**This simple model has 129 errors by inccorectly predicting switching of the well and 50 error by incorrectly predicting not switching of the well.**"
   ]
  },
  {
   "cell_type": "markdown",
   "metadata": {},
   "source": [
    "## Modeling Count Data"
   ]
  },
  {
   "cell_type": "code",
   "execution_count": 97,
   "metadata": {
    "ExecuteTime": {
     "end_time": "2021-11-06T13:44:29.028993Z",
     "start_time": "2021-11-06T13:44:20.990222Z"
    }
   },
   "outputs": [
    {
     "data": {
      "image/png": "[encoded data removed]",
      "text/plain": [
       "<Figure size 432x288 with 1 Axes>"
      ]
     },
     "metadata": {
      "needs_background": "light"
     },
     "output_type": "display_data"
    }
   ],
   "source": [
    "# Plot sat variable\n",
    "sns.distplot(crab['sat'])\n",
    "\n",
    "# Display the plot\n",
    "plt.show()"
   ]
  },
  {
   "cell_type": "markdown",
   "metadata": {},
   "source": [
    "### Fitting a Poisson regression"
   ]
  },
  {
   "cell_type": "code",
   "execution_count": 100,
   "metadata": {
    "ExecuteTime": {
     "end_time": "2021-11-06T14:58:37.005777Z",
     "start_time": "2021-11-06T14:58:35.551983Z"
    }
   },
   "outputs": [
    {
     "name": "stdout",
     "output_type": "stream",
     "text": [
      "                 Generalized Linear Model Regression Results                  \n",
      "==============================================================================\n",
      "Dep. Variable:                    sat   No. Observations:                  173\n",
      "Model:                            GLM   Df Residuals:                      171\n",
      "Model Family:                 Poisson   Df Model:                            1\n",
      "Link Function:                    log   Scale:                          1.0000\n",
      "Method:                          IRLS   Log-Likelihood:                -458.08\n",
      "Date:                Sat, 06 Nov 2021   Deviance:                       560.87\n",
      "Time:                        20:28:36   Pearson chi2:                     536.\n",
      "No. Iterations:                     5   Pseudo R-squ. (CS):             0.3402\n",
      "Covariance Type:            nonrobust                                         \n",
      "==============================================================================\n",
      "                 coef    std err          z      P>|z|      [0.025      0.975]\n",
      "------------------------------------------------------------------------------\n",
      "Intercept     -0.4284      0.179     -2.394      0.017      -0.779      -0.078\n",
      "weight         0.5893      0.065      9.064      0.000       0.462       0.717\n",
      "==============================================================================\n"
     ]
    }
   ],
   "source": [
    "# Fit Poisson regression of sat by weight\n",
    "model = glm('sat ~ weight', data = crab, family = sm.families.Poisson()).fit()\n",
    "\n",
    "# Display model results\n",
    "print(model.summary())"
   ]
  },
  {
   "cell_type": "markdown",
   "metadata": {},
   "source": [
    "### Estimate parameter lambda"
   ]
  },
  {
   "cell_type": "code",
   "execution_count": 105,
   "metadata": {
    "ExecuteTime": {
     "end_time": "2021-11-06T14:59:40.580511Z",
     "start_time": "2021-11-06T14:59:40.528526Z"
    }
   },
   "outputs": [
    {
     "name": "stdout",
     "output_type": "stream",
     "text": [
      "Average width:  26.299\n",
      "Estimated mean of y at average width:  3504688.54 3\n"
     ]
    }
   ],
   "source": [
    "# Compute average crab width\n",
    "mean_width = np.mean(crab['width'])\n",
    "\n",
    "# Print the compute mean\n",
    "print('Average width: ', round(mean_width, 3))\n",
    "\n",
    "# Extract coefficients\n",
    "intercept, slope = model.params\n",
    "\n",
    "# Compute the estimated mean of y (lambda) at the average width\n",
    "est_lambda = np.exp(intercept) * np.exp(slope * mean_width)\n",
    "\n",
    "# Print estimated mean of y\n",
    "print('Estimated mean of y at average width: ', round(est_lambda,2), 3)"
   ]
  },
  {
   "cell_type": "markdown",
   "metadata": {},
   "source": [
    "**The Poisson regression model states that at the mean value of female crab width of 26.3 the expected mean number of satellite crabs present is 2.74.**"
   ]
  },
  {
   "cell_type": "code",
   "execution_count": 106,
   "metadata": {
    "ExecuteTime": {
     "end_time": "2021-11-07T07:06:58.223219Z",
     "start_time": "2021-11-07T07:06:50.999245Z"
    }
   },
   "outputs": [
    {
     "name": "stdout",
     "output_type": "stream",
     "text": [
      "Sample mean: 2.919\n",
      "Sample variance: 9.855\n",
      "Ratio: 3.376\n"
     ]
    }
   ],
   "source": [
    "# Compute and print sample mean of the number of satellites: sat_mean\n",
    "sat_mean = np.mean(crab.sat)\n",
    "\n",
    "print('Sample mean:', round(sat_mean, 3))\n",
    "\n",
    "# Compute and print sample variance of the number of satellites: sat_var\n",
    "sat_var= np.var(crab.sat)\n",
    "print('Sample variance:', round(sat_var, 3))\n",
    "\n",
    "# Compute ratio of variance to mean\n",
    "print('Ratio:', round(sat_var/sat_mean, 3))"
   ]
  },
  {
   "cell_type": "markdown",
   "metadata": {},
   "source": [
    "**Notice that the variance is 3.37 times the mean. This gives an indication that Poisson GLM will not provide the most accurate fit to the data.**"
   ]
  },
  {
   "cell_type": "markdown",
   "metadata": {},
   "source": [
    "### Computing expected number of counts"
   ]
  },
  {
   "cell_type": "code",
   "execution_count": 109,
   "metadata": {
    "ExecuteTime": {
     "end_time": "2021-11-07T07:14:35.762135Z",
     "start_time": "2021-11-07T07:14:33.885987Z"
    }
   },
   "outputs": [
    {
     "name": "stdout",
     "output_type": "stream",
     "text": [
      "Expected zero counts given mean of  2.919 is  5.4\n",
      "Actual zero counts in the sample:  35.8\n"
     ]
    }
   ],
   "source": [
    "# Expected number of zero counts\n",
    "exp_zero_cnt = ((sat_mean**0)*np.exp(-sat_mean))/math.factorial(0)\n",
    "\n",
    "# Print exp_zero_counts\n",
    "print('Expected zero counts given mean of ', round(sat_mean,3), \n",
    "      'is ', round(exp_zero_cnt,3)*100)\n",
    "\n",
    "# Number of zero counts in sat variable\n",
    "actual_zero_ant = sum(crab['sat']  == 0)\n",
    "\n",
    "# Number of observations in crab dataset\n",
    "num_obs = len(crab)\n",
    "\n",
    "# Print the percentage of zero count observations in the sample\n",
    "print('Actual zero counts in the sample: ', round(actual_zero_ant / num_obs,3)*100)"
   ]
  },
  {
   "cell_type": "markdown",
   "metadata": {
    "ExecuteTime": {
     "end_time": "2021-11-07T07:14:48.524850Z",
     "start_time": "2021-11-07T07:14:48.361886Z"
    }
   },
   "source": [
    "**Notice that given the mean parametar there should be 5.4% observations with zero count, but in the crab sample there are 35.8% observations with zero count, indicating the presence of overdispersion.**"
   ]
  },
  {
   "cell_type": "markdown",
   "metadata": {},
   "source": [
    "#### Checking for overdispersion"
   ]
  },
  {
   "cell_type": "code",
   "execution_count": 113,
   "metadata": {
    "ExecuteTime": {
     "end_time": "2021-11-07T07:18:58.169748Z",
     "start_time": "2021-11-07T07:18:58.134770Z"
    }
   },
   "outputs": [
    {
     "name": "stdout",
     "output_type": "stream",
     "text": [
      "3.133893126616755\n"
     ]
    }
   ],
   "source": [
    "# Compute and print the overdispersion approximation\n",
    "crab_pois = glm(formula = 'sat ~ weight', data = crab, family = sm.families.Poisson()).fit()\n",
    "print(crab_pois.pearson_chi2 / crab_pois.df_resid)"
   ]
  },
  {
   "cell_type": "markdown",
   "metadata": {},
   "source": [
    "**There is overdispersion present since the ratio is greater than 1, meaning that the coefficient estimates should not be interpreted directly.**"
   ]
  },
  {
   "cell_type": "markdown",
   "metadata": {},
   "source": [
    "### Fitting negative binomial"
   ]
  },
  {
   "cell_type": "code",
   "execution_count": 115,
   "metadata": {
    "ExecuteTime": {
     "end_time": "2021-11-07T07:21:36.999023Z",
     "start_time": "2021-11-07T07:21:35.994250Z"
    }
   },
   "outputs": [
    {
     "name": "stdout",
     "output_type": "stream",
     "text": [
      "                 Generalized Linear Model Regression Results                  \n",
      "==============================================================================\n",
      "Dep. Variable:                    sat   No. Observations:                  173\n",
      "Model:                            GLM   Df Residuals:                      171\n",
      "Model Family:                 Poisson   Df Model:                            1\n",
      "Link Function:                    log   Scale:                          1.0000\n",
      "Method:                          IRLS   Log-Likelihood:                -458.08\n",
      "Date:                Sun, 07 Nov 2021   Deviance:                       560.87\n",
      "Time:                        12:51:36   Pearson chi2:                     536.\n",
      "No. Iterations:                     5   Pseudo R-squ. (CS):             0.3402\n",
      "Covariance Type:            nonrobust                                         \n",
      "==============================================================================\n",
      "                 coef    std err          z      P>|z|      [0.025      0.975]\n",
      "------------------------------------------------------------------------------\n",
      "Intercept     -0.4284      0.179     -2.394      0.017      -0.779      -0.078\n",
      "weight         0.5893      0.065      9.064      0.000       0.462       0.717\n",
      "==============================================================================\n",
      "                 Generalized Linear Model Regression Results                  \n",
      "==============================================================================\n",
      "Dep. Variable:                    sat   No. Observations:                  173\n",
      "Model:                            GLM   Df Residuals:                      171\n",
      "Model Family:        NegativeBinomial   Df Model:                            1\n",
      "Link Function:                    log   Scale:                          1.0000\n",
      "Method:                          IRLS   Log-Likelihood:                -375.80\n",
      "Date:                Sun, 07 Nov 2021   Deviance:                       206.41\n",
      "Time:                        12:51:36   Pearson chi2:                     155.\n",
      "No. Iterations:                     6   Pseudo R-squ. (CS):             0.1015\n",
      "Covariance Type:            nonrobust                                         \n",
      "==============================================================================\n",
      "                 coef    std err          z      P>|z|      [0.025      0.975]\n",
      "------------------------------------------------------------------------------\n",
      "Intercept     -4.0323      1.129     -3.572      0.000      -6.245      -1.820\n",
      "width          0.1913      0.042      4.509      0.000       0.108       0.274\n",
      "==============================================================================\n"
     ]
    }
   ],
   "source": [
    "# Define the formula for the model fit\n",
    "formula = 'sat ~ width'\n",
    "\n",
    "# Fit the GLM negative binomial model using log link function\n",
    "crab_NB = glm(formula = formula, data = crab, \n",
    "\t\t\t\t  family = sm.families.NegativeBinomial()).fit()\n",
    "\n",
    "# Print Poisson model's summary\n",
    "print(crab_pois.summary())\n",
    "\n",
    "# Print the negative binomial model's summary\n",
    "print(crab_NB.summary())"
   ]
  },
  {
   "cell_type": "markdown",
   "metadata": {},
   "source": [
    "**Notice how standard error increased to 0.042, reflecting overdispersion which was not captured with the Poisson model.**"
   ]
  },
  {
   "cell_type": "markdown",
   "metadata": {},
   "source": [
    "#### Confidence intervals for negative Binomial model"
   ]
  },
  {
   "cell_type": "code",
   "execution_count": 116,
   "metadata": {
    "ExecuteTime": {
     "end_time": "2021-11-07T07:23:41.419300Z",
     "start_time": "2021-11-07T07:23:40.518712Z"
    }
   },
   "outputs": [
    {
     "name": "stdout",
     "output_type": "stream",
     "text": [
      "Confidence intervals for the Poisson model\n",
      "                  0         1\n",
      "Intercept -0.779112 -0.077699\n",
      "weight     0.461873  0.716735\n",
      "Confidence intervals for the Negative Binomial model\n",
      "                  0         1\n",
      "Intercept -6.244509 -1.820000\n",
      "width      0.108155  0.274472\n"
     ]
    }
   ],
   "source": [
    "# Compute confidence intervals for crab_Pois model\n",
    "print('Confidence intervals for the Poisson model')\n",
    "print(crab_pois.conf_int())\n",
    "\n",
    "# Compute confidence intervals for crab_NB model\n",
    "print('Confidence intervals for the Negative Binomial model')\n",
    "print(crab_NB.conf_int())"
   ]
  },
  {
   "cell_type": "markdown",
   "metadata": {},
   "source": [
    "**Notice how the confidence intervals are wider for the negative Binomial model compared to quite narrow confidence intervals for the Poisson model since it did not account for overdispersion.**"
   ]
  },
  {
   "cell_type": "markdown",
   "metadata": {},
   "source": [
    "### Plotting data and linear model fit"
   ]
  },
  {
   "cell_type": "code",
   "execution_count": 117,
   "metadata": {
    "ExecuteTime": {
     "end_time": "2021-11-07T08:24:47.033782Z",
     "start_time": "2021-11-07T08:24:39.388458Z"
    }
   },
   "outputs": [
    {
     "data": {
      "image/png": "[encoded data removed]",
      "text/plain": [
       "<Figure size 432x288 with 1 Axes>"
      ]
     },
     "metadata": {
      "needs_background": "light"
     },
     "output_type": "display_data"
    }
   ],
   "source": [
    "# Plot the data points and linear model fit\n",
    "sns.regplot('width', 'sat', data = crab,\n",
    "            y_jitter = 0.3,\n",
    "            fit_reg = True,\n",
    "            line_kws = {'color':'green', \n",
    "                        'label':'LM fit'})\n",
    "\n",
    "# Print plot\n",
    "plt.show()"
   ]
  },
  {
   "cell_type": "code",
   "execution_count": 120,
   "metadata": {
    "ExecuteTime": {
     "end_time": "2021-11-07T09:00:06.458081Z",
     "start_time": "2021-11-07T09:00:05.898049Z"
    }
   },
   "outputs": [
    {
     "data": {
      "image/png": "[encoded data removed]",
      "text/plain": [
       "<Figure size 576x360 with 1 Axes>"
      ]
     },
     "metadata": {
      "needs_background": "light"
     },
     "output_type": "display_data"
    }
   ],
   "source": [
    "# Add fitted values to the fit_values column of crab dataframe\n",
    "crab['fit_values'] = crab_pois.fittedvalues\n",
    "\n",
    "plt.subplots(figsize = (8,5))\n",
    "\n",
    "# Plot data points\n",
    "sns.regplot('width', 'sat', data = crab,\n",
    "            y_jitter = 0.3,\n",
    "            fit_reg = True, \n",
    "            line_kws = {'color':'green', \n",
    "                        'label':'LM fit'})\n",
    "\n",
    "# Poisson regression fitted values\n",
    "sns.scatterplot('width', 'fit_values', data = crab,\n",
    "           color = 'red', label = 'Poisson')\n",
    "\n",
    "# Print plot          \n",
    "plt.show()"
   ]
  },
  {
   "cell_type": "markdown",
   "metadata": {},
   "source": [
    "**Great, now we can compare both fits on one graph! Similary as for the model with weight variable the linear and Poisson fits are close in the mid range of width values, but diverge on smaller and larger values.**"
   ]
  },
  {
   "cell_type": "markdown",
   "metadata": {},
   "source": [
    "## Multivariable Logistic Regression"
   ]
  },
  {
   "cell_type": "code",
   "execution_count": 121,
   "metadata": {
    "ExecuteTime": {
     "end_time": "2021-11-07T09:15:29.542306Z",
     "start_time": "2021-11-07T09:15:27.794999Z"
    }
   },
   "outputs": [
    {
     "name": "stdout",
     "output_type": "stream",
     "text": [
      "                 Generalized Linear Model Regression Results                  \n",
      "==============================================================================\n",
      "Dep. Variable:                      y   No. Observations:                  173\n",
      "Model:                            GLM   Df Residuals:                      170\n",
      "Model Family:                Binomial   Df Model:                            2\n",
      "Link Function:                  logit   Scale:                          1.0000\n",
      "Method:                          IRLS   Log-Likelihood:                -94.561\n",
      "Date:                Sun, 07 Nov 2021   Deviance:                       189.12\n",
      "Time:                        14:45:29   Pearson chi2:                     170.\n",
      "No. Iterations:                     5   Pseudo R-squ. (CS):             0.1909\n",
      "Covariance Type:            nonrobust                                         \n",
      "==============================================================================\n",
      "                 coef    std err          z      P>|z|      [0.025      0.975]\n",
      "------------------------------------------------------------------------------\n",
      "Intercept    -10.0708      2.807     -3.588      0.000     -15.572      -4.569\n",
      "width          0.4583      0.104      4.406      0.000       0.254       0.662\n",
      "color         -0.5090      0.224     -2.276      0.023      -0.947      -0.071\n",
      "==============================================================================\n"
     ]
    }
   ],
   "source": [
    "# Define model formula\n",
    "formula = 'y ~ width + color'\n",
    "\n",
    "# Fit GLM\n",
    "model = glm(formula = formula, data = crab, family = sm.families.Binomial()).fit()\n",
    "\n",
    "# Print model summary\n",
    "print(model.summary())"
   ]
  },
  {
   "cell_type": "markdown",
   "metadata": {},
   "source": [
    "**From model summary note that for each one-level increase in color of the female crab, the estimated odds multiply by exp(-0.509)=0.6, i.e. the odds for dark crabs are 60% than those for medium crabs.**"
   ]
  },
  {
   "cell_type": "code",
   "execution_count": 122,
   "metadata": {
    "ExecuteTime": {
     "end_time": "2021-11-07T09:18:58.920681Z",
     "start_time": "2021-11-07T09:18:58.574763Z"
    },
    "scrolled": true
   },
   "outputs": [
    {
     "name": "stdout",
     "output_type": "stream",
     "text": [
      "                 Generalized Linear Model Regression Results                  \n",
      "==============================================================================\n",
      "Dep. Variable:                      y   No. Observations:                  173\n",
      "Model:                            GLM   Df Residuals:                      170\n",
      "Model Family:                Binomial   Df Model:                            2\n",
      "Link Function:                  logit   Scale:                          1.0000\n",
      "Method:                          IRLS   Log-Likelihood:                -96.446\n",
      "Date:                Sun, 07 Nov 2021   Deviance:                       192.89\n",
      "Time:                        14:48:58   Pearson chi2:                     167.\n",
      "No. Iterations:                     5   Pseudo R-squ. (CS):             0.1730\n",
      "Covariance Type:            nonrobust                                         \n",
      "==============================================================================\n",
      "                 coef    std err          z      P>|z|      [0.025      0.975]\n",
      "------------------------------------------------------------------------------\n",
      "Intercept     -9.3547      3.528     -2.652      0.008     -16.270      -2.440\n",
      "weight         0.8338      0.672      1.241      0.214      -0.483       2.150\n",
      "width          0.3068      0.182      1.686      0.092      -0.050       0.663\n",
      "==============================================================================\n"
     ]
    }
   ],
   "source": [
    "# Import statsmodels\n",
    "import statsmodels.api as sm\n",
    "from statsmodels.formula.api import glm\n",
    "\n",
    "# Define model formula\n",
    "formula = 'y ~ weight + width'\n",
    "\n",
    "# Fit GLM\n",
    "model = glm(formula = formula, data = crab, family = sm.families.Binomial()).fit()\n",
    "\n",
    "# Print model summary\n",
    "print(model.summary())"
   ]
  },
  {
   "cell_type": "markdown",
   "metadata": {},
   "source": [
    "**Notice that the neither weight nor width are statistically significant. Recall that when we fitted univariate logistic regressions for each variable, both variables where statistically significant. There is evident presence of multicollinearity!**"
   ]
  },
  {
   "cell_type": "markdown",
   "metadata": {},
   "source": [
    "### Compute VIF"
   ]
  },
  {
   "cell_type": "code",
   "execution_count": 124,
   "metadata": {
    "ExecuteTime": {
     "end_time": "2021-11-07T09:24:44.273230Z",
     "start_time": "2021-11-07T09:24:43.759698Z"
    }
   },
   "outputs": [
    {
     "name": "stderr",
     "output_type": "stream",
     "text": [
      "<ipython-input-124-d420b61353bd>:3: SettingWithCopyWarning: \n",
      "A value is trying to be set on a copy of a slice from a DataFrame.\n",
      "Try using .loc[row_indexer,col_indexer] = value instead\n",
      "\n",
      "See the caveats in the documentation: https://pandas.pydata.org/pandas-docs/stable/user_guide/indexing.html#returning-a-view-versus-a-copy\n",
      "  X['Intercept'] = 1\n"
     ]
    },
    {
     "name": "stdout",
     "output_type": "stream",
     "text": [
      "   variables         VIF\n",
      "0     weight    4.691018\n",
      "1      width    4.726378\n",
      "2      color    1.076594\n",
      "3  Intercept  414.163343\n"
     ]
    }
   ],
   "source": [
    "# Get variables for which to compute VIF and add intercept term\n",
    "X = crab[['weight', 'width', 'color']]\n",
    "X['Intercept'] = 1\n",
    "\n",
    "# Compute and view VIF\n",
    "vif = pd.DataFrame()\n",
    "vif[\"variables\"] = X.columns\n",
    "vif[\"VIF\"] = [variance_inflation_factor(X.values, i) for i in range(X.shape[1])]\n",
    "\n",
    "# View results using print\n",
    "print(vif)"
   ]
  },
  {
   "cell_type": "markdown",
   "metadata": {},
   "source": [
    "**With VIF well above 2.5 for weight and width means that there is multicollinearity present in the model and you can not use both variables in the model.**"
   ]
  },
  {
   "cell_type": "code",
   "execution_count": 127,
   "metadata": {
    "ExecuteTime": {
     "end_time": "2021-11-07T12:01:19.883416Z",
     "start_time": "2021-11-07T12:01:19.536957Z"
    }
   },
   "outputs": [
    {
     "name": "stdout",
     "output_type": "stream",
     "text": [
      "188.76305963384902\n"
     ]
    }
   ],
   "source": [
    "# Define model formula\n",
    "formula = 'switch ~ distance + arsenic'\n",
    "formula1 = 'switch ~ distance100'\n",
    "\n",
    "# Fit GLM\n",
    "\n",
    "model_dist = glm(formula = formula1, data = wells, family = sm.families.Binomial()).fit()\n",
    "model_dist_ars = glm(formula = formula, data = wells, family = sm.families.Binomial()).fit()\n",
    "\n",
    "# Compare deviance of null and residual model\n",
    "diff_deviance = model_dist_ars.null_deviance - model_dist_ars.deviance\n",
    "\n",
    "# Print the computed difference in deviance\n",
    "print(diff_deviance)"
   ]
  },
  {
   "cell_type": "markdown",
   "metadata": {},
   "source": [
    "**Having both distance100 and arsenic in the model reduces deviance by 187 compared to the intercept only model. But what is the actual impact of additional variable arsenic?**"
   ]
  },
  {
   "cell_type": "markdown",
   "metadata": {},
   "source": [
    "### Compare two models"
   ]
  },
  {
   "cell_type": "code",
   "execution_count": 128,
   "metadata": {
    "ExecuteTime": {
     "end_time": "2021-11-07T12:01:25.107614Z",
     "start_time": "2021-11-07T12:01:24.827669Z"
    }
   },
   "outputs": [
    {
     "name": "stdout",
     "output_type": "stream",
     "text": [
      "Adding distance100 to the null model reduces deviance by:  42.726\n",
      "Adding arsenic to the distance model reduced deviance further by:  146.037\n"
     ]
    }
   ],
   "source": [
    "# Compute the difference in adding distance100 variable\n",
    "diff_deviance_distance = model_dist.null_deviance - model_dist.deviance\n",
    "\n",
    "# Print the computed difference in deviance\n",
    "print('Adding distance100 to the null model reduces deviance by: ', \n",
    "      round(diff_deviance_distance,3))\n",
    "\n",
    "# Compute the difference in adding arsenic variable\n",
    "diff_deviance_arsenic = model_dist.deviance - model_dist_ars.deviance\n",
    "\n",
    "# Print the computed difference in deviance\n",
    "print('Adding arsenic to the distance model reduced deviance further by: ', \n",
    "      round(diff_deviance_arsenic,3))"
   ]
  },
  {
   "cell_type": "markdown",
   "metadata": {},
   "source": [
    "**Adding distance100 to the null model reduces deviance by 41.9 and with an addition of arsenic the deviance further reduces by 145. Having such large reduction than expected reduction by 1 we can conclude that the multivariate model has improved the model fit.**"
   ]
  },
  {
   "cell_type": "markdown",
   "metadata": {},
   "source": [
    "### Deviance and linear transformation"
   ]
  },
  {
   "cell_type": "code",
   "execution_count": 129,
   "metadata": {
    "ExecuteTime": {
     "end_time": "2021-11-07T12:10:32.284915Z",
     "start_time": "2021-11-07T12:10:31.941427Z"
    }
   },
   "outputs": [
    {
     "name": "stdout",
     "output_type": "stream",
     "text": [
      "Difference in deviance is:  0.0\n"
     ]
    }
   ],
   "source": [
    "# Fit logistic regression model as save as model_dist_1\n",
    "model_dist_1 = glm('switch ~ distance', data = wells, family = sm.families.Binomial()).fit()\n",
    "\n",
    "# Check the difference in deviance of model_dist_1 and model_dist\n",
    "print('Difference in deviance is: ', round(model_dist_1.deviance - model_dist.deviance,3))"
   ]
  },
  {
   "cell_type": "markdown",
   "metadata": {},
   "source": [
    "**Note that linear transformations do not change the model error and hence the deviance remains the same. The reason being since linear transformation does not add new data information to the model.**"
   ]
  },
  {
   "cell_type": "markdown",
   "metadata": {},
   "source": [
    "### Model matrix for continuous variables"
   ]
  },
  {
   "cell_type": "code",
   "execution_count": 132,
   "metadata": {
    "ExecuteTime": {
     "end_time": "2021-11-07T12:26:45.234609Z",
     "start_time": "2021-11-07T12:26:44.258064Z"
    }
   },
   "outputs": [
    {
     "name": "stdout",
     "output_type": "stream",
     "text": [
      "   Intercept  arsenic  distance100\n",
      "0        1.0     2.36      0.16826\n",
      "1        1.0     0.71      0.47322\n",
      "2        1.0     2.07      0.20967\n",
      "3        1.0     1.15      0.21486\n",
      "4        1.0     1.10      0.40874\n",
      "   Intercept  arsenic\n",
      "0        1.0     2.36\n",
      "1        1.0     0.71\n",
      "2        1.0     2.07\n",
      "3        1.0     1.15\n",
      "4        1.0     1.10\n"
     ]
    }
   ],
   "source": [
    "# Construct model matrix with arsenic and distance100\n",
    "model_matrix = dmatrix('arsenic + distance100', data = wells, return_type = 'dataframe')\n",
    "model_matrix1 = dmatrix('arsenic', data = wells, return_type = 'dataframe')\n",
    "print(model_matrix.head(5))\n",
    "print(model_matrix1.head(5))"
   ]
  },
  {
   "cell_type": "markdown",
   "metadata": {},
   "source": [
    "**Notice how `dmatrix()` silently includes an intercept for each model matrix without you specifying it. Analyzing the output from `dmatrix()` we can be sure that the inputs are correctly structured.**"
   ]
  },
  {
   "cell_type": "markdown",
   "metadata": {},
   "source": [
    "#### Variable transformation"
   ]
  },
  {
   "cell_type": "code",
   "execution_count": 133,
   "metadata": {
    "ExecuteTime": {
     "end_time": "2021-11-07T12:46:25.080621Z",
     "start_time": "2021-11-07T12:46:22.734272Z"
    }
   },
   "outputs": [
    {
     "name": "stdout",
     "output_type": "stream",
     "text": [
      "                 Generalized Linear Model Regression Results                  \n",
      "==============================================================================\n",
      "Dep. Variable:                 switch   No. Observations:                 3010\n",
      "Model:                            GLM   Df Residuals:                     3008\n",
      "Model Family:                Binomial   Df Model:                            1\n",
      "Link Function:                  logit   Scale:                          1.0000\n",
      "Method:                          IRLS   Log-Likelihood:                -1987.6\n",
      "Date:                Sun, 07 Nov 2021   Deviance:                       3975.3\n",
      "Time:                        18:16:23   Pearson chi2:                 3.01e+03\n",
      "No. Iterations:                     4   Pseudo R-squ. (CS):            0.04187\n",
      "Covariance Type:            nonrobust                                         \n",
      "===================================================================================\n",
      "                      coef    std err          z      P>|z|      [0.025      0.975]\n",
      "-----------------------------------------------------------------------------------\n",
      "Intercept           0.0966      0.041      2.331      0.020       0.015       0.178\n",
      "np.log(arsenic)     0.7089      0.064     11.046      0.000       0.583       0.835\n",
      "===================================================================================\n"
     ]
    }
   ],
   "source": [
    "# Construct model matrix for arsenic with log transformation\n",
    "dmatrix('np.log(arsenic)', data = wells,\n",
    "       return_type = 'dataframe').head()\n",
    "\n",
    "#Define model formula\n",
    "formula = 'switch ~ np.log(arsenic)'\n",
    "\n",
    "# Fit GLM\n",
    "model_log_ars = glm(formula = formula, data = wells, \n",
    "                     family = sm.families.Binomial()).fit()\n",
    "\n",
    "# Print model summary\n",
    "print(model_log_ars.summary())"
   ]
  },
  {
   "cell_type": "markdown",
   "metadata": {},
   "source": [
    "**Comparing the deviance of the model with log(arsenic) and deviance of the model with arsenic there is a reduction in deviance of 19.38, which is larger than expected 1 and hence it does improve the model fit.**"
   ]
  },
  {
   "cell_type": "markdown",
   "metadata": {},
   "source": [
    "### Coding categorical variables"
   ]
  },
  {
   "cell_type": "code",
   "execution_count": 135,
   "metadata": {
    "ExecuteTime": {
     "end_time": "2021-11-07T12:52:39.956403Z",
     "start_time": "2021-11-07T12:52:39.935416Z"
    }
   },
   "outputs": [
    {
     "name": "stdout",
     "output_type": "stream",
     "text": [
      "   Intercept  C(color)[T.2]  C(color)[T.3]  C(color)[T.4]\n",
      "0        1.0            1.0            0.0            0.0\n",
      "1        1.0            0.0            1.0            0.0\n",
      "2        1.0            0.0            0.0            0.0\n",
      "3        1.0            0.0            1.0            0.0\n",
      "4        1.0            0.0            1.0            0.0\n"
     ]
    }
   ],
   "source": [
    "# Construct and print model matrix for color as categorical variable\n",
    "print(dmatrix('C(color)', data = crab,\n",
    "     \t   return_type = 'dataframe').head())"
   ]
  },
  {
   "cell_type": "code",
   "execution_count": 136,
   "metadata": {
    "ExecuteTime": {
     "end_time": "2021-11-07T12:53:57.600514Z",
     "start_time": "2021-11-07T12:53:57.540548Z"
    }
   },
   "outputs": [
    {
     "name": "stdout",
     "output_type": "stream",
     "text": [
      "   Intercept  C(color, Treatment(3))[T.1]  C(color, Treatment(3))[T.2]  \\\n",
      "0        1.0                          0.0                          1.0   \n",
      "1        1.0                          0.0                          0.0   \n",
      "2        1.0                          1.0                          0.0   \n",
      "3        1.0                          0.0                          0.0   \n",
      "4        1.0                          0.0                          0.0   \n",
      "\n",
      "   C(color, Treatment(3))[T.4]  \n",
      "0                          0.0  \n",
      "1                          0.0  \n",
      "2                          0.0  \n",
      "3                          0.0  \n",
      "4                          0.0  \n"
     ]
    }
   ],
   "source": [
    "# Construct and print the model matrix for color with reference group 3\n",
    "print(dmatrix('C(color, Treatment(3))', \n",
    "     \t  data = crab,\n",
    "     \t  return_type = 'dataframe').head())"
   ]
  },
  {
   "cell_type": "markdown",
   "metadata": {},
   "source": [
    "**Notice the change in columns where now the medium dark category is the reference group, where its mean behavior is represented by the intercept.**"
   ]
  },
  {
   "cell_type": "markdown",
   "metadata": {},
   "source": [
    "### Modeling with categorical variable"
   ]
  },
  {
   "cell_type": "code",
   "execution_count": 137,
   "metadata": {
    "ExecuteTime": {
     "end_time": "2021-11-07T13:13:19.272721Z",
     "start_time": "2021-11-07T13:13:16.505312Z"
    }
   },
   "outputs": [
    {
     "name": "stdout",
     "output_type": "stream",
     "text": [
      "   Intercept  C(color, Treatment(4))[T.1]  C(color, Treatment(4))[T.2]  \\\n",
      "0        1.0                          0.0                          1.0   \n",
      "1        1.0                          0.0                          0.0   \n",
      "2        1.0                          1.0                          0.0   \n",
      "3        1.0                          0.0                          0.0   \n",
      "4        1.0                          0.0                          0.0   \n",
      "\n",
      "   C(color, Treatment(4))[T.3]  \n",
      "0                          0.0  \n",
      "1                          1.0  \n",
      "2                          0.0  \n",
      "3                          1.0  \n",
      "4                          1.0  \n",
      "                 Generalized Linear Model Regression Results                  \n",
      "==============================================================================\n",
      "Dep. Variable:                      y   No. Observations:                  173\n",
      "Model:                            GLM   Df Residuals:                      169\n",
      "Model Family:                Binomial   Df Model:                            3\n",
      "Link Function:                  logit   Scale:                          1.0000\n",
      "Method:                          IRLS   Log-Likelihood:                -106.03\n",
      "Date:                Sun, 07 Nov 2021   Deviance:                       212.06\n",
      "Time:                        18:43:18   Pearson chi2:                     173.\n",
      "No. Iterations:                     4   Pseudo R-squ. (CS):            0.07612\n",
      "Covariance Type:            nonrobust                                         \n",
      "===============================================================================================\n",
      "                                  coef    std err          z      P>|z|      [0.025      0.975]\n",
      "-----------------------------------------------------------------------------------------------\n",
      "Intercept                      -0.7621      0.458     -1.665      0.096      -1.659       0.135\n",
      "C(color, Treatment(4))[T.1]     1.8608      0.809      2.301      0.021       0.276       3.446\n",
      "C(color, Treatment(4))[T.2]     1.7382      0.512      3.393      0.001       0.734       2.742\n",
      "C(color, Treatment(4))[T.3]     1.1299      0.551      2.051      0.040       0.050       2.210\n",
      "===============================================================================================\n"
     ]
    }
   ],
   "source": [
    "# Construct model matrix\n",
    "model_matrix = dmatrix('C(color, Treatment(4))' , data = crab, \n",
    "                       return_type = 'dataframe')\n",
    "\n",
    "# Print first 5 rows of model matrix\n",
    "print(model_matrix.head())\n",
    "\n",
    "# Fit and print the results of a glm model with the above model matrix configuration\n",
    "model = glm('y ~ C(color, Treatment(4))', data = crab, \n",
    "            family = sm.families.Binomial()).fit()\n",
    "\n",
    "print(model.summary())"
   ]
  },
  {
   "cell_type": "code",
   "execution_count": 138,
   "metadata": {
    "ExecuteTime": {
     "end_time": "2021-11-07T13:16:11.593023Z",
     "start_time": "2021-11-07T13:16:10.608768Z"
    }
   },
   "outputs": [
    {
     "name": "stdout",
     "output_type": "stream",
     "text": [
      "   Intercept  C(color, Treatment(4))[T.1]  C(color, Treatment(4))[T.2]  \\\n",
      "0        1.0                          0.0                          1.0   \n",
      "1        1.0                          0.0                          0.0   \n",
      "2        1.0                          1.0                          0.0   \n",
      "3        1.0                          0.0                          0.0   \n",
      "4        1.0                          0.0                          0.0   \n",
      "\n",
      "   C(color, Treatment(4))[T.3]  width  \n",
      "0                          0.0   28.3  \n",
      "1                          1.0   22.5  \n",
      "2                          0.0   26.0  \n",
      "3                          1.0   24.8  \n",
      "4                          1.0   26.0  \n",
      "                 Generalized Linear Model Regression Results                  \n",
      "==============================================================================\n",
      "Dep. Variable:                      y   No. Observations:                  173\n",
      "Model:                            GLM   Df Residuals:                      168\n",
      "Model Family:                Binomial   Df Model:                            4\n",
      "Link Function:                  logit   Scale:                          1.0000\n",
      "Method:                          IRLS   Log-Likelihood:                -93.729\n",
      "Date:                Sun, 07 Nov 2021   Deviance:                       187.46\n",
      "Time:                        18:46:11   Pearson chi2:                     169.\n",
      "No. Iterations:                     5   Pseudo R-squ. (CS):             0.1986\n",
      "Covariance Type:            nonrobust                                         \n",
      "===============================================================================================\n",
      "                                  coef    std err          z      P>|z|      [0.025      0.975]\n",
      "-----------------------------------------------------------------------------------------------\n",
      "Intercept                     -12.7151      2.762     -4.604      0.000     -18.128      -7.302\n",
      "C(color, Treatment(4))[T.1]     1.3299      0.853      1.560      0.119      -0.341       3.001\n",
      "C(color, Treatment(4))[T.2]     1.4023      0.548      2.557      0.011       0.327       2.477\n",
      "C(color, Treatment(4))[T.3]     1.1061      0.592      1.868      0.062      -0.054       2.267\n",
      "width                           0.4680      0.106      4.434      0.000       0.261       0.675\n",
      "===============================================================================================\n"
     ]
    }
   ],
   "source": [
    "# Construct model matrix\n",
    "model_matrix = dmatrix('C(color, Treatment(4)) + width' , data = crab, \n",
    "                       return_type = 'dataframe')\n",
    "\n",
    "# Print first 5 rows of model matrix\n",
    "print(model_matrix.head(5))\n",
    "\n",
    "# Fit and print the results of a glm model with the above model matrix configuration\n",
    "model = glm('y ~ C(color, Treatment(4)) + width', data = crab, \n",
    "            family = sm.families.Binomial()).fit()\n",
    "\n",
    "print(model.summary())"
   ]
  },
  {
   "cell_type": "markdown",
   "metadata": {},
   "source": [
    "#### Interaction terms"
   ]
  },
  {
   "cell_type": "code",
   "execution_count": 140,
   "metadata": {
    "ExecuteTime": {
     "end_time": "2021-11-07T13:19:58.393793Z",
     "start_time": "2021-11-07T13:19:57.887997Z"
    }
   },
   "outputs": [
    {
     "name": "stdout",
     "output_type": "stream",
     "text": [
      "                 Generalized Linear Model Regression Results                  \n",
      "==============================================================================\n",
      "Dep. Variable:                 switch   No. Observations:                 3010\n",
      "Model:                            GLM   Df Residuals:                     3006\n",
      "Model Family:                Binomial   Df Model:                            3\n",
      "Link Function:                  logit   Scale:                          1.0000\n",
      "Method:                          IRLS   Log-Likelihood:                -1956.2\n",
      "Date:                Sun, 07 Nov 2021   Deviance:                       3912.4\n",
      "Time:                        18:49:58   Pearson chi2:                 3.08e+03\n",
      "No. Iterations:                     4   Pseudo R-squ. (CS):            0.06168\n",
      "Covariance Type:            nonrobust                                         \n",
      "=======================================================================================================\n",
      "                                          coef    std err          z      P>|z|      [0.025      0.975]\n",
      "-------------------------------------------------------------------------------------------------------\n",
      "Intercept                               0.3521      0.040      8.813      0.000       0.274       0.430\n",
      "center(distance100)                    -0.8834      0.105     -8.410      0.000      -1.089      -0.678\n",
      "center(arsenic)                         0.4713      0.042     11.168      0.000       0.389       0.554\n",
      "center(distance100):center(arsenic)    -0.1744      0.103     -1.700      0.089      -0.376       0.027\n",
      "=======================================================================================================\n"
     ]
    }
   ],
   "source": [
    "# Fit GLM and print model summary\n",
    "model_int = glm('switch ~ center(distance100) + center(arsenic) + center(distance100):center(arsenic)', \n",
    "                data = wells, family = sm.families.Binomial()).fit()\n",
    "\n",
    "# View model results\n",
    "print(model_int.summary())"
   ]
  },
  {
   "cell_type": "markdown",
   "metadata": {},
   "source": [
    "**To interpret the interaction parameter we need to consider the effect of its coefficient on both arsenic and distance100 estimates. Hence, for a one-unit change in the explanatory variable the interaction coefficient is added to each coefficient for individual variable.**"
   ]
  }
 ],
 "metadata": {
  "hide_input": false,
  "kernelspec": {
   "display_name": "Python 3",
   "language": "python",
   "name": "python3"
  },
  "language_info": {
   "codemirror_mode": {
    "name": "ipython",
    "version": 3
   },
   "file_extension": ".py",
   "mimetype": "text/x-python",
   "name": "python",
   "nbconvert_exporter": "python",
   "pygments_lexer": "ipython3",
   "version": "3.8.3"
  },
  "latex_envs": {
   "LaTeX_envs_menu_present": true,
   "autoclose": false,
   "autocomplete": true,
   "bibliofile": "biblio.bib",
   "cite_by": "apalike",
   "current_citInitial": 1,
   "eqLabelWithNumbers": true,
   "eqNumInitial": 1,
   "hotkeys": {
    "equation": "Ctrl-E",
    "itemize": "Ctrl-I"
   },
   "labels_anchors": false,
   "latex_user_defs": false,
   "report_style_numbering": false,
   "user_envs_cfg": false
  },
  "toc": {
   "base_numbering": 1,
   "nav_menu": {},
   "number_sections": true,
   "sideBar": true,
   "skip_h1_title": false,
   "title_cell": "Table of Contents",
   "title_sidebar": "Contents",
   "toc_cell": false,
   "toc_position": {},
   "toc_section_display": true,
   "toc_window_display": false
  }
 },
 "nbformat": 4,
 "nbformat_minor": 4
}
