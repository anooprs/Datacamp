{
 "cells": [
  {
   "cell_type": "markdown",
   "metadata": {},
   "source": [
    "## Predicting Heart Disease using Machine Learning"
   ]
  },
  {
   "cell_type": "markdown",
   "metadata": {},
   "source": [
    "**Problem Definition**\n",
    "\n",
    "Given clinical parameters about a patient, can we predict whether or not they have heart disease?"
   ]
  },
  {
   "cell_type": "markdown",
   "metadata": {},
   "source": [
    "The following are the features we'll use to predict our target variable (heart disease or no heart disease).\n",
    "\n",
    "1. age - age in years\n",
    "\n",
    "2. sex - (1 = male; 0 = female)\n",
    "\n",
    "3. cp - chest pain type\n",
    "\n",
    "  0: Typical angina: chest pain related decrease blood supply to the heart\n",
    "  1: Atypical angina: chest pain not related to heart\n",
    "  2: Non-anginal pain: typically esophageal spasms (non heart related)\n",
    "  3: Asymptomatic: chest pain not showing signs of disease\n",
    "  \n",
    "4. trestbps - resting blood pressure (in mm Hg on admission to the hospital)\n",
    "\n",
    "    - anything above 130-140 is typically cause for concern\n",
    "    \n",
    "5. chol - serum cholestoral in mg/dl\n",
    "\n",
    "    - serum = LDL + HDL + .2 * triglycerides\n",
    "    - above 200 is cause for concern\n",
    "    \n",
    "6. fbs - (fasting blood sugar > 120 mg/dl) (1 = true; 0 = false)\n",
    "\n",
    "    - '>126' mg/dL signals diabetes\n",
    "    \n",
    "7. restecg - resting electrocardiographic results\n",
    "\n",
    "     - 0: Nothing to note\n",
    "     - 1: ST-T Wave abnormality\n",
    "        - can range from mild symptoms to severe problems\n",
    "        - signals non-normal heart beat\n",
    "     - 2: Possible or definite left ventricular hypertrophy\n",
    "        - Enlarged heart's main pumping chamber\n",
    "        \n",
    "8. thalach - maximum heart rate achieved\n",
    "\n",
    "9. exang - exercise induced angina (1 = yes; 0 = no)\n",
    "\n",
    "10. oldpeak - ST depression induced by exercise relative to rest\n",
    "\n",
    "     - looks at stress of heart during excercise\n",
    "     - unhealthy heart will stress more\n",
    "     \n",
    "11. slope - the slope of the peak exercise ST segment\n",
    "\n",
    "     - 0: Upsloping: better heart rate with excercise (uncommon)\n",
    "     - 1: Flatsloping: minimal change (typical healthy heart)\n",
    "     - 2: Downslopins: signs of unhealthy heart\n",
    "     \n",
    "12. ca - number of major vessels (0-3) colored by flourosopy\n",
    "\n",
    "     - colored vessel means the doctor can see the blood passing through\n",
    "     - the more blood movement the better (no clots)\n",
    "     \n",
    "13. thal - thalium stress result\n",
    "\n",
    "     - 1,3: normal\n",
    "     - 6: fixed defect: used to be defect but ok now\n",
    "     - 7: reversable defect: no proper blood movement when excercising\n",
    "     \n",
    "14. target - have disease or not (1=yes, 0=no) (= the predicted attribute)"
   ]
  },
  {
   "cell_type": "code",
   "execution_count": 4,
   "metadata": {},
   "outputs": [],
   "source": [
    "# Regular EDA and plotting libraries\n",
    "import numpy as np \n",
    "import pandas as pd \n",
    "import matplotlib.pyplot as plt\n",
    "import seaborn as sns \n",
    "\n",
    "# for plots to appear in the notebook\n",
    "%matplotlib inline \n",
    "\n",
    "# Pipeline\n",
    "from sklearn.pipeline import make_pipeline\n",
    "\n",
    "# preprocessing\n",
    "from sklearn.preprocessing import StandardScaler\n"
   ]
  },
  {
   "cell_type": "code",
   "execution_count": 5,
   "metadata": {},
   "outputs": [],
   "source": [
    "## Models\n",
    "from sklearn.linear_model import LogisticRegression\n",
    "from sklearn.naive_bayes import GaussianNB\n",
    "from sklearn.ensemble import RandomForestClassifier\n",
    "\n",
    "## Model evaluators\n",
    "from sklearn.model_selection import train_test_split, cross_val_score\n",
    "from sklearn.model_selection import RandomizedSearchCV, GridSearchCV\n",
    "from sklearn.metrics import confusion_matrix, classification_report\n",
    "from sklearn.metrics import precision_score, recall_score, f1_score\n",
    "from sklearn.metrics import plot_roc_curve"
   ]
  },
  {
   "cell_type": "markdown",
   "metadata": {},
   "source": [
    "### Loading data"
   ]
  },
  {
   "cell_type": "code",
   "execution_count": 6,
   "metadata": {},
   "outputs": [
    {
     "data": {
      "text/plain": [
       "(303, 14)"
      ]
     },
     "execution_count": 6,
     "metadata": {},
     "output_type": "execute_result"
    }
   ],
   "source": [
    "df = pd.read_csv(\"heart.csv\")\n",
    "df.shape"
   ]
  },
  {
   "cell_type": "markdown",
   "metadata": {},
   "source": [
    "### Data Exploration"
   ]
  },
  {
   "cell_type": "code",
   "execution_count": 9,
   "metadata": {},
   "outputs": [
    {
     "data": {
      "text/html": [
       "<div>\n",
       "<style scoped>\n",
       "    .dataframe tbody tr th:only-of-type {\n",
       "        vertical-align: middle;\n",
       "    }\n",
       "\n",
       "    .dataframe tbody tr th {\n",
       "        vertical-align: top;\n",
       "    }\n",
       "\n",
       "    .dataframe thead th {\n",
       "        text-align: right;\n",
       "    }\n",
       "</style>\n",
       "<table border=\"1\" class=\"dataframe\">\n",
       "  <thead>\n",
       "    <tr style=\"text-align: right;\">\n",
       "      <th></th>\n",
       "      <th>age</th>\n",
       "      <th>sex</th>\n",
       "      <th>cp</th>\n",
       "      <th>trestbps</th>\n",
       "      <th>chol</th>\n",
       "      <th>fbs</th>\n",
       "      <th>restecg</th>\n",
       "      <th>thalach</th>\n",
       "      <th>exang</th>\n",
       "      <th>oldpeak</th>\n",
       "      <th>slope</th>\n",
       "      <th>ca</th>\n",
       "      <th>thal</th>\n",
       "      <th>target</th>\n",
       "    </tr>\n",
       "  </thead>\n",
       "  <tbody>\n",
       "    <tr>\n",
       "      <th>0</th>\n",
       "      <td>63</td>\n",
       "      <td>1</td>\n",
       "      <td>3</td>\n",
       "      <td>145</td>\n",
       "      <td>233</td>\n",
       "      <td>1</td>\n",
       "      <td>0</td>\n",
       "      <td>150</td>\n",
       "      <td>0</td>\n",
       "      <td>2.3</td>\n",
       "      <td>0</td>\n",
       "      <td>0</td>\n",
       "      <td>1</td>\n",
       "      <td>1</td>\n",
       "    </tr>\n",
       "    <tr>\n",
       "      <th>1</th>\n",
       "      <td>37</td>\n",
       "      <td>1</td>\n",
       "      <td>2</td>\n",
       "      <td>130</td>\n",
       "      <td>250</td>\n",
       "      <td>0</td>\n",
       "      <td>1</td>\n",
       "      <td>187</td>\n",
       "      <td>0</td>\n",
       "      <td>3.5</td>\n",
       "      <td>0</td>\n",
       "      <td>0</td>\n",
       "      <td>2</td>\n",
       "      <td>1</td>\n",
       "    </tr>\n",
       "    <tr>\n",
       "      <th>2</th>\n",
       "      <td>41</td>\n",
       "      <td>0</td>\n",
       "      <td>1</td>\n",
       "      <td>130</td>\n",
       "      <td>204</td>\n",
       "      <td>0</td>\n",
       "      <td>0</td>\n",
       "      <td>172</td>\n",
       "      <td>0</td>\n",
       "      <td>1.4</td>\n",
       "      <td>2</td>\n",
       "      <td>0</td>\n",
       "      <td>2</td>\n",
       "      <td>1</td>\n",
       "    </tr>\n",
       "    <tr>\n",
       "      <th>3</th>\n",
       "      <td>56</td>\n",
       "      <td>1</td>\n",
       "      <td>1</td>\n",
       "      <td>120</td>\n",
       "      <td>236</td>\n",
       "      <td>0</td>\n",
       "      <td>1</td>\n",
       "      <td>178</td>\n",
       "      <td>0</td>\n",
       "      <td>0.8</td>\n",
       "      <td>2</td>\n",
       "      <td>0</td>\n",
       "      <td>2</td>\n",
       "      <td>1</td>\n",
       "    </tr>\n",
       "    <tr>\n",
       "      <th>4</th>\n",
       "      <td>57</td>\n",
       "      <td>0</td>\n",
       "      <td>0</td>\n",
       "      <td>120</td>\n",
       "      <td>354</td>\n",
       "      <td>0</td>\n",
       "      <td>1</td>\n",
       "      <td>163</td>\n",
       "      <td>1</td>\n",
       "      <td>0.6</td>\n",
       "      <td>2</td>\n",
       "      <td>0</td>\n",
       "      <td>2</td>\n",
       "      <td>1</td>\n",
       "    </tr>\n",
       "  </tbody>\n",
       "</table>\n",
       "</div>"
      ],
      "text/plain": [
       "   age  sex  cp  trestbps  chol  fbs  restecg  thalach  exang  oldpeak  slope  \\\n",
       "0   63    1   3       145   233    1        0      150      0      2.3      0   \n",
       "1   37    1   2       130   250    0        1      187      0      3.5      0   \n",
       "2   41    0   1       130   204    0        0      172      0      1.4      2   \n",
       "3   56    1   1       120   236    0        1      178      0      0.8      2   \n",
       "4   57    0   0       120   354    0        1      163      1      0.6      2   \n",
       "\n",
       "   ca  thal  target  \n",
       "0   0     1       1  \n",
       "1   0     2       1  \n",
       "2   0     2       1  \n",
       "3   0     2       1  \n",
       "4   0     2       1  "
      ]
     },
     "execution_count": 9,
     "metadata": {},
     "output_type": "execute_result"
    }
   ],
   "source": [
    "df.head()"
   ]
  },
  {
   "cell_type": "code",
   "execution_count": 10,
   "metadata": {},
   "outputs": [
    {
     "data": {
      "text/html": [
       "<div>\n",
       "<style scoped>\n",
       "    .dataframe tbody tr th:only-of-type {\n",
       "        vertical-align: middle;\n",
       "    }\n",
       "\n",
       "    .dataframe tbody tr th {\n",
       "        vertical-align: top;\n",
       "    }\n",
       "\n",
       "    .dataframe thead th {\n",
       "        text-align: right;\n",
       "    }\n",
       "</style>\n",
       "<table border=\"1\" class=\"dataframe\">\n",
       "  <thead>\n",
       "    <tr style=\"text-align: right;\">\n",
       "      <th></th>\n",
       "      <th>age</th>\n",
       "      <th>sex</th>\n",
       "      <th>cp</th>\n",
       "      <th>trestbps</th>\n",
       "      <th>chol</th>\n",
       "      <th>fbs</th>\n",
       "      <th>restecg</th>\n",
       "      <th>thalach</th>\n",
       "      <th>exang</th>\n",
       "      <th>oldpeak</th>\n",
       "      <th>slope</th>\n",
       "      <th>ca</th>\n",
       "      <th>thal</th>\n",
       "      <th>target</th>\n",
       "    </tr>\n",
       "  </thead>\n",
       "  <tbody>\n",
       "    <tr>\n",
       "      <th>count</th>\n",
       "      <td>303.000000</td>\n",
       "      <td>303.000000</td>\n",
       "      <td>303.000000</td>\n",
       "      <td>303.000000</td>\n",
       "      <td>303.000000</td>\n",
       "      <td>303.000000</td>\n",
       "      <td>303.000000</td>\n",
       "      <td>303.000000</td>\n",
       "      <td>303.000000</td>\n",
       "      <td>303.000000</td>\n",
       "      <td>303.000000</td>\n",
       "      <td>303.000000</td>\n",
       "      <td>303.000000</td>\n",
       "      <td>303.000000</td>\n",
       "    </tr>\n",
       "    <tr>\n",
       "      <th>mean</th>\n",
       "      <td>54.366337</td>\n",
       "      <td>0.683168</td>\n",
       "      <td>0.966997</td>\n",
       "      <td>131.623762</td>\n",
       "      <td>246.264026</td>\n",
       "      <td>0.148515</td>\n",
       "      <td>0.528053</td>\n",
       "      <td>149.646865</td>\n",
       "      <td>0.326733</td>\n",
       "      <td>1.039604</td>\n",
       "      <td>1.399340</td>\n",
       "      <td>0.729373</td>\n",
       "      <td>2.313531</td>\n",
       "      <td>0.544554</td>\n",
       "    </tr>\n",
       "    <tr>\n",
       "      <th>std</th>\n",
       "      <td>9.082101</td>\n",
       "      <td>0.466011</td>\n",
       "      <td>1.032052</td>\n",
       "      <td>17.538143</td>\n",
       "      <td>51.830751</td>\n",
       "      <td>0.356198</td>\n",
       "      <td>0.525860</td>\n",
       "      <td>22.905161</td>\n",
       "      <td>0.469794</td>\n",
       "      <td>1.161075</td>\n",
       "      <td>0.616226</td>\n",
       "      <td>1.022606</td>\n",
       "      <td>0.612277</td>\n",
       "      <td>0.498835</td>\n",
       "    </tr>\n",
       "    <tr>\n",
       "      <th>min</th>\n",
       "      <td>29.000000</td>\n",
       "      <td>0.000000</td>\n",
       "      <td>0.000000</td>\n",
       "      <td>94.000000</td>\n",
       "      <td>126.000000</td>\n",
       "      <td>0.000000</td>\n",
       "      <td>0.000000</td>\n",
       "      <td>71.000000</td>\n",
       "      <td>0.000000</td>\n",
       "      <td>0.000000</td>\n",
       "      <td>0.000000</td>\n",
       "      <td>0.000000</td>\n",
       "      <td>0.000000</td>\n",
       "      <td>0.000000</td>\n",
       "    </tr>\n",
       "    <tr>\n",
       "      <th>25%</th>\n",
       "      <td>47.500000</td>\n",
       "      <td>0.000000</td>\n",
       "      <td>0.000000</td>\n",
       "      <td>120.000000</td>\n",
       "      <td>211.000000</td>\n",
       "      <td>0.000000</td>\n",
       "      <td>0.000000</td>\n",
       "      <td>133.500000</td>\n",
       "      <td>0.000000</td>\n",
       "      <td>0.000000</td>\n",
       "      <td>1.000000</td>\n",
       "      <td>0.000000</td>\n",
       "      <td>2.000000</td>\n",
       "      <td>0.000000</td>\n",
       "    </tr>\n",
       "    <tr>\n",
       "      <th>50%</th>\n",
       "      <td>55.000000</td>\n",
       "      <td>1.000000</td>\n",
       "      <td>1.000000</td>\n",
       "      <td>130.000000</td>\n",
       "      <td>240.000000</td>\n",
       "      <td>0.000000</td>\n",
       "      <td>1.000000</td>\n",
       "      <td>153.000000</td>\n",
       "      <td>0.000000</td>\n",
       "      <td>0.800000</td>\n",
       "      <td>1.000000</td>\n",
       "      <td>0.000000</td>\n",
       "      <td>2.000000</td>\n",
       "      <td>1.000000</td>\n",
       "    </tr>\n",
       "    <tr>\n",
       "      <th>75%</th>\n",
       "      <td>61.000000</td>\n",
       "      <td>1.000000</td>\n",
       "      <td>2.000000</td>\n",
       "      <td>140.000000</td>\n",
       "      <td>274.500000</td>\n",
       "      <td>0.000000</td>\n",
       "      <td>1.000000</td>\n",
       "      <td>166.000000</td>\n",
       "      <td>1.000000</td>\n",
       "      <td>1.600000</td>\n",
       "      <td>2.000000</td>\n",
       "      <td>1.000000</td>\n",
       "      <td>3.000000</td>\n",
       "      <td>1.000000</td>\n",
       "    </tr>\n",
       "    <tr>\n",
       "      <th>max</th>\n",
       "      <td>77.000000</td>\n",
       "      <td>1.000000</td>\n",
       "      <td>3.000000</td>\n",
       "      <td>200.000000</td>\n",
       "      <td>564.000000</td>\n",
       "      <td>1.000000</td>\n",
       "      <td>2.000000</td>\n",
       "      <td>202.000000</td>\n",
       "      <td>1.000000</td>\n",
       "      <td>6.200000</td>\n",
       "      <td>2.000000</td>\n",
       "      <td>4.000000</td>\n",
       "      <td>3.000000</td>\n",
       "      <td>1.000000</td>\n",
       "    </tr>\n",
       "  </tbody>\n",
       "</table>\n",
       "</div>"
      ],
      "text/plain": [
       "              age         sex          cp    trestbps        chol         fbs  \\\n",
       "count  303.000000  303.000000  303.000000  303.000000  303.000000  303.000000   \n",
       "mean    54.366337    0.683168    0.966997  131.623762  246.264026    0.148515   \n",
       "std      9.082101    0.466011    1.032052   17.538143   51.830751    0.356198   \n",
       "min     29.000000    0.000000    0.000000   94.000000  126.000000    0.000000   \n",
       "25%     47.500000    0.000000    0.000000  120.000000  211.000000    0.000000   \n",
       "50%     55.000000    1.000000    1.000000  130.000000  240.000000    0.000000   \n",
       "75%     61.000000    1.000000    2.000000  140.000000  274.500000    0.000000   \n",
       "max     77.000000    1.000000    3.000000  200.000000  564.000000    1.000000   \n",
       "\n",
       "          restecg     thalach       exang     oldpeak       slope          ca  \\\n",
       "count  303.000000  303.000000  303.000000  303.000000  303.000000  303.000000   \n",
       "mean     0.528053  149.646865    0.326733    1.039604    1.399340    0.729373   \n",
       "std      0.525860   22.905161    0.469794    1.161075    0.616226    1.022606   \n",
       "min      0.000000   71.000000    0.000000    0.000000    0.000000    0.000000   \n",
       "25%      0.000000  133.500000    0.000000    0.000000    1.000000    0.000000   \n",
       "50%      1.000000  153.000000    0.000000    0.800000    1.000000    0.000000   \n",
       "75%      1.000000  166.000000    1.000000    1.600000    2.000000    1.000000   \n",
       "max      2.000000  202.000000    1.000000    6.200000    2.000000    4.000000   \n",
       "\n",
       "             thal      target  \n",
       "count  303.000000  303.000000  \n",
       "mean     2.313531    0.544554  \n",
       "std      0.612277    0.498835  \n",
       "min      0.000000    0.000000  \n",
       "25%      2.000000    0.000000  \n",
       "50%      2.000000    1.000000  \n",
       "75%      3.000000    1.000000  \n",
       "max      3.000000    1.000000  "
      ]
     },
     "execution_count": 10,
     "metadata": {},
     "output_type": "execute_result"
    }
   ],
   "source": [
    "df.describe()"
   ]
  },
  {
   "cell_type": "code",
   "execution_count": 11,
   "metadata": {},
   "outputs": [
    {
     "data": {
      "text/plain": [
       "1    165\n",
       "0    138\n",
       "Name: target, dtype: int64"
      ]
     },
     "execution_count": 11,
     "metadata": {},
     "output_type": "execute_result"
    }
   ],
   "source": [
    "# Let's see how many positive (1) and negative (0) samples we have in our dataframe\n",
    "df.target.value_counts()"
   ]
  },
  {
   "cell_type": "code",
   "execution_count": 12,
   "metadata": {},
   "outputs": [
    {
     "data": {
      "text/plain": [
       "1    0.544554\n",
       "0    0.455446\n",
       "Name: target, dtype: float64"
      ]
     },
     "execution_count": 12,
     "metadata": {},
     "output_type": "execute_result"
    }
   ],
   "source": [
    "# Normalized value counts\n",
    "df.target.value_counts(normalize=True)"
   ]
  },
  {
   "cell_type": "code",
   "execution_count": 28,
   "metadata": {},
   "outputs": [
    {
     "data": {
      "image/png": "[encoded data removed]",
      "text/plain": [
       "<Figure size 432x288 with 1 Axes>"
      ]
     },
     "metadata": {
      "needs_background": "light"
     },
     "output_type": "display_data"
    }
   ],
   "source": [
    "# Plotting the value counts with a bar graph\n",
    "df.target.value_counts().plot(kind=\"bar\", color=[\"firebrick\", \"aquamarine\"])\n",
    "plt.xticks(rotation=0); # for keeping the labels on the x-axis vertical"
   ]
  },
  {
   "cell_type": "code",
   "execution_count": 18,
   "metadata": {},
   "outputs": [
    {
     "name": "stdout",
     "output_type": "stream",
     "text": [
      "<class 'pandas.core.frame.DataFrame'>\n",
      "RangeIndex: 303 entries, 0 to 302\n",
      "Data columns (total 14 columns):\n",
      " #   Column    Non-Null Count  Dtype  \n",
      "---  ------    --------------  -----  \n",
      " 0   age       303 non-null    int64  \n",
      " 1   sex       303 non-null    int64  \n",
      " 2   cp        303 non-null    int64  \n",
      " 3   trestbps  303 non-null    int64  \n",
      " 4   chol      303 non-null    int64  \n",
      " 5   fbs       303 non-null    int64  \n",
      " 6   restecg   303 non-null    int64  \n",
      " 7   thalach   303 non-null    int64  \n",
      " 8   exang     303 non-null    int64  \n",
      " 9   oldpeak   303 non-null    float64\n",
      " 10  slope     303 non-null    int64  \n",
      " 11  ca        303 non-null    int64  \n",
      " 12  thal      303 non-null    int64  \n",
      " 13  target    303 non-null    int64  \n",
      "dtypes: float64(1), int64(13)\n",
      "memory usage: 33.3 KB\n"
     ]
    }
   ],
   "source": [
    "df.info()"
   ]
  },
  {
   "cell_type": "markdown",
   "metadata": {},
   "source": [
    "### Heart Disease Frequency according to Gender"
   ]
  },
  {
   "cell_type": "code",
   "execution_count": 19,
   "metadata": {},
   "outputs": [
    {
     "data": {
      "text/plain": [
       "1    207\n",
       "0     96\n",
       "Name: sex, dtype: int64"
      ]
     },
     "execution_count": 19,
     "metadata": {},
     "output_type": "execute_result"
    }
   ],
   "source": [
    "df.sex.value_counts()"
   ]
  },
  {
   "cell_type": "code",
   "execution_count": 20,
   "metadata": {},
   "outputs": [
    {
     "data": {
      "text/html": [
       "<div>\n",
       "<style scoped>\n",
       "    .dataframe tbody tr th:only-of-type {\n",
       "        vertical-align: middle;\n",
       "    }\n",
       "\n",
       "    .dataframe tbody tr th {\n",
       "        vertical-align: top;\n",
       "    }\n",
       "\n",
       "    .dataframe thead th {\n",
       "        text-align: right;\n",
       "    }\n",
       "</style>\n",
       "<table border=\"1\" class=\"dataframe\">\n",
       "  <thead>\n",
       "    <tr style=\"text-align: right;\">\n",
       "      <th>sex</th>\n",
       "      <th>0</th>\n",
       "      <th>1</th>\n",
       "    </tr>\n",
       "    <tr>\n",
       "      <th>target</th>\n",
       "      <th></th>\n",
       "      <th></th>\n",
       "    </tr>\n",
       "  </thead>\n",
       "  <tbody>\n",
       "    <tr>\n",
       "      <th>0</th>\n",
       "      <td>24</td>\n",
       "      <td>114</td>\n",
       "    </tr>\n",
       "    <tr>\n",
       "      <th>1</th>\n",
       "      <td>72</td>\n",
       "      <td>93</td>\n",
       "    </tr>\n",
       "  </tbody>\n",
       "</table>\n",
       "</div>"
      ],
      "text/plain": [
       "sex      0    1\n",
       "target         \n",
       "0       24  114\n",
       "1       72   93"
      ]
     },
     "execution_count": 20,
     "metadata": {},
     "output_type": "execute_result"
    }
   ],
   "source": [
    "# Comparing target column with sex column\n",
    "pd.crosstab(df.target, df.sex)"
   ]
  },
  {
   "cell_type": "code",
   "execution_count": 29,
   "metadata": {},
   "outputs": [
    {
     "data": {
      "image/png": "[encoded data removed]",
      "text/plain": [
       "<Figure size 720x432 with 1 Axes>"
      ]
     },
     "metadata": {
      "needs_background": "light"
     },
     "output_type": "display_data"
    }
   ],
   "source": [
    "pd.crosstab(df.target, df.sex).plot(kind=\"bar\", \n",
    "                                    figsize=(10,6), \n",
    "                                    color=[\"firebrick\", \"aquamarine\"])\n",
    "plt.xticks(rotation=0); # for keeping the labels on the x-axis vertical"
   ]
  },
  {
   "cell_type": "code",
   "execution_count": 30,
   "metadata": {},
   "outputs": [
    {
     "data": {
      "image/png": "[encoded data removed]",
      "text/plain": [
       "<Figure size 720x432 with 1 Axes>"
      ]
     },
     "metadata": {
      "needs_background": "light"
     },
     "output_type": "display_data"
    }
   ],
   "source": [
    "pd.crosstab(df.target, df.sex).plot(kind=\"bar\", figsize=(10,6), color=[\"firebrick\", \"aquamarine\"])\n",
    "\n",
    "# Adding some attributes to it\n",
    "plt.title(\"Heart Disease Frequency for Sex\")\n",
    "plt.xlabel(\"0 = No Disease, 1 = Disease\")\n",
    "plt.ylabel(\"Amount\")\n",
    "plt.legend([\"Female\", \"Male\"])\n",
    "plt.xticks(rotation=0);"
   ]
  },
  {
   "cell_type": "markdown",
   "metadata": {},
   "source": [
    "### Age vs Max Heart rate for Heart Disease"
   ]
  },
  {
   "cell_type": "code",
   "execution_count": 31,
   "metadata": {},
   "outputs": [
    {
     "data": {
      "image/png": "[encoded data removed]",
      "text/plain": [
       "<Figure size 720x432 with 1 Axes>"
      ]
     },
     "metadata": {
      "needs_background": "light"
     },
     "output_type": "display_data"
    }
   ],
   "source": [
    "plt.figure(figsize=(10,6))\n",
    "\n",
    "# Starting with positve examples\n",
    "plt.scatter(df.age[df.target==1], \n",
    "            df.thalach[df.target==1], \n",
    "            c=\"firebrick\")\n",
    "\n",
    "# Now for negative examples, we want them on the same plot, so we call plt again\n",
    "plt.scatter(df.age[df.target==0], \n",
    "            df.thalach[df.target==0], \n",
    "            c=\"aquamarine\")\n",
    "\n",
    "# Adding some helpful info\n",
    "plt.title(\"Heart Disease in function of Age and Max Heart Rate\")\n",
    "plt.xlabel(\"Age\")\n",
    "plt.legend([\"Disease\", \"No Disease\"])\n",
    "plt.ylabel(\"Max Heart Rate\");"
   ]
  },
  {
   "cell_type": "markdown",
   "metadata": {},
   "source": [
    "### Age distribution"
   ]
  },
  {
   "cell_type": "code",
   "execution_count": 32,
   "metadata": {},
   "outputs": [
    {
     "data": {
      "image/png": "[encoded data removed]",
      "text/plain": [
       "<Figure size 432x288 with 1 Axes>"
      ]
     },
     "metadata": {
      "needs_background": "light"
     },
     "output_type": "display_data"
    }
   ],
   "source": [
    "# Histograms are a great way to check the distribution of a variable\n",
    "df.age.plot.hist(edgecolor='black', bins=15)\n",
    "plt.title('Age Distribution')\n",
    "plt.xlabel('Age');"
   ]
  },
  {
   "cell_type": "markdown",
   "metadata": {},
   "source": [
    "**Ah, it's normally distributed**"
   ]
  },
  {
   "cell_type": "code",
   "execution_count": 33,
   "metadata": {},
   "outputs": [
    {
     "data": {
      "text/html": [
       "<div>\n",
       "<style scoped>\n",
       "    .dataframe tbody tr th:only-of-type {\n",
       "        vertical-align: middle;\n",
       "    }\n",
       "\n",
       "    .dataframe tbody tr th {\n",
       "        vertical-align: top;\n",
       "    }\n",
       "\n",
       "    .dataframe thead th {\n",
       "        text-align: right;\n",
       "    }\n",
       "</style>\n",
       "<table border=\"1\" class=\"dataframe\">\n",
       "  <thead>\n",
       "    <tr style=\"text-align: right;\">\n",
       "      <th>target</th>\n",
       "      <th>0</th>\n",
       "      <th>1</th>\n",
       "    </tr>\n",
       "    <tr>\n",
       "      <th>cp</th>\n",
       "      <th></th>\n",
       "      <th></th>\n",
       "    </tr>\n",
       "  </thead>\n",
       "  <tbody>\n",
       "    <tr>\n",
       "      <th>0</th>\n",
       "      <td>104</td>\n",
       "      <td>39</td>\n",
       "    </tr>\n",
       "    <tr>\n",
       "      <th>1</th>\n",
       "      <td>9</td>\n",
       "      <td>41</td>\n",
       "    </tr>\n",
       "    <tr>\n",
       "      <th>2</th>\n",
       "      <td>18</td>\n",
       "      <td>69</td>\n",
       "    </tr>\n",
       "    <tr>\n",
       "      <th>3</th>\n",
       "      <td>7</td>\n",
       "      <td>16</td>\n",
       "    </tr>\n",
       "  </tbody>\n",
       "</table>\n",
       "</div>"
      ],
      "text/plain": [
       "target    0   1\n",
       "cp             \n",
       "0       104  39\n",
       "1         9  41\n",
       "2        18  69\n",
       "3         7  16"
      ]
     },
     "execution_count": 33,
     "metadata": {},
     "output_type": "execute_result"
    }
   ],
   "source": [
    "pd.crosstab(df.cp, df.target)"
   ]
  },
  {
   "cell_type": "code",
   "execution_count": 34,
   "metadata": {},
   "outputs": [
    {
     "data": {
      "image/png": "[encoded data removed]",
      "text/plain": [
       "<Figure size 720x432 with 1 Axes>"
      ]
     },
     "metadata": {
      "needs_background": "light"
     },
     "output_type": "display_data"
    }
   ],
   "source": [
    "pd.crosstab(df.cp, df.target).plot(kind=\"bar\", \n",
    "                                   figsize=(10,6), \n",
    "                                   color=[\"aquamarine\", \"firebrick\"])\n",
    "\n",
    "# Adding attributes to the plot\n",
    "plt.title(\"Heart Disease Frequency Per Chest Pain Type\")\n",
    "plt.xlabel(\"Chest Pain Type\")\n",
    "plt.ylabel(\"Frequency\")\n",
    "plt.legend([\"No Disease\", \"Disease\"])\n",
    "plt.xticks(rotation = 0);"
   ]
  },
  {
   "cell_type": "markdown",
   "metadata": {},
   "source": [
    "### Let's check the correlation between the various independent variables"
   ]
  },
  {
   "cell_type": "code",
   "execution_count": 35,
   "metadata": {},
   "outputs": [
    {
     "data": {
      "text/html": [
       "<div>\n",
       "<style scoped>\n",
       "    .dataframe tbody tr th:only-of-type {\n",
       "        vertical-align: middle;\n",
       "    }\n",
       "\n",
       "    .dataframe tbody tr th {\n",
       "        vertical-align: top;\n",
       "    }\n",
       "\n",
       "    .dataframe thead th {\n",
       "        text-align: right;\n",
       "    }\n",
       "</style>\n",
       "<table border=\"1\" class=\"dataframe\">\n",
       "  <thead>\n",
       "    <tr style=\"text-align: right;\">\n",
       "      <th></th>\n",
       "      <th>age</th>\n",
       "      <th>sex</th>\n",
       "      <th>cp</th>\n",
       "      <th>trestbps</th>\n",
       "      <th>chol</th>\n",
       "      <th>fbs</th>\n",
       "      <th>restecg</th>\n",
       "      <th>thalach</th>\n",
       "      <th>exang</th>\n",
       "      <th>oldpeak</th>\n",
       "      <th>slope</th>\n",
       "      <th>ca</th>\n",
       "      <th>thal</th>\n",
       "      <th>target</th>\n",
       "    </tr>\n",
       "  </thead>\n",
       "  <tbody>\n",
       "    <tr>\n",
       "      <th>age</th>\n",
       "      <td>1.000000</td>\n",
       "      <td>-0.098447</td>\n",
       "      <td>-0.068653</td>\n",
       "      <td>0.279351</td>\n",
       "      <td>0.213678</td>\n",
       "      <td>0.121308</td>\n",
       "      <td>-0.116211</td>\n",
       "      <td>-0.398522</td>\n",
       "      <td>0.096801</td>\n",
       "      <td>0.210013</td>\n",
       "      <td>-0.168814</td>\n",
       "      <td>0.276326</td>\n",
       "      <td>0.068001</td>\n",
       "      <td>-0.225439</td>\n",
       "    </tr>\n",
       "    <tr>\n",
       "      <th>sex</th>\n",
       "      <td>-0.098447</td>\n",
       "      <td>1.000000</td>\n",
       "      <td>-0.049353</td>\n",
       "      <td>-0.056769</td>\n",
       "      <td>-0.197912</td>\n",
       "      <td>0.045032</td>\n",
       "      <td>-0.058196</td>\n",
       "      <td>-0.044020</td>\n",
       "      <td>0.141664</td>\n",
       "      <td>0.096093</td>\n",
       "      <td>-0.030711</td>\n",
       "      <td>0.118261</td>\n",
       "      <td>0.210041</td>\n",
       "      <td>-0.280937</td>\n",
       "    </tr>\n",
       "    <tr>\n",
       "      <th>cp</th>\n",
       "      <td>-0.068653</td>\n",
       "      <td>-0.049353</td>\n",
       "      <td>1.000000</td>\n",
       "      <td>0.047608</td>\n",
       "      <td>-0.076904</td>\n",
       "      <td>0.094444</td>\n",
       "      <td>0.044421</td>\n",
       "      <td>0.295762</td>\n",
       "      <td>-0.394280</td>\n",
       "      <td>-0.149230</td>\n",
       "      <td>0.119717</td>\n",
       "      <td>-0.181053</td>\n",
       "      <td>-0.161736</td>\n",
       "      <td>0.433798</td>\n",
       "    </tr>\n",
       "    <tr>\n",
       "      <th>trestbps</th>\n",
       "      <td>0.279351</td>\n",
       "      <td>-0.056769</td>\n",
       "      <td>0.047608</td>\n",
       "      <td>1.000000</td>\n",
       "      <td>0.123174</td>\n",
       "      <td>0.177531</td>\n",
       "      <td>-0.114103</td>\n",
       "      <td>-0.046698</td>\n",
       "      <td>0.067616</td>\n",
       "      <td>0.193216</td>\n",
       "      <td>-0.121475</td>\n",
       "      <td>0.101389</td>\n",
       "      <td>0.062210</td>\n",
       "      <td>-0.144931</td>\n",
       "    </tr>\n",
       "    <tr>\n",
       "      <th>chol</th>\n",
       "      <td>0.213678</td>\n",
       "      <td>-0.197912</td>\n",
       "      <td>-0.076904</td>\n",
       "      <td>0.123174</td>\n",
       "      <td>1.000000</td>\n",
       "      <td>0.013294</td>\n",
       "      <td>-0.151040</td>\n",
       "      <td>-0.009940</td>\n",
       "      <td>0.067023</td>\n",
       "      <td>0.053952</td>\n",
       "      <td>-0.004038</td>\n",
       "      <td>0.070511</td>\n",
       "      <td>0.098803</td>\n",
       "      <td>-0.085239</td>\n",
       "    </tr>\n",
       "    <tr>\n",
       "      <th>fbs</th>\n",
       "      <td>0.121308</td>\n",
       "      <td>0.045032</td>\n",
       "      <td>0.094444</td>\n",
       "      <td>0.177531</td>\n",
       "      <td>0.013294</td>\n",
       "      <td>1.000000</td>\n",
       "      <td>-0.084189</td>\n",
       "      <td>-0.008567</td>\n",
       "      <td>0.025665</td>\n",
       "      <td>0.005747</td>\n",
       "      <td>-0.059894</td>\n",
       "      <td>0.137979</td>\n",
       "      <td>-0.032019</td>\n",
       "      <td>-0.028046</td>\n",
       "    </tr>\n",
       "    <tr>\n",
       "      <th>restecg</th>\n",
       "      <td>-0.116211</td>\n",
       "      <td>-0.058196</td>\n",
       "      <td>0.044421</td>\n",
       "      <td>-0.114103</td>\n",
       "      <td>-0.151040</td>\n",
       "      <td>-0.084189</td>\n",
       "      <td>1.000000</td>\n",
       "      <td>0.044123</td>\n",
       "      <td>-0.070733</td>\n",
       "      <td>-0.058770</td>\n",
       "      <td>0.093045</td>\n",
       "      <td>-0.072042</td>\n",
       "      <td>-0.011981</td>\n",
       "      <td>0.137230</td>\n",
       "    </tr>\n",
       "    <tr>\n",
       "      <th>thalach</th>\n",
       "      <td>-0.398522</td>\n",
       "      <td>-0.044020</td>\n",
       "      <td>0.295762</td>\n",
       "      <td>-0.046698</td>\n",
       "      <td>-0.009940</td>\n",
       "      <td>-0.008567</td>\n",
       "      <td>0.044123</td>\n",
       "      <td>1.000000</td>\n",
       "      <td>-0.378812</td>\n",
       "      <td>-0.344187</td>\n",
       "      <td>0.386784</td>\n",
       "      <td>-0.213177</td>\n",
       "      <td>-0.096439</td>\n",
       "      <td>0.421741</td>\n",
       "    </tr>\n",
       "    <tr>\n",
       "      <th>exang</th>\n",
       "      <td>0.096801</td>\n",
       "      <td>0.141664</td>\n",
       "      <td>-0.394280</td>\n",
       "      <td>0.067616</td>\n",
       "      <td>0.067023</td>\n",
       "      <td>0.025665</td>\n",
       "      <td>-0.070733</td>\n",
       "      <td>-0.378812</td>\n",
       "      <td>1.000000</td>\n",
       "      <td>0.288223</td>\n",
       "      <td>-0.257748</td>\n",
       "      <td>0.115739</td>\n",
       "      <td>0.206754</td>\n",
       "      <td>-0.436757</td>\n",
       "    </tr>\n",
       "    <tr>\n",
       "      <th>oldpeak</th>\n",
       "      <td>0.210013</td>\n",
       "      <td>0.096093</td>\n",
       "      <td>-0.149230</td>\n",
       "      <td>0.193216</td>\n",
       "      <td>0.053952</td>\n",
       "      <td>0.005747</td>\n",
       "      <td>-0.058770</td>\n",
       "      <td>-0.344187</td>\n",
       "      <td>0.288223</td>\n",
       "      <td>1.000000</td>\n",
       "      <td>-0.577537</td>\n",
       "      <td>0.222682</td>\n",
       "      <td>0.210244</td>\n",
       "      <td>-0.430696</td>\n",
       "    </tr>\n",
       "    <tr>\n",
       "      <th>slope</th>\n",
       "      <td>-0.168814</td>\n",
       "      <td>-0.030711</td>\n",
       "      <td>0.119717</td>\n",
       "      <td>-0.121475</td>\n",
       "      <td>-0.004038</td>\n",
       "      <td>-0.059894</td>\n",
       "      <td>0.093045</td>\n",
       "      <td>0.386784</td>\n",
       "      <td>-0.257748</td>\n",
       "      <td>-0.577537</td>\n",
       "      <td>1.000000</td>\n",
       "      <td>-0.080155</td>\n",
       "      <td>-0.104764</td>\n",
       "      <td>0.345877</td>\n",
       "    </tr>\n",
       "    <tr>\n",
       "      <th>ca</th>\n",
       "      <td>0.276326</td>\n",
       "      <td>0.118261</td>\n",
       "      <td>-0.181053</td>\n",
       "      <td>0.101389</td>\n",
       "      <td>0.070511</td>\n",
       "      <td>0.137979</td>\n",
       "      <td>-0.072042</td>\n",
       "      <td>-0.213177</td>\n",
       "      <td>0.115739</td>\n",
       "      <td>0.222682</td>\n",
       "      <td>-0.080155</td>\n",
       "      <td>1.000000</td>\n",
       "      <td>0.151832</td>\n",
       "      <td>-0.391724</td>\n",
       "    </tr>\n",
       "    <tr>\n",
       "      <th>thal</th>\n",
       "      <td>0.068001</td>\n",
       "      <td>0.210041</td>\n",
       "      <td>-0.161736</td>\n",
       "      <td>0.062210</td>\n",
       "      <td>0.098803</td>\n",
       "      <td>-0.032019</td>\n",
       "      <td>-0.011981</td>\n",
       "      <td>-0.096439</td>\n",
       "      <td>0.206754</td>\n",
       "      <td>0.210244</td>\n",
       "      <td>-0.104764</td>\n",
       "      <td>0.151832</td>\n",
       "      <td>1.000000</td>\n",
       "      <td>-0.344029</td>\n",
       "    </tr>\n",
       "    <tr>\n",
       "      <th>target</th>\n",
       "      <td>-0.225439</td>\n",
       "      <td>-0.280937</td>\n",
       "      <td>0.433798</td>\n",
       "      <td>-0.144931</td>\n",
       "      <td>-0.085239</td>\n",
       "      <td>-0.028046</td>\n",
       "      <td>0.137230</td>\n",
       "      <td>0.421741</td>\n",
       "      <td>-0.436757</td>\n",
       "      <td>-0.430696</td>\n",
       "      <td>0.345877</td>\n",
       "      <td>-0.391724</td>\n",
       "      <td>-0.344029</td>\n",
       "      <td>1.000000</td>\n",
       "    </tr>\n",
       "  </tbody>\n",
       "</table>\n",
       "</div>"
      ],
      "text/plain": [
       "               age       sex        cp  trestbps      chol       fbs  \\\n",
       "age       1.000000 -0.098447 -0.068653  0.279351  0.213678  0.121308   \n",
       "sex      -0.098447  1.000000 -0.049353 -0.056769 -0.197912  0.045032   \n",
       "cp       -0.068653 -0.049353  1.000000  0.047608 -0.076904  0.094444   \n",
       "trestbps  0.279351 -0.056769  0.047608  1.000000  0.123174  0.177531   \n",
       "chol      0.213678 -0.197912 -0.076904  0.123174  1.000000  0.013294   \n",
       "fbs       0.121308  0.045032  0.094444  0.177531  0.013294  1.000000   \n",
       "restecg  -0.116211 -0.058196  0.044421 -0.114103 -0.151040 -0.084189   \n",
       "thalach  -0.398522 -0.044020  0.295762 -0.046698 -0.009940 -0.008567   \n",
       "exang     0.096801  0.141664 -0.394280  0.067616  0.067023  0.025665   \n",
       "oldpeak   0.210013  0.096093 -0.149230  0.193216  0.053952  0.005747   \n",
       "slope    -0.168814 -0.030711  0.119717 -0.121475 -0.004038 -0.059894   \n",
       "ca        0.276326  0.118261 -0.181053  0.101389  0.070511  0.137979   \n",
       "thal      0.068001  0.210041 -0.161736  0.062210  0.098803 -0.032019   \n",
       "target   -0.225439 -0.280937  0.433798 -0.144931 -0.085239 -0.028046   \n",
       "\n",
       "           restecg   thalach     exang   oldpeak     slope        ca  \\\n",
       "age      -0.116211 -0.398522  0.096801  0.210013 -0.168814  0.276326   \n",
       "sex      -0.058196 -0.044020  0.141664  0.096093 -0.030711  0.118261   \n",
       "cp        0.044421  0.295762 -0.394280 -0.149230  0.119717 -0.181053   \n",
       "trestbps -0.114103 -0.046698  0.067616  0.193216 -0.121475  0.101389   \n",
       "chol     -0.151040 -0.009940  0.067023  0.053952 -0.004038  0.070511   \n",
       "fbs      -0.084189 -0.008567  0.025665  0.005747 -0.059894  0.137979   \n",
       "restecg   1.000000  0.044123 -0.070733 -0.058770  0.093045 -0.072042   \n",
       "thalach   0.044123  1.000000 -0.378812 -0.344187  0.386784 -0.213177   \n",
       "exang    -0.070733 -0.378812  1.000000  0.288223 -0.257748  0.115739   \n",
       "oldpeak  -0.058770 -0.344187  0.288223  1.000000 -0.577537  0.222682   \n",
       "slope     0.093045  0.386784 -0.257748 -0.577537  1.000000 -0.080155   \n",
       "ca       -0.072042 -0.213177  0.115739  0.222682 -0.080155  1.000000   \n",
       "thal     -0.011981 -0.096439  0.206754  0.210244 -0.104764  0.151832   \n",
       "target    0.137230  0.421741 -0.436757 -0.430696  0.345877 -0.391724   \n",
       "\n",
       "              thal    target  \n",
       "age       0.068001 -0.225439  \n",
       "sex       0.210041 -0.280937  \n",
       "cp       -0.161736  0.433798  \n",
       "trestbps  0.062210 -0.144931  \n",
       "chol      0.098803 -0.085239  \n",
       "fbs      -0.032019 -0.028046  \n",
       "restecg  -0.011981  0.137230  \n",
       "thalach  -0.096439  0.421741  \n",
       "exang     0.206754 -0.436757  \n",
       "oldpeak   0.210244 -0.430696  \n",
       "slope    -0.104764  0.345877  \n",
       "ca        0.151832 -0.391724  \n",
       "thal      1.000000 -0.344029  \n",
       "target   -0.344029  1.000000  "
      ]
     },
     "execution_count": 35,
     "metadata": {},
     "output_type": "execute_result"
    }
   ],
   "source": [
    "corr_matrix = df.corr()\n",
    "corr_matrix "
   ]
  },
  {
   "cell_type": "code",
   "execution_count": 36,
   "metadata": {},
   "outputs": [
    {
     "data": {
      "image/png": "[encoded data removed]",
      "text/plain": [
       "<Figure size 1080x720 with 2 Axes>"
      ]
     },
     "metadata": {
      "needs_background": "light"
     },
     "output_type": "display_data"
    }
   ],
   "source": [
    "corr_matrix = df.corr()\n",
    "plt.figure(figsize=(15, 10))\n",
    "sns.heatmap(corr_matrix, \n",
    "            annot=True, \n",
    "            linewidths=0.5, \n",
    "            fmt= \".2f\", \n",
    "            cmap=\"YlGnBu\")\n",
    "plt.title('Correlation');"
   ]
  },
  {
   "cell_type": "markdown",
   "metadata": {},
   "source": [
    "### Model formualtion"
   ]
  },
  {
   "cell_type": "code",
   "execution_count": 41,
   "metadata": {},
   "outputs": [],
   "source": [
    "# Independent variables\n",
    "X = df.drop(\"target\", axis=1)\n",
    "\n",
    "# Target variable / dependent variable\n",
    "y = df.target.values"
   ]
  },
  {
   "cell_type": "code",
   "execution_count": 43,
   "metadata": {},
   "outputs": [
    {
     "data": {
      "text/html": [
       "<div>\n",
       "<style scoped>\n",
       "    .dataframe tbody tr th:only-of-type {\n",
       "        vertical-align: middle;\n",
       "    }\n",
       "\n",
       "    .dataframe tbody tr th {\n",
       "        vertical-align: top;\n",
       "    }\n",
       "\n",
       "    .dataframe thead th {\n",
       "        text-align: right;\n",
       "    }\n",
       "</style>\n",
       "<table border=\"1\" class=\"dataframe\">\n",
       "  <thead>\n",
       "    <tr style=\"text-align: right;\">\n",
       "      <th></th>\n",
       "      <th>age</th>\n",
       "      <th>sex</th>\n",
       "      <th>cp</th>\n",
       "      <th>trestbps</th>\n",
       "      <th>chol</th>\n",
       "      <th>fbs</th>\n",
       "      <th>restecg</th>\n",
       "      <th>thalach</th>\n",
       "      <th>exang</th>\n",
       "      <th>oldpeak</th>\n",
       "      <th>slope</th>\n",
       "      <th>ca</th>\n",
       "      <th>thal</th>\n",
       "    </tr>\n",
       "  </thead>\n",
       "  <tbody>\n",
       "    <tr>\n",
       "      <th>0</th>\n",
       "      <td>63</td>\n",
       "      <td>1</td>\n",
       "      <td>3</td>\n",
       "      <td>145</td>\n",
       "      <td>233</td>\n",
       "      <td>1</td>\n",
       "      <td>0</td>\n",
       "      <td>150</td>\n",
       "      <td>0</td>\n",
       "      <td>2.3</td>\n",
       "      <td>0</td>\n",
       "      <td>0</td>\n",
       "      <td>1</td>\n",
       "    </tr>\n",
       "    <tr>\n",
       "      <th>1</th>\n",
       "      <td>37</td>\n",
       "      <td>1</td>\n",
       "      <td>2</td>\n",
       "      <td>130</td>\n",
       "      <td>250</td>\n",
       "      <td>0</td>\n",
       "      <td>1</td>\n",
       "      <td>187</td>\n",
       "      <td>0</td>\n",
       "      <td>3.5</td>\n",
       "      <td>0</td>\n",
       "      <td>0</td>\n",
       "      <td>2</td>\n",
       "    </tr>\n",
       "    <tr>\n",
       "      <th>2</th>\n",
       "      <td>41</td>\n",
       "      <td>0</td>\n",
       "      <td>1</td>\n",
       "      <td>130</td>\n",
       "      <td>204</td>\n",
       "      <td>0</td>\n",
       "      <td>0</td>\n",
       "      <td>172</td>\n",
       "      <td>0</td>\n",
       "      <td>1.4</td>\n",
       "      <td>2</td>\n",
       "      <td>0</td>\n",
       "      <td>2</td>\n",
       "    </tr>\n",
       "    <tr>\n",
       "      <th>3</th>\n",
       "      <td>56</td>\n",
       "      <td>1</td>\n",
       "      <td>1</td>\n",
       "      <td>120</td>\n",
       "      <td>236</td>\n",
       "      <td>0</td>\n",
       "      <td>1</td>\n",
       "      <td>178</td>\n",
       "      <td>0</td>\n",
       "      <td>0.8</td>\n",
       "      <td>2</td>\n",
       "      <td>0</td>\n",
       "      <td>2</td>\n",
       "    </tr>\n",
       "    <tr>\n",
       "      <th>4</th>\n",
       "      <td>57</td>\n",
       "      <td>0</td>\n",
       "      <td>0</td>\n",
       "      <td>120</td>\n",
       "      <td>354</td>\n",
       "      <td>0</td>\n",
       "      <td>1</td>\n",
       "      <td>163</td>\n",
       "      <td>1</td>\n",
       "      <td>0.6</td>\n",
       "      <td>2</td>\n",
       "      <td>0</td>\n",
       "      <td>2</td>\n",
       "    </tr>\n",
       "  </tbody>\n",
       "</table>\n",
       "</div>"
      ],
      "text/plain": [
       "   age  sex  cp  trestbps  chol  fbs  restecg  thalach  exang  oldpeak  slope  \\\n",
       "0   63    1   3       145   233    1        0      150      0      2.3      0   \n",
       "1   37    1   2       130   250    0        1      187      0      3.5      0   \n",
       "2   41    0   1       130   204    0        0      172      0      1.4      2   \n",
       "3   56    1   1       120   236    0        1      178      0      0.8      2   \n",
       "4   57    0   0       120   354    0        1      163      1      0.6      2   \n",
       "\n",
       "   ca  thal  \n",
       "0   0     1  \n",
       "1   0     2  \n",
       "2   0     2  \n",
       "3   0     2  \n",
       "4   0     2  "
      ]
     },
     "execution_count": 43,
     "metadata": {},
     "output_type": "execute_result"
    }
   ],
   "source": [
    "X.head()"
   ]
  },
  {
   "cell_type": "markdown",
   "metadata": {},
   "source": [
    "### Split that dataset into training and testing"
   ]
  },
  {
   "cell_type": "code",
   "execution_count": 44,
   "metadata": {},
   "outputs": [],
   "source": [
    "# Split into train & test set\n",
    "X_train, X_test, y_train, y_test = train_test_split(X, # independent variables \n",
    "                                                    y, # dependent variable\n",
    "                                            test_size = 0.2) # percentage of data to use for test set"
   ]
  },
  {
   "cell_type": "code",
   "execution_count": 45,
   "metadata": {},
   "outputs": [
    {
     "data": {
      "text/html": [
       "<div>\n",
       "<style scoped>\n",
       "    .dataframe tbody tr th:only-of-type {\n",
       "        vertical-align: middle;\n",
       "    }\n",
       "\n",
       "    .dataframe tbody tr th {\n",
       "        vertical-align: top;\n",
       "    }\n",
       "\n",
       "    .dataframe thead th {\n",
       "        text-align: right;\n",
       "    }\n",
       "</style>\n",
       "<table border=\"1\" class=\"dataframe\">\n",
       "  <thead>\n",
       "    <tr style=\"text-align: right;\">\n",
       "      <th></th>\n",
       "      <th>age</th>\n",
       "      <th>sex</th>\n",
       "      <th>cp</th>\n",
       "      <th>trestbps</th>\n",
       "      <th>chol</th>\n",
       "      <th>fbs</th>\n",
       "      <th>restecg</th>\n",
       "      <th>thalach</th>\n",
       "      <th>exang</th>\n",
       "      <th>oldpeak</th>\n",
       "      <th>slope</th>\n",
       "      <th>ca</th>\n",
       "      <th>thal</th>\n",
       "    </tr>\n",
       "  </thead>\n",
       "  <tbody>\n",
       "    <tr>\n",
       "      <th>6</th>\n",
       "      <td>56</td>\n",
       "      <td>0</td>\n",
       "      <td>1</td>\n",
       "      <td>140</td>\n",
       "      <td>294</td>\n",
       "      <td>0</td>\n",
       "      <td>0</td>\n",
       "      <td>153</td>\n",
       "      <td>0</td>\n",
       "      <td>1.3</td>\n",
       "      <td>1</td>\n",
       "      <td>0</td>\n",
       "      <td>2</td>\n",
       "    </tr>\n",
       "    <tr>\n",
       "      <th>55</th>\n",
       "      <td>52</td>\n",
       "      <td>1</td>\n",
       "      <td>1</td>\n",
       "      <td>134</td>\n",
       "      <td>201</td>\n",
       "      <td>0</td>\n",
       "      <td>1</td>\n",
       "      <td>158</td>\n",
       "      <td>0</td>\n",
       "      <td>0.8</td>\n",
       "      <td>2</td>\n",
       "      <td>1</td>\n",
       "      <td>2</td>\n",
       "    </tr>\n",
       "    <tr>\n",
       "      <th>51</th>\n",
       "      <td>66</td>\n",
       "      <td>1</td>\n",
       "      <td>0</td>\n",
       "      <td>120</td>\n",
       "      <td>302</td>\n",
       "      <td>0</td>\n",
       "      <td>0</td>\n",
       "      <td>151</td>\n",
       "      <td>0</td>\n",
       "      <td>0.4</td>\n",
       "      <td>1</td>\n",
       "      <td>0</td>\n",
       "      <td>2</td>\n",
       "    </tr>\n",
       "    <tr>\n",
       "      <th>203</th>\n",
       "      <td>68</td>\n",
       "      <td>1</td>\n",
       "      <td>2</td>\n",
       "      <td>180</td>\n",
       "      <td>274</td>\n",
       "      <td>1</td>\n",
       "      <td>0</td>\n",
       "      <td>150</td>\n",
       "      <td>1</td>\n",
       "      <td>1.6</td>\n",
       "      <td>1</td>\n",
       "      <td>0</td>\n",
       "      <td>3</td>\n",
       "    </tr>\n",
       "    <tr>\n",
       "      <th>87</th>\n",
       "      <td>46</td>\n",
       "      <td>1</td>\n",
       "      <td>1</td>\n",
       "      <td>101</td>\n",
       "      <td>197</td>\n",
       "      <td>1</td>\n",
       "      <td>1</td>\n",
       "      <td>156</td>\n",
       "      <td>0</td>\n",
       "      <td>0.0</td>\n",
       "      <td>2</td>\n",
       "      <td>0</td>\n",
       "      <td>3</td>\n",
       "    </tr>\n",
       "  </tbody>\n",
       "</table>\n",
       "</div>"
      ],
      "text/plain": [
       "     age  sex  cp  trestbps  chol  fbs  restecg  thalach  exang  oldpeak  \\\n",
       "6     56    0   1       140   294    0        0      153      0      1.3   \n",
       "55    52    1   1       134   201    0        1      158      0      0.8   \n",
       "51    66    1   0       120   302    0        0      151      0      0.4   \n",
       "203   68    1   2       180   274    1        0      150      1      1.6   \n",
       "87    46    1   1       101   197    1        1      156      0      0.0   \n",
       "\n",
       "     slope  ca  thal  \n",
       "6        1   0     2  \n",
       "55       2   1     2  \n",
       "51       1   0     2  \n",
       "203      1   0     3  \n",
       "87       2   0     3  "
      ]
     },
     "execution_count": 45,
     "metadata": {},
     "output_type": "execute_result"
    }
   ],
   "source": [
    "X_train.head()"
   ]
  },
  {
   "cell_type": "code",
   "execution_count": 46,
   "metadata": {},
   "outputs": [
    {
     "data": {
      "text/plain": [
       "(array([1, 1, 1, 0, 1, 1, 0, 1, 0, 1, 1, 1, 1, 1, 1, 0, 0, 1, 0, 0, 0, 0,\n",
       "        1, 1, 1, 1, 0, 1, 1, 0, 0, 0, 1, 1, 1, 0, 0, 0, 0, 0, 1, 1, 0, 1,\n",
       "        1, 1, 1, 0, 0, 1, 0, 1, 0, 1, 0, 1, 1, 1, 1, 1, 1, 0, 1, 1, 1, 0,\n",
       "        1, 1, 0, 1, 1, 1, 1, 0, 0, 0, 0, 0, 1, 0, 0, 0, 0, 0, 1, 1, 1, 1,\n",
       "        0, 0, 0, 0, 1, 1, 0, 1, 0, 1, 1, 1, 0, 0, 1, 1, 1, 0, 0, 1, 0, 1,\n",
       "        0, 0, 0, 1, 1, 0, 0, 1, 1, 0, 0, 1, 0, 1, 0, 0, 1, 1, 1, 1, 0, 1,\n",
       "        1, 1, 0, 1, 1, 1, 1, 1, 0, 0, 1, 0, 1, 1, 0, 0, 0, 1, 0, 0, 1, 1,\n",
       "        1, 0, 0, 0, 0, 0, 0, 1, 0, 1, 0, 0, 1, 1, 1, 1, 1, 1, 0, 1, 1, 1,\n",
       "        1, 0, 0, 0, 1, 0, 1, 1, 0, 0, 0, 0, 1, 1, 1, 1, 0, 1, 1, 0, 1, 1,\n",
       "        0, 0, 1, 1, 1, 0, 0, 1, 0, 0, 0, 1, 0, 0, 1, 0, 1, 1, 1, 0, 1, 1,\n",
       "        1, 1, 0, 0, 1, 1, 0, 1, 0, 1, 1, 1, 1, 1, 0, 1, 1, 0, 0, 0, 0, 1],\n",
       "       dtype=int64),\n",
       " 242)"
      ]
     },
     "execution_count": 46,
     "metadata": {},
     "output_type": "execute_result"
    }
   ],
   "source": [
    "y_train, len(y_train)"
   ]
  },
  {
   "cell_type": "code",
   "execution_count": 47,
   "metadata": {},
   "outputs": [
    {
     "data": {
      "text/html": [
       "<div>\n",
       "<style scoped>\n",
       "    .dataframe tbody tr th:only-of-type {\n",
       "        vertical-align: middle;\n",
       "    }\n",
       "\n",
       "    .dataframe tbody tr th {\n",
       "        vertical-align: top;\n",
       "    }\n",
       "\n",
       "    .dataframe thead th {\n",
       "        text-align: right;\n",
       "    }\n",
       "</style>\n",
       "<table border=\"1\" class=\"dataframe\">\n",
       "  <thead>\n",
       "    <tr style=\"text-align: right;\">\n",
       "      <th></th>\n",
       "      <th>age</th>\n",
       "      <th>sex</th>\n",
       "      <th>cp</th>\n",
       "      <th>trestbps</th>\n",
       "      <th>chol</th>\n",
       "      <th>fbs</th>\n",
       "      <th>restecg</th>\n",
       "      <th>thalach</th>\n",
       "      <th>exang</th>\n",
       "      <th>oldpeak</th>\n",
       "      <th>slope</th>\n",
       "      <th>ca</th>\n",
       "      <th>thal</th>\n",
       "    </tr>\n",
       "  </thead>\n",
       "  <tbody>\n",
       "    <tr>\n",
       "      <th>240</th>\n",
       "      <td>70</td>\n",
       "      <td>1</td>\n",
       "      <td>2</td>\n",
       "      <td>160</td>\n",
       "      <td>269</td>\n",
       "      <td>0</td>\n",
       "      <td>1</td>\n",
       "      <td>112</td>\n",
       "      <td>1</td>\n",
       "      <td>2.9</td>\n",
       "      <td>1</td>\n",
       "      <td>1</td>\n",
       "      <td>3</td>\n",
       "    </tr>\n",
       "    <tr>\n",
       "      <th>180</th>\n",
       "      <td>55</td>\n",
       "      <td>1</td>\n",
       "      <td>0</td>\n",
       "      <td>132</td>\n",
       "      <td>353</td>\n",
       "      <td>0</td>\n",
       "      <td>1</td>\n",
       "      <td>132</td>\n",
       "      <td>1</td>\n",
       "      <td>1.2</td>\n",
       "      <td>1</td>\n",
       "      <td>1</td>\n",
       "      <td>3</td>\n",
       "    </tr>\n",
       "    <tr>\n",
       "      <th>110</th>\n",
       "      <td>64</td>\n",
       "      <td>0</td>\n",
       "      <td>0</td>\n",
       "      <td>180</td>\n",
       "      <td>325</td>\n",
       "      <td>0</td>\n",
       "      <td>1</td>\n",
       "      <td>154</td>\n",
       "      <td>1</td>\n",
       "      <td>0.0</td>\n",
       "      <td>2</td>\n",
       "      <td>0</td>\n",
       "      <td>2</td>\n",
       "    </tr>\n",
       "    <tr>\n",
       "      <th>250</th>\n",
       "      <td>51</td>\n",
       "      <td>1</td>\n",
       "      <td>0</td>\n",
       "      <td>140</td>\n",
       "      <td>298</td>\n",
       "      <td>0</td>\n",
       "      <td>1</td>\n",
       "      <td>122</td>\n",
       "      <td>1</td>\n",
       "      <td>4.2</td>\n",
       "      <td>1</td>\n",
       "      <td>3</td>\n",
       "      <td>3</td>\n",
       "    </tr>\n",
       "    <tr>\n",
       "      <th>20</th>\n",
       "      <td>59</td>\n",
       "      <td>1</td>\n",
       "      <td>0</td>\n",
       "      <td>135</td>\n",
       "      <td>234</td>\n",
       "      <td>0</td>\n",
       "      <td>1</td>\n",
       "      <td>161</td>\n",
       "      <td>0</td>\n",
       "      <td>0.5</td>\n",
       "      <td>1</td>\n",
       "      <td>0</td>\n",
       "      <td>3</td>\n",
       "    </tr>\n",
       "  </tbody>\n",
       "</table>\n",
       "</div>"
      ],
      "text/plain": [
       "     age  sex  cp  trestbps  chol  fbs  restecg  thalach  exang  oldpeak  \\\n",
       "240   70    1   2       160   269    0        1      112      1      2.9   \n",
       "180   55    1   0       132   353    0        1      132      1      1.2   \n",
       "110   64    0   0       180   325    0        1      154      1      0.0   \n",
       "250   51    1   0       140   298    0        1      122      1      4.2   \n",
       "20    59    1   0       135   234    0        1      161      0      0.5   \n",
       "\n",
       "     slope  ca  thal  \n",
       "240      1   1     3  \n",
       "180      1   1     3  \n",
       "110      2   0     2  \n",
       "250      1   3     3  \n",
       "20       1   0     3  "
      ]
     },
     "execution_count": 47,
     "metadata": {},
     "output_type": "execute_result"
    }
   ],
   "source": [
    "X_test.head()"
   ]
  },
  {
   "cell_type": "code",
   "execution_count": 48,
   "metadata": {},
   "outputs": [
    {
     "data": {
      "text/plain": [
       "(array([0, 0, 1, 0, 1, 1, 1, 1, 0, 0, 1, 1, 0, 0, 1, 1, 1, 0, 0, 0, 1, 0,\n",
       "        0, 1, 0, 0, 0, 1, 1, 1, 1, 1, 0, 0, 0, 0, 0, 1, 1, 0, 0, 1, 1, 1,\n",
       "        1, 1, 1, 1, 0, 0, 1, 0, 1, 0, 0, 1, 0, 1, 0, 1, 0], dtype=int64),\n",
       " 61)"
      ]
     },
     "execution_count": 48,
     "metadata": {},
     "output_type": "execute_result"
    }
   ],
   "source": [
    "y_test, len(y_test)"
   ]
  },
  {
   "cell_type": "markdown",
   "metadata": {},
   "source": [
    "### Model selection"
   ]
  },
  {
   "cell_type": "markdown",
   "metadata": {},
   "source": [
    " - Logistic Regression\n",
    " - Gaussian Naive Bayes\n",
    " - RandomForest Classifier"
   ]
  },
  {
   "cell_type": "markdown",
   "metadata": {},
   "source": [
    "### Logistic Regression"
   ]
  },
  {
   "cell_type": "code",
   "execution_count": 50,
   "metadata": {},
   "outputs": [],
   "source": [
    "model_scores = { }\n",
    "\n",
    "pipe = make_pipeline(StandardScaler(), LogisticRegression())\n",
    "\n",
    "pipe.fit(X_train, y_train)  # apply scaling on training data\n",
    "\n",
    "model_scores['LogisticRegression'] = pipe.score(X_test, y_test)  # apply scaling on testing data, without leaking training data."
   ]
  },
  {
   "cell_type": "markdown",
   "metadata": {},
   "source": [
    "### Gaussian Naive Bayes"
   ]
  },
  {
   "cell_type": "code",
   "execution_count": 51,
   "metadata": {},
   "outputs": [],
   "source": [
    "pipe = make_pipeline(StandardScaler(), GaussianNB())\n",
    "\n",
    "pipe.fit(X_train, y_train)  # apply scaling on training data\n",
    "\n",
    "model_scores['GaussianNB'] = pipe.score(X_test, y_test) # apply scaling on testing data, without leaking training data"
   ]
  },
  {
   "cell_type": "markdown",
   "metadata": {},
   "source": [
    "### Random Forest Classifier"
   ]
  },
  {
   "cell_type": "code",
   "execution_count": 52,
   "metadata": {},
   "outputs": [],
   "source": [
    "pipe = make_pipeline(StandardScaler(), RandomForestClassifier())\n",
    "\n",
    "pipe.fit(X_train, y_train)  # apply scaling on training data\n",
    "\n",
    "model_scores[' RandomForestClassifier'] = pipe.score(X_test, y_test)  # apply scaling on testing data, without leaking training data"
   ]
  },
  {
   "cell_type": "code",
   "execution_count": 53,
   "metadata": {},
   "outputs": [
    {
     "data": {
      "text/plain": [
       "{'LogisticRegression': 0.7377049180327869,\n",
       " 'GaussianNB': 0.7540983606557377,\n",
       " ' RandomForestClassifier': 0.7540983606557377}"
      ]
     },
     "execution_count": 53,
     "metadata": {},
     "output_type": "execute_result"
    }
   ],
   "source": [
    "model_scores"
   ]
  },
  {
   "cell_type": "markdown",
   "metadata": {},
   "source": [
    "### Model comparison"
   ]
  },
  {
   "cell_type": "code",
   "execution_count": 55,
   "metadata": {},
   "outputs": [
    {
     "data": {
      "image/png": "[encoded data removed]",
      "text/plain": [
       "<Figure size 864x432 with 1 Axes>"
      ]
     },
     "metadata": {
      "needs_background": "light"
     },
     "output_type": "display_data"
    }
   ],
   "source": [
    "model_compare = pd.DataFrame(model_scores, index=['accuracy'])\n",
    "model_compare.T.plot.bar(figsize=(12,6))\n",
    "plt.xticks(rotation=0)\n",
    "plt.legend(loc='center left', bbox_to_anchor=(1, 0.5))\n",
    "plt.tight_layout;"
   ]
  },
  {
   "cell_type": "markdown",
   "metadata": {},
   "source": [
    "### Hyperparameter tuning and cross-validation"
   ]
  },
  {
   "cell_type": "markdown",
   "metadata": {},
   "source": [
    "Tuning models with `RandomizedSearchCV`"
   ]
  },
  {
   "cell_type": "code",
   "execution_count": 58,
   "metadata": {},
   "outputs": [],
   "source": [
    "# LogisticRegression hyperparameters\n",
    "\n",
    "log_reg_grid = {\"C\": np.logspace(-4, 4, 20),\n",
    "                \"solver\": [\"liblinear\"]}\n",
    "\n",
    "# Gaussian Naive Bayes hyperparameters\n",
    "nb_grid = {\n",
    "    'var_smoothing': np.logspace(0,-9, num=100)\n",
    "}\n",
    "\n",
    "# RandomForestClassifier hyperparameters\n",
    "\n",
    "rf_grid = {\"n_estimators\": np.arange(10, 1000, 50),\n",
    "           \"max_depth\": [None, 3, 5, 10],\n",
    "           \"min_samples_split\": np.arange(2, 20, 2),\n",
    "           \"min_samples_leaf\": np.arange(1, 20, 2)}"
   ]
  },
  {
   "cell_type": "markdown",
   "metadata": {},
   "source": [
    "### Tuning Logistic Regression"
   ]
  },
  {
   "cell_type": "code",
   "execution_count": 59,
   "metadata": {},
   "outputs": [
    {
     "name": "stdout",
     "output_type": "stream",
     "text": [
      "Fitting 5 folds for each of 20 candidates, totalling 100 fits\n"
     ]
    },
    {
     "name": "stderr",
     "output_type": "stream",
     "text": [
      "[Parallel(n_jobs=1)]: Using backend SequentialBackend with 1 concurrent workers.\n",
      "[Parallel(n_jobs=1)]: Done 100 out of 100 | elapsed:    0.6s finished\n"
     ]
    }
   ],
   "source": [
    "#  random hyperparameter search for LogisticRegression\n",
    "lr = RandomizedSearchCV(LogisticRegression(),\n",
    "                                param_distributions=log_reg_grid,\n",
    "                                cv=5,\n",
    "                                n_iter=20,\n",
    "                                verbose=True)\n",
    "\n",
    "lr.fit(X_train, y_train);"
   ]
  },
  {
   "cell_type": "code",
   "execution_count": 60,
   "metadata": {},
   "outputs": [
    {
     "data": {
      "text/plain": [
       "{'solver': 'liblinear', 'C': 0.23357214690901212}"
      ]
     },
     "execution_count": 60,
     "metadata": {},
     "output_type": "execute_result"
    }
   ],
   "source": [
    "lr.best_params_"
   ]
  },
  {
   "cell_type": "code",
   "execution_count": 61,
   "metadata": {},
   "outputs": [
    {
     "data": {
      "text/plain": [
       "0.8032786885245902"
      ]
     },
     "execution_count": 61,
     "metadata": {},
     "output_type": "execute_result"
    }
   ],
   "source": [
    "lr.score(X_test, y_test)"
   ]
  },
  {
   "cell_type": "markdown",
   "metadata": {},
   "source": [
    "**After tuning the LogisticRegression Model's accuracy increased from 73% to 80%**"
   ]
  },
  {
   "cell_type": "markdown",
   "metadata": {},
   "source": [
    "### Tuning Gaussian Naive Bayes"
   ]
  },
  {
   "cell_type": "code",
   "execution_count": 66,
   "metadata": {},
   "outputs": [
    {
     "name": "stdout",
     "output_type": "stream",
     "text": [
      "Fitting 5 folds for each of 20 candidates, totalling 100 fits\n"
     ]
    },
    {
     "name": "stderr",
     "output_type": "stream",
     "text": [
      "[Parallel(n_jobs=1)]: Using backend SequentialBackend with 1 concurrent workers.\n",
      "[Parallel(n_jobs=1)]: Done 100 out of 100 | elapsed:    0.4s finished\n"
     ]
    }
   ],
   "source": [
    "# random hyperparameter search for RandomForestClassifier\n",
    "gb = RandomizedSearchCV(GaussianNB(),\n",
    "                           param_distributions=nb_grid,\n",
    "                           cv=5,\n",
    "                           n_iter=20,\n",
    "                           verbose=True)\n",
    "\n",
    "gb.fit(X_train, y_train);"
   ]
  },
  {
   "cell_type": "code",
   "execution_count": 67,
   "metadata": {},
   "outputs": [
    {
     "data": {
      "text/plain": [
       "{'var_smoothing': 0.0001}"
      ]
     },
     "execution_count": 67,
     "metadata": {},
     "output_type": "execute_result"
    }
   ],
   "source": [
    "gb.best_params_"
   ]
  },
  {
   "cell_type": "code",
   "execution_count": 68,
   "metadata": {},
   "outputs": [
    {
     "data": {
      "text/plain": [
       "0.7540983606557377"
      ]
     },
     "execution_count": 68,
     "metadata": {},
     "output_type": "execute_result"
    }
   ],
   "source": [
    "gb.score(X_test, y_test)"
   ]
  },
  {
   "cell_type": "markdown",
   "metadata": {},
   "source": [
    "**It's interesting to note that hyperparamater tuning failed to improve the model using Naive Bayes**"
   ]
  },
  {
   "cell_type": "markdown",
   "metadata": {},
   "source": [
    "### Tuning Random Forest Classifier"
   ]
  },
  {
   "cell_type": "code",
   "execution_count": 63,
   "metadata": {},
   "outputs": [
    {
     "name": "stdout",
     "output_type": "stream",
     "text": [
      "Fitting 5 folds for each of 20 candidates, totalling 100 fits\n"
     ]
    },
    {
     "name": "stderr",
     "output_type": "stream",
     "text": [
      "[Parallel(n_jobs=1)]: Using backend SequentialBackend with 1 concurrent workers.\n",
      "[Parallel(n_jobs=1)]: Done 100 out of 100 | elapsed:  1.0min finished\n"
     ]
    }
   ],
   "source": [
    "# random hyperparameter search for RandomForestClassifier\n",
    "rf = RandomizedSearchCV(RandomForestClassifier(),\n",
    "                           param_distributions=rf_grid,\n",
    "                           cv=5,\n",
    "                           n_iter=20,\n",
    "                           verbose=True)\n",
    "\n",
    "rf.fit(X_train, y_train);"
   ]
  },
  {
   "cell_type": "code",
   "execution_count": 64,
   "metadata": {},
   "outputs": [
    {
     "data": {
      "text/plain": [
       "{'n_estimators': 810,\n",
       " 'min_samples_split': 18,\n",
       " 'min_samples_leaf': 1,\n",
       " 'max_depth': None}"
      ]
     },
     "execution_count": 64,
     "metadata": {},
     "output_type": "execute_result"
    }
   ],
   "source": [
    "rf.best_params_"
   ]
  },
  {
   "cell_type": "code",
   "execution_count": 65,
   "metadata": {},
   "outputs": [
    {
     "data": {
      "text/plain": [
       "0.7704918032786885"
      ]
     },
     "execution_count": 65,
     "metadata": {},
     "output_type": "execute_result"
    }
   ],
   "source": [
    "rf.score(X_test, y_test)"
   ]
  },
  {
   "cell_type": "markdown",
   "metadata": {},
   "source": [
    "**The model accuracy increased from 75% tO 77% using Random Forest Classifier**"
   ]
  },
  {
   "cell_type": "markdown",
   "metadata": {},
   "source": [
    "Tuning using `GridSearchCV`"
   ]
  },
  {
   "cell_type": "markdown",
   "metadata": {},
   "source": [
    "### Logistic Regression"
   ]
  },
  {
   "cell_type": "code",
   "execution_count": 71,
   "metadata": {},
   "outputs": [
    {
     "name": "stdout",
     "output_type": "stream",
     "text": [
      "Fitting 5 folds for each of 20 candidates, totalling 100 fits\n"
     ]
    },
    {
     "name": "stderr",
     "output_type": "stream",
     "text": [
      "[Parallel(n_jobs=1)]: Using backend SequentialBackend with 1 concurrent workers.\n",
      "[Parallel(n_jobs=1)]: Done 100 out of 100 | elapsed:    0.4s finished\n"
     ]
    }
   ],
   "source": [
    "# Different LogisticRegression hyperparameters\n",
    "log_reg_grid = {\"C\": np.logspace(-4, 4, 20),\n",
    "                \"solver\": [\"liblinear\"]}\n",
    "\n",
    "# grid hyperparameter search for LogisticRegression\n",
    "gs_log_reg = GridSearchCV(LogisticRegression(),\n",
    "                          param_grid=log_reg_grid,\n",
    "                          cv=5,\n",
    "                          verbose=True)\n",
    "\n",
    "gs_log_reg.fit(X_train, y_train);"
   ]
  },
  {
   "cell_type": "code",
   "execution_count": 72,
   "metadata": {},
   "outputs": [
    {
     "data": {
      "text/plain": [
       "{'C': 0.23357214690901212, 'solver': 'liblinear'}"
      ]
     },
     "execution_count": 72,
     "metadata": {},
     "output_type": "execute_result"
    }
   ],
   "source": [
    "# best parameters \n",
    "gs_log_reg.best_params_"
   ]
  },
  {
   "cell_type": "code",
   "execution_count": 73,
   "metadata": {},
   "outputs": [
    {
     "data": {
      "text/plain": [
       "0.8032786885245902"
      ]
     },
     "execution_count": 73,
     "metadata": {},
     "output_type": "execute_result"
    }
   ],
   "source": [
    "# Evaluate the model\n",
    "gs_log_reg.score(X_test, y_test)"
   ]
  },
  {
   "cell_type": "markdown",
   "metadata": {},
   "source": [
    "**Model accuracy remained at 80% and so far gave us the best accuracy among other two classification methods**"
   ]
  },
  {
   "cell_type": "markdown",
   "metadata": {},
   "source": [
    "### Model Evaluation"
   ]
  },
  {
   "cell_type": "code",
   "execution_count": 75,
   "metadata": {},
   "outputs": [],
   "source": [
    "y_preds = gs_log_reg.predict(X_test)"
   ]
  },
  {
   "cell_type": "markdown",
   "metadata": {},
   "source": [
    "### ROC curve and AUC scores"
   ]
  },
  {
   "cell_type": "code",
   "execution_count": 77,
   "metadata": {},
   "outputs": [
    {
     "data": {
      "image/png": "[encoded data removed]",
      "text/plain": [
       "<Figure size 432x288 with 1 Axes>"
      ]
     },
     "metadata": {
      "needs_background": "light"
     },
     "output_type": "display_data"
    }
   ],
   "source": [
    "# Import ROC curve function from metrics module\n",
    "from sklearn.metrics import plot_roc_curve\n",
    "\n",
    "# Plot ROC curve and calculate AUC metric\n",
    "plot_roc_curve(gs_log_reg, X_test, y_test);"
   ]
  },
  {
   "cell_type": "markdown",
   "metadata": {},
   "source": [
    "### Confusion Matrix"
   ]
  },
  {
   "cell_type": "code",
   "execution_count": 78,
   "metadata": {},
   "outputs": [
    {
     "name": "stdout",
     "output_type": "stream",
     "text": [
      "[[19 11]\n",
      " [ 1 30]]\n"
     ]
    }
   ],
   "source": [
    "# Display confusion matrix\n",
    "print(confusion_matrix(y_test, y_preds))"
   ]
  },
  {
   "cell_type": "code",
   "execution_count": 80,
   "metadata": {},
   "outputs": [
    {
     "data": {
      "image/png": "[encoded data removed]",
      "text/plain": [
       "<Figure size 216x216 with 1 Axes>"
      ]
     },
     "metadata": {},
     "output_type": "display_data"
    }
   ],
   "source": [
    "sns.set(font_scale=1.5) # Increasing font size\n",
    "\n",
    "def plot_confusion_matrix(y_test, y_preds):\n",
    "    \"\"\"\n",
    "    Plots a confusion matrix using Seaborn's heatmap().\n",
    "    \"\"\"\n",
    "    fig, ax = plt.subplots(figsize=(3, 3))\n",
    "    ax = sns.heatmap(confusion_matrix(y_test, y_preds),\n",
    "                     annot=True, # Annotating the boxes\n",
    "                     cbar=False)\n",
    "    plt.xlabel(\"true label\")\n",
    "    plt.ylabel(\"predicted label\")\n",
    "    \n",
    "plot_confusion_matrix(y_test, y_preds)"
   ]
  },
  {
   "cell_type": "markdown",
   "metadata": {},
   "source": [
    "### Classification report"
   ]
  },
  {
   "cell_type": "code",
   "execution_count": 83,
   "metadata": {},
   "outputs": [
    {
     "name": "stdout",
     "output_type": "stream",
     "text": [
      "              precision    recall  f1-score   support\n",
      "\n",
      "           0       0.95      0.63      0.76        30\n",
      "           1       0.73      0.97      0.83        31\n",
      "\n",
      "    accuracy                           0.80        61\n",
      "   macro avg       0.84      0.80      0.80        61\n",
      "weighted avg       0.84      0.80      0.80        61\n",
      "\n"
     ]
    }
   ],
   "source": [
    "print(classification_report(y_test, y_preds))"
   ]
  },
  {
   "cell_type": "code",
   "execution_count": 84,
   "metadata": {},
   "outputs": [
    {
     "data": {
      "text/plain": [
       "{'C': 0.23357214690901212, 'solver': 'liblinear'}"
      ]
     },
     "execution_count": 84,
     "metadata": {},
     "output_type": "execute_result"
    }
   ],
   "source": [
    "# Best hyperparameters\n",
    "gs_log_reg.best_params_"
   ]
  },
  {
   "cell_type": "code",
   "execution_count": 86,
   "metadata": {},
   "outputs": [],
   "source": [
    "# Instantiating model with best hyperparameters (found with GridSearchCV)\n",
    "model = LogisticRegression(C=0.23357214690901212,\n",
    "                         solver=\"liblinear\")"
   ]
  },
  {
   "cell_type": "markdown",
   "metadata": {},
   "source": [
    "### Accuracy"
   ]
  },
  {
   "cell_type": "code",
   "execution_count": 87,
   "metadata": {},
   "outputs": [
    {
     "data": {
      "text/plain": [
       "array([0.81967213, 0.90163934, 0.8852459 , 0.88333333, 0.75      ])"
      ]
     },
     "execution_count": 87,
     "metadata": {},
     "output_type": "execute_result"
    }
   ],
   "source": [
    "# Cross-validated accuracy score\n",
    "cv_acc = cross_val_score(model,\n",
    "                         X,\n",
    "                         y,\n",
    "                         cv=5, # 5-fold cross-validation\n",
    "                         scoring=\"accuracy\") # accuracy as scoring\n",
    "cv_acc"
   ]
  },
  {
   "cell_type": "code",
   "execution_count": 92,
   "metadata": {},
   "outputs": [
    {
     "data": {
      "text/plain": [
       "0.8479781420765027"
      ]
     },
     "execution_count": 92,
     "metadata": {},
     "output_type": "execute_result"
    }
   ],
   "source": [
    "cv_acc = np.mean(cv_acc)\n",
    "cv_acc"
   ]
  },
  {
   "cell_type": "markdown",
   "metadata": {},
   "source": [
    "### Precison"
   ]
  },
  {
   "cell_type": "code",
   "execution_count": 93,
   "metadata": {},
   "outputs": [
    {
     "data": {
      "text/plain": [
       "0.8215873015873015"
      ]
     },
     "execution_count": 93,
     "metadata": {},
     "output_type": "execute_result"
    }
   ],
   "source": [
    "# Cross-validated precision score\n",
    "cv_precision = np.mean(cross_val_score(clf,\n",
    "                                       X,\n",
    "                                       y,\n",
    "                                       cv=5, # 5-fold cross-validation\n",
    "                                       scoring=\"precision\")) # precision as scoring\n",
    "cv_precision"
   ]
  },
  {
   "cell_type": "markdown",
   "metadata": {},
   "source": [
    "### Recall"
   ]
  },
  {
   "cell_type": "code",
   "execution_count": 94,
   "metadata": {},
   "outputs": [
    {
     "data": {
      "text/plain": [
       "0.9272727272727274"
      ]
     },
     "execution_count": 94,
     "metadata": {},
     "output_type": "execute_result"
    }
   ],
   "source": [
    "# Cross-validated recall score\n",
    "cv_recall = np.mean(cross_val_score(clf,\n",
    "                                    X,\n",
    "                                    y,\n",
    "                                    cv=5, # 5-fold cross-validation\n",
    "                                    scoring=\"recall\")) # recall as scoring\n",
    "cv_recall"
   ]
  },
  {
   "cell_type": "markdown",
   "metadata": {},
   "source": [
    "### F1 Score"
   ]
  },
  {
   "cell_type": "code",
   "execution_count": 95,
   "metadata": {},
   "outputs": [
    {
     "data": {
      "text/plain": [
       "0.8705403543192143"
      ]
     },
     "execution_count": 95,
     "metadata": {},
     "output_type": "execute_result"
    }
   ],
   "source": [
    "# Cross-validated F1 score\n",
    "cv_f1 = np.mean(cross_val_score(clf,\n",
    "                                X,\n",
    "                                y,\n",
    "                                cv=5, # 5-fold cross-validation\n",
    "                                scoring=\"f1\")) # f1 as scoring\n",
    "cv_f1"
   ]
  },
  {
   "cell_type": "code",
   "execution_count": 96,
   "metadata": {},
   "outputs": [
    {
     "data": {
      "image/png": "[encoded data removed]",
      "text/plain": [
       "<Figure size 432x288 with 1 Axes>"
      ]
     },
     "metadata": {},
     "output_type": "display_data"
    }
   ],
   "source": [
    "# Visualizing cross-validated metrics\n",
    "cv_metrics = pd.DataFrame({\"Accuracy\": cv_acc,\n",
    "                            \"Precision\": cv_precision,\n",
    "                            \"Recall\": cv_recall,\n",
    "                            \"F1\": cv_f1},\n",
    "                          index=[0])\n",
    "cv_metrics.T.plot.bar(title=\"Cross-Validated Metrics\", legend=False)\n",
    "plt.xticks(rotation=0);"
   ]
  },
  {
   "cell_type": "markdown",
   "metadata": {},
   "source": [
    "**So, the model accuracy has a 84% using Logistic Regression. Now I am going to try if I can further improve using neural networks**"
   ]
  },
  {
   "cell_type": "code",
   "execution_count": 97,
   "metadata": {},
   "outputs": [],
   "source": [
    "import tensorflow as tf\n",
    "from tensorflow.keras.layers import Dense\n",
    "from tensorflow.keras.models import Sequential"
   ]
  },
  {
   "cell_type": "code",
   "execution_count": 98,
   "metadata": {},
   "outputs": [
    {
     "data": {
      "text/html": [
       "<div>\n",
       "<style scoped>\n",
       "    .dataframe tbody tr th:only-of-type {\n",
       "        vertical-align: middle;\n",
       "    }\n",
       "\n",
       "    .dataframe tbody tr th {\n",
       "        vertical-align: top;\n",
       "    }\n",
       "\n",
       "    .dataframe thead th {\n",
       "        text-align: right;\n",
       "    }\n",
       "</style>\n",
       "<table border=\"1\" class=\"dataframe\">\n",
       "  <thead>\n",
       "    <tr style=\"text-align: right;\">\n",
       "      <th></th>\n",
       "      <th>age</th>\n",
       "      <th>sex</th>\n",
       "      <th>cp</th>\n",
       "      <th>trestbps</th>\n",
       "      <th>chol</th>\n",
       "      <th>fbs</th>\n",
       "      <th>restecg</th>\n",
       "      <th>thalach</th>\n",
       "      <th>exang</th>\n",
       "      <th>oldpeak</th>\n",
       "      <th>slope</th>\n",
       "      <th>ca</th>\n",
       "      <th>thal</th>\n",
       "    </tr>\n",
       "  </thead>\n",
       "  <tbody>\n",
       "    <tr>\n",
       "      <th>0</th>\n",
       "      <td>0.197454</td>\n",
       "      <td>0.003134</td>\n",
       "      <td>0.009403</td>\n",
       "      <td>0.454458</td>\n",
       "      <td>0.730267</td>\n",
       "      <td>0.003134</td>\n",
       "      <td>0.000000</td>\n",
       "      <td>0.470129</td>\n",
       "      <td>0.000000</td>\n",
       "      <td>0.007209</td>\n",
       "      <td>0.000000</td>\n",
       "      <td>0.000000</td>\n",
       "      <td>0.003134</td>\n",
       "    </tr>\n",
       "    <tr>\n",
       "      <th>1</th>\n",
       "      <td>0.108748</td>\n",
       "      <td>0.002939</td>\n",
       "      <td>0.005878</td>\n",
       "      <td>0.382088</td>\n",
       "      <td>0.734785</td>\n",
       "      <td>0.000000</td>\n",
       "      <td>0.002939</td>\n",
       "      <td>0.549619</td>\n",
       "      <td>0.000000</td>\n",
       "      <td>0.010287</td>\n",
       "      <td>0.000000</td>\n",
       "      <td>0.000000</td>\n",
       "      <td>0.005878</td>\n",
       "    </tr>\n",
       "    <tr>\n",
       "      <th>2</th>\n",
       "      <td>0.136825</td>\n",
       "      <td>0.000000</td>\n",
       "      <td>0.003337</td>\n",
       "      <td>0.433835</td>\n",
       "      <td>0.680787</td>\n",
       "      <td>0.000000</td>\n",
       "      <td>0.000000</td>\n",
       "      <td>0.573997</td>\n",
       "      <td>0.000000</td>\n",
       "      <td>0.004672</td>\n",
       "      <td>0.006674</td>\n",
       "      <td>0.000000</td>\n",
       "      <td>0.006674</td>\n",
       "    </tr>\n",
       "    <tr>\n",
       "      <th>3</th>\n",
       "      <td>0.172879</td>\n",
       "      <td>0.003087</td>\n",
       "      <td>0.003087</td>\n",
       "      <td>0.370456</td>\n",
       "      <td>0.728563</td>\n",
       "      <td>0.000000</td>\n",
       "      <td>0.003087</td>\n",
       "      <td>0.549509</td>\n",
       "      <td>0.000000</td>\n",
       "      <td>0.002470</td>\n",
       "      <td>0.006174</td>\n",
       "      <td>0.000000</td>\n",
       "      <td>0.006174</td>\n",
       "    </tr>\n",
       "    <tr>\n",
       "      <th>4</th>\n",
       "      <td>0.138431</td>\n",
       "      <td>0.000000</td>\n",
       "      <td>0.000000</td>\n",
       "      <td>0.291434</td>\n",
       "      <td>0.859729</td>\n",
       "      <td>0.000000</td>\n",
       "      <td>0.002429</td>\n",
       "      <td>0.395864</td>\n",
       "      <td>0.002429</td>\n",
       "      <td>0.001457</td>\n",
       "      <td>0.004857</td>\n",
       "      <td>0.000000</td>\n",
       "      <td>0.004857</td>\n",
       "    </tr>\n",
       "    <tr>\n",
       "      <th>...</th>\n",
       "      <td>...</td>\n",
       "      <td>...</td>\n",
       "      <td>...</td>\n",
       "      <td>...</td>\n",
       "      <td>...</td>\n",
       "      <td>...</td>\n",
       "      <td>...</td>\n",
       "      <td>...</td>\n",
       "      <td>...</td>\n",
       "      <td>...</td>\n",
       "      <td>...</td>\n",
       "      <td>...</td>\n",
       "      <td>...</td>\n",
       "    </tr>\n",
       "    <tr>\n",
       "      <th>298</th>\n",
       "      <td>0.183899</td>\n",
       "      <td>0.000000</td>\n",
       "      <td>0.000000</td>\n",
       "      <td>0.451681</td>\n",
       "      <td>0.777537</td>\n",
       "      <td>0.000000</td>\n",
       "      <td>0.003226</td>\n",
       "      <td>0.396834</td>\n",
       "      <td>0.003226</td>\n",
       "      <td>0.000645</td>\n",
       "      <td>0.003226</td>\n",
       "      <td>0.000000</td>\n",
       "      <td>0.009679</td>\n",
       "    </tr>\n",
       "    <tr>\n",
       "      <th>299</th>\n",
       "      <td>0.141409</td>\n",
       "      <td>0.003142</td>\n",
       "      <td>0.009427</td>\n",
       "      <td>0.345667</td>\n",
       "      <td>0.829601</td>\n",
       "      <td>0.000000</td>\n",
       "      <td>0.003142</td>\n",
       "      <td>0.414800</td>\n",
       "      <td>0.000000</td>\n",
       "      <td>0.003771</td>\n",
       "      <td>0.003142</td>\n",
       "      <td>0.000000</td>\n",
       "      <td>0.009427</td>\n",
       "    </tr>\n",
       "    <tr>\n",
       "      <th>300</th>\n",
       "      <td>0.236719</td>\n",
       "      <td>0.003481</td>\n",
       "      <td>0.000000</td>\n",
       "      <td>0.501287</td>\n",
       "      <td>0.671864</td>\n",
       "      <td>0.003481</td>\n",
       "      <td>0.003481</td>\n",
       "      <td>0.490844</td>\n",
       "      <td>0.000000</td>\n",
       "      <td>0.011836</td>\n",
       "      <td>0.003481</td>\n",
       "      <td>0.006962</td>\n",
       "      <td>0.010443</td>\n",
       "    </tr>\n",
       "    <tr>\n",
       "      <th>301</th>\n",
       "      <td>0.253520</td>\n",
       "      <td>0.004448</td>\n",
       "      <td>0.000000</td>\n",
       "      <td>0.578204</td>\n",
       "      <td>0.582651</td>\n",
       "      <td>0.000000</td>\n",
       "      <td>0.004448</td>\n",
       "      <td>0.511488</td>\n",
       "      <td>0.004448</td>\n",
       "      <td>0.005337</td>\n",
       "      <td>0.004448</td>\n",
       "      <td>0.004448</td>\n",
       "      <td>0.013343</td>\n",
       "    </tr>\n",
       "    <tr>\n",
       "      <th>302</th>\n",
       "      <td>0.174968</td>\n",
       "      <td>0.000000</td>\n",
       "      <td>0.003070</td>\n",
       "      <td>0.399051</td>\n",
       "      <td>0.724431</td>\n",
       "      <td>0.000000</td>\n",
       "      <td>0.000000</td>\n",
       "      <td>0.534114</td>\n",
       "      <td>0.000000</td>\n",
       "      <td>0.000000</td>\n",
       "      <td>0.003070</td>\n",
       "      <td>0.003070</td>\n",
       "      <td>0.006139</td>\n",
       "    </tr>\n",
       "  </tbody>\n",
       "</table>\n",
       "<p>303 rows × 13 columns</p>\n",
       "</div>"
      ],
      "text/plain": [
       "          age       sex        cp  trestbps      chol       fbs   restecg  \\\n",
       "0    0.197454  0.003134  0.009403  0.454458  0.730267  0.003134  0.000000   \n",
       "1    0.108748  0.002939  0.005878  0.382088  0.734785  0.000000  0.002939   \n",
       "2    0.136825  0.000000  0.003337  0.433835  0.680787  0.000000  0.000000   \n",
       "3    0.172879  0.003087  0.003087  0.370456  0.728563  0.000000  0.003087   \n",
       "4    0.138431  0.000000  0.000000  0.291434  0.859729  0.000000  0.002429   \n",
       "..        ...       ...       ...       ...       ...       ...       ...   \n",
       "298  0.183899  0.000000  0.000000  0.451681  0.777537  0.000000  0.003226   \n",
       "299  0.141409  0.003142  0.009427  0.345667  0.829601  0.000000  0.003142   \n",
       "300  0.236719  0.003481  0.000000  0.501287  0.671864  0.003481  0.003481   \n",
       "301  0.253520  0.004448  0.000000  0.578204  0.582651  0.000000  0.004448   \n",
       "302  0.174968  0.000000  0.003070  0.399051  0.724431  0.000000  0.000000   \n",
       "\n",
       "      thalach     exang   oldpeak     slope        ca      thal  \n",
       "0    0.470129  0.000000  0.007209  0.000000  0.000000  0.003134  \n",
       "1    0.549619  0.000000  0.010287  0.000000  0.000000  0.005878  \n",
       "2    0.573997  0.000000  0.004672  0.006674  0.000000  0.006674  \n",
       "3    0.549509  0.000000  0.002470  0.006174  0.000000  0.006174  \n",
       "4    0.395864  0.002429  0.001457  0.004857  0.000000  0.004857  \n",
       "..        ...       ...       ...       ...       ...       ...  \n",
       "298  0.396834  0.003226  0.000645  0.003226  0.000000  0.009679  \n",
       "299  0.414800  0.000000  0.003771  0.003142  0.000000  0.009427  \n",
       "300  0.490844  0.000000  0.011836  0.003481  0.006962  0.010443  \n",
       "301  0.511488  0.004448  0.005337  0.004448  0.004448  0.013343  \n",
       "302  0.534114  0.000000  0.000000  0.003070  0.003070  0.006139  \n",
       "\n",
       "[303 rows x 13 columns]"
      ]
     },
     "execution_count": 98,
     "metadata": {},
     "output_type": "execute_result"
    }
   ],
   "source": [
    "X = tf.keras.utils.normalize(X)\n",
    "X"
   ]
  },
  {
   "cell_type": "code",
   "execution_count": 100,
   "metadata": {},
   "outputs": [
    {
     "data": {
      "text/plain": [
       "(303, 13)"
      ]
     },
     "execution_count": 100,
     "metadata": {},
     "output_type": "execute_result"
    }
   ],
   "source": [
    "X.shape"
   ]
  },
  {
   "cell_type": "code",
   "execution_count": 101,
   "metadata": {},
   "outputs": [
    {
     "data": {
      "text/plain": [
       "(303,)"
      ]
     },
     "execution_count": 101,
     "metadata": {},
     "output_type": "execute_result"
    }
   ],
   "source": [
    "y.shape"
   ]
  },
  {
   "cell_type": "code",
   "execution_count": 102,
   "metadata": {},
   "outputs": [],
   "source": [
    "X_train, X_test, y_train, y_test = train_test_split(X,y, test_size=0.25,random_state = 35)"
   ]
  },
  {
   "cell_type": "code",
   "execution_count": 103,
   "metadata": {},
   "outputs": [
    {
     "data": {
      "text/plain": [
       "(227, 13)"
      ]
     },
     "execution_count": 103,
     "metadata": {},
     "output_type": "execute_result"
    }
   ],
   "source": [
    "X_train.shape"
   ]
  },
  {
   "cell_type": "code",
   "execution_count": 105,
   "metadata": {},
   "outputs": [],
   "source": [
    "model = Sequential()\n",
    "\n",
    "model.add(Dense(256,input_shape=(227,13),activation='relu'))\n",
    "model.add(Dense(100,activation='relu'))\n",
    "model.add(Dense(100,activation='relu'))\n",
    "model.add(Dense(100,activation='relu'))\n",
    "model.add(Dense(100,activation='relu'))\n",
    "\n",
    "model.add(Dense(4,activation='softmax'))"
   ]
  },
  {
   "cell_type": "code",
   "execution_count": 106,
   "metadata": {},
   "outputs": [],
   "source": [
    "model.compile(optimizer= 'Adam',\n",
    "              loss = 'sparse_categorical_crossentropy',\n",
    "              metrics = 'accuracy')"
   ]
  },
  {
   "cell_type": "code",
   "execution_count": 107,
   "metadata": {},
   "outputs": [
    {
     "name": "stdout",
     "output_type": "stream",
     "text": [
      "Epoch 1/500\n",
      "WARNING:tensorflow:Model was constructed with shape (None, 227, 13) for input KerasTensor(type_spec=TensorSpec(shape=(None, 227, 13), dtype=tf.float32, name='dense_6_input'), name='dense_6_input', description=\"created by layer 'dense_6_input'\"), but it was called on an input with incompatible shape (None, 13).\n",
      "WARNING:tensorflow:Model was constructed with shape (None, 227, 13) for input KerasTensor(type_spec=TensorSpec(shape=(None, 227, 13), dtype=tf.float32, name='dense_6_input'), name='dense_6_input', description=\"created by layer 'dense_6_input'\"), but it was called on an input with incompatible shape (None, 13).\n",
      "8/8 [==============================] - 3s 13ms/step - loss: 1.3148 - accuracy: 0.4978\n",
      "Epoch 2/500\n",
      "8/8 [==============================] - 0s 3ms/step - loss: 0.9893 - accuracy: 0.5463\n",
      "Epoch 3/500\n",
      "8/8 [==============================] - 0s 3ms/step - loss: 0.7150 - accuracy: 0.5330\n",
      "Epoch 4/500\n",
      "8/8 [==============================] - 0s 4ms/step - loss: 0.7067 - accuracy: 0.4670\n",
      "Epoch 5/500\n",
      "8/8 [==============================] - 0s 5ms/step - loss: 0.7042 - accuracy: 0.4229\n",
      "Epoch 6/500\n",
      "8/8 [==============================] - 0s 3ms/step - loss: 0.7202 - accuracy: 0.5066\n",
      "Epoch 7/500\n",
      "8/8 [==============================] - 0s 3ms/step - loss: 0.6865 - accuracy: 0.5595\n",
      "Epoch 8/500\n",
      "8/8 [==============================] - 0s 3ms/step - loss: 0.6847 - accuracy: 0.5463\n",
      "Epoch 9/500\n",
      "8/8 [==============================] - 0s 3ms/step - loss: 0.7068 - accuracy: 0.4537\n",
      "Epoch 10/500\n",
      "8/8 [==============================] - 0s 3ms/step - loss: 0.6846 - accuracy: 0.5727\n",
      "Epoch 11/500\n",
      "8/8 [==============================] - 0s 3ms/step - loss: 0.6787 - accuracy: 0.5463\n",
      "Epoch 12/500\n",
      "8/8 [==============================] - 0s 3ms/step - loss: 0.6774 - accuracy: 0.5771\n",
      "Epoch 13/500\n",
      "8/8 [==============================] - 0s 3ms/step - loss: 0.6958 - accuracy: 0.4934\n",
      "Epoch 14/500\n",
      "8/8 [==============================] - 0s 3ms/step - loss: 0.6859 - accuracy: 0.5595\n",
      "Epoch 15/500\n",
      "8/8 [==============================] - 0s 3ms/step - loss: 0.6613 - accuracy: 0.6344\n",
      "Epoch 16/500\n",
      "8/8 [==============================] - 0s 3ms/step - loss: 0.6652 - accuracy: 0.6300\n",
      "Epoch 17/500\n",
      "8/8 [==============================] - 0s 3ms/step - loss: 0.6677 - accuracy: 0.5815\n",
      "Epoch 18/500\n",
      "8/8 [==============================] - 0s 3ms/step - loss: 0.6401 - accuracy: 0.6564\n",
      "Epoch 19/500\n",
      "8/8 [==============================] - 0s 4ms/step - loss: 0.6308 - accuracy: 0.6828\n",
      "Epoch 20/500\n",
      "8/8 [==============================] - 0s 4ms/step - loss: 0.6198 - accuracy: 0.6828\n",
      "Epoch 21/500\n",
      "8/8 [==============================] - 0s 3ms/step - loss: 0.5907 - accuracy: 0.6960\n",
      "Epoch 22/500\n",
      "8/8 [==============================] - 0s 3ms/step - loss: 0.5887 - accuracy: 0.7004\n",
      "Epoch 23/500\n",
      "8/8 [==============================] - 0s 3ms/step - loss: 0.5788 - accuracy: 0.6960\n",
      "Epoch 24/500\n",
      "8/8 [==============================] - 0s 4ms/step - loss: 0.6150 - accuracy: 0.6784\n",
      "Epoch 25/500\n",
      "8/8 [==============================] - 0s 4ms/step - loss: 0.6361 - accuracy: 0.6696\n",
      "Epoch 26/500\n",
      "8/8 [==============================] - 0s 3ms/step - loss: 0.5489 - accuracy: 0.7048\n",
      "Epoch 27/500\n",
      "8/8 [==============================] - 0s 3ms/step - loss: 0.5763 - accuracy: 0.6872\n",
      "Epoch 28/500\n",
      "8/8 [==============================] - 0s 4ms/step - loss: 0.5612 - accuracy: 0.7004\n",
      "Epoch 29/500\n",
      "8/8 [==============================] - 0s 4ms/step - loss: 0.5477 - accuracy: 0.7048\n",
      "Epoch 30/500\n",
      "8/8 [==============================] - 0s 5ms/step - loss: 0.5466 - accuracy: 0.7357\n",
      "Epoch 31/500\n",
      "8/8 [==============================] - 0s 4ms/step - loss: 0.5575 - accuracy: 0.6916\n",
      "Epoch 32/500\n",
      "8/8 [==============================] - 0s 4ms/step - loss: 0.5453 - accuracy: 0.7225\n",
      "Epoch 33/500\n",
      "8/8 [==============================] - 0s 4ms/step - loss: 0.5224 - accuracy: 0.7137\n",
      "Epoch 34/500\n",
      "8/8 [==============================] - 0s 4ms/step - loss: 0.5638 - accuracy: 0.7357\n",
      "Epoch 35/500\n",
      "8/8 [==============================] - 0s 4ms/step - loss: 0.5465 - accuracy: 0.7048\n",
      "Epoch 36/500\n",
      "8/8 [==============================] - 0s 3ms/step - loss: 0.5310 - accuracy: 0.7269\n",
      "Epoch 37/500\n",
      "8/8 [==============================] - 0s 3ms/step - loss: 0.5155 - accuracy: 0.7533\n",
      "Epoch 38/500\n",
      "8/8 [==============================] - 0s 4ms/step - loss: 0.5359 - accuracy: 0.7269\n",
      "Epoch 39/500\n",
      "8/8 [==============================] - 0s 4ms/step - loss: 0.5222 - accuracy: 0.7313\n",
      "Epoch 40/500\n",
      "8/8 [==============================] - 0s 4ms/step - loss: 0.5126 - accuracy: 0.7357\n",
      "Epoch 41/500\n",
      "8/8 [==============================] - 0s 4ms/step - loss: 0.5133 - accuracy: 0.7621\n",
      "Epoch 42/500\n",
      "8/8 [==============================] - 0s 4ms/step - loss: 0.4974 - accuracy: 0.7533\n",
      "Epoch 43/500\n",
      "8/8 [==============================] - 0s 4ms/step - loss: 0.5166 - accuracy: 0.7357\n",
      "Epoch 44/500\n",
      "8/8 [==============================] - 0s 4ms/step - loss: 0.5312 - accuracy: 0.7181\n",
      "Epoch 45/500\n",
      "8/8 [==============================] - 0s 4ms/step - loss: 0.4835 - accuracy: 0.7533\n",
      "Epoch 46/500\n",
      "8/8 [==============================] - 0s 4ms/step - loss: 0.5259 - accuracy: 0.7225\n",
      "Epoch 47/500\n",
      "8/8 [==============================] - 0s 4ms/step - loss: 0.5136 - accuracy: 0.7445\n",
      "Epoch 48/500\n",
      "8/8 [==============================] - 0s 4ms/step - loss: 0.5096 - accuracy: 0.7621\n",
      "Epoch 49/500\n",
      "8/8 [==============================] - 0s 4ms/step - loss: 0.4855 - accuracy: 0.7489\n",
      "Epoch 50/500\n",
      "8/8 [==============================] - 0s 4ms/step - loss: 0.4821 - accuracy: 0.7753\n",
      "Epoch 51/500\n",
      "8/8 [==============================] - 0s 4ms/step - loss: 0.4815 - accuracy: 0.7533\n",
      "Epoch 52/500\n",
      "8/8 [==============================] - 0s 4ms/step - loss: 0.4777 - accuracy: 0.7533\n",
      "Epoch 53/500\n",
      "8/8 [==============================] - 0s 4ms/step - loss: 0.4712 - accuracy: 0.7753\n",
      "Epoch 54/500\n",
      "8/8 [==============================] - 0s 4ms/step - loss: 0.4762 - accuracy: 0.7797\n",
      "Epoch 55/500\n",
      "8/8 [==============================] - 0s 4ms/step - loss: 0.5121 - accuracy: 0.7533\n",
      "Epoch 56/500\n",
      "8/8 [==============================] - 0s 4ms/step - loss: 0.4893 - accuracy: 0.7665\n",
      "Epoch 57/500\n",
      "8/8 [==============================] - 0s 4ms/step - loss: 0.4650 - accuracy: 0.7841\n",
      "Epoch 58/500\n",
      "8/8 [==============================] - 0s 3ms/step - loss: 0.5323 - accuracy: 0.7621\n",
      "Epoch 59/500\n",
      "8/8 [==============================] - 0s 4ms/step - loss: 0.4833 - accuracy: 0.7621\n",
      "Epoch 60/500\n",
      "8/8 [==============================] - 0s 4ms/step - loss: 0.4737 - accuracy: 0.7841\n",
      "Epoch 61/500\n",
      "8/8 [==============================] - 0s 4ms/step - loss: 0.4665 - accuracy: 0.7665\n",
      "Epoch 62/500\n",
      "8/8 [==============================] - 0s 4ms/step - loss: 0.5319 - accuracy: 0.7357\n",
      "Epoch 63/500\n",
      "8/8 [==============================] - 0s 5ms/step - loss: 0.4979 - accuracy: 0.7357\n",
      "Epoch 64/500\n",
      "8/8 [==============================] - 0s 4ms/step - loss: 0.5328 - accuracy: 0.7401\n",
      "Epoch 65/500\n",
      "8/8 [==============================] - 0s 4ms/step - loss: 0.4592 - accuracy: 0.7709\n",
      "Epoch 66/500\n",
      "8/8 [==============================] - 0s 4ms/step - loss: 0.4686 - accuracy: 0.7797\n",
      "Epoch 67/500\n",
      "8/8 [==============================] - 0s 3ms/step - loss: 0.4713 - accuracy: 0.7621\n",
      "Epoch 68/500\n",
      "8/8 [==============================] - 0s 3ms/step - loss: 0.4440 - accuracy: 0.7841\n",
      "Epoch 69/500\n",
      "8/8 [==============================] - 0s 3ms/step - loss: 0.5164 - accuracy: 0.7489\n",
      "Epoch 70/500\n",
      "8/8 [==============================] - 0s 3ms/step - loss: 0.4695 - accuracy: 0.7577\n",
      "Epoch 71/500\n",
      "8/8 [==============================] - 0s 3ms/step - loss: 0.4447 - accuracy: 0.7841\n",
      "Epoch 72/500\n",
      "8/8 [==============================] - 0s 3ms/step - loss: 0.4624 - accuracy: 0.7577\n",
      "Epoch 73/500\n",
      "8/8 [==============================] - 0s 3ms/step - loss: 0.4577 - accuracy: 0.7621\n",
      "Epoch 74/500\n",
      "8/8 [==============================] - 0s 4ms/step - loss: 0.4334 - accuracy: 0.8062\n",
      "Epoch 75/500\n",
      "8/8 [==============================] - 0s 4ms/step - loss: 0.4377 - accuracy: 0.7974\n",
      "Epoch 76/500\n",
      "8/8 [==============================] - 0s 4ms/step - loss: 0.4263 - accuracy: 0.8018\n",
      "Epoch 77/500\n",
      "8/8 [==============================] - 0s 3ms/step - loss: 0.4476 - accuracy: 0.7841\n",
      "Epoch 78/500\n",
      "8/8 [==============================] - 0s 3ms/step - loss: 0.5061 - accuracy: 0.7577\n",
      "Epoch 79/500\n",
      "8/8 [==============================] - 0s 3ms/step - loss: 0.4704 - accuracy: 0.7357\n",
      "Epoch 80/500\n",
      "8/8 [==============================] - 0s 3ms/step - loss: 0.4527 - accuracy: 0.8062\n",
      "Epoch 81/500\n",
      "8/8 [==============================] - 0s 4ms/step - loss: 0.4555 - accuracy: 0.7974\n",
      "Epoch 82/500\n",
      "8/8 [==============================] - 0s 4ms/step - loss: 0.4364 - accuracy: 0.8106\n",
      "Epoch 83/500\n",
      "8/8 [==============================] - 0s 4ms/step - loss: 0.4964 - accuracy: 0.7357\n",
      "Epoch 84/500\n",
      "8/8 [==============================] - 0s 3ms/step - loss: 0.5053 - accuracy: 0.7621\n",
      "Epoch 85/500\n",
      "8/8 [==============================] - 0s 3ms/step - loss: 0.4629 - accuracy: 0.7797\n",
      "Epoch 86/500\n",
      "8/8 [==============================] - 0s 3ms/step - loss: 0.4759 - accuracy: 0.7753\n",
      "Epoch 87/500\n",
      "8/8 [==============================] - 0s 4ms/step - loss: 0.4444 - accuracy: 0.8106\n",
      "Epoch 88/500\n",
      "8/8 [==============================] - 0s 4ms/step - loss: 0.4334 - accuracy: 0.8018\n",
      "Epoch 89/500\n",
      "8/8 [==============================] - 0s 4ms/step - loss: 0.4210 - accuracy: 0.8106\n",
      "Epoch 90/500\n",
      "8/8 [==============================] - 0s 5ms/step - loss: 0.5151 - accuracy: 0.7445\n",
      "Epoch 91/500\n",
      "8/8 [==============================] - 0s 4ms/step - loss: 0.4769 - accuracy: 0.7577\n",
      "Epoch 92/500\n",
      "8/8 [==============================] - 0s 3ms/step - loss: 0.5672 - accuracy: 0.7269\n",
      "Epoch 93/500\n",
      "8/8 [==============================] - 0s 3ms/step - loss: 0.4905 - accuracy: 0.7621\n",
      "Epoch 94/500\n",
      "8/8 [==============================] - 0s 4ms/step - loss: 0.4703 - accuracy: 0.7885\n",
      "Epoch 95/500\n",
      "8/8 [==============================] - 0s 4ms/step - loss: 0.4205 - accuracy: 0.8106\n",
      "Epoch 96/500\n",
      "8/8 [==============================] - 0s 4ms/step - loss: 0.4434 - accuracy: 0.7797\n",
      "Epoch 97/500\n",
      "8/8 [==============================] - 0s 4ms/step - loss: 0.4599 - accuracy: 0.7885\n",
      "Epoch 98/500\n",
      "8/8 [==============================] - 0s 5ms/step - loss: 0.4553 - accuracy: 0.7753\n",
      "Epoch 99/500\n",
      "8/8 [==============================] - 0s 5ms/step - loss: 0.4554 - accuracy: 0.7753\n",
      "Epoch 100/500\n",
      "8/8 [==============================] - 0s 4ms/step - loss: 0.4159 - accuracy: 0.8062\n",
      "Epoch 101/500\n",
      "8/8 [==============================] - 0s 4ms/step - loss: 0.4186 - accuracy: 0.8018\n",
      "Epoch 102/500\n",
      "8/8 [==============================] - 0s 4ms/step - loss: 0.4423 - accuracy: 0.7885\n",
      "Epoch 103/500\n",
      "8/8 [==============================] - 0s 4ms/step - loss: 0.4489 - accuracy: 0.7930\n",
      "Epoch 104/500\n",
      "8/8 [==============================] - 0s 3ms/step - loss: 0.4743 - accuracy: 0.7665\n",
      "Epoch 105/500\n",
      "8/8 [==============================] - 0s 3ms/step - loss: 0.4128 - accuracy: 0.8238\n",
      "Epoch 106/500\n",
      "8/8 [==============================] - 0s 3ms/step - loss: 0.4266 - accuracy: 0.8106\n",
      "Epoch 107/500\n",
      "8/8 [==============================] - 0s 3ms/step - loss: 0.4046 - accuracy: 0.8106\n",
      "Epoch 108/500\n",
      "8/8 [==============================] - 0s 4ms/step - loss: 0.4163 - accuracy: 0.8018\n",
      "Epoch 109/500\n",
      "8/8 [==============================] - 0s 4ms/step - loss: 0.4289 - accuracy: 0.8062\n",
      "Epoch 110/500\n",
      "8/8 [==============================] - 0s 4ms/step - loss: 0.4320 - accuracy: 0.8150\n",
      "Epoch 111/500\n",
      "8/8 [==============================] - 0s 3ms/step - loss: 0.4380 - accuracy: 0.8018\n",
      "Epoch 112/500\n",
      "8/8 [==============================] - 0s 4ms/step - loss: 0.5177 - accuracy: 0.7577\n",
      "Epoch 113/500\n",
      "8/8 [==============================] - 0s 3ms/step - loss: 0.4659 - accuracy: 0.7753\n",
      "Epoch 114/500\n",
      "8/8 [==============================] - 0s 3ms/step - loss: 0.4441 - accuracy: 0.7621\n",
      "Epoch 115/500\n",
      "8/8 [==============================] - 0s 3ms/step - loss: 0.4095 - accuracy: 0.8194\n",
      "Epoch 116/500\n",
      "8/8 [==============================] - 0s 3ms/step - loss: 0.3981 - accuracy: 0.8194\n",
      "Epoch 117/500\n",
      "8/8 [==============================] - 0s 3ms/step - loss: 0.3979 - accuracy: 0.8062\n",
      "Epoch 118/500\n",
      "8/8 [==============================] - 0s 3ms/step - loss: 0.4063 - accuracy: 0.8282\n",
      "Epoch 119/500\n",
      "8/8 [==============================] - 0s 3ms/step - loss: 0.4897 - accuracy: 0.7533\n",
      "Epoch 120/500\n",
      "8/8 [==============================] - 0s 3ms/step - loss: 0.4613 - accuracy: 0.7753\n",
      "Epoch 121/500\n",
      "8/8 [==============================] - 0s 5ms/step - loss: 0.4298 - accuracy: 0.8018\n",
      "Epoch 122/500\n",
      "8/8 [==============================] - 0s 4ms/step - loss: 0.4711 - accuracy: 0.7709\n",
      "Epoch 123/500\n",
      "8/8 [==============================] - 0s 5ms/step - loss: 0.4258 - accuracy: 0.8018\n",
      "Epoch 124/500\n",
      "8/8 [==============================] - 0s 4ms/step - loss: 0.5093 - accuracy: 0.7445\n",
      "Epoch 125/500\n",
      "8/8 [==============================] - 0s 4ms/step - loss: 0.4397 - accuracy: 0.7885\n",
      "Epoch 126/500\n",
      "8/8 [==============================] - 0s 4ms/step - loss: 0.4446 - accuracy: 0.8194\n",
      "Epoch 127/500\n",
      "8/8 [==============================] - 0s 4ms/step - loss: 0.4206 - accuracy: 0.8062\n",
      "Epoch 128/500\n",
      "8/8 [==============================] - 0s 4ms/step - loss: 0.4424 - accuracy: 0.8018\n",
      "Epoch 129/500\n",
      "8/8 [==============================] - 0s 4ms/step - loss: 0.3994 - accuracy: 0.8238\n",
      "Epoch 130/500\n",
      "8/8 [==============================] - 0s 4ms/step - loss: 0.3949 - accuracy: 0.8282\n",
      "Epoch 131/500\n",
      "8/8 [==============================] - 0s 4ms/step - loss: 0.3912 - accuracy: 0.8414\n",
      "Epoch 132/500\n",
      "8/8 [==============================] - 0s 3ms/step - loss: 0.3900 - accuracy: 0.8194\n",
      "Epoch 133/500\n",
      "8/8 [==============================] - 0s 4ms/step - loss: 0.3929 - accuracy: 0.8370\n",
      "Epoch 134/500\n",
      "8/8 [==============================] - 0s 4ms/step - loss: 0.3897 - accuracy: 0.8326\n",
      "Epoch 135/500\n",
      "8/8 [==============================] - 0s 4ms/step - loss: 0.4151 - accuracy: 0.8018\n",
      "Epoch 136/500\n",
      "8/8 [==============================] - 0s 4ms/step - loss: 0.4229 - accuracy: 0.8194\n",
      "Epoch 137/500\n",
      "8/8 [==============================] - 0s 4ms/step - loss: 0.4402 - accuracy: 0.7930\n",
      "Epoch 138/500\n",
      "8/8 [==============================] - 0s 4ms/step - loss: 0.5071 - accuracy: 0.7357\n",
      "Epoch 139/500\n",
      "8/8 [==============================] - 0s 4ms/step - loss: 0.4681 - accuracy: 0.7797\n",
      "Epoch 140/500\n",
      "8/8 [==============================] - 0s 4ms/step - loss: 0.3931 - accuracy: 0.8238\n",
      "Epoch 141/500\n",
      "8/8 [==============================] - 0s 4ms/step - loss: 0.4044 - accuracy: 0.8326\n",
      "Epoch 142/500\n",
      "8/8 [==============================] - 0s 4ms/step - loss: 0.3878 - accuracy: 0.8238\n",
      "Epoch 143/500\n",
      "8/8 [==============================] - 0s 3ms/step - loss: 0.4007 - accuracy: 0.8150\n",
      "Epoch 144/500\n",
      "8/8 [==============================] - 0s 3ms/step - loss: 0.4268 - accuracy: 0.8062\n",
      "Epoch 145/500\n",
      "8/8 [==============================] - 0s 9ms/step - loss: 0.3927 - accuracy: 0.8106\n",
      "Epoch 146/500\n",
      "8/8 [==============================] - 0s 5ms/step - loss: 0.3849 - accuracy: 0.8238\n",
      "Epoch 147/500\n",
      "8/8 [==============================] - 0s 3ms/step - loss: 0.3786 - accuracy: 0.8370\n",
      "Epoch 148/500\n",
      "8/8 [==============================] - 0s 3ms/step - loss: 0.3753 - accuracy: 0.8458\n",
      "Epoch 149/500\n",
      "8/8 [==============================] - 0s 4ms/step - loss: 0.3838 - accuracy: 0.8370\n",
      "Epoch 150/500\n",
      "8/8 [==============================] - 0s 4ms/step - loss: 0.3711 - accuracy: 0.8502\n",
      "Epoch 151/500\n",
      "8/8 [==============================] - 0s 3ms/step - loss: 0.3809 - accuracy: 0.8414\n",
      "Epoch 152/500\n",
      "8/8 [==============================] - 0s 3ms/step - loss: 0.3760 - accuracy: 0.8546\n",
      "Epoch 153/500\n",
      "8/8 [==============================] - 0s 3ms/step - loss: 0.3870 - accuracy: 0.8458\n",
      "Epoch 154/500\n",
      "8/8 [==============================] - 0s 3ms/step - loss: 0.4196 - accuracy: 0.8150\n",
      "Epoch 155/500\n",
      "8/8 [==============================] - 0s 4ms/step - loss: 0.4520 - accuracy: 0.7885\n",
      "Epoch 156/500\n",
      "8/8 [==============================] - 0s 4ms/step - loss: 0.4427 - accuracy: 0.7841\n",
      "Epoch 157/500\n",
      "8/8 [==============================] - 0s 3ms/step - loss: 0.4003 - accuracy: 0.8194\n",
      "Epoch 158/500\n",
      "8/8 [==============================] - 0s 3ms/step - loss: 0.3922 - accuracy: 0.8238\n",
      "Epoch 159/500\n",
      "8/8 [==============================] - 0s 3ms/step - loss: 0.4043 - accuracy: 0.8018\n",
      "Epoch 160/500\n",
      "8/8 [==============================] - 0s 3ms/step - loss: 0.4065 - accuracy: 0.8018\n",
      "Epoch 161/500\n",
      "8/8 [==============================] - 0s 4ms/step - loss: 0.3857 - accuracy: 0.8458\n",
      "Epoch 162/500\n",
      "8/8 [==============================] - 0s 3ms/step - loss: 0.4561 - accuracy: 0.7930\n",
      "Epoch 163/500\n",
      "8/8 [==============================] - 0s 4ms/step - loss: 0.5243 - accuracy: 0.7753\n",
      "Epoch 164/500\n",
      "8/8 [==============================] - 0s 4ms/step - loss: 0.4247 - accuracy: 0.8062\n",
      "Epoch 165/500\n",
      "8/8 [==============================] - 0s 4ms/step - loss: 0.4279 - accuracy: 0.7709\n",
      "Epoch 166/500\n",
      "8/8 [==============================] - 0s 4ms/step - loss: 0.3845 - accuracy: 0.8502\n",
      "Epoch 167/500\n",
      "8/8 [==============================] - 0s 5ms/step - loss: 0.3788 - accuracy: 0.8546\n",
      "Epoch 168/500\n",
      "8/8 [==============================] - 0s 3ms/step - loss: 0.3651 - accuracy: 0.8546\n",
      "Epoch 169/500\n",
      "8/8 [==============================] - 0s 5ms/step - loss: 0.3593 - accuracy: 0.8546\n",
      "Epoch 170/500\n",
      "8/8 [==============================] - 0s 4ms/step - loss: 0.3723 - accuracy: 0.8414\n",
      "Epoch 171/500\n",
      "8/8 [==============================] - 0s 4ms/step - loss: 0.3536 - accuracy: 0.8634\n",
      "Epoch 172/500\n",
      "8/8 [==============================] - 0s 4ms/step - loss: 0.3856 - accuracy: 0.8194\n",
      "Epoch 173/500\n",
      "8/8 [==============================] - 0s 4ms/step - loss: 0.3991 - accuracy: 0.8326\n",
      "Epoch 174/500\n",
      "8/8 [==============================] - 0s 3ms/step - loss: 0.3591 - accuracy: 0.8546\n",
      "Epoch 175/500\n",
      "8/8 [==============================] - 0s 3ms/step - loss: 0.3624 - accuracy: 0.8546\n",
      "Epoch 176/500\n",
      "8/8 [==============================] - 0s 3ms/step - loss: 0.3577 - accuracy: 0.8546\n",
      "Epoch 177/500\n",
      "8/8 [==============================] - 0s 4ms/step - loss: 0.3756 - accuracy: 0.8282\n",
      "Epoch 178/500\n",
      "8/8 [==============================] - 0s 4ms/step - loss: 0.3825 - accuracy: 0.8370\n",
      "Epoch 179/500\n",
      "8/8 [==============================] - 0s 3ms/step - loss: 0.3631 - accuracy: 0.8458\n",
      "Epoch 180/500\n",
      "8/8 [==============================] - 0s 4ms/step - loss: 0.3613 - accuracy: 0.8414\n",
      "Epoch 181/500\n",
      "8/8 [==============================] - 0s 3ms/step - loss: 0.3827 - accuracy: 0.8150\n",
      "Epoch 182/500\n",
      "8/8 [==============================] - 0s 3ms/step - loss: 0.3746 - accuracy: 0.8282\n",
      "Epoch 183/500\n",
      "8/8 [==============================] - 0s 3ms/step - loss: 0.4609 - accuracy: 0.7577\n",
      "Epoch 184/500\n",
      "8/8 [==============================] - 0s 3ms/step - loss: 0.4109 - accuracy: 0.8282\n",
      "Epoch 185/500\n",
      "8/8 [==============================] - 0s 3ms/step - loss: 0.3694 - accuracy: 0.8590\n",
      "Epoch 186/500\n",
      "8/8 [==============================] - 0s 3ms/step - loss: 0.3755 - accuracy: 0.8370\n",
      "Epoch 187/500\n",
      "8/8 [==============================] - 0s 3ms/step - loss: 0.3916 - accuracy: 0.8238\n",
      "Epoch 188/500\n",
      "8/8 [==============================] - 0s 4ms/step - loss: 0.3641 - accuracy: 0.8546\n",
      "Epoch 189/500\n",
      "8/8 [==============================] - 0s 3ms/step - loss: 0.3849 - accuracy: 0.8194\n",
      "Epoch 190/500\n",
      "8/8 [==============================] - 0s 3ms/step - loss: 0.3794 - accuracy: 0.8370\n",
      "Epoch 191/500\n",
      "8/8 [==============================] - 0s 3ms/step - loss: 0.3740 - accuracy: 0.8414\n",
      "Epoch 192/500\n",
      "8/8 [==============================] - 0s 4ms/step - loss: 0.3731 - accuracy: 0.8326\n",
      "Epoch 193/500\n",
      "8/8 [==============================] - 0s 4ms/step - loss: 0.4158 - accuracy: 0.7974\n",
      "Epoch 194/500\n",
      "8/8 [==============================] - 0s 3ms/step - loss: 0.3707 - accuracy: 0.8326\n",
      "Epoch 195/500\n",
      "8/8 [==============================] - ETA: 0s - loss: 0.5613 - accuracy: 0.75 - 0s 3ms/step - loss: 0.3523 - accuracy: 0.8546\n",
      "Epoch 196/500\n",
      "8/8 [==============================] - 0s 4ms/step - loss: 0.3556 - accuracy: 0.8458\n",
      "Epoch 197/500\n",
      "8/8 [==============================] - 0s 5ms/step - loss: 0.3923 - accuracy: 0.8238\n",
      "Epoch 198/500\n",
      "8/8 [==============================] - 0s 3ms/step - loss: 0.3838 - accuracy: 0.8326\n",
      "Epoch 199/500\n",
      "8/8 [==============================] - 0s 4ms/step - loss: 0.3910 - accuracy: 0.8370\n",
      "Epoch 200/500\n",
      "8/8 [==============================] - 0s 5ms/step - loss: 0.3900 - accuracy: 0.8370\n",
      "Epoch 201/500\n",
      "8/8 [==============================] - 0s 3ms/step - loss: 0.3958 - accuracy: 0.8238\n",
      "Epoch 202/500\n",
      "8/8 [==============================] - 0s 3ms/step - loss: 0.3943 - accuracy: 0.8150\n",
      "Epoch 203/500\n",
      "8/8 [==============================] - 0s 5ms/step - loss: 0.3980 - accuracy: 0.8150\n",
      "Epoch 204/500\n",
      "8/8 [==============================] - 0s 4ms/step - loss: 0.5171 - accuracy: 0.7621\n",
      "Epoch 205/500\n",
      "8/8 [==============================] - 0s 4ms/step - loss: 0.4255 - accuracy: 0.8018\n",
      "Epoch 206/500\n",
      "8/8 [==============================] - 0s 4ms/step - loss: 0.3942 - accuracy: 0.8370\n",
      "Epoch 207/500\n",
      "8/8 [==============================] - 0s 5ms/step - loss: 0.3677 - accuracy: 0.8458\n",
      "Epoch 208/500\n",
      "8/8 [==============================] - 0s 4ms/step - loss: 0.3674 - accuracy: 0.8590\n",
      "Epoch 209/500\n",
      "8/8 [==============================] - 0s 7ms/step - loss: 0.3664 - accuracy: 0.8590\n",
      "Epoch 210/500\n",
      "8/8 [==============================] - 0s 7ms/step - loss: 0.3712 - accuracy: 0.8414\n",
      "Epoch 211/500\n",
      "8/8 [==============================] - 0s 5ms/step - loss: 0.3574 - accuracy: 0.8634\n",
      "Epoch 212/500\n",
      "8/8 [==============================] - 0s 5ms/step - loss: 0.3545 - accuracy: 0.8634\n",
      "Epoch 213/500\n",
      "8/8 [==============================] - 0s 5ms/step - loss: 0.3712 - accuracy: 0.8370\n",
      "Epoch 214/500\n",
      "8/8 [==============================] - 0s 5ms/step - loss: 0.3877 - accuracy: 0.8238\n",
      "Epoch 215/500\n",
      "8/8 [==============================] - 0s 7ms/step - loss: 0.4026 - accuracy: 0.8238\n",
      "Epoch 216/500\n",
      "8/8 [==============================] - 0s 4ms/step - loss: 0.4207 - accuracy: 0.7974\n",
      "Epoch 217/500\n",
      "8/8 [==============================] - 0s 6ms/step - loss: 0.3662 - accuracy: 0.8150\n",
      "Epoch 218/500\n",
      "8/8 [==============================] - 0s 7ms/step - loss: 0.3648 - accuracy: 0.8590\n",
      "Epoch 219/500\n",
      "8/8 [==============================] - 0s 7ms/step - loss: 0.3458 - accuracy: 0.8590\n",
      "Epoch 220/500\n",
      "8/8 [==============================] - 0s 6ms/step - loss: 0.3524 - accuracy: 0.8502\n",
      "Epoch 221/500\n",
      "8/8 [==============================] - 0s 5ms/step - loss: 0.3463 - accuracy: 0.8634\n",
      "Epoch 222/500\n",
      "8/8 [==============================] - 0s 6ms/step - loss: 0.3441 - accuracy: 0.8634\n",
      "Epoch 223/500\n",
      "8/8 [==============================] - 0s 3ms/step - loss: 0.4881 - accuracy: 0.7797\n",
      "Epoch 224/500\n",
      "8/8 [==============================] - 0s 5ms/step - loss: 0.3632 - accuracy: 0.8590\n",
      "Epoch 225/500\n",
      "8/8 [==============================] - 0s 9ms/step - loss: 0.3491 - accuracy: 0.8590\n",
      "Epoch 226/500\n",
      "8/8 [==============================] - 0s 6ms/step - loss: 0.3687 - accuracy: 0.8282\n",
      "Epoch 227/500\n",
      "8/8 [==============================] - 0s 4ms/step - loss: 0.3469 - accuracy: 0.8590\n",
      "Epoch 228/500\n",
      "8/8 [==============================] - 0s 5ms/step - loss: 0.3399 - accuracy: 0.8722\n",
      "Epoch 229/500\n",
      "8/8 [==============================] - 0s 5ms/step - loss: 0.3446 - accuracy: 0.8590\n",
      "Epoch 230/500\n",
      "8/8 [==============================] - 0s 5ms/step - loss: 0.3433 - accuracy: 0.8767\n",
      "Epoch 231/500\n",
      "8/8 [==============================] - 0s 4ms/step - loss: 0.3659 - accuracy: 0.8458\n",
      "Epoch 232/500\n",
      "8/8 [==============================] - 0s 5ms/step - loss: 0.3600 - accuracy: 0.8546\n",
      "Epoch 233/500\n",
      "8/8 [==============================] - 0s 5ms/step - loss: 0.3579 - accuracy: 0.8326\n",
      "Epoch 234/500\n",
      "8/8 [==============================] - 0s 4ms/step - loss: 0.3886 - accuracy: 0.8282\n",
      "Epoch 235/500\n",
      "8/8 [==============================] - 0s 5ms/step - loss: 0.3771 - accuracy: 0.8414\n",
      "Epoch 236/500\n",
      "8/8 [==============================] - 0s 3ms/step - loss: 0.3595 - accuracy: 0.8458\n",
      "Epoch 237/500\n",
      "8/8 [==============================] - 0s 3ms/step - loss: 0.3368 - accuracy: 0.8722\n",
      "Epoch 238/500\n",
      "8/8 [==============================] - 0s 3ms/step - loss: 0.3443 - accuracy: 0.8502\n",
      "Epoch 239/500\n",
      "8/8 [==============================] - ETA: 0s - loss: 0.2720 - accuracy: 0.87 - 0s 3ms/step - loss: 0.3909 - accuracy: 0.8326\n",
      "Epoch 240/500\n",
      "8/8 [==============================] - 0s 3ms/step - loss: 0.3838 - accuracy: 0.8282\n",
      "Epoch 241/500\n",
      "8/8 [==============================] - 0s 5ms/step - loss: 0.4105 - accuracy: 0.7974\n",
      "Epoch 242/500\n",
      "8/8 [==============================] - 0s 4ms/step - loss: 0.3432 - accuracy: 0.8722\n",
      "Epoch 243/500\n",
      "8/8 [==============================] - 0s 5ms/step - loss: 0.3608 - accuracy: 0.8326\n",
      "Epoch 244/500\n",
      "8/8 [==============================] - 0s 5ms/step - loss: 0.3437 - accuracy: 0.8590\n",
      "Epoch 245/500\n",
      "8/8 [==============================] - 0s 5ms/step - loss: 0.3541 - accuracy: 0.8458\n",
      "Epoch 246/500\n",
      "8/8 [==============================] - 0s 5ms/step - loss: 0.3867 - accuracy: 0.8370\n",
      "Epoch 247/500\n",
      "8/8 [==============================] - 0s 4ms/step - loss: 0.3405 - accuracy: 0.8634\n",
      "Epoch 248/500\n",
      "8/8 [==============================] - 0s 5ms/step - loss: 0.3408 - accuracy: 0.8767\n",
      "Epoch 249/500\n",
      "8/8 [==============================] - 0s 4ms/step - loss: 0.3387 - accuracy: 0.8634\n",
      "Epoch 250/500\n",
      "8/8 [==============================] - 0s 5ms/step - loss: 0.3450 - accuracy: 0.8590\n",
      "Epoch 251/500\n",
      "8/8 [==============================] - 0s 4ms/step - loss: 0.3793 - accuracy: 0.8458\n",
      "Epoch 252/500\n",
      "8/8 [==============================] - 0s 4ms/step - loss: 0.3410 - accuracy: 0.8590\n",
      "Epoch 253/500\n",
      "8/8 [==============================] - 0s 4ms/step - loss: 0.3435 - accuracy: 0.8634\n",
      "Epoch 254/500\n",
      "8/8 [==============================] - 0s 4ms/step - loss: 0.3526 - accuracy: 0.8370\n",
      "Epoch 255/500\n",
      "8/8 [==============================] - 0s 4ms/step - loss: 0.3450 - accuracy: 0.8502\n",
      "Epoch 256/500\n",
      "8/8 [==============================] - 0s 4ms/step - loss: 0.3332 - accuracy: 0.8634\n",
      "Epoch 257/500\n",
      "8/8 [==============================] - 0s 4ms/step - loss: 0.3826 - accuracy: 0.8194\n",
      "Epoch 258/500\n",
      "8/8 [==============================] - 0s 3ms/step - loss: 0.3657 - accuracy: 0.8370\n",
      "Epoch 259/500\n",
      "8/8 [==============================] - 0s 3ms/step - loss: 0.3959 - accuracy: 0.8238\n",
      "Epoch 260/500\n",
      "8/8 [==============================] - 0s 4ms/step - loss: 0.4228 - accuracy: 0.7885\n",
      "Epoch 261/500\n",
      "8/8 [==============================] - 0s 4ms/step - loss: 0.3658 - accuracy: 0.8414\n",
      "Epoch 262/500\n",
      "8/8 [==============================] - 0s 4ms/step - loss: 0.3457 - accuracy: 0.8722\n",
      "Epoch 263/500\n",
      "8/8 [==============================] - 0s 3ms/step - loss: 0.3549 - accuracy: 0.8546\n",
      "Epoch 264/500\n",
      "8/8 [==============================] - 0s 3ms/step - loss: 0.3610 - accuracy: 0.8678\n",
      "Epoch 265/500\n",
      "8/8 [==============================] - 0s 4ms/step - loss: 0.3450 - accuracy: 0.8634\n",
      "Epoch 266/500\n",
      "8/8 [==============================] - 0s 3ms/step - loss: 0.3393 - accuracy: 0.8546\n",
      "Epoch 267/500\n",
      "8/8 [==============================] - 0s 4ms/step - loss: 0.3421 - accuracy: 0.8546\n",
      "Epoch 268/500\n",
      "8/8 [==============================] - 0s 4ms/step - loss: 0.3492 - accuracy: 0.8634\n",
      "Epoch 269/500\n",
      "8/8 [==============================] - 0s 3ms/step - loss: 0.3339 - accuracy: 0.8502\n",
      "Epoch 270/500\n",
      "8/8 [==============================] - 0s 3ms/step - loss: 0.3365 - accuracy: 0.8678\n",
      "Epoch 271/500\n",
      "8/8 [==============================] - 0s 3ms/step - loss: 0.3335 - accuracy: 0.8767\n",
      "Epoch 272/500\n",
      "8/8 [==============================] - 0s 3ms/step - loss: 0.3436 - accuracy: 0.8502\n",
      "Epoch 273/500\n",
      "8/8 [==============================] - 0s 4ms/step - loss: 0.3887 - accuracy: 0.8194\n",
      "Epoch 274/500\n",
      "8/8 [==============================] - 0s 3ms/step - loss: 0.3543 - accuracy: 0.8502\n",
      "Epoch 275/500\n",
      "8/8 [==============================] - 0s 3ms/step - loss: 0.3560 - accuracy: 0.8458\n",
      "Epoch 276/500\n",
      "8/8 [==============================] - 0s 3ms/step - loss: 0.3544 - accuracy: 0.8370\n",
      "Epoch 277/500\n",
      "8/8 [==============================] - 0s 3ms/step - loss: 0.3855 - accuracy: 0.8194\n",
      "Epoch 278/500\n",
      "8/8 [==============================] - 0s 3ms/step - loss: 0.3984 - accuracy: 0.8062\n",
      "Epoch 279/500\n",
      "8/8 [==============================] - 0s 3ms/step - loss: 0.3684 - accuracy: 0.8458\n",
      "Epoch 280/500\n",
      "8/8 [==============================] - 0s 3ms/step - loss: 0.3402 - accuracy: 0.8811\n",
      "Epoch 281/500\n",
      "8/8 [==============================] - 0s 3ms/step - loss: 0.3615 - accuracy: 0.8590\n",
      "Epoch 282/500\n",
      "8/8 [==============================] - 0s 4ms/step - loss: 0.3586 - accuracy: 0.8590\n",
      "Epoch 283/500\n",
      "8/8 [==============================] - 0s 3ms/step - loss: 0.3293 - accuracy: 0.8678\n",
      "Epoch 284/500\n",
      "8/8 [==============================] - 0s 3ms/step - loss: 0.4063 - accuracy: 0.8106\n",
      "Epoch 285/500\n",
      "8/8 [==============================] - 0s 3ms/step - loss: 0.3894 - accuracy: 0.8150\n",
      "Epoch 286/500\n",
      "8/8 [==============================] - 0s 3ms/step - loss: 0.3404 - accuracy: 0.8634\n",
      "Epoch 287/500\n",
      "8/8 [==============================] - 0s 4ms/step - loss: 0.3565 - accuracy: 0.8590\n",
      "Epoch 288/500\n",
      "8/8 [==============================] - 0s 3ms/step - loss: 0.3477 - accuracy: 0.8546\n",
      "Epoch 289/500\n",
      "8/8 [==============================] - 0s 3ms/step - loss: 0.3423 - accuracy: 0.8678\n",
      "Epoch 290/500\n",
      "8/8 [==============================] - 0s 3ms/step - loss: 0.3502 - accuracy: 0.8502\n",
      "Epoch 291/500\n",
      "8/8 [==============================] - 0s 3ms/step - loss: 0.3782 - accuracy: 0.8018\n",
      "Epoch 292/500\n",
      "8/8 [==============================] - 0s 4ms/step - loss: 0.3547 - accuracy: 0.8458\n",
      "Epoch 293/500\n",
      "8/8 [==============================] - 0s 4ms/step - loss: 0.4878 - accuracy: 0.7489\n",
      "Epoch 294/500\n",
      "8/8 [==============================] - 0s 3ms/step - loss: 0.4818 - accuracy: 0.7885\n",
      "Epoch 295/500\n",
      "8/8 [==============================] - 0s 3ms/step - loss: 0.4093 - accuracy: 0.8238\n",
      "Epoch 296/500\n",
      "8/8 [==============================] - ETA: 0s - loss: 0.3239 - accuracy: 0.84 - 0s 3ms/step - loss: 0.3640 - accuracy: 0.8502\n",
      "Epoch 297/500\n",
      "8/8 [==============================] - 0s 3ms/step - loss: 0.3574 - accuracy: 0.8546\n",
      "Epoch 298/500\n",
      "8/8 [==============================] - 0s 3ms/step - loss: 0.3476 - accuracy: 0.8678\n",
      "Epoch 299/500\n",
      "8/8 [==============================] - 0s 3ms/step - loss: 0.3356 - accuracy: 0.8678\n",
      "Epoch 300/500\n",
      "8/8 [==============================] - 0s 3ms/step - loss: 0.3541 - accuracy: 0.8546\n",
      "Epoch 301/500\n",
      "8/8 [==============================] - 0s 3ms/step - loss: 0.3634 - accuracy: 0.8282\n",
      "Epoch 302/500\n",
      "8/8 [==============================] - 0s 3ms/step - loss: 0.4438 - accuracy: 0.7841\n",
      "Epoch 303/500\n",
      "8/8 [==============================] - 0s 3ms/step - loss: 0.3946 - accuracy: 0.8326\n",
      "Epoch 304/500\n",
      "8/8 [==============================] - 0s 3ms/step - loss: 0.3658 - accuracy: 0.8502\n",
      "Epoch 305/500\n",
      "8/8 [==============================] - 0s 3ms/step - loss: 0.3391 - accuracy: 0.8678\n",
      "Epoch 306/500\n",
      "8/8 [==============================] - 0s 3ms/step - loss: 0.3422 - accuracy: 0.8458\n",
      "Epoch 307/500\n",
      "8/8 [==============================] - 0s 3ms/step - loss: 0.3524 - accuracy: 0.8546\n",
      "Epoch 308/500\n",
      "8/8 [==============================] - 0s 4ms/step - loss: 0.3468 - accuracy: 0.8502\n",
      "Epoch 309/500\n",
      "8/8 [==============================] - 0s 3ms/step - loss: 0.3515 - accuracy: 0.8370\n",
      "Epoch 310/500\n",
      "8/8 [==============================] - 0s 3ms/step - loss: 0.3444 - accuracy: 0.8414\n",
      "Epoch 311/500\n",
      "8/8 [==============================] - 0s 3ms/step - loss: 0.3340 - accuracy: 0.8458\n",
      "Epoch 312/500\n",
      "8/8 [==============================] - 0s 3ms/step - loss: 0.3208 - accuracy: 0.8722\n",
      "Epoch 313/500\n",
      "8/8 [==============================] - 0s 4ms/step - loss: 0.3421 - accuracy: 0.8502\n",
      "Epoch 314/500\n",
      "8/8 [==============================] - ETA: 0s - loss: 0.5392 - accuracy: 0.84 - 0s 3ms/step - loss: 0.3411 - accuracy: 0.8590\n",
      "Epoch 315/500\n",
      "8/8 [==============================] - 0s 3ms/step - loss: 0.3454 - accuracy: 0.8414\n",
      "Epoch 316/500\n",
      "8/8 [==============================] - 0s 3ms/step - loss: 0.4105 - accuracy: 0.8194\n",
      "Epoch 317/500\n",
      "8/8 [==============================] - 0s 3ms/step - loss: 0.3633 - accuracy: 0.8282\n",
      "Epoch 318/500\n",
      "8/8 [==============================] - 0s 4ms/step - loss: 0.3957 - accuracy: 0.8106\n",
      "Epoch 319/500\n",
      "8/8 [==============================] - 0s 3ms/step - loss: 0.4112 - accuracy: 0.7930\n",
      "Epoch 320/500\n",
      "8/8 [==============================] - 0s 3ms/step - loss: 0.3927 - accuracy: 0.8370\n",
      "Epoch 321/500\n",
      "8/8 [==============================] - 0s 3ms/step - loss: 0.3512 - accuracy: 0.8546\n",
      "Epoch 322/500\n",
      "8/8 [==============================] - 0s 4ms/step - loss: 0.3783 - accuracy: 0.8150\n",
      "Epoch 323/500\n",
      "8/8 [==============================] - 0s 3ms/step - loss: 0.3418 - accuracy: 0.8590\n",
      "Epoch 324/500\n",
      "8/8 [==============================] - 0s 3ms/step - loss: 0.3830 - accuracy: 0.8326\n",
      "Epoch 325/500\n",
      "8/8 [==============================] - 0s 3ms/step - loss: 0.3508 - accuracy: 0.8590\n",
      "Epoch 326/500\n",
      "8/8 [==============================] - 0s 2ms/step - loss: 0.3255 - accuracy: 0.8722\n",
      "Epoch 327/500\n",
      "8/8 [==============================] - 0s 4ms/step - loss: 0.3317 - accuracy: 0.8678\n",
      "Epoch 328/500\n",
      "8/8 [==============================] - 0s 3ms/step - loss: 0.3293 - accuracy: 0.8634\n",
      "Epoch 329/500\n",
      "8/8 [==============================] - 0s 4ms/step - loss: 0.3338 - accuracy: 0.8546\n",
      "Epoch 330/500\n",
      "8/8 [==============================] - 0s 3ms/step - loss: 0.3195 - accuracy: 0.8767\n",
      "Epoch 331/500\n",
      "8/8 [==============================] - 0s 3ms/step - loss: 0.3342 - accuracy: 0.8414\n",
      "Epoch 332/500\n",
      "8/8 [==============================] - 0s 3ms/step - loss: 0.3266 - accuracy: 0.8767\n",
      "Epoch 333/500\n",
      "8/8 [==============================] - 0s 4ms/step - loss: 0.3228 - accuracy: 0.8767\n",
      "Epoch 334/500\n",
      "8/8 [==============================] - 0s 4ms/step - loss: 0.3199 - accuracy: 0.8678\n",
      "Epoch 335/500\n",
      "8/8 [==============================] - 0s 4ms/step - loss: 0.3408 - accuracy: 0.8590\n",
      "Epoch 336/500\n",
      "8/8 [==============================] - 0s 4ms/step - loss: 0.3333 - accuracy: 0.8899\n",
      "Epoch 337/500\n",
      "8/8 [==============================] - 0s 3ms/step - loss: 0.3344 - accuracy: 0.8811\n",
      "Epoch 338/500\n",
      "8/8 [==============================] - 0s 3ms/step - loss: 0.3167 - accuracy: 0.8678\n",
      "Epoch 339/500\n",
      "8/8 [==============================] - 0s 3ms/step - loss: 0.3358 - accuracy: 0.8634\n",
      "Epoch 340/500\n",
      "8/8 [==============================] - 0s 3ms/step - loss: 0.3837 - accuracy: 0.8282\n",
      "Epoch 341/500\n",
      "8/8 [==============================] - 0s 4ms/step - loss: 0.3433 - accuracy: 0.8590\n",
      "Epoch 342/500\n",
      "8/8 [==============================] - 0s 3ms/step - loss: 0.3352 - accuracy: 0.8590\n",
      "Epoch 343/500\n",
      "8/8 [==============================] - 0s 3ms/step - loss: 0.3209 - accuracy: 0.8590\n",
      "Epoch 344/500\n",
      "8/8 [==============================] - 0s 3ms/step - loss: 0.3308 - accuracy: 0.8678\n",
      "Epoch 345/500\n",
      "8/8 [==============================] - 0s 3ms/step - loss: 0.3184 - accuracy: 0.8546\n",
      "Epoch 346/500\n",
      "8/8 [==============================] - 0s 2ms/step - loss: 0.3509 - accuracy: 0.8502\n",
      "Epoch 347/500\n",
      "8/8 [==============================] - 0s 2ms/step - loss: 0.3592 - accuracy: 0.8326\n",
      "Epoch 348/500\n",
      "8/8 [==============================] - 0s 2ms/step - loss: 0.3191 - accuracy: 0.8767\n",
      "Epoch 349/500\n",
      "8/8 [==============================] - 0s 2ms/step - loss: 0.3100 - accuracy: 0.8767\n",
      "Epoch 350/500\n",
      "8/8 [==============================] - 0s 3ms/step - loss: 0.3044 - accuracy: 0.8722\n",
      "Epoch 351/500\n",
      "8/8 [==============================] - 0s 3ms/step - loss: 0.3375 - accuracy: 0.8370\n",
      "Epoch 352/500\n",
      "8/8 [==============================] - 0s 3ms/step - loss: 0.3258 - accuracy: 0.8767\n",
      "Epoch 353/500\n",
      "8/8 [==============================] - 0s 3ms/step - loss: 0.3634 - accuracy: 0.8370\n",
      "Epoch 354/500\n",
      "8/8 [==============================] - 0s 4ms/step - loss: 0.3334 - accuracy: 0.8722\n",
      "Epoch 355/500\n",
      "8/8 [==============================] - 0s 3ms/step - loss: 0.3266 - accuracy: 0.8767\n",
      "Epoch 356/500\n",
      "8/8 [==============================] - 0s 3ms/step - loss: 0.3166 - accuracy: 0.8722\n",
      "Epoch 357/500\n",
      "8/8 [==============================] - 0s 3ms/step - loss: 0.3167 - accuracy: 0.8767\n",
      "Epoch 358/500\n",
      "8/8 [==============================] - 0s 3ms/step - loss: 0.4040 - accuracy: 0.8238\n",
      "Epoch 359/500\n",
      "8/8 [==============================] - 0s 4ms/step - loss: 0.3882 - accuracy: 0.8370\n",
      "Epoch 360/500\n",
      "8/8 [==============================] - 0s 4ms/step - loss: 0.3263 - accuracy: 0.8458\n",
      "Epoch 361/500\n",
      "8/8 [==============================] - 0s 2ms/step - loss: 0.3080 - accuracy: 0.8811\n",
      "Epoch 362/500\n",
      "8/8 [==============================] - 0s 4ms/step - loss: 0.4513 - accuracy: 0.7885\n",
      "Epoch 363/500\n",
      "8/8 [==============================] - 0s 4ms/step - loss: 0.3360 - accuracy: 0.8634\n",
      "Epoch 364/500\n",
      "8/8 [==============================] - 0s 3ms/step - loss: 0.3409 - accuracy: 0.8502\n",
      "Epoch 365/500\n",
      "8/8 [==============================] - 0s 3ms/step - loss: 0.3215 - accuracy: 0.8678\n",
      "Epoch 366/500\n",
      "8/8 [==============================] - 0s 3ms/step - loss: 0.3085 - accuracy: 0.8678\n",
      "Epoch 367/500\n",
      "8/8 [==============================] - 0s 4ms/step - loss: 0.3203 - accuracy: 0.8678\n",
      "Epoch 368/500\n",
      "8/8 [==============================] - 0s 4ms/step - loss: 0.3462 - accuracy: 0.8414\n",
      "Epoch 369/500\n",
      "8/8 [==============================] - 0s 3ms/step - loss: 0.3432 - accuracy: 0.8326\n",
      "Epoch 370/500\n",
      "8/8 [==============================] - 0s 3ms/step - loss: 0.3954 - accuracy: 0.8018\n",
      "Epoch 371/500\n",
      "8/8 [==============================] - 0s 3ms/step - loss: 0.3600 - accuracy: 0.8326\n",
      "Epoch 372/500\n",
      "8/8 [==============================] - 0s 4ms/step - loss: 0.3537 - accuracy: 0.8282\n",
      "Epoch 373/500\n",
      "8/8 [==============================] - ETA: 0s - loss: 0.3247 - accuracy: 0.87 - 0s 3ms/step - loss: 0.3194 - accuracy: 0.8722\n",
      "Epoch 374/500\n",
      "8/8 [==============================] - 0s 3ms/step - loss: 0.3151 - accuracy: 0.8634\n",
      "Epoch 375/500\n",
      "8/8 [==============================] - 0s 3ms/step - loss: 0.4076 - accuracy: 0.7974\n",
      "Epoch 376/500\n",
      "8/8 [==============================] - 0s 3ms/step - loss: 0.3823 - accuracy: 0.7930\n",
      "Epoch 377/500\n",
      "8/8 [==============================] - 0s 4ms/step - loss: 0.3589 - accuracy: 0.8370\n",
      "Epoch 378/500\n",
      "8/8 [==============================] - 0s 3ms/step - loss: 0.3567 - accuracy: 0.8546\n",
      "Epoch 379/500\n",
      "8/8 [==============================] - 0s 3ms/step - loss: 0.3260 - accuracy: 0.8899\n",
      "Epoch 380/500\n",
      "8/8 [==============================] - 0s 3ms/step - loss: 0.3319 - accuracy: 0.8546\n",
      "Epoch 381/500\n",
      "8/8 [==============================] - 0s 4ms/step - loss: 0.3113 - accuracy: 0.8678\n",
      "Epoch 382/500\n",
      "8/8 [==============================] - 0s 4ms/step - loss: 0.2984 - accuracy: 0.8811\n",
      "Epoch 383/500\n",
      "8/8 [==============================] - 0s 4ms/step - loss: 0.3309 - accuracy: 0.8546\n",
      "Epoch 384/500\n",
      "8/8 [==============================] - 0s 3ms/step - loss: 0.3283 - accuracy: 0.8855\n",
      "Epoch 385/500\n",
      "8/8 [==============================] - 0s 2ms/step - loss: 0.3630 - accuracy: 0.8370\n",
      "Epoch 386/500\n",
      "8/8 [==============================] - 0s 3ms/step - loss: 0.3321 - accuracy: 0.8502\n",
      "Epoch 387/500\n",
      "8/8 [==============================] - 0s 2ms/step - loss: 0.3023 - accuracy: 0.8634\n",
      "Epoch 388/500\n",
      "8/8 [==============================] - 0s 2ms/step - loss: 0.3117 - accuracy: 0.8899\n",
      "Epoch 389/500\n",
      "8/8 [==============================] - 0s 2ms/step - loss: 0.3568 - accuracy: 0.8370\n",
      "Epoch 390/500\n",
      "8/8 [==============================] - 0s 2ms/step - loss: 0.3825 - accuracy: 0.8062\n",
      "Epoch 391/500\n",
      "8/8 [==============================] - 0s 2ms/step - loss: 0.3548 - accuracy: 0.8282\n",
      "Epoch 392/500\n",
      "8/8 [==============================] - 0s 2ms/step - loss: 0.3816 - accuracy: 0.8062\n",
      "Epoch 393/500\n",
      "8/8 [==============================] - 0s 2ms/step - loss: 0.3285 - accuracy: 0.8678\n",
      "Epoch 394/500\n",
      "8/8 [==============================] - 0s 2ms/step - loss: 0.3351 - accuracy: 0.8458\n",
      "Epoch 395/500\n",
      "8/8 [==============================] - 0s 2ms/step - loss: 0.3055 - accuracy: 0.8811\n",
      "Epoch 396/500\n",
      "8/8 [==============================] - 0s 2ms/step - loss: 0.2971 - accuracy: 0.8767\n",
      "Epoch 397/500\n",
      "8/8 [==============================] - 0s 2ms/step - loss: 0.3092 - accuracy: 0.8811\n",
      "Epoch 398/500\n",
      "8/8 [==============================] - 0s 2ms/step - loss: 0.3223 - accuracy: 0.8678\n",
      "Epoch 399/500\n",
      "8/8 [==============================] - 0s 2ms/step - loss: 0.3007 - accuracy: 0.8855\n",
      "Epoch 400/500\n",
      "8/8 [==============================] - 0s 2ms/step - loss: 0.3047 - accuracy: 0.8678\n",
      "Epoch 401/500\n",
      "8/8 [==============================] - 0s 2ms/step - loss: 0.3281 - accuracy: 0.8546\n",
      "Epoch 402/500\n",
      "8/8 [==============================] - 0s 2ms/step - loss: 0.3065 - accuracy: 0.8722\n",
      "Epoch 403/500\n",
      "8/8 [==============================] - 0s 3ms/step - loss: 0.3213 - accuracy: 0.8722\n",
      "Epoch 404/500\n",
      "8/8 [==============================] - 0s 2ms/step - loss: 0.3036 - accuracy: 0.8634\n",
      "Epoch 405/500\n",
      "8/8 [==============================] - 0s 3ms/step - loss: 0.3003 - accuracy: 0.8811\n",
      "Epoch 406/500\n",
      "8/8 [==============================] - 0s 2ms/step - loss: 0.2911 - accuracy: 0.8811\n",
      "Epoch 407/500\n",
      "8/8 [==============================] - 0s 3ms/step - loss: 0.2834 - accuracy: 0.8855\n",
      "Epoch 408/500\n",
      "8/8 [==============================] - 0s 2ms/step - loss: 0.2987 - accuracy: 0.8722\n",
      "Epoch 409/500\n",
      "8/8 [==============================] - 0s 2ms/step - loss: 0.2858 - accuracy: 0.8767\n",
      "Epoch 410/500\n",
      "8/8 [==============================] - 0s 3ms/step - loss: 0.2820 - accuracy: 0.8899\n",
      "Epoch 411/500\n",
      "8/8 [==============================] - 0s 4ms/step - loss: 0.2879 - accuracy: 0.8811\n",
      "Epoch 412/500\n",
      "8/8 [==============================] - 0s 3ms/step - loss: 0.3483 - accuracy: 0.8502\n",
      "Epoch 413/500\n",
      "8/8 [==============================] - 0s 3ms/step - loss: 0.3319 - accuracy: 0.8502\n",
      "Epoch 414/500\n",
      "8/8 [==============================] - 0s 3ms/step - loss: 0.3168 - accuracy: 0.8590\n",
      "Epoch 415/500\n",
      "8/8 [==============================] - 0s 3ms/step - loss: 0.3444 - accuracy: 0.8458\n",
      "Epoch 416/500\n",
      "8/8 [==============================] - 0s 3ms/step - loss: 0.3216 - accuracy: 0.8546\n",
      "Epoch 417/500\n",
      "8/8 [==============================] - 0s 2ms/step - loss: 0.2882 - accuracy: 0.8767\n",
      "Epoch 418/500\n",
      "8/8 [==============================] - 0s 2ms/step - loss: 0.2981 - accuracy: 0.8855\n",
      "Epoch 419/500\n",
      "8/8 [==============================] - 0s 3ms/step - loss: 0.2977 - accuracy: 0.8634\n",
      "Epoch 420/500\n",
      "8/8 [==============================] - 0s 2ms/step - loss: 0.2861 - accuracy: 0.8899\n",
      "Epoch 421/500\n",
      "8/8 [==============================] - ETA: 0s - loss: 0.3670 - accuracy: 0.84 - 0s 2ms/step - loss: 0.2770 - accuracy: 0.8899\n",
      "Epoch 422/500\n",
      "8/8 [==============================] - 0s 2ms/step - loss: 0.2793 - accuracy: 0.8767\n",
      "Epoch 423/500\n",
      "8/8 [==============================] - 0s 2ms/step - loss: 0.2746 - accuracy: 0.8899\n",
      "Epoch 424/500\n",
      "8/8 [==============================] - 0s 3ms/step - loss: 0.2973 - accuracy: 0.8678\n",
      "Epoch 425/500\n",
      "8/8 [==============================] - 0s 3ms/step - loss: 0.4342 - accuracy: 0.8062\n",
      "Epoch 426/500\n",
      "8/8 [==============================] - 0s 3ms/step - loss: 0.3961 - accuracy: 0.8458\n",
      "Epoch 427/500\n",
      "8/8 [==============================] - 0s 3ms/step - loss: 0.3524 - accuracy: 0.8722\n",
      "Epoch 428/500\n",
      "8/8 [==============================] - 0s 2ms/step - loss: 0.3436 - accuracy: 0.8458\n",
      "Epoch 429/500\n",
      "8/8 [==============================] - 0s 4ms/step - loss: 0.3264 - accuracy: 0.8767\n",
      "Epoch 430/500\n",
      "8/8 [==============================] - 0s 3ms/step - loss: 0.3279 - accuracy: 0.8634\n",
      "Epoch 431/500\n",
      "8/8 [==============================] - 0s 3ms/step - loss: 0.3215 - accuracy: 0.8722\n",
      "Epoch 432/500\n",
      "8/8 [==============================] - 0s 2ms/step - loss: 0.3255 - accuracy: 0.8678\n",
      "Epoch 433/500\n",
      "8/8 [==============================] - 0s 3ms/step - loss: 0.3305 - accuracy: 0.8502\n",
      "Epoch 434/500\n",
      "8/8 [==============================] - 0s 2ms/step - loss: 0.3997 - accuracy: 0.8326\n",
      "Epoch 435/500\n",
      "8/8 [==============================] - 0s 2ms/step - loss: 0.4218 - accuracy: 0.8326\n",
      "Epoch 436/500\n",
      "8/8 [==============================] - 0s 3ms/step - loss: 0.3488 - accuracy: 0.8414\n",
      "Epoch 437/500\n",
      "8/8 [==============================] - 0s 3ms/step - loss: 0.3765 - accuracy: 0.8150\n",
      "Epoch 438/500\n",
      "8/8 [==============================] - 0s 3ms/step - loss: 0.3285 - accuracy: 0.8634\n",
      "Epoch 439/500\n",
      "8/8 [==============================] - 0s 2ms/step - loss: 0.3146 - accuracy: 0.8678\n",
      "Epoch 440/500\n",
      "8/8 [==============================] - 0s 3ms/step - loss: 0.3000 - accuracy: 0.8811\n",
      "Epoch 441/500\n",
      "8/8 [==============================] - 0s 3ms/step - loss: 0.2969 - accuracy: 0.8767\n",
      "Epoch 442/500\n",
      "8/8 [==============================] - 0s 3ms/step - loss: 0.2862 - accuracy: 0.8855\n",
      "Epoch 443/500\n",
      "8/8 [==============================] - 0s 3ms/step - loss: 0.2841 - accuracy: 0.8855\n",
      "Epoch 444/500\n",
      "8/8 [==============================] - 0s 2ms/step - loss: 0.2836 - accuracy: 0.8811\n",
      "Epoch 445/500\n",
      "8/8 [==============================] - 0s 3ms/step - loss: 0.2776 - accuracy: 0.8811\n",
      "Epoch 446/500\n",
      "8/8 [==============================] - 0s 3ms/step - loss: 0.2845 - accuracy: 0.8722\n",
      "Epoch 447/500\n",
      "8/8 [==============================] - 0s 2ms/step - loss: 0.3967 - accuracy: 0.7885\n",
      "Epoch 448/500\n",
      "8/8 [==============================] - 0s 3ms/step - loss: 0.3649 - accuracy: 0.8150\n",
      "Epoch 449/500\n",
      "8/8 [==============================] - 0s 3ms/step - loss: 0.3486 - accuracy: 0.8370\n",
      "Epoch 450/500\n",
      "8/8 [==============================] - 0s 4ms/step - loss: 0.3246 - accuracy: 0.8458\n",
      "Epoch 451/500\n",
      "8/8 [==============================] - 0s 3ms/step - loss: 0.3465 - accuracy: 0.8282\n",
      "Epoch 452/500\n",
      "8/8 [==============================] - 0s 3ms/step - loss: 0.3084 - accuracy: 0.8678\n",
      "Epoch 453/500\n",
      "8/8 [==============================] - 0s 3ms/step - loss: 0.2827 - accuracy: 0.8899\n",
      "Epoch 454/500\n",
      "8/8 [==============================] - 0s 4ms/step - loss: 0.2928 - accuracy: 0.8678\n",
      "Epoch 455/500\n",
      "8/8 [==============================] - 0s 4ms/step - loss: 0.2954 - accuracy: 0.8546\n",
      "Epoch 456/500\n",
      "8/8 [==============================] - 0s 3ms/step - loss: 0.2755 - accuracy: 0.8987\n",
      "Epoch 457/500\n",
      "8/8 [==============================] - 0s 4ms/step - loss: 0.2829 - accuracy: 0.8811\n",
      "Epoch 458/500\n",
      "8/8 [==============================] - 0s 3ms/step - loss: 0.2799 - accuracy: 0.8855\n",
      "Epoch 459/500\n",
      "8/8 [==============================] - 0s 3ms/step - loss: 0.3030 - accuracy: 0.8590\n",
      "Epoch 460/500\n",
      "8/8 [==============================] - 0s 2ms/step - loss: 0.2997 - accuracy: 0.8899\n",
      "Epoch 461/500\n",
      "8/8 [==============================] - 0s 3ms/step - loss: 0.2980 - accuracy: 0.8722\n",
      "Epoch 462/500\n",
      "8/8 [==============================] - 0s 2ms/step - loss: 0.3206 - accuracy: 0.8590\n",
      "Epoch 463/500\n",
      "8/8 [==============================] - 0s 3ms/step - loss: 0.3391 - accuracy: 0.8634\n",
      "Epoch 464/500\n",
      "8/8 [==============================] - 0s 3ms/step - loss: 0.3073 - accuracy: 0.8722\n",
      "Epoch 465/500\n",
      "8/8 [==============================] - 0s 3ms/step - loss: 0.2810 - accuracy: 0.8811\n",
      "Epoch 466/500\n",
      "8/8 [==============================] - 0s 3ms/step - loss: 0.2808 - accuracy: 0.8767\n",
      "Epoch 467/500\n",
      "8/8 [==============================] - 0s 3ms/step - loss: 0.2824 - accuracy: 0.8811\n",
      "Epoch 468/500\n",
      "8/8 [==============================] - 0s 3ms/step - loss: 0.3093 - accuracy: 0.8634\n",
      "Epoch 469/500\n",
      "8/8 [==============================] - 0s 3ms/step - loss: 0.3169 - accuracy: 0.8634\n",
      "Epoch 470/500\n",
      "8/8 [==============================] - 0s 3ms/step - loss: 0.3226 - accuracy: 0.8546\n",
      "Epoch 471/500\n",
      "8/8 [==============================] - 0s 3ms/step - loss: 0.3141 - accuracy: 0.8678\n",
      "Epoch 472/500\n",
      "8/8 [==============================] - 0s 3ms/step - loss: 0.3222 - accuracy: 0.8546\n",
      "Epoch 473/500\n",
      "8/8 [==============================] - 0s 3ms/step - loss: 0.3419 - accuracy: 0.8282\n",
      "Epoch 474/500\n",
      "8/8 [==============================] - 0s 2ms/step - loss: 0.4166 - accuracy: 0.7974\n",
      "Epoch 475/500\n",
      "8/8 [==============================] - 0s 3ms/step - loss: 0.3206 - accuracy: 0.8722\n",
      "Epoch 476/500\n",
      "8/8 [==============================] - 0s 3ms/step - loss: 0.3245 - accuracy: 0.8414\n",
      "Epoch 477/500\n",
      "8/8 [==============================] - 0s 2ms/step - loss: 0.2839 - accuracy: 0.8899\n",
      "Epoch 478/500\n",
      "8/8 [==============================] - 0s 7ms/step - loss: 0.2669 - accuracy: 0.8943\n",
      "Epoch 479/500\n",
      "8/8 [==============================] - 0s 5ms/step - loss: 0.2684 - accuracy: 0.8855\n",
      "Epoch 480/500\n",
      "8/8 [==============================] - 0s 3ms/step - loss: 0.2811 - accuracy: 0.8722\n",
      "Epoch 481/500\n",
      "8/8 [==============================] - 0s 4ms/step - loss: 0.2772 - accuracy: 0.8943\n",
      "Epoch 482/500\n",
      "8/8 [==============================] - 0s 3ms/step - loss: 0.2669 - accuracy: 0.8811\n",
      "Epoch 483/500\n",
      "8/8 [==============================] - 0s 3ms/step - loss: 0.3153 - accuracy: 0.8502\n",
      "Epoch 484/500\n",
      "8/8 [==============================] - 0s 2ms/step - loss: 0.3122 - accuracy: 0.8678\n",
      "Epoch 485/500\n",
      "8/8 [==============================] - 0s 3ms/step - loss: 0.3087 - accuracy: 0.8678\n",
      "Epoch 486/500\n",
      "8/8 [==============================] - 0s 3ms/step - loss: 0.2692 - accuracy: 0.8722\n",
      "Epoch 487/500\n",
      "8/8 [==============================] - 0s 3ms/step - loss: 0.3210 - accuracy: 0.8502\n",
      "Epoch 488/500\n",
      "8/8 [==============================] - 0s 3ms/step - loss: 0.2975 - accuracy: 0.8767\n",
      "Epoch 489/500\n",
      "8/8 [==============================] - 0s 2ms/step - loss: 0.2860 - accuracy: 0.8811\n",
      "Epoch 490/500\n",
      "8/8 [==============================] - 0s 3ms/step - loss: 0.2839 - accuracy: 0.8899\n",
      "Epoch 491/500\n",
      "8/8 [==============================] - 0s 2ms/step - loss: 0.2792 - accuracy: 0.8722\n",
      "Epoch 492/500\n",
      "8/8 [==============================] - 0s 3ms/step - loss: 0.2621 - accuracy: 0.8811\n",
      "Epoch 493/500\n",
      "8/8 [==============================] - 0s 2ms/step - loss: 0.2840 - accuracy: 0.8855\n",
      "Epoch 494/500\n",
      "8/8 [==============================] - 0s 3ms/step - loss: 0.3083 - accuracy: 0.8414\n",
      "Epoch 495/500\n",
      "8/8 [==============================] - 0s 3ms/step - loss: 0.2996 - accuracy: 0.8590\n",
      "Epoch 496/500\n",
      "8/8 [==============================] - 0s 5ms/step - loss: 0.3992 - accuracy: 0.8238\n",
      "Epoch 497/500\n",
      "8/8 [==============================] - 0s 2ms/step - loss: 0.4347 - accuracy: 0.8018\n",
      "Epoch 498/500\n",
      "8/8 [==============================] - 0s 2ms/step - loss: 0.3761 - accuracy: 0.8194\n",
      "Epoch 499/500\n",
      "8/8 [==============================] - 0s 5ms/step - loss: 0.3536 - accuracy: 0.8414\n",
      "Epoch 500/500\n",
      "8/8 [==============================] - 0s 4ms/step - loss: 0.3094 - accuracy: 0.8414\n"
     ]
    },
    {
     "data": {
      "text/plain": [
       "<keras.callbacks.History at 0x1a07d75b0a0>"
      ]
     },
     "execution_count": 107,
     "metadata": {},
     "output_type": "execute_result"
    }
   ],
   "source": [
    "model.fit(X_train,y_train,epochs = 500)"
   ]
  },
  {
   "cell_type": "code",
   "execution_count": 108,
   "metadata": {},
   "outputs": [
    {
     "name": "stdout",
     "output_type": "stream",
     "text": [
      "INFO:tensorflow:Assets written to: heart_disease_classifier\\assets\n"
     ]
    }
   ],
   "source": [
    "model.save('heart_disease_classifier')"
   ]
  },
  {
   "cell_type": "markdown",
   "metadata": {},
   "source": [
    "### **Modeling using Neural Networks also resulted in an accuray of 84%, so we can conclude that the best approach to predicting heart disease can be done by using Logistic Regression or Neural Networks**"
   ]
  }
 ],
 "metadata": {
  "kernelspec": {
   "display_name": "Python 3",
   "language": "python",
   "name": "python3"
  },
  "language_info": {
   "codemirror_mode": {
    "name": "ipython",
    "version": 3
   },
   "file_extension": ".py",
   "mimetype": "text/x-python",
   "name": "python",
   "nbconvert_exporter": "python",
   "pygments_lexer": "ipython3",
   "version": "3.8.3"
  }
 },
 "nbformat": 4,
 "nbformat_minor": 4
}
