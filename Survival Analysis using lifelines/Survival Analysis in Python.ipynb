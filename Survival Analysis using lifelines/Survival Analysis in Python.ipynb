{
 "cells": [
  {
   "cell_type": "markdown",
   "id": "97c0613a",
   "metadata": {},
   "source": [
    "**How long does it take for flu symptoms to show after exposure? And what if you don't know when people caught the virus? Do salary and work-life balance influence the speed of employee turnover? Lots of real-life challenges require survival analysis to robustly estimate the time until an event to help us draw insights from time-to-event distributions. This course introduces you to the basic concepts of survival analysis. Through hands-on practice, you’ll learn how to compute, visualize, interpret, and compare survival curves using Kaplan-Meier, Weibull, and Cox PH models. By the end of this course, you’ll be able to model survival distributions, build pretty plots of survival curves, and even predict survival durations.**"
   ]
  },
  {
   "cell_type": "code",
   "execution_count": 67,
   "id": "a8d1bb97",
   "metadata": {},
   "outputs": [],
   "source": [
    "import pandas as pd\n",
    "import numpy as np\n",
    "from lifelines import KaplanMeierFitter, WeibullAFTFitter, WeibullFitter, ExponentialFitter, LogNormalFitter, CoxPHFitter\n",
    "from lifelines.plotting import qq_plot\n",
    "import matplotlib.pyplot as plt\n",
    "from lifelines.statistics import logrank_test"
   ]
  },
  {
   "cell_type": "code",
   "execution_count": 79,
   "id": "161534b1",
   "metadata": {},
   "outputs": [],
   "source": [
    "regime_durations = pd.read_csv(\"dd.csv\")\n",
    "prison = pd.read_csv('rossi.csv')\n",
    "employees = pd.read_csv('WA_Fn-UseC_-HR-Employee-Attrition.csv')"
   ]
  },
  {
   "cell_type": "markdown",
   "id": "52c3005c",
   "metadata": {},
   "source": [
    "## Introduction to Survival Analysis"
   ]
  },
  {
   "cell_type": "code",
   "execution_count": 21,
   "id": "3d99a833",
   "metadata": {},
   "outputs": [
    {
     "name": "stdout",
     "output_type": "stream",
     "text": [
      "      ctryname  cowcode2  politycode un_region_name un_continent_name  \\\n",
      "0  Afghanistan       700       700.0  Southern Asia              Asia   \n",
      "\n",
      "                 ehead                                     leaderspellreg  \\\n",
      "0  Mohammad Zahir Shah  Mohammad Zahir Shah.Afghanistan.1946.1952.Mona...   \n",
      "\n",
      "       democracy    regime  start_year  duration  observed  \n",
      "0  Non-democracy  Monarchy        1946         7         1  \n",
      "340\n"
     ]
    }
   ],
   "source": [
    "# Print first row\n",
    "print(regime_durations.head(1))\n",
    "\n",
    "# Count censored data\n",
    "count = len(regime_durations[regime_durations['observed'] == 0])\n",
    "\n",
    "# Print the count to console\n",
    "print(count)"
   ]
  },
  {
   "cell_type": "markdown",
   "id": "cb8f8602",
   "metadata": {},
   "source": [
    "**Given 340 regime durations (about 18% of your data) are censored, you may use survival analysis to handle the data.**"
   ]
  },
  {
   "cell_type": "code",
   "execution_count": 22,
   "id": "2ec1db7d",
   "metadata": {},
   "outputs": [
    {
     "data": {
      "image/png": "[encoded data removed]",
      "text/plain": [
       "<Figure size 432x288 with 1 Axes>"
      ]
     },
     "metadata": {
      "needs_background": "light"
     },
     "output_type": "display_data"
    }
   ],
   "source": [
    "prison_kmf = lifelines.KaplanMeierFitter()\n",
    "prison_kmf.fit(durations=prison['week'], event_observed=prison['arrest'])\n",
    "\n",
    "# Plot the survival function\n",
    "prison_kmf.plot_survival_function()\n",
    "\n",
    "# Show the plot\n",
    "plt.show()"
   ]
  },
  {
   "cell_type": "code",
   "execution_count": 23,
   "id": "bf772a31",
   "metadata": {},
   "outputs": [
    {
     "data": {
      "image/png": "[encoded data removed]",
      "text/plain": [
       "<Figure size 432x288 with 1 Axes>"
      ]
     },
     "metadata": {
      "needs_background": "light"
     },
     "output_type": "display_data"
    }
   ],
   "source": [
    "# Instantiate a KaplanMeierFitter object kmf\n",
    "kmf = lifelines.KaplanMeierFitter()\n",
    "\n",
    "# Fit the KaplanMeierFitter object to the data\n",
    "kmf.fit(durations=regime_durations['duration'], \n",
    "        event_observed=regime_durations['observed'])\n",
    "\n",
    "# Visualize and show the survival curve\n",
    "kmf.plot_survival_function()\n",
    "plt.show()"
   ]
  },
  {
   "cell_type": "markdown",
   "id": "aea51407",
   "metadata": {},
   "source": [
    "**Approximately 50% of regimes last shorter than 4 years, and the other regimes last 4 years or longer.**"
   ]
  },
  {
   "cell_type": "markdown",
   "id": "3c0a6409",
   "metadata": {},
   "source": [
    "## Survival Curve Estimation"
   ]
  },
  {
   "cell_type": "code",
   "execution_count": 24,
   "id": "15541bc6",
   "metadata": {},
   "outputs": [],
   "source": [
    "pericardial_effusion = pd.read_csv('echocardiogram.csv')"
   ]
  },
  {
   "cell_type": "code",
   "execution_count": 34,
   "id": "56608eb2",
   "metadata": {},
   "outputs": [],
   "source": [
    "has_pericardial_effusion = pericardial_effusion[pericardial_effusion['pericardialeffusion'] == 1].dropna()\n",
    "none_pericardial_effusion = pericardial_effusion[pericardial_effusion['pericardialeffusion'] == 0].dropna()"
   ]
  },
  {
   "cell_type": "code",
   "execution_count": 35,
   "id": "d052c095",
   "metadata": {},
   "outputs": [
    {
     "name": "stdout",
     "output_type": "stream",
     "text": [
      "The median survival duration (months) of patients with pericardial effusion:  16.0\n",
      "The median survival duration (months) of patients without pericardial effusion:  inf\n"
     ]
    }
   ],
   "source": [
    "# Instantiate Kaplan Meier object for patients with and without pericardial effusion\n",
    "kmf_has_pe = KaplanMeierFitter()\n",
    "kmf_no_pe = KaplanMeierFitter()\n",
    "\n",
    "# Fit Kaplan Meier estimators to each DataFrame\n",
    "kmf_has_pe.fit(durations=has_pericardial_effusion['survival'], \n",
    "               event_observed=has_pericardial_effusion['pericardialeffusion'])\n",
    "kmf_no_pe.fit(durations=none_pericardial_effusion['survival'], \n",
    "              event_observed=none_pericardial_effusion['pericardialeffusion'])\n",
    "\n",
    "# Print out the median survival duration of each group\n",
    "print(\"The median survival duration (months) of patients with pericardial effusion: \", kmf_has_pe.median_survival_time_)\n",
    "print(\"The median survival duration (months) of patients without pericardial effusion: \", kmf_no_pe.median_survival_time_)"
   ]
  },
  {
   "cell_type": "markdown",
   "id": "c3712fbb",
   "metadata": {},
   "source": [
    "**Patients without pericardial effusion have a longer survival time.**"
   ]
  },
  {
   "cell_type": "code",
   "execution_count": 36,
   "id": "7c951f87",
   "metadata": {},
   "outputs": [
    {
     "data": {
      "image/png": "[encoded data removed]",
      "text/plain": [
       "<Figure size 432x288 with 1 Axes>"
      ]
     },
     "metadata": {
      "needs_background": "light"
     },
     "output_type": "display_data"
    }
   ],
   "source": [
    "# Fit kmf to patients with pericardial effusion\n",
    "kmf.fit(has_pericardial_effusion['survival'], has_pericardial_effusion['pericardialeffusion'], label='has_pericardial_effusion')\n",
    "\n",
    "# Create a plot of the survival function\n",
    "surv_plot = kmf.plot()\n",
    "\n",
    "# Fit kmf to patients without pericardial effusion\n",
    "kmf.fit(none_pericardial_effusion['survival'], none_pericardial_effusion['pericardialeffusion'], label='no_pericardial_effusion')\n",
    "\n",
    "# Plot new survival function and show plot\n",
    "kmf.plot(ax=surv_plot)\n",
    "plt.show()"
   ]
  },
  {
   "cell_type": "code",
   "execution_count": 39,
   "id": "4f83925d",
   "metadata": {
    "scrolled": true
   },
   "outputs": [
    {
     "name": "stdout",
     "output_type": "stream",
     "text": [
      "4.406392312090019e-13\n",
      "<bound method StatisticalResult.print_summary of <lifelines.StatisticalResult: logrank_test>\n",
      "               t_0 = -1\n",
      " null_distribution = chi squared\n",
      "degrees_of_freedom = 1\n",
      "         test_name = logrank_test\n",
      "\n",
      "---\n",
      " test_statistic      p  -log2(p)\n",
      "          52.45 <0.005     41.05>\n"
     ]
    }
   ],
   "source": [
    "# Run log-rank test to compare patients with and without pericardial effusion\n",
    "patient_results = logrank_test(durations_A = has_pericardial_effusion['survival'], \n",
    "                               durations_B = none_pericardial_effusion['survival'], \n",
    "                               event_observed_A = has_pericardial_effusion['pericardialeffusion'], \n",
    "                               event_observed_B = none_pericardial_effusion['pericardialeffusion'])\n",
    "\n",
    "# Print out the p-value of log-rank test results\n",
    "print(patient_results.p_value)\n",
    "print(patient_results.print_summary)"
   ]
  },
  {
   "cell_type": "code",
   "execution_count": 49,
   "id": "10e11a1f",
   "metadata": {},
   "outputs": [],
   "source": [
    "heart_patients = pericardial_effusion.drop('name', axis = 1).dropna()"
   ]
  },
  {
   "cell_type": "code",
   "execution_count": 50,
   "id": "46e5a1dc",
   "metadata": {},
   "outputs": [
    {
     "name": "stdout",
     "output_type": "stream",
     "text": [
      "                                   coef     exp(coef)  se(coef)  \\\n",
      "param   covariate                                                 \n",
      "lambda_ age                   -0.041991  9.588789e-01  0.033662   \n",
      "        aliveat1              -4.096150  1.663661e-02  0.639879   \n",
      "        epss                   0.019353  1.019542e+00  0.039512   \n",
      "        fractionalshortening   1.674251  5.334796e+00  3.764110   \n",
      "        group                  0.391402  1.479052e+00  0.560175   \n",
      "        lvdd                  -0.887458  4.117011e-01  0.428969   \n",
      "        mult                  -4.025024  1.786300e-02  4.481152   \n",
      "        pericardialeffusion   -0.196524  8.215818e-01  0.510962   \n",
      "        wallmotion-index      -2.574323  7.620543e-02  1.839650   \n",
      "        wallmotion-score       0.190658  1.210045e+00  0.164456   \n",
      "        Intercept             15.254207  4.215196e+06  6.072640   \n",
      "rho_    Intercept              0.157670  1.170780e+00  0.162686   \n",
      "\n",
      "                              coef lower 95%  coef upper 95%  \\\n",
      "param   covariate                                              \n",
      "lambda_ age                        -0.107967        0.023986   \n",
      "        aliveat1                   -5.350289       -2.842010   \n",
      "        epss                       -0.058090        0.096796   \n",
      "        fractionalshortening       -5.703270        9.051772   \n",
      "        group                      -0.706521        1.489324   \n",
      "        lvdd                       -1.728222       -0.046693   \n",
      "        mult                      -12.807921        4.757874   \n",
      "        pericardialeffusion        -1.197990        0.804943   \n",
      "        wallmotion-index           -6.179970        1.031325   \n",
      "        wallmotion-score           -0.131670        0.512986   \n",
      "        Intercept                   3.352051       27.156362   \n",
      "rho_    Intercept                  -0.161189        0.476528   \n",
      "\n",
      "                              exp(coef) lower 95%  exp(coef) upper 95%  \\\n",
      "param   covariate                                                        \n",
      "lambda_ age                              0.897657         1.024276e+00   \n",
      "        aliveat1                         0.004747         5.830832e-02   \n",
      "        epss                             0.943565         1.101636e+00   \n",
      "        fractionalshortening             0.003335         8.533643e+03   \n",
      "        group                            0.493357         4.434099e+00   \n",
      "        lvdd                             0.177600         9.543803e-01   \n",
      "        mult                             0.000003         1.164980e+02   \n",
      "        pericardialeffusion              0.301800         2.236568e+00   \n",
      "        wallmotion-index                 0.002070         2.804780e+00   \n",
      "        wallmotion-score                 0.876630         1.670271e+00   \n",
      "        Intercept                       28.561248         6.220973e+11   \n",
      "rho_    Intercept                        0.851131         1.610474e+00   \n",
      "\n",
      "                                     z             p   -log2(p)  \n",
      "param   covariate                                                \n",
      "lambda_ age                  -1.247416  2.122448e-01   2.236199  \n",
      "        aliveat1             -6.401448  1.539105e-10  32.597190  \n",
      "        epss                  0.489796  6.242781e-01   0.679739  \n",
      "        fractionalshortening  0.444793  6.564692e-01   0.607201  \n",
      "        group                 0.698713  4.847314e-01   1.044743  \n",
      "        lvdd                 -2.068813  3.856360e-02   4.696616  \n",
      "        mult                 -0.898212  3.690727e-01   1.438023  \n",
      "        pericardialeffusion  -0.384615  7.005224e-01   0.513497  \n",
      "        wallmotion-index     -1.399355  1.617067e-01   2.628549  \n",
      "        wallmotion-score      1.159324  2.463242e-01   2.021369  \n",
      "        Intercept             2.511956  1.200639e-02   6.380053  \n",
      "rho_    Intercept             0.969167  3.324620e-01   1.588738  \n",
      "When EPSS increases by 1, the average survival duration changes by a factor of  1.0195415052419774\n"
     ]
    }
   ],
   "source": [
    "# Import WeibullAFTFitter and instantiate\n",
    "aft = WeibullAFTFitter()\n",
    "\n",
    "# Fit heart_patients data into aft\n",
    "aft.fit(heart_patients, duration_col='survival', event_col='alive')\n",
    "\n",
    "# Print the summary\n",
    "print(aft.summary)\n",
    "\n",
    "# Calculate the exponential of EPSS coefficient\n",
    "exp_epss = np.exp(aft.params_.loc['lambda_'].loc['epss'])\n",
    "print('When EPSS increases by 1, the average survival duration changes by a factor of ', exp_epss)"
   ]
  },
  {
   "cell_type": "code",
   "execution_count": 54,
   "id": "294481d1",
   "metadata": {},
   "outputs": [
    {
     "name": "stdout",
     "output_type": "stream",
     "text": [
      "                        coef     exp(coef)   se(coef)  coef lower 95%  \\\n",
      "param   covariate                                                       \n",
      "lambda_ Intercept  51.056822  1.491750e+22  26.762664       -1.397035   \n",
      "        age        -0.566008  5.677874e-01   0.386570       -1.323671   \n",
      "        epss       -0.100263  9.045992e-01   0.065256       -0.228163   \n",
      "        lvdd       -6.847141  1.062489e-03   4.901233      -16.453381   \n",
      "        age:lvdd    0.081680  1.085109e+00   0.071650       -0.058751   \n",
      "rho_    Intercept  -0.710818  4.912422e-01   0.191766       -1.086673   \n",
      "\n",
      "                   coef upper 95%  exp(coef) lower 95%  exp(coef) upper 95%  \\\n",
      "param   covariate                                                             \n",
      "lambda_ Intercept      103.510679         2.473293e-01         8.997395e+44   \n",
      "        age              0.191655         2.661564e-01         1.211252e+00   \n",
      "        epss             0.027637         7.959943e-01         1.028022e+00   \n",
      "        lvdd             2.759100         7.151338e-08         1.578563e+01   \n",
      "        age:lvdd         0.222112         9.429417e-01         1.248711e+00   \n",
      "rho_    Intercept       -0.334963         3.373370e-01         7.153643e-01   \n",
      "\n",
      "                          z         p   -log2(p)  \n",
      "param   covariate                                 \n",
      "lambda_ Intercept  1.907763  0.056422   4.147602  \n",
      "        age       -1.464181  0.143144   2.804457  \n",
      "        epss      -1.536453  0.124427   3.006625  \n",
      "        lvdd      -1.397024  0.162406   2.622320  \n",
      "        age:lvdd   1.139993  0.254289   1.975458  \n",
      "rho_    Intercept -3.706692  0.000210  12.217435  \n"
     ]
    }
   ],
   "source": [
    "# Fit custom model\n",
    "aft.fit(heart_patients, \n",
    "        duration_col='survival', \n",
    "        event_col='alive',\n",
    "        formula='epss + age * lvdd')\n",
    "\n",
    "# Print model summary\n",
    "print(aft.summary)"
   ]
  },
  {
   "cell_type": "code",
   "execution_count": 55,
   "id": "e76e787d",
   "metadata": {},
   "outputs": [
    {
     "data": {
      "image/png": "[encoded data removed]",
      "text/plain": [
       "<Figure size 432x288 with 1 Axes>"
      ]
     },
     "metadata": {
      "needs_background": "light"
     },
     "output_type": "display_data"
    }
   ],
   "source": [
    "# Fit data to aft\n",
    "aft.fit(df=prison,\n",
    "        duration_col='week',\n",
    "        event_col='arrest')\n",
    "\n",
    "# Plot partial effects of prio\n",
    "aft.plot_partial_effects_on_outcome(covariates = 'prio', values = [0,3,5,8])\n",
    "plt.show()"
   ]
  },
  {
   "cell_type": "markdown",
   "id": "dcd3acb5",
   "metadata": {},
   "source": [
    "### Predict re-arrest rate"
   ]
  },
  {
   "cell_type": "code",
   "execution_count": 56,
   "id": "814fefcf",
   "metadata": {},
   "outputs": [
    {
     "name": "stdout",
     "output_type": "stream",
     "text": [
      "On average, the median number of weeks for new released convicts to be arrested is:  112.50826948536134\n"
     ]
    }
   ],
   "source": [
    "# Predict median of new data\n",
    "aft_pred = aft.predict_median(prison)\n",
    "\n",
    "# Print average predicted time to arrest\n",
    "print(\"On average, the median number of weeks for new released convicts to be arrested is: \", np.mean(aft_pred))"
   ]
  },
  {
   "cell_type": "code",
   "execution_count": 66,
   "id": "c8c604cb",
   "metadata": {},
   "outputs": [
    {
     "name": "stdout",
     "output_type": "stream",
     "text": [
      "WeibullFitter 195.64562652366573\n",
      "ExponentialFitter 220.70143789418736\n",
      "LogNormalFitter 191.92623505113693\n"
     ]
    },
    {
     "data": {
      "image/png": "[encoded data removed]",
      "text/plain": [
       "<Figure size 432x288 with 1 Axes>"
      ]
     },
     "metadata": {
      "needs_background": "light"
     },
     "output_type": "display_data"
    }
   ],
   "source": [
    "# Instantiate each fitter\n",
    "wb = WeibullFitter()\n",
    "exp = ExponentialFitter()\n",
    "log = LogNormalFitter()\n",
    "\n",
    "# Fit to data\n",
    "for model in [wb, exp, log]:\n",
    "  model.fit(durations=heart_patients['survival'],\n",
    "            event_observed=heart_patients['alive'])\n",
    "  # Print AIC\n",
    "  print(model.__class__.__name__, model.AIC_)\n",
    "  qq_plot(model)"
   ]
  },
  {
   "cell_type": "markdown",
   "id": "56b0216b",
   "metadata": {},
   "source": [
    "**The LogNormalFitter model has the lowest AIC value, which means it is the best choice for the data out of all 3.**"
   ]
  },
  {
   "cell_type": "markdown",
   "id": "f3c3a129",
   "metadata": {},
   "source": [
    "## The Cox PH Model"
   ]
  },
  {
   "cell_type": "code",
   "execution_count": 68,
   "id": "1922c73a",
   "metadata": {},
   "outputs": [
    {
     "name": "stdout",
     "output_type": "stream",
     "text": [
      "                coef  exp(coef)  se(coef)  coef lower 95%  coef upper 95%  \\\n",
      "covariate                                                                   \n",
      "Unnamed: 0  0.001948   1.001950  0.000781        0.000418        0.003478   \n",
      "fin        -0.370186   0.690606  0.191836       -0.746178        0.005807   \n",
      "age        -0.054394   0.947059  0.021915       -0.097346       -0.011441   \n",
      "race        0.349211   1.417948  0.308180       -0.254811        0.953233   \n",
      "wexp       -0.157400   0.854362  0.212073       -0.573056        0.258256   \n",
      "mar        -0.490568   0.612278  0.380124       -1.235598        0.254462   \n",
      "paro       -0.067825   0.934424  0.196204       -0.452377        0.316727   \n",
      "prio        0.104539   1.110199  0.029099        0.047506        0.161572   \n",
      "\n",
      "            exp(coef) lower 95%  exp(coef) upper 95%         z         p  \\\n",
      "covariate                                                                  \n",
      "Unnamed: 0             1.000418             1.003484  2.494927  0.012598   \n",
      "fin                    0.474176             1.005823 -1.929696  0.053645   \n",
      "age                    0.907242             0.988624 -2.482055  0.013063   \n",
      "race                   0.775063             2.594083  1.133138  0.257156   \n",
      "wexp                   0.563800             1.294670 -0.742196  0.457969   \n",
      "mar                    0.290661             1.289767 -1.290547  0.196861   \n",
      "paro                   0.636114             1.372628 -0.345687  0.729578   \n",
      "prio                   1.048652             1.175357  3.592515  0.000328   \n",
      "\n",
      "             -log2(p)  \n",
      "covariate              \n",
      "Unnamed: 0   6.310628  \n",
      "fin          4.220425  \n",
      "age          6.258402  \n",
      "race         1.959283  \n",
      "wexp         1.126679  \n",
      "mar          2.344752  \n",
      "paro         0.454866  \n",
      "prio        11.576210  \n"
     ]
    }
   ],
   "source": [
    "# Instantiate CoxPHFitter class cph\n",
    "cph = CoxPHFitter()\n",
    "\n",
    "# Fit cph to data\n",
    "cph.fit(df=prison, duration_col=\"week\", event_col=\"arrest\")\n",
    "\n",
    "# Print model summary\n",
    "print(cph.summary)"
   ]
  },
  {
   "cell_type": "markdown",
   "id": "0dca35b8",
   "metadata": {},
   "source": [
    "**Question:**\n",
    "\n",
    "*0.01, 0.05, and 0.1 are common thresholds to use for interpreting significance. Based on the model summary in the console, which sets of covariates are statistically significant at the 0.05 level?*\n",
    "\n",
    "**age and prio.This means there is a strong correlation between the changes in `age` and `prio` and the hazards.**"
   ]
  },
  {
   "cell_type": "code",
   "execution_count": 69,
   "id": "cca2ecbf",
   "metadata": {},
   "outputs": [
    {
     "name": "stdout",
     "output_type": "stream",
     "text": [
      "               coef  exp(coef)  se(coef)  coef lower 95%  coef upper 95%  \\\n",
      "covariate                                                                  \n",
      "age       -0.067105   0.935097  0.020851       -0.107972       -0.026239   \n",
      "fin       -0.346954   0.706838  0.190247       -0.719832        0.025923   \n",
      "prio       0.096893   1.101743  0.027253        0.043478        0.150309   \n",
      "\n",
      "           exp(coef) lower 95%  exp(coef) upper 95%         z         p  \\\n",
      "covariate                                                                 \n",
      "age                   0.897653             0.974102 -3.218396  0.001289   \n",
      "fin                   0.486834             1.026262 -1.823703  0.068197   \n",
      "prio                  1.044437             1.162193  3.555273  0.000378   \n",
      "\n",
      "            -log2(p)  \n",
      "covariate             \n",
      "age         9.599423  \n",
      "fin         3.874147  \n",
      "prio       11.370906  \n"
     ]
    }
   ],
   "source": [
    "# Instantiate CoxPHFitter class\n",
    "custom_cph = CoxPHFitter()\n",
    "\n",
    "# Fit custom model\n",
    "custom_cph.fit(df=prison, duration_col=\"week\", event_col=\"arrest\", formula = \"fin + age + prio\")\n",
    "\n",
    "# Print model summary\n",
    "print(custom_cph.summary)"
   ]
  },
  {
   "cell_type": "markdown",
   "id": "6abc295b",
   "metadata": {},
   "source": [
    "**When there are many covariates, the problem of overfitting and multicollinearity might also exist for survival regression models. Read [here](https://lifelines.readthedocs.io/en/latest/fitters/regression/CoxPHFitter.html#lifelines.fitters.coxph_fitter.ParametricSplinePHFitter.fit) about more advanced regularization techniques for CoxPHFitter.**"
   ]
  },
  {
   "cell_type": "code",
   "execution_count": 70,
   "id": "599de100",
   "metadata": {},
   "outputs": [
    {
     "name": "stdout",
     "output_type": "stream",
     "text": [
      "0.9007396222812754\n"
     ]
    }
   ],
   "source": [
    "# Instantiate CoxPHFitter class\n",
    "cph = CoxPHFitter()\n",
    "\n",
    "# Fit cph to data using all columns\n",
    "cph.fit(df=prison, duration_col=\"week\", event_col=\"arrest\")\n",
    "\n",
    "# Assign summary to summary_df\n",
    "summary_df = cph.summary\n",
    "\n",
    "# Create new column of survival time ratios\n",
    "summary_df[\"surv_ratio\"] = 1 / summary_df[\"exp(coef)\"]\n",
    "\n",
    "# Print surv_ratio for prio\n",
    "print(summary_df.loc[\"prio\", \"surv_ratio\"])"
   ]
  },
  {
   "cell_type": "markdown",
   "id": "685aabf4",
   "metadata": {},
   "source": [
    "**Based on the column you just created, what is the impact on time-to-arrest with a one-unit increase in prio?**"
   ]
  },
  {
   "cell_type": "markdown",
   "id": "adbd389b",
   "metadata": {},
   "source": [
    "*Time-to-arrest decreases by 10%.*"
   ]
  },
  {
   "cell_type": "markdown",
   "id": "4b64b53f",
   "metadata": {},
   "source": [
    "### Plot covariate effects on survival"
   ]
  },
  {
   "cell_type": "code",
   "execution_count": 76,
   "id": "4009de84",
   "metadata": {},
   "outputs": [
    {
     "data": {
      "image/png": "[encoded data removed]",
      "text/plain": [
       "<Figure size 432x288 with 1 Axes>"
      ]
     },
     "metadata": {
      "needs_background": "light"
     },
     "output_type": "display_data"
    }
   ],
   "source": [
    "# Plot partial effects\n",
    "cph.plot_partial_effects_on_outcome(covariates=[\"fin\", \"age\", \"wexp\", \"mar\", \"paro\", \"prio\"],\n",
    "                                   values=[[0, 35, 0, 1, 1, 3],\n",
    "                                           [1, 22, 0, 0, 0, 0]])\n",
    "\n",
    "# Show plot\n",
    "plt.show()"
   ]
  },
  {
   "cell_type": "markdown",
   "id": "8a0ee62d",
   "metadata": {},
   "source": [
    "**Marie is more likely to be arrested sooner because her survival probabilities are lower than those of Jack's.**"
   ]
  },
  {
   "cell_type": "code",
   "execution_count": 77,
   "id": "7d257964",
   "metadata": {},
   "outputs": [
    {
     "data": {
      "image/png": "[encoded data removed]",
      "text/plain": [
       "<Figure size 432x288 with 1 Axes>"
      ]
     },
     "metadata": {
      "needs_background": "light"
     },
     "output_type": "display_data"
    }
   ],
   "source": [
    "# Fit to fin == 0\n",
    "kmf.fit(durations=prison[prison[\"fin\"] == 0][\"week\"], \n",
    "        event_observed=prison[prison[\"fin\"] == 0][\"arrest\"])\n",
    "\n",
    "# Plot survival curve for fin == 0\n",
    "ax = kmf.plot()\n",
    "\n",
    "# Fit to fin == 1 and plot on ax\n",
    "kmf.fit(durations=prison[prison[\"fin\"] == 1][\"week\"], \n",
    "        event_observed=prison[prison[\"fin\"] == 1][\"arrest\"])\n",
    "\n",
    "# Plot survival curve for fin == 1\n",
    "ax = kmf.plot(ax = ax)\n",
    "plt.show()"
   ]
  },
  {
   "cell_type": "code",
   "execution_count": 78,
   "id": "8037e93f",
   "metadata": {},
   "outputs": [
    {
     "name": "stderr",
     "output_type": "stream",
     "text": [
      "C:\\Users\\anoop\\Data Science\\lib\\site-packages\\lifelines\\fitters\\mixins.py:108: FutureWarning: Index.__and__ operating as a set operation is deprecated, in the future this will be a logical operation matching Series.__and__.  Use index.intersection(other) instead\n",
      "  for variable in self.params_.index & (columns or self.params_.index):\n"
     ]
    },
    {
     "name": "stdout",
     "output_type": "stream",
     "text": [
      "The ``p_value_threshold`` is set at 0.1. Even under the null hypothesis of no violations, some\n",
      "covariates will be below the threshold by chance. This is compounded when there are many covariates.\n",
      "Similarly, when there are lots of observations, even minor deviances from the proportional hazard\n",
      "assumption will be flagged.\n",
      "\n",
      "With that in mind, it's best to use a combination of statistical tests and visual tests to determine\n",
      "the most serious violations. Produce visual plots using ``check_assumptions(..., show_plots=True)``\n",
      "and looking for non-constant lines. See link [A] below for a full example.\n",
      "\n"
     ]
    },
    {
     "data": {
      "text/html": [
       "<div>\n",
       "<style scoped>\n",
       "    .dataframe tbody tr th:only-of-type {\n",
       "        vertical-align: middle;\n",
       "    }\n",
       "\n",
       "    .dataframe tbody tr th {\n",
       "        vertical-align: top;\n",
       "    }\n",
       "\n",
       "    .dataframe thead th {\n",
       "        text-align: right;\n",
       "    }\n",
       "</style>\n",
       "<table border=\"1\" class=\"dataframe\">\n",
       "  <tbody>\n",
       "    <tr>\n",
       "      <th>null_distribution</th>\n",
       "      <td>chi squared</td>\n",
       "    </tr>\n",
       "    <tr>\n",
       "      <th>degrees_of_freedom</th>\n",
       "      <td>1</td>\n",
       "    </tr>\n",
       "    <tr>\n",
       "      <th>model</th>\n",
       "      <td>&lt;lifelines.CoxPHFitter: fitted with 432 total ...</td>\n",
       "    </tr>\n",
       "    <tr>\n",
       "      <th>test_name</th>\n",
       "      <td>proportional_hazard_test</td>\n",
       "    </tr>\n",
       "  </tbody>\n",
       "</table>\n",
       "</div><table border=\"1\" class=\"dataframe\">\n",
       "  <thead>\n",
       "    <tr style=\"text-align: right;\">\n",
       "      <th></th>\n",
       "      <th></th>\n",
       "      <th>test_statistic</th>\n",
       "      <th>p</th>\n",
       "      <th>-log2(p)</th>\n",
       "    </tr>\n",
       "  </thead>\n",
       "  <tbody>\n",
       "    <tr>\n",
       "      <th rowspan=\"2\" valign=\"top\">Unnamed: 0</th>\n",
       "      <th>km</th>\n",
       "      <td>1.79</td>\n",
       "      <td>0.18</td>\n",
       "      <td>2.47</td>\n",
       "    </tr>\n",
       "    <tr>\n",
       "      <th>rank</th>\n",
       "      <td>2.40</td>\n",
       "      <td>0.12</td>\n",
       "      <td>3.05</td>\n",
       "    </tr>\n",
       "    <tr>\n",
       "      <th rowspan=\"2\" valign=\"top\">age</th>\n",
       "      <th>km</th>\n",
       "      <td>10.56</td>\n",
       "      <td>&lt;0.005</td>\n",
       "      <td>9.76</td>\n",
       "    </tr>\n",
       "    <tr>\n",
       "      <th>rank</th>\n",
       "      <td>10.88</td>\n",
       "      <td>&lt;0.005</td>\n",
       "      <td>10.01</td>\n",
       "    </tr>\n",
       "    <tr>\n",
       "      <th rowspan=\"2\" valign=\"top\">fin</th>\n",
       "      <th>km</th>\n",
       "      <td>0.08</td>\n",
       "      <td>0.77</td>\n",
       "      <td>0.37</td>\n",
       "    </tr>\n",
       "    <tr>\n",
       "      <th>rank</th>\n",
       "      <td>0.08</td>\n",
       "      <td>0.78</td>\n",
       "      <td>0.36</td>\n",
       "    </tr>\n",
       "    <tr>\n",
       "      <th rowspan=\"2\" valign=\"top\">mar</th>\n",
       "      <th>km</th>\n",
       "      <td>0.51</td>\n",
       "      <td>0.48</td>\n",
       "      <td>1.07</td>\n",
       "    </tr>\n",
       "    <tr>\n",
       "      <th>rank</th>\n",
       "      <td>0.59</td>\n",
       "      <td>0.44</td>\n",
       "      <td>1.17</td>\n",
       "    </tr>\n",
       "    <tr>\n",
       "      <th rowspan=\"2\" valign=\"top\">paro</th>\n",
       "      <th>km</th>\n",
       "      <td>0.09</td>\n",
       "      <td>0.76</td>\n",
       "      <td>0.39</td>\n",
       "    </tr>\n",
       "    <tr>\n",
       "      <th>rank</th>\n",
       "      <td>0.10</td>\n",
       "      <td>0.75</td>\n",
       "      <td>0.42</td>\n",
       "    </tr>\n",
       "    <tr>\n",
       "      <th rowspan=\"2\" valign=\"top\">prio</th>\n",
       "      <th>km</th>\n",
       "      <td>0.03</td>\n",
       "      <td>0.87</td>\n",
       "      <td>0.20</td>\n",
       "    </tr>\n",
       "    <tr>\n",
       "      <th>rank</th>\n",
       "      <td>0.05</td>\n",
       "      <td>0.83</td>\n",
       "      <td>0.27</td>\n",
       "    </tr>\n",
       "    <tr>\n",
       "      <th rowspan=\"2\" valign=\"top\">race</th>\n",
       "      <th>km</th>\n",
       "      <td>1.41</td>\n",
       "      <td>0.24</td>\n",
       "      <td>2.09</td>\n",
       "    </tr>\n",
       "    <tr>\n",
       "      <th>rank</th>\n",
       "      <td>1.38</td>\n",
       "      <td>0.24</td>\n",
       "      <td>2.06</td>\n",
       "    </tr>\n",
       "    <tr>\n",
       "      <th rowspan=\"2\" valign=\"top\">wexp</th>\n",
       "      <th>km</th>\n",
       "      <td>7.29</td>\n",
       "      <td>0.01</td>\n",
       "      <td>7.17</td>\n",
       "    </tr>\n",
       "    <tr>\n",
       "      <th>rank</th>\n",
       "      <td>7.11</td>\n",
       "      <td>0.01</td>\n",
       "      <td>7.03</td>\n",
       "    </tr>\n",
       "  </tbody>\n",
       "</table>"
      ],
      "text/latex": [
       "\\begin{tabular}{llrrr}\n",
       "\\toprule\n",
       "     &      &  test\\_statistic &         p &   -log2(p) \\\\\n",
       "\\midrule\n",
       "Unnamed: 0 & km &        1.793110 &  0.180548 &   2.469548 \\\\\n",
       "     & rank &        2.402697 &  0.121126 &   3.045416 \\\\\n",
       "age & km &       10.560326 &  0.001155 &   9.757382 \\\\\n",
       "     & rank &       10.884963 &  0.000969 &  10.010499 \\\\\n",
       "fin & km &        0.082017 &  0.774583 &   0.368508 \\\\\n",
       "     & rank &        0.076802 &  0.781679 &   0.355351 \\\\\n",
       "mar & km &        0.509516 &  0.475349 &   1.072942 \\\\\n",
       "     & rank &        0.587711 &  0.443306 &   1.173627 \\\\\n",
       "paro & km &        0.091405 &  0.762399 &   0.391383 \\\\\n",
       "     & rank &        0.103841 &  0.747268 &   0.420302 \\\\\n",
       "prio & km &        0.027577 &  0.868108 &   0.204054 \\\\\n",
       "     & rank &        0.047785 &  0.826964 &   0.274103 \\\\\n",
       "race & km &        1.409458 &  0.235146 &   2.088369 \\\\\n",
       "     & rank &        1.376995 &  0.240614 &   2.055210 \\\\\n",
       "wexp & km &        7.285252 &  0.006952 &   7.168295 \\\\\n",
       "     & rank &        7.109771 &  0.007666 &   7.027218 \\\\\n",
       "\\bottomrule\n",
       "\\end{tabular}\n"
      ],
      "text/plain": [
       "<lifelines.StatisticalResult: proportional_hazard_test>\n",
       " null_distribution = chi squared\n",
       "degrees_of_freedom = 1\n",
       "             model = <lifelines.CoxPHFitter: fitted with 432 total observations, 318 right-censored observations>\n",
       "         test_name = proportional_hazard_test\n",
       "\n",
       "---\n",
       "                 test_statistic      p  -log2(p)\n",
       "Unnamed: 0 km              1.79   0.18      2.47\n",
       "           rank            2.40   0.12      3.05\n",
       "age        km             10.56 <0.005      9.76\n",
       "           rank           10.88 <0.005     10.01\n",
       "fin        km              0.08   0.77      0.37\n",
       "           rank            0.08   0.78      0.36\n",
       "mar        km              0.51   0.48      1.07\n",
       "           rank            0.59   0.44      1.17\n",
       "paro       km              0.09   0.76      0.39\n",
       "           rank            0.10   0.75      0.42\n",
       "prio       km              0.03   0.87      0.20\n",
       "           rank            0.05   0.83      0.27\n",
       "race       km              1.41   0.24      2.09\n",
       "           rank            1.38   0.24      2.06\n",
       "wexp       km              7.29   0.01      7.17\n",
       "           rank            7.11   0.01      7.03"
      ]
     },
     "metadata": {},
     "output_type": "display_data"
    },
    {
     "name": "stdout",
     "output_type": "stream",
     "text": [
      "\n",
      "\n",
      "1. Variable 'age' failed the non-proportional test: p-value is 0.0010.\n",
      "\n",
      "   Advice 1: the functional form of the variable 'age' might be incorrect. That is, there may be\n",
      "non-linear terms missing. The proportional hazard test used is very sensitive to incorrect\n",
      "functional forms. See documentation in link [D] below on how to specify a functional form.\n",
      "\n",
      "   Advice 2: try binning the variable 'age' using pd.cut, and then specify it in `strata=['age',\n",
      "...]` in the call in `.fit`. See documentation in link [B] below.\n",
      "\n",
      "   Advice 3: try adding an interaction term with your time variable. See documentation in link [C]\n",
      "below.\n",
      "\n",
      "\n",
      "2. Variable 'wexp' failed the non-proportional test: p-value is 0.0070.\n",
      "\n",
      "   Advice: with so few unique values (only 2), you can include `strata=['wexp', ...]` in the call in\n",
      "`.fit`. See documentation in link [E] below.\n",
      "\n",
      "---\n",
      "[A]  https://lifelines.readthedocs.io/en/latest/jupyter_notebooks/Proportional%20hazard%20assumption.html\n",
      "[B]  https://lifelines.readthedocs.io/en/latest/jupyter_notebooks/Proportional%20hazard%20assumption.html#Bin-variable-and-stratify-on-it\n",
      "[C]  https://lifelines.readthedocs.io/en/latest/jupyter_notebooks/Proportional%20hazard%20assumption.html#Introduce-time-varying-covariates\n",
      "[D]  https://lifelines.readthedocs.io/en/latest/jupyter_notebooks/Proportional%20hazard%20assumption.html#Modify-the-functional-form\n",
      "[E]  https://lifelines.readthedocs.io/en/latest/jupyter_notebooks/Proportional%20hazard%20assumption.html#Stratification\n",
      "\n",
      "[]\n"
     ]
    }
   ],
   "source": [
    "# Check PH assumption\n",
    "print(cph.check_assumptions(training_df=prison, p_value_threshold=0.1))"
   ]
  },
  {
   "cell_type": "code",
   "execution_count": 83,
   "id": "cacdb2ce",
   "metadata": {},
   "outputs": [],
   "source": [
    "employees['Attrition'] = np.where(employees.Attrition == \"Yes\", 1, 0)"
   ]
  },
  {
   "cell_type": "code",
   "execution_count": 88,
   "id": "33b38c26",
   "metadata": {},
   "outputs": [
    {
     "data": {
      "text/plain": [
       "Index(['Age', 'Attrition', 'BusinessTravel', 'DailyRate', 'Department',\n",
       "       'DistanceFromHome', 'Education', 'EducationField', 'EmployeeCount',\n",
       "       'EmployeeNumber', 'EnvironmentSatisfaction', 'Gender', 'HourlyRate',\n",
       "       'JobInvolvement', 'JobLevel', 'JobRole', 'JobSatisfaction',\n",
       "       'MaritalStatus', 'MonthlyIncome', 'MonthlyRate', 'NumCompaniesWorked',\n",
       "       'Over18', 'OverTime', 'PercentSalaryHike', 'PerformanceRating',\n",
       "       'RelationshipSatisfaction', 'StandardHours', 'StockOptionLevel',\n",
       "       'TotalWorkingYears', 'TrainingTimesLastYear', 'WorkLifeBalance',\n",
       "       'YearsAtCompany', 'YearsInCurrentRole', 'YearsSinceLastPromotion',\n",
       "       'YearsWithCurrManager'],\n",
       "      dtype='object')"
      ]
     },
     "execution_count": 88,
     "metadata": {},
     "output_type": "execute_result"
    }
   ],
   "source": [
    "employees.columns"
   ]
  },
  {
   "cell_type": "code",
   "execution_count": 89,
   "id": "f13bbfbb",
   "metadata": {},
   "outputs": [],
   "source": [
    "employees_df = employees[['Attrition', 'TotalWorkingYears', 'EnvironmentSatisfaction','JobSatisfaction', 'RelationshipSatisfaction', 'WorkLifeBalance', 'DistanceFromHome', 'PerformanceRating', 'DailyRate',\n",
    "       'StockOptionLevel']]"
   ]
  },
  {
   "cell_type": "code",
   "execution_count": 91,
   "id": "096a14eb",
   "metadata": {},
   "outputs": [],
   "source": [
    "# Instantiate a CoxPHFitter object cph\n",
    "cph = CoxPHFitter()\n",
    "\n",
    "# Fit cph on all covariates\n",
    "cph.fit(employees_df, 'TotalWorkingYears', event_col='Attrition')\n",
    "\n",
    "# Select employees that have not churned\n",
    "current_employees = employees_df.loc[employees_df['Attrition'] == 0]\n",
    "\n",
    "# Existing durations of employees that have not churned\n",
    "current_employees_last_obs = current_employees['TotalWorkingYears']"
   ]
  },
  {
   "cell_type": "code",
   "execution_count": 92,
   "id": "ed996466",
   "metadata": {},
   "outputs": [
    {
     "name": "stdout",
     "output_type": "stream",
     "text": [
      "2.0\n"
     ]
    }
   ],
   "source": [
    "# Predict survival function conditional on existing durations\n",
    "cph.predict_survival_function(current_employees, \n",
    "                              conditional_after=current_employees_last_obs)\n",
    "\n",
    "# Predict median remaining times for current employees\n",
    "pred = cph.predict_median(current_employees, \n",
    "                          conditional_after=current_employees_last_obs)\n",
    "\n",
    "# Print the smallest median remaining time\n",
    "print(min(pred))"
   ]
  }
 ],
 "metadata": {
  "kernelspec": {
   "display_name": "Python 3 (ipykernel)",
   "language": "python",
   "name": "python3"
  },
  "language_info": {
   "codemirror_mode": {
    "name": "ipython",
    "version": 3
   },
   "file_extension": ".py",
   "mimetype": "text/x-python",
   "name": "python",
   "nbconvert_exporter": "python",
   "pygments_lexer": "ipython3",
   "version": "3.9.7"
  }
 },
 "nbformat": 4,
 "nbformat_minor": 5
}
