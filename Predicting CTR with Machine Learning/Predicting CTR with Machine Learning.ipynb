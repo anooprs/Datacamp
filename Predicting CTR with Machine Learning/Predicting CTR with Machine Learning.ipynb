{
 "cells": [
  {
   "cell_type": "markdown",
   "metadata": {},
   "source": [
    "## Description"
   ]
  },
  {
   "cell_type": "markdown",
   "metadata": {},
   "source": [
    "Have you ever wondered how companies like Facebook and Google are able to serve you surprisingly targeted ads that you occasionally click? Well, behind the scenes, they are running sophisticated machine learning models and using rich user data to predict the click-through rate (CTR) for every user who sees those ads. "
   ]
  },
  {
   "cell_type": "markdown",
   "metadata": {},
   "source": [
    "## Introduction to CTR and Basic Techniques"
   ]
  },
  {
   "cell_type": "markdown",
   "metadata": {},
   "source": [
    "The target variable will be in the click column. The hour is in a YYMMDDHH format, and there are a few integer columns: device_type for the type of device, banner_pos for the position of a banner ad (also known as a display ad), etc."
   ]
  },
  {
   "cell_type": "code",
   "execution_count": 53,
   "metadata": {
    "ExecuteTime": {
     "end_time": "2021-11-05T04:03:40.642183Z",
     "start_time": "2021-11-05T04:03:31.376988Z"
    }
   },
   "outputs": [],
   "source": [
    "import pandas as pd\n",
    "\n",
    "df = pd.read_csv('sample_data.csv')"
   ]
  },
  {
   "cell_type": "code",
   "execution_count": 54,
   "metadata": {
    "ExecuteTime": {
     "end_time": "2021-11-05T04:03:43.283444Z",
     "start_time": "2021-11-05T04:03:40.676147Z"
    }
   },
   "outputs": [
    {
     "name": "stdout",
     "output_type": "stream",
     "text": [
      "   Unnamed: 0  click      hour    C1  banner_pos  device_type  \\\n",
      "0           0      0  14102100  1005           0            1   \n",
      "1           1      0  14102100  1005           0            1   \n",
      "2           2      0  14102100  1005           0            1   \n",
      "3           3      0  14102100  1005           0            1   \n",
      "4           4      0  14102100  1005           1            1   \n",
      "\n",
      "   device_conn_type    C14  C15  C16   C17  C18  C19     C20  C21  \\\n",
      "0                 2  15706  320   50  1722    0   35      -1   79   \n",
      "1                 0  15704  320   50  1722    0   35  100084   79   \n",
      "2                 0  15704  320   50  1722    0   35  100084   79   \n",
      "3                 0  15706  320   50  1722    0   35  100084   79   \n",
      "4                 0  18993  320   50  2161    0   35      -1  157   \n",
      "\n",
      "      device_model_int  \n",
      "0 -4536565594672005814  \n",
      "1   -80052322344914806  \n",
      "2 -3130634972019121531  \n",
      "3 -8587292268327570678  \n",
      "4 -7699311560514132401  \n",
      "Index(['Unnamed: 0', 'click', 'hour', 'C1', 'banner_pos', 'device_type',\n",
      "       'device_conn_type', 'C14', 'C15', 'C16', 'C17', 'C18', 'C19', 'C20',\n",
      "       'C21', 'device_model_int'],\n",
      "      dtype='object')\n",
      "Sample CTR :\n",
      " 0.1749\n"
     ]
    }
   ],
   "source": [
    "# Look at basics of Dataframe \n",
    "print(df.head(5))\n",
    "print(df.columns)\n",
    "\n",
    "# Define X and y\n",
    "X = df.loc[:, ~df.columns.isin(['click'])]\n",
    "y = df.click\n",
    "\n",
    "# Sample CTR\n",
    "print(\"Sample CTR :\\n\", \n",
    "      y.sum()/len(y))"
   ]
  },
  {
   "cell_type": "markdown",
   "metadata": {},
   "source": [
    "**Note that the percentage of values of y which are 1 is above 10% - in practice for real life click-through rates, that percentage is in the small single digits range.**"
   ]
  },
  {
   "cell_type": "code",
   "execution_count": 55,
   "metadata": {
    "ExecuteTime": {
     "end_time": "2021-11-05T04:03:45.187049Z",
     "start_time": "2021-11-05T04:03:43.283444Z"
    }
   },
   "outputs": [
    {
     "name": "stdout",
     "output_type": "stream",
     "text": [
      "Distribution of device type: \n",
      "1    0.92597\n",
      "0    0.04212\n",
      "4    0.02979\n",
      "5    0.00212\n",
      "Name: device_type, dtype: float64\n",
      "CTR by device type: \n",
      "device_type\n",
      "0    0.00958\n",
      "1    0.16295\n",
      "4    0.00216\n",
      "5    0.00021\n",
      "Name: click, dtype: float64\n"
     ]
    }
   ],
   "source": [
    "# Distribution of values for device type\n",
    "print(\"Distribution of device type: \")\n",
    "print(X.device_type.value_counts()/len(X))\n",
    "\n",
    "# Sample CTR by device type \n",
    "print(\"CTR by device type: \")\n",
    "print(df.groupby('device_type')['click'].sum()/len(y))"
   ]
  },
  {
   "cell_type": "code",
   "execution_count": 56,
   "metadata": {
    "ExecuteTime": {
     "end_time": "2021-11-05T04:03:45.563378Z",
     "start_time": "2021-11-05T04:03:45.255343Z"
    }
   },
   "outputs": [
    {
     "name": "stdout",
     "output_type": "stream",
     "text": [
      "Distribution of banner position: \n",
      "0    0.80249\n",
      "1    0.19714\n",
      "2    0.00021\n",
      "5    0.00010\n",
      "4    0.00006\n",
      "Name: banner_pos, dtype: float64\n",
      "CTR by banner position: \n",
      "banner_pos\n",
      "0    0.13599\n",
      "1    0.03883\n",
      "2    0.00003\n",
      "4    0.00001\n",
      "5    0.00004\n",
      "Name: click, dtype: float64\n"
     ]
    }
   ],
   "source": [
    "# Distribution of values for banner position\n",
    "print(\"Distribution of banner position: \")\n",
    "print(X.banner_pos.value_counts()/len(X))\n",
    "\n",
    "# Sample CTR by banner position\n",
    "print(\"CTR by banner position: \")\n",
    "print(df.groupby('banner_pos')['click'].sum()/len(y))"
   ]
  },
  {
   "cell_type": "markdown",
   "metadata": {},
   "source": [
    "**For both device type and banner position, notice that a significant portion of values seem to be in a particular category, and that there seems to be a particular breakdown that has a significantly higher CTR than the other values.**"
   ]
  },
  {
   "cell_type": "code",
   "execution_count": 57,
   "metadata": {
    "ExecuteTime": {
     "end_time": "2021-11-05T04:03:45.922279Z",
     "start_time": "2021-11-05T04:03:45.585364Z"
    }
   },
   "outputs": [],
   "source": [
    "from sklearn.model_selection import train_test_split\n",
    "from sklearn.metrics import accuracy_score\n",
    "from sklearn.tree import DecisionTreeClassifier"
   ]
  },
  {
   "cell_type": "code",
   "execution_count": 58,
   "metadata": {
    "ExecuteTime": {
     "end_time": "2021-11-05T04:03:51.690751Z",
     "start_time": "2021-11-05T04:03:45.931285Z"
    }
   },
   "outputs": [
    {
     "name": "stdout",
     "output_type": "stream",
     "text": [
      "0.7408\n"
     ]
    }
   ],
   "source": [
    "# Define training and testing\n",
    "X_train, X_test, y_train, y_test = \\\n",
    "\ttrain_test_split(X, y, test_size = .2, random_state = 0)\n",
    "\n",
    "# Create decision tree classifier\n",
    "clf = DecisionTreeClassifier()\n",
    "\n",
    "# Train classifier - predict label and evaluate accuracy\n",
    "y_pred = clf.fit(X_train, y_train).predict(X_test) \n",
    "print(accuracy_score(y_test, y_pred))"
   ]
  },
  {
   "cell_type": "markdown",
   "metadata": {
    "ExecuteTime": {
     "end_time": "2021-11-04T17:40:07.218290Z",
     "start_time": "2021-11-04T17:40:07.183312Z"
    }
   },
   "source": [
    "**Notice that our accuracy is only around 89%.**"
   ]
  },
  {
   "cell_type": "code",
   "execution_count": 59,
   "metadata": {
    "ExecuteTime": {
     "end_time": "2021-11-05T04:03:51.943607Z",
     "start_time": "2021-11-05T04:03:51.693750Z"
    }
   },
   "outputs": [],
   "source": [
    "from sklearn.metrics import roc_curve, auc"
   ]
  },
  {
   "cell_type": "code",
   "execution_count": 60,
   "metadata": {
    "ExecuteTime": {
     "end_time": "2021-11-05T04:03:55.193035Z",
     "start_time": "2021-11-05T04:03:51.946604Z"
    }
   },
   "outputs": [
    {
     "name": "stdout",
     "output_type": "stream",
     "text": [
      "0.5535928169881492\n"
     ]
    }
   ],
   "source": [
    "# Train classifier - predict probability score and label\n",
    "y_score = clf.fit(X_train, y_train).predict_proba(X_test) \n",
    "y_pred = clf.fit(X_train, y_train).predict(X_test) \n",
    "\n",
    "# Get ROC curve metrics\n",
    "fpr, tpr, thresholds = roc_curve(y_test, y_score[:, 1])\n",
    "roc_auc = auc(fpr, tpr)\n",
    "print(roc_auc)"
   ]
  },
  {
   "cell_type": "markdown",
   "metadata": {},
   "source": [
    "**Notice that the AUC metric for our ROC curve is > 0.50, which indicates an improvement over a baseline classifier (which has a default AUC of 0.50). With some more exploration of techniques and other models, we will further improve our model for CTR prediction.**"
   ]
  },
  {
   "cell_type": "code",
   "execution_count": 61,
   "metadata": {
    "ExecuteTime": {
     "end_time": "2021-11-05T04:03:55.776018Z",
     "start_time": "2021-11-05T04:03:55.214024Z"
    }
   },
   "outputs": [
    {
     "name": "stdout",
     "output_type": "stream",
     "text": [
      "Index(['Unnamed: 0', 'click', 'hour', 'C1', 'banner_pos', 'device_type',\n",
      "       'device_conn_type', 'C14', 'C15', 'C16', 'C17', 'C18', 'C19', 'C20',\n",
      "       'C21', 'device_model_int'],\n",
      "      dtype='object')\n",
      "Unnamed: 0          int64\n",
      "click               int64\n",
      "hour                int64\n",
      "C1                  int64\n",
      "banner_pos          int64\n",
      "device_type         int64\n",
      "device_conn_type    int64\n",
      "C14                 int64\n",
      "C15                 int64\n",
      "C16                 int64\n",
      "C17                 int64\n",
      "C18                 int64\n",
      "C19                 int64\n",
      "C20                 int64\n",
      "C21                 int64\n",
      "device_model_int    int64\n",
      "dtype: object\n",
      "Index(['Unnamed: 0', 'click', 'hour', 'C1', 'banner_pos', 'device_type',\n",
      "       'device_conn_type', 'C14', 'C15', 'C16', 'C17', 'C18', 'C19', 'C20',\n",
      "       'C21', 'device_model_int'],\n",
      "      dtype='object')\n",
      "Index([], dtype='object')\n"
     ]
    }
   ],
   "source": [
    "# Print columns\n",
    "print(df.columns)\n",
    "\n",
    "# Print data types of columns\n",
    "print(df.dtypes)\n",
    "\n",
    "# Select and print numeric columns\n",
    "numeric_df = df.select_dtypes(include=['int', 'float'])\n",
    "print(numeric_df.columns)\n",
    "\n",
    "# Select and print categorical columns \n",
    "categorical_df = df.select_dtypes(include=['object'])\n",
    "print(categorical_df.columns)"
   ]
  },
  {
   "cell_type": "markdown",
   "metadata": {},
   "source": [
    "**Note that there seems to be mostly numerical columns. Some of these columns are actually not numerical though, as we will discuss later.**"
   ]
  },
  {
   "cell_type": "markdown",
   "metadata": {},
   "source": [
    "### Checking for missing values"
   ]
  },
  {
   "cell_type": "code",
   "execution_count": 62,
   "metadata": {
    "ExecuteTime": {
     "end_time": "2021-11-05T04:03:57.698451Z",
     "start_time": "2021-11-05T04:03:55.778017Z"
    }
   },
   "outputs": [
    {
     "name": "stdout",
     "output_type": "stream",
     "text": [
      "<class 'pandas.core.frame.DataFrame'>\n",
      "RangeIndex: 100000 entries, 0 to 99999\n",
      "Data columns (total 16 columns):\n",
      " #   Column            Non-Null Count   Dtype\n",
      "---  ------            --------------   -----\n",
      " 0   Unnamed: 0        100000 non-null  int64\n",
      " 1   click             100000 non-null  int64\n",
      " 2   hour              100000 non-null  int64\n",
      " 3   C1                100000 non-null  int64\n",
      " 4   banner_pos        100000 non-null  int64\n",
      " 5   device_type       100000 non-null  int64\n",
      " 6   device_conn_type  100000 non-null  int64\n",
      " 7   C14               100000 non-null  int64\n",
      " 8   C15               100000 non-null  int64\n",
      " 9   C16               100000 non-null  int64\n",
      " 10  C17               100000 non-null  int64\n",
      " 11  C18               100000 non-null  int64\n",
      " 12  C19               100000 non-null  int64\n",
      " 13  C20               100000 non-null  int64\n",
      " 14  C21               100000 non-null  int64\n",
      " 15  device_model_int  100000 non-null  int64\n",
      "dtypes: int64(16)\n",
      "memory usage: 12.2 MB\n",
      "None\n",
      "Unnamed: 0          0\n",
      "click               0\n",
      "hour                0\n",
      "C1                  0\n",
      "banner_pos          0\n",
      "device_type         0\n",
      "device_conn_type    0\n",
      "C14                 0\n",
      "C15                 0\n",
      "C16                 0\n",
      "C17                 0\n",
      "C18                 0\n",
      "C19                 0\n",
      "C20                 0\n",
      "C21                 0\n",
      "device_model_int    0\n",
      "dtype: int64\n",
      "0\n"
     ]
    }
   ],
   "source": [
    "# Print info\n",
    "print(df.info())\n",
    "\n",
    "# Print missing values by column \n",
    "print(df.isnull().sum(axis = 0))\n",
    "\n",
    "# Print total number of missing values in rows\n",
    "print(df.isnull().sum(axis = 1).sum())"
   ]
  },
  {
   "cell_type": "markdown",
   "metadata": {},
   "source": [
    "**Note that since there are no missing values by columns or rows, we can move on and continue analyzing our data.**"
   ]
  },
  {
   "cell_type": "markdown",
   "metadata": {},
   "source": [
    "## Distributions by CTR"
   ]
  },
  {
   "cell_type": "code",
   "execution_count": 63,
   "metadata": {
    "ExecuteTime": {
     "end_time": "2021-11-05T04:03:58.376904Z",
     "start_time": "2021-11-05T04:03:57.701506Z"
    }
   },
   "outputs": [],
   "source": [
    "df.rename(columns = {\"C1\": \"search_engine_type\"}, inplace=True)"
   ]
  },
  {
   "cell_type": "code",
   "execution_count": 64,
   "metadata": {
    "ExecuteTime": {
     "end_time": "2021-11-05T04:04:09.102804Z",
     "start_time": "2021-11-05T04:03:58.376904Z"
    }
   },
   "outputs": [
    {
     "data": {
      "image/png": "[encoded data removed]",
      "text/plain": [
       "<Figure size 432x288 with 1 Axes>"
      ]
     },
     "metadata": {
      "needs_background": "light"
     },
     "output_type": "display_data"
    },
    {
     "name": "stdout",
     "output_type": "stream",
     "text": [
      "click  search_engine_type   clicks    total       CTR\n",
      "0                    1001      3.0     29.0  0.103448\n",
      "1                    1002    958.0   4212.0  0.227445\n",
      "2                    1005  16288.0  92454.0  0.176174\n",
      "3                    1007      NaN      NaN       NaN\n",
      "4                    1008      4.0     10.0  0.400000\n",
      "5                    1010    237.0   3191.0  0.074271\n"
     ]
    }
   ],
   "source": [
    "# Construct bar chart for clicks by search engine type\n",
    "from matplotlib import pyplot as plt\n",
    "\n",
    "se_df = df.groupby(['search_engine_type', 'click']).size().unstack()\n",
    "se_df.plot(kind = 'bar', title = 'Value frequency for search engine type')\n",
    "plt.show()\n",
    "\n",
    "# Reset index and rename columns\n",
    "se_df = se_df.reset_index()\n",
    "se_df.rename(columns = {0: 'non_clicks', 1: 'clicks'}, inplace = True)\n",
    "\n",
    "# Compute CTR using clicks and non clicks\n",
    "se_df['total'] = se_df['clicks'] + se_df['non_clicks']\n",
    "se_df['CTR'] = se_df['clicks'] / se_df['total']\n",
    "\n",
    "# Print CTR by search engine type\n",
    "print(se_df[['search_engine_type', 'clicks', 'total', 'CTR']])"
   ]
  },
  {
   "cell_type": "markdown",
   "metadata": {},
   "source": [
    "**Note the most of the search engine type values are one particular value (category 1005) - which may represent Google. Also, it appears that CTR varies by search engine type value (highest for the category 1002), similar to the case with device type and banner position values. Therefore, it is likely useful for predicting CTR and should be included in future prediction models.**"
   ]
  },
  {
   "cell_type": "code",
   "execution_count": 65,
   "metadata": {
    "ExecuteTime": {
     "end_time": "2021-11-05T04:04:10.522509Z",
     "start_time": "2021-11-05T04:04:09.175315Z"
    }
   },
   "outputs": [],
   "source": [
    "df['hour'] = pd.to_datetime(df['hour'], format = '%y%m%d%H')"
   ]
  },
  {
   "cell_type": "code",
   "execution_count": 66,
   "metadata": {
    "ExecuteTime": {
     "end_time": "2021-11-05T04:04:10.765408Z",
     "start_time": "2021-11-05T04:04:10.526055Z"
    }
   },
   "outputs": [
    {
     "name": "stdout",
     "output_type": "stream",
     "text": [
      "Categorical columns: \n",
      "[]\n",
      "   Unnamed: 0  click       hour  search_engine_type  banner_pos  device_type  \\\n",
      "0           0      0 2014-10-21                1005           0            1   \n",
      "1           1      0 2014-10-21                1005           0            1   \n",
      "2           2      0 2014-10-21                1005           0            1   \n",
      "3           3      0 2014-10-21                1005           0            1   \n",
      "4           4      0 2014-10-21                1005           1            1   \n",
      "\n",
      "   device_conn_type    C14  C15  C16   C17  C18  C19     C20  C21  \\\n",
      "0                 2  15706  320   50  1722    0   35      -1   79   \n",
      "1                 0  15704  320   50  1722    0   35  100084   79   \n",
      "2                 0  15704  320   50  1722    0   35  100084   79   \n",
      "3                 0  15706  320   50  1722    0   35  100084   79   \n",
      "4                 0  18993  320   50  2161    0   35      -1  157   \n",
      "\n",
      "      device_model_int  \n",
      "0 -4536565594672005814  \n",
      "1   -80052322344914806  \n",
      "2 -3130634972019121531  \n",
      "3 -8587292268327570678  \n",
      "4 -7699311560514132401  \n"
     ]
    }
   ],
   "source": [
    "# Get categorical columns\n",
    "categorical_cols = df.select_dtypes(\n",
    "  include = ['object']).columns.tolist()\n",
    "print(\"Categorical columns: \")\n",
    "print(categorical_cols)\n",
    "\n",
    "# Iterate over categorical columns and apply hash function\n",
    "for col in categorical_cols:\n",
    "\tdf[col] = df[col].apply(lambda x: hash(x))\n",
    "\n",
    "# Print examples of new output\n",
    "print(df.head(5))"
   ]
  },
  {
   "cell_type": "code",
   "execution_count": 69,
   "metadata": {
    "ExecuteTime": {
     "end_time": "2021-11-05T06:07:43.170010Z",
     "start_time": "2021-11-05T06:07:41.923624Z"
    }
   },
   "outputs": [
    {
     "name": "stdout",
     "output_type": "stream",
     "text": [
      "TN: 13875, FP: 2658, FN: 2531, TP: 936\n"
     ]
    }
   ],
   "source": [
    "from sklearn.metrics import confusion_matrix\n",
    "\n",
    "# Set up classifier using training data to predict test data\n",
    "X_train, X_test, y_train, y_test = train_test_split(\n",
    "  X, y, test_size = .2, random_state = 0)\n",
    "clf = DecisionTreeClassifier()\n",
    "y_pred = clf.fit(X_train, y_train).predict(X_test) \n",
    "\n",
    "# Define confusion matrix and four categories\n",
    "conf_matrix = confusion_matrix(y_test, y_pred)\n",
    "tn = conf_matrix[0][0]\n",
    "fp = conf_matrix[0][1]\n",
    "fn = conf_matrix[1][0]\n",
    "tp = conf_matrix[1][1]\n",
    "\n",
    "print(\"TN: %s, FP: %s, FN: %s, TP: %s\" %(tn, fp, fn, tp))"
   ]
  },
  {
   "cell_type": "markdown",
   "metadata": {},
   "source": [
    "**Notice that the largest category is TN (model predicts no click, and actual was no click), which makes sense because our model will mostly predict non-click.**"
   ]
  },
  {
   "cell_type": "code",
   "execution_count": 72,
   "metadata": {
    "ExecuteTime": {
     "end_time": "2021-11-05T07:06:30.018918Z",
     "start_time": "2021-11-05T07:06:29.855532Z"
    }
   },
   "outputs": [
    {
     "name": "stdout",
     "output_type": "stream",
     "text": [
      "Total return: 187.2, Total cost: 179.7, ROI: 1.04\n"
     ]
    }
   ],
   "source": [
    "import numpy as np\n",
    "\n",
    "# Compute confusion matrix and get four categories\n",
    "conf_matrix = confusion_matrix(y_test, y_pred)\n",
    "tn, fp, fn, tp = conf_matrix.ravel()\n",
    "\n",
    "# Calculate total return, total spent, and ROI\n",
    "r = 0.2\n",
    "cost = 0.05\n",
    "total_return = round(tp * r,2)\n",
    "total_cost = round((tp + fp) * cost,2) \n",
    "roi = round(total_return / total_cost,2)\n",
    "print(\"Total return: %s, Total cost: %s, ROI: %s\" %(\n",
    "  total_return, total_cost, roi))"
   ]
  },
  {
   "cell_type": "code",
   "execution_count": 73,
   "metadata": {
    "ExecuteTime": {
     "end_time": "2021-11-05T07:24:08.121157Z",
     "start_time": "2021-11-05T07:24:07.693719Z"
    }
   },
   "outputs": [],
   "source": [
    "from sklearn.metrics import precision_score, recall_score"
   ]
  },
  {
   "cell_type": "code",
   "execution_count": 74,
   "metadata": {
    "ExecuteTime": {
     "end_time": "2021-11-05T07:24:26.918513Z",
     "start_time": "2021-11-05T07:24:21.789316Z"
    }
   },
   "outputs": [
    {
     "name": "stdout",
     "output_type": "stream",
     "text": [
      "Precision: 0.7434019051814059, Recall: 0.73985\n"
     ]
    }
   ],
   "source": [
    "# Create classifier and make predictions\n",
    "clf = DecisionTreeClassifier()\n",
    "y_pred = clf.fit(X_train, y_train).predict(X_test) \n",
    "\n",
    "# Evaluate precision and recall\n",
    "prec = precision_score(y_test, y_pred, average = 'weighted')\n",
    "recall = recall_score(y_test, y_pred, average = 'weighted')\n",
    "print(\"Precision: %s, Recall: %s\" %(prec, recall))"
   ]
  },
  {
   "cell_type": "markdown",
   "metadata": {},
   "source": [
    "**The precision value is the proportion of clicks relative to total number of impressions, and recall is the proportion of clicks gotten of all clicks available. Both are around 70-75%!**"
   ]
  },
  {
   "cell_type": "code",
   "execution_count": 76,
   "metadata": {
    "ExecuteTime": {
     "end_time": "2021-11-05T07:27:58.902806Z",
     "start_time": "2021-11-05T07:27:58.616436Z"
    }
   },
   "outputs": [
    {
     "name": "stdout",
     "output_type": "stream",
     "text": [
      "Confusion matrix: \n",
      "[[16533     0]\n",
      " [ 3467     0]]\n",
      "Precision: 0.6833502225, Recall: 0.82665\n"
     ]
    }
   ],
   "source": [
    "# Set up baseline predictions\n",
    "y_pred = np.asarray([0 for x in range(len(X_test))])\n",
    "\n",
    "# Look at confusion matrix\n",
    "print(\"Confusion matrix: \")\n",
    "print(confusion_matrix(y_test, y_pred))\n",
    "\n",
    "# Check precision and recall\n",
    "prec = precision_score(y_test, y_pred, average = 'weighted', zero_division=False)\n",
    "recall = recall_score(y_test, y_pred, average = 'weighted', zero_division=False)\n",
    "print(\"Precision: %s, Recall: %s\" %(prec, recall))"
   ]
  },
  {
   "cell_type": "markdown",
   "metadata": {},
   "source": [
    "**Notice that the number of true and false positives are both 0, which is expected by design. Also note that the recall here was 83% simply due to the imbalanced nature of the dataset.**"
   ]
  },
  {
   "cell_type": "code",
   "execution_count": 78,
   "metadata": {
    "ExecuteTime": {
     "end_time": "2021-11-05T07:48:44.229129Z",
     "start_time": "2021-11-05T07:48:35.569040Z"
    }
   },
   "outputs": [
    {
     "name": "stdout",
     "output_type": "stream",
     "text": [
      "Total return: 367.8, Total spent: 511.3, ROI: 0.7193428515548602\n"
     ]
    }
   ],
   "source": [
    "# Create and fit classifier\n",
    "from sklearn.linear_model import LogisticRegression\n",
    "\n",
    "clf = LogisticRegression()\n",
    "y_pred = clf.fit(X_train, y_train).predict(X_test) \n",
    "\n",
    "# Calculate total return, total spent, and ROI \n",
    "r, cost = 0.2, 0.05\n",
    "tn, fp, fn, tp = confusion_matrix(y_test, y_pred).ravel()\n",
    "total_return = tp * r\n",
    "total_spent = (tp + fp) * cost \n",
    "roi = total_return / total_spent\n",
    "print(\"Total return: %s, Total spent: %s, ROI: %s\" %(total_return, total_spent, roi))"
   ]
  },
  {
   "cell_type": "code",
   "execution_count": 79,
   "metadata": {
    "ExecuteTime": {
     "end_time": "2021-11-05T07:48:53.132920Z",
     "start_time": "2021-11-05T07:48:52.089548Z"
    }
   },
   "outputs": [
    {
     "name": "stdout",
     "output_type": "stream",
     "text": [
      "Total return: 186.60000000000002, Total spent: 179.9, ROI: 1.0372429127292941\n"
     ]
    }
   ],
   "source": [
    "# Create and fit decision tree classifier\n",
    "clf = DecisionTreeClassifier()\n",
    "y_pred = clf.fit(X_train, y_train).predict(X_test) \n",
    "\n",
    "# Calculate total return, total spent, and ROI \n",
    "r, cost = 0.2, 0.05\n",
    "tn, fp, fn, tp = confusion_matrix(y_test, y_pred).ravel()\n",
    "total_return = tp * r\n",
    "total_spent = (tp + fp) * cost \n",
    "roi = total_return / total_spent\n",
    "print(\"Total return: %s, Total spent: %s, ROI: %s\" %(total_return, total_spent, roi))"
   ]
  },
  {
   "cell_type": "markdown",
   "metadata": {},
   "source": [
    "**Notice that the logistic regression classifier had total return of 0 and total spend of 0 - this is because it predicted only 0's, similar to the baseline classifier. Using a decision tree classifier, we see that the ROI > 1.**"
   ]
  },
  {
   "cell_type": "code",
   "execution_count": 80,
   "metadata": {
    "ExecuteTime": {
     "end_time": "2021-11-05T08:45:06.655439Z",
     "start_time": "2021-11-05T08:44:51.641343Z"
    }
   },
   "outputs": [
    {
     "name": "stdout",
     "output_type": "stream",
     "text": [
      "Evaluating tree with max_depth = 2\n",
      "Confusion matrix: \n",
      "[[16533     0]\n",
      " [ 3467     0]]\n"
     ]
    },
    {
     "name": "stderr",
     "output_type": "stream",
     "text": [
      "C:\\Users\\anoop\\anaconda3\\lib\\site-packages\\sklearn\\metrics\\_classification.py:1308: UndefinedMetricWarning: Precision is ill-defined and being set to 0.0 in labels with no predicted samples. Use `zero_division` parameter to control this behavior.\n",
      "  _warn_prf(average, modifier, msg_start, len(result))\n"
     ]
    },
    {
     "name": "stdout",
     "output_type": "stream",
     "text": [
      "Precision: 0.6833502225, Recall: 0.82665\n",
      "Evaluating tree with max_depth = 3\n",
      "Confusion matrix: \n",
      "[[16089   444]\n",
      " [ 2984   483]]\n",
      "Precision: 0.7876408651345869, Recall: 0.8286\n",
      "Evaluating tree with max_depth = 5\n",
      "Confusion matrix: \n",
      "[[16209   324]\n",
      " [ 3111   356]]\n",
      "Precision: 0.784292635641213, Recall: 0.82825\n",
      "Evaluating tree with max_depth = 10\n",
      "Confusion matrix: \n",
      "[[16137   396]\n",
      " [ 3075   392]]\n",
      "Precision: 0.7805745553619723, Recall: 0.82645\n",
      "Evaluating tree with max_depth = 15\n",
      "Confusion matrix: \n",
      "[[15800   733]\n",
      " [ 2948   519]]\n",
      "Precision: 0.7685246549919531, Recall: 0.81595\n",
      "Evaluating tree with max_depth = 20\n",
      "Confusion matrix: \n",
      "[[15397  1136]\n",
      " [ 2926   541]]\n",
      "Precision: 0.750564944961172, Recall: 0.7969\n"
     ]
    }
   ],
   "source": [
    "# Iterate over different levels of max depth\n",
    "for max_depth_val in [2, 3, 5, 10, 15, 20]:\n",
    "  # Create and fit model\n",
    "  clf = DecisionTreeClassifier(max_depth = max_depth_val)\n",
    "  print(\"Evaluating tree with max_depth = %s\" %(max_depth_val))\n",
    "  y_pred = clf.fit(X_train, y_train).predict(X_test) \n",
    "  \n",
    "  # Evaluate confusion matrix, precision, recall\n",
    "  print(\"Confusion matrix: \")\n",
    "  print(confusion_matrix(y_test, y_pred))\n",
    "  prec = precision_score(y_test, y_pred, average = 'weighted')\n",
    "  recall = recall_score(y_test, y_pred, average = 'weighted')\n",
    "  print(\"Precision: %s, Recall: %s\" %(prec, recall))"
   ]
  },
  {
   "cell_type": "code",
   "execution_count": 83,
   "metadata": {
    "ExecuteTime": {
     "end_time": "2021-11-05T09:42:52.319942Z",
     "start_time": "2021-11-05T09:42:45.579769Z"
    }
   },
   "outputs": [
    {
     "name": "stdout",
     "output_type": "stream",
     "text": [
      "Precision scores: [0.73683843 0.74253918 0.74639319 0.73882049]\n",
      "Recall scores: [0.73305 0.73755 0.7378  0.73225]\n"
     ]
    }
   ],
   "source": [
    "# Create model \n",
    "clf = DecisionTreeClassifier()\n",
    "\n",
    "from sklearn.model_selection import cross_val_score, KFold\n",
    "\n",
    "# Set up k-fold\n",
    "k_fold = KFold(n_splits = 4, random_state = 0, shuffle=True)\n",
    "\n",
    "# Evaluate precision and recall for each fold\n",
    "precision = cross_val_score(\n",
    "  clf, X_train, y_train, cv = k_fold, scoring = 'precision_weighted')\n",
    "recall = cross_val_score(\n",
    "  clf, X_train, y_train, cv = k_fold, scoring = 'recall_weighted')\n",
    "print(\"Precision scores: %s\" %(precision)) \n",
    "print(\"Recall scores: %s\" %(recall))"
   ]
  },
  {
   "cell_type": "markdown",
   "metadata": {},
   "source": [
    "**The recall levels are fairly close to one another - showing that the testing split did not affect the classifier's results. In real-life settings, the practical takeaway is that using cross validation is very powerful for large datasets since you want to avoid overfitting and different splits will likely give differen results.**"
   ]
  },
  {
   "cell_type": "code",
   "execution_count": 85,
   "metadata": {
    "ExecuteTime": {
     "end_time": "2021-11-05T09:49:35.727982Z",
     "start_time": "2021-11-05T09:49:33.354040Z"
    }
   },
   "outputs": [
    {
     "name": "stdout",
     "output_type": "stream",
     "text": [
      "Evaluating Decision Tree for max_depth = 3\n",
      "Cross validation Precision: [0.78545364 0.78379238 0.7921528  0.7741715 ]\n",
      "Test Precision: 0.7876408651345869\n",
      "Evaluating Decision Tree for max_depth = 5\n",
      "Cross validation Precision: [0.78332904 0.78205413 0.78734857 0.77926554]\n",
      "Test Precision: 0.784292635641213\n",
      "Evaluating Decision Tree for max_depth = 10\n",
      "Cross validation Precision: [0.77753982 0.77843748 0.78341313 0.77114664]\n",
      "Test Precision: 0.7805503089964452\n"
     ]
    }
   ],
   "source": [
    "# Iterate over different levels of max depth and set up k-fold\n",
    "for max_depth_val in [3, 5, 10]:\n",
    "  k_fold = KFold(n_splits = 4, random_state = 0, shuffle=True)\n",
    "  clf = DecisionTreeClassifier(max_depth = max_depth_val)\n",
    "  print(\"Evaluating Decision Tree for max_depth = %s\" %(max_depth_val))\n",
    "  y_pred = clf.fit(X_train, y_train).predict(X_test) \n",
    "  \n",
    "  # Calculate precision for cross validation and test\n",
    "  cv_precision = cross_val_score(\n",
    "    clf, X_train, y_train, cv = k_fold, scoring = 'precision_weighted')\n",
    "  precision = precision_score(y_test, y_pred, average = 'weighted')\n",
    "  print(\"Cross validation Precision: %s\" %(cv_precision))\n",
    "  print(\"Test Precision: %s\" %(precision))"
   ]
  },
  {
   "cell_type": "markdown",
   "metadata": {},
   "source": [
    "**ote that the the recall levels are fairly close to one another, and a max depth of 10 has the highest precision.**"
   ]
  },
  {
   "cell_type": "markdown",
   "metadata": {
    "ExecuteTime": {
     "end_time": "2021-11-05T12:11:40.146027Z",
     "start_time": "2021-11-05T12:11:37.101131Z"
    }
   },
   "source": [
    "## Random Forests"
   ]
  },
  {
   "cell_type": "markdown",
   "metadata": {},
   "source": [
    "**Random Forests are a classic and powerful ensemble method that utilize individual decision trees via bootstrap aggregation (or bagging for short). Two main hyperparameters involved in this type of model are the number of trees, and the max depth of each tree.**"
   ]
  },
  {
   "cell_type": "code",
   "execution_count": 87,
   "metadata": {
    "ExecuteTime": {
     "end_time": "2021-11-05T12:17:11.476613Z",
     "start_time": "2021-11-05T12:17:11.254777Z"
    }
   },
   "outputs": [],
   "source": [
    "from sklearn.ensemble import RandomForestClassifier"
   ]
  },
  {
   "cell_type": "code",
   "execution_count": 88,
   "metadata": {
    "ExecuteTime": {
     "end_time": "2021-11-05T12:17:21.834148Z",
     "start_time": "2021-11-05T12:17:11.488643Z"
    }
   },
   "outputs": [
    {
     "name": "stdout",
     "output_type": "stream",
     "text": [
      "ROC of AUC: 0.7050879056668459\n",
      "Precision: 0.7833366982218246, Recall: 0.8283\n"
     ]
    }
   ],
   "source": [
    "# Create random forest classifier with specified params\n",
    "clf = RandomForestClassifier(n_estimators = 50, max_depth = 5)\n",
    "\n",
    "# Train classifier - predict probability score and label\n",
    "y_score = clf.fit(X_train, y_train).predict_proba(X_test) \n",
    "y_pred = clf.fit(X_train, y_train).predict(X_test) \n",
    "\n",
    "# Get ROC curve metrics\n",
    "fpr, tpr, thresholds = roc_curve(y_test, y_score[:, 1])\n",
    "print(\"ROC of AUC: %s\"%(auc(fpr, tpr)))\n",
    "\n",
    "# Get precision and recall\n",
    "precision = precision_score(y_test, y_pred, average = 'weighted')\n",
    "recall = recall_score(y_test, y_pred, average = 'weighted')\n",
    "print(\"Precision: %s, Recall: %s\" %(precision, recall))"
   ]
  },
  {
   "cell_type": "markdown",
   "metadata": {},
   "source": [
    "**Note that is has better performance than logistic regression but is fairly close to that of decision trees. This is likely due to the model being not very complex (since we did not set it up that way).**"
   ]
  },
  {
   "cell_type": "markdown",
   "metadata": {},
   "source": [
    "## Grid search\n",
    "\n",
    "**Hyperparameter tuning can be done by sklearn through providing various input parameters, each of which can be encoded using various functions from numpy. One method of tuning, which exhaustively looks at all combinations of input hyperparameters specified via param_grid, is grid search.**"
   ]
  },
  {
   "cell_type": "code",
   "execution_count": 89,
   "metadata": {
    "ExecuteTime": {
     "end_time": "2021-11-05T12:21:23.094284Z",
     "start_time": "2021-11-05T12:21:23.047774Z"
    }
   },
   "outputs": [],
   "source": [
    "from sklearn.model_selection import GridSearchCV"
   ]
  },
  {
   "cell_type": "code",
   "execution_count": 90,
   "metadata": {
    "ExecuteTime": {
     "end_time": "2021-11-05T12:21:56.591671Z",
     "start_time": "2021-11-05T12:21:25.053877Z"
    }
   },
   "outputs": [
    {
     "name": "stdout",
     "output_type": "stream",
     "text": [
      "starting RF grid search.. \n",
      "Best Score: \n",
      "0.6970965275666218\n",
      "Best Estimator: \n",
      "RandomForestClassifier(max_depth=5, n_estimators=50)\n"
     ]
    }
   ],
   "source": [
    "# Create list of hyperparameters \n",
    "n_estimators = [10, 50]\n",
    "max_depth = [5, 20]\n",
    "param_grid = {'n_estimators': n_estimators, 'max_depth': max_depth}\n",
    "\n",
    "# Use Grid search CV to find best parameters \n",
    "print(\"starting RF grid search.. \")\n",
    "rf = RandomForestClassifier()\n",
    "clf = GridSearchCV(estimator = rf, param_grid = param_grid, scoring = 'roc_auc')\n",
    "clf.fit(X_train, y_train)\n",
    "print(\"Best Score: \")\n",
    "print(clf.best_score_)\n",
    "print(\"Best Estimator: \")\n",
    "print(clf.best_estimator_)"
   ]
  },
  {
   "cell_type": "markdown",
   "metadata": {},
   "source": [
    "**As seen here, the best AUC is around 0.7 and from the model with the maximum number of trees (50) and maximum depth (20).**"
   ]
  },
  {
   "cell_type": "code",
   "execution_count": 97,
   "metadata": {
    "ExecuteTime": {
     "end_time": "2021-11-05T13:09:17.936066Z",
     "start_time": "2021-11-05T13:09:17.903090Z"
    }
   },
   "outputs": [],
   "source": [
    "from sklearn.datasets import load_sample_images\n",
    "from sklearn.preprocessing import StandardScaler\n",
    "from sklearn.neural_network import MLPClassifier"
   ]
  },
  {
   "cell_type": "markdown",
   "metadata": {},
   "source": [
    "## MLPs for CTR"
   ]
  },
  {
   "cell_type": "code",
   "execution_count": 99,
   "metadata": {
    "ExecuteTime": {
     "end_time": "2021-11-05T13:16:11.607246Z",
     "start_time": "2021-11-05T13:15:48.375027Z"
    }
   },
   "outputs": [
    {
     "name": "stdout",
     "output_type": "stream",
     "text": [
      "Accuracy: 0.82815\n",
      "ROC of AUC curve: 0.7033330878688908\n"
     ]
    }
   ],
   "source": [
    "# Scale features and split into training and testing\n",
    "X = StandardScaler().fit_transform(X)\n",
    "X_train, X_test, y_train, y_test = train_test_split(\n",
    "  X, y, test_size = .2, random_state = 0)\n",
    "\n",
    "# Create classifier and produce predictions\n",
    "clf = MLPClassifier(hidden_layer_sizes = (8, ), max_iter = 100)\n",
    "y_score = clf.fit(X_train, y_train).predict_proba(X_test) \n",
    "y_pred = clf.fit(X_train, y_train).predict(X_test) \n",
    "\n",
    "# Get accuracy and AUC of ROC curve \n",
    "fpr, tpr, thresholds = roc_curve(y_test, y_score[:, 1])\n",
    "roc_auc = auc(fpr, tpr)\n",
    "print(\"Accuracy: %s\" %(accuracy_score(y_test, y_pred)))\n",
    "print(\"ROC of AUC curve: %s\" %(roc_auc))"
   ]
  },
  {
   "cell_type": "markdown",
   "metadata": {},
   "source": [
    "**Notice that the accuracy score and AUC of ROC curve seem to be ballpark around that of other classifiers.**"
   ]
  },
  {
   "cell_type": "markdown",
   "metadata": {},
   "source": [
    "## Varying hyperparameters"
   ]
  },
  {
   "cell_type": "code",
   "execution_count": 100,
   "metadata": {
    "ExecuteTime": {
     "end_time": "2021-11-05T15:08:46.703192Z",
     "start_time": "2021-11-05T15:08:46.498878Z"
    }
   },
   "outputs": [],
   "source": [
    "from sklearn.metrics import roc_auc_score"
   ]
  },
  {
   "cell_type": "code",
   "execution_count": 101,
   "metadata": {
    "ExecuteTime": {
     "end_time": "2021-11-05T15:09:11.087938Z",
     "start_time": "2021-11-05T15:08:46.721175Z"
    }
   },
   "outputs": [
    {
     "name": "stderr",
     "output_type": "stream",
     "text": [
      "C:\\Users\\anoop\\anaconda3\\lib\\site-packages\\sklearn\\neural_network\\_multilayer_perceptron.py:692: ConvergenceWarning: Stochastic Optimizer: Maximum iterations (10) reached and the optimization hasn't converged yet.\n",
      "  warnings.warn(\n",
      "C:\\Users\\anoop\\anaconda3\\lib\\site-packages\\sklearn\\neural_network\\_multilayer_perceptron.py:692: ConvergenceWarning: Stochastic Optimizer: Maximum iterations (10) reached and the optimization hasn't converged yet.\n",
      "  warnings.warn(\n"
     ]
    },
    {
     "name": "stdout",
     "output_type": "stream",
     "text": [
      "Accuracy for max_iter = 10: 0.8262\n",
      "AUC for max_iter = 10: 0.671439606736305\n"
     ]
    },
    {
     "name": "stderr",
     "output_type": "stream",
     "text": [
      "C:\\Users\\anoop\\anaconda3\\lib\\site-packages\\sklearn\\neural_network\\_multilayer_perceptron.py:692: ConvergenceWarning: Stochastic Optimizer: Maximum iterations (20) reached and the optimization hasn't converged yet.\n",
      "  warnings.warn(\n",
      "C:\\Users\\anoop\\anaconda3\\lib\\site-packages\\sklearn\\neural_network\\_multilayer_perceptron.py:692: ConvergenceWarning: Stochastic Optimizer: Maximum iterations (20) reached and the optimization hasn't converged yet.\n",
      "  warnings.warn(\n"
     ]
    },
    {
     "name": "stdout",
     "output_type": "stream",
     "text": [
      "Accuracy for max_iter = 20: 0.82665\n",
      "AUC for max_iter = 20: 0.6859133818264302\n"
     ]
    },
    {
     "name": "stderr",
     "output_type": "stream",
     "text": [
      "C:\\Users\\anoop\\anaconda3\\lib\\site-packages\\sklearn\\neural_network\\_multilayer_perceptron.py:692: ConvergenceWarning: Stochastic Optimizer: Maximum iterations (30) reached and the optimization hasn't converged yet.\n",
      "  warnings.warn(\n"
     ]
    },
    {
     "name": "stdout",
     "output_type": "stream",
     "text": [
      "Accuracy for max_iter = 30: 0.82665\n",
      "AUC for max_iter = 30: 0.6904531481216013\n"
     ]
    },
    {
     "name": "stderr",
     "output_type": "stream",
     "text": [
      "C:\\Users\\anoop\\anaconda3\\lib\\site-packages\\sklearn\\neural_network\\_multilayer_perceptron.py:692: ConvergenceWarning: Stochastic Optimizer: Maximum iterations (30) reached and the optimization hasn't converged yet.\n",
      "  warnings.warn(\n"
     ]
    }
   ],
   "source": [
    "# Loop over various max_iter configurations\n",
    "max_iter_list = [10, 20, 30]\n",
    "for max_iter in max_iter_list:\n",
    "\tclf = MLPClassifier(hidden_layer_sizes = (4, ), \n",
    "                        max_iter = max_iter, random_state = 0)\n",
    "   \t# Extract relevant predictions\n",
    "\ty_score = clf.fit(X_train, y_train).predict_proba(X_test)\n",
    "\ty_pred = clf.fit(X_train, y_train).predict(X_test)\n",
    "\n",
    "\t# Get ROC curve metrics\n",
    "\tprint(\"Accuracy for max_iter = %s: %s\" %(\n",
    "      max_iter, accuracy_score(y_test, y_pred)))\n",
    "\tprint(\"AUC for max_iter = %s: %s\" %(\n",
    "      max_iter, roc_auc_score(y_test, y_score[:, 1])))"
   ]
  },
  {
   "cell_type": "code",
   "execution_count": 102,
   "metadata": {
    "ExecuteTime": {
     "end_time": "2021-11-05T15:10:39.324979Z",
     "start_time": "2021-11-05T15:10:27.624281Z"
    }
   },
   "outputs": [
    {
     "name": "stderr",
     "output_type": "stream",
     "text": [
      "C:\\Users\\anoop\\anaconda3\\lib\\site-packages\\sklearn\\neural_network\\_multilayer_perceptron.py:692: ConvergenceWarning: Stochastic Optimizer: Maximum iterations (10) reached and the optimization hasn't converged yet.\n",
      "  warnings.warn(\n",
      "C:\\Users\\anoop\\anaconda3\\lib\\site-packages\\sklearn\\neural_network\\_multilayer_perceptron.py:692: ConvergenceWarning: Stochastic Optimizer: Maximum iterations (10) reached and the optimization hasn't converged yet.\n",
      "  warnings.warn(\n"
     ]
    },
    {
     "name": "stdout",
     "output_type": "stream",
     "text": [
      "Accuracy for hidden_layer_sizes = (4,): 0.8262\n",
      "AUC for hidden_layer_sizes = (4,): 0.671439606736305\n"
     ]
    },
    {
     "name": "stderr",
     "output_type": "stream",
     "text": [
      "C:\\Users\\anoop\\anaconda3\\lib\\site-packages\\sklearn\\neural_network\\_multilayer_perceptron.py:692: ConvergenceWarning: Stochastic Optimizer: Maximum iterations (10) reached and the optimization hasn't converged yet.\n",
      "  warnings.warn(\n",
      "C:\\Users\\anoop\\anaconda3\\lib\\site-packages\\sklearn\\neural_network\\_multilayer_perceptron.py:692: ConvergenceWarning: Stochastic Optimizer: Maximum iterations (10) reached and the optimization hasn't converged yet.\n",
      "  warnings.warn(\n"
     ]
    },
    {
     "name": "stdout",
     "output_type": "stream",
     "text": [
      "Accuracy for hidden_layer_sizes = (8,): 0.82815\n",
      "AUC for hidden_layer_sizes = (8,): 0.6855097350029032\n"
     ]
    },
    {
     "name": "stderr",
     "output_type": "stream",
     "text": [
      "C:\\Users\\anoop\\anaconda3\\lib\\site-packages\\sklearn\\neural_network\\_multilayer_perceptron.py:692: ConvergenceWarning: Stochastic Optimizer: Maximum iterations (10) reached and the optimization hasn't converged yet.\n",
      "  warnings.warn(\n"
     ]
    },
    {
     "name": "stdout",
     "output_type": "stream",
     "text": [
      "Accuracy for hidden_layer_sizes = (16,): 0.82685\n",
      "AUC for hidden_layer_sizes = (16,): 0.6941854812021604\n"
     ]
    },
    {
     "name": "stderr",
     "output_type": "stream",
     "text": [
      "C:\\Users\\anoop\\anaconda3\\lib\\site-packages\\sklearn\\neural_network\\_multilayer_perceptron.py:692: ConvergenceWarning: Stochastic Optimizer: Maximum iterations (10) reached and the optimization hasn't converged yet.\n",
      "  warnings.warn(\n"
     ]
    }
   ],
   "source": [
    "# Create and loop over various hidden_layer_sizes configurations\n",
    "hidden_layer_sizes_list = [(4,), (8,), (16,)]\n",
    "for hidden_layer_sizes in hidden_layer_sizes_list:\n",
    "\tclf = MLPClassifier(hidden_layer_sizes = hidden_layer_sizes, \n",
    "                        max_iter = 10, random_state = 0)\n",
    "   \t# Extract relevant predictions\n",
    "\ty_score = clf.fit(X_train, y_train).predict_proba(X_test)\n",
    "\ty_pred = clf.fit(X_train, y_train).predict(X_test)\n",
    "\n",
    "\t# Get ROC curve metrics\n",
    "\tprint(\"Accuracy for hidden_layer_sizes = %s: %s\" %(\n",
    "      hidden_layer_sizes, accuracy_score(y_test, y_pred)))\n",
    "\tprint(\"AUC for hidden_layer_sizes = %s: %s\" %(\n",
    "      hidden_layer_sizes, roc_auc_score(y_test, y_score[:, 1])))"
   ]
  },
  {
   "cell_type": "markdown",
   "metadata": {},
   "source": [
    "**Notice that having more hidden layers seemed to improve performance.**"
   ]
  },
  {
   "cell_type": "code",
   "execution_count": 103,
   "metadata": {
    "ExecuteTime": {
     "end_time": "2021-11-05T15:17:43.474155Z",
     "start_time": "2021-11-05T15:15:47.804322Z"
    }
   },
   "outputs": [
    {
     "name": "stdout",
     "output_type": "stream",
     "text": [
      "Best Score: \n",
      "0.6893215545778035\n",
      "Best Estimator: \n",
      "MLPClassifier(hidden_layer_sizes=(16,), max_iter=20)\n"
     ]
    },
    {
     "name": "stderr",
     "output_type": "stream",
     "text": [
      "C:\\Users\\anoop\\anaconda3\\lib\\site-packages\\sklearn\\neural_network\\_multilayer_perceptron.py:692: ConvergenceWarning: Stochastic Optimizer: Maximum iterations (20) reached and the optimization hasn't converged yet.\n",
      "  warnings.warn(\n"
     ]
    }
   ],
   "source": [
    "# Create list of hyperparameters \n",
    "max_iter = [10, 20]\n",
    "hidden_layer_sizes = [(8, ), (16, )]\n",
    "param_grid = {'max_iter': max_iter, 'hidden_layer_sizes': hidden_layer_sizes}\n",
    "\n",
    "# Use Grid search CV to find best parameters using 4 jobs\n",
    "mlp = MLPClassifier()\n",
    "clf = GridSearchCV(estimator = mlp, param_grid = param_grid, \n",
    "           scoring = 'roc_auc', n_jobs = 4)\n",
    "clf.fit(X_train, y_train)\n",
    "print(\"Best Score: \")\n",
    "print(clf.best_score_)\n",
    "print(\"Best Estimator: \")\n",
    "print(clf.best_estimator_)"
   ]
  },
  {
   "cell_type": "markdown",
   "metadata": {},
   "source": [
    "**As seen here, the best AUC is around 0.68 and from the model with the maximum number of iterations (20) and most number of hidden layer units (16).**"
   ]
  },
  {
   "cell_type": "code",
   "execution_count": 104,
   "metadata": {
    "ExecuteTime": {
     "end_time": "2021-11-05T15:42:57.917932Z",
     "start_time": "2021-11-05T15:42:57.513362Z"
    }
   },
   "outputs": [],
   "source": [
    "from sklearn.metrics import fbeta_score"
   ]
  },
  {
   "cell_type": "code",
   "execution_count": 105,
   "metadata": {
    "ExecuteTime": {
     "end_time": "2021-11-05T15:44:45.239045Z",
     "start_time": "2021-11-05T15:44:42.223325Z"
    }
   },
   "outputs": [
    {
     "name": "stderr",
     "output_type": "stream",
     "text": [
      "C:\\Users\\anoop\\anaconda3\\lib\\site-packages\\sklearn\\neural_network\\_multilayer_perceptron.py:692: ConvergenceWarning: Stochastic Optimizer: Maximum iterations (10) reached and the optimization hasn't converged yet.\n",
      "  warnings.warn(\n"
     ]
    },
    {
     "name": "stdout",
     "output_type": "stream",
     "text": [
      "Precision: 0.7789593141643513, Recall: 0.82685, F-beta score: 0.7571600420288958\n"
     ]
    }
   ],
   "source": [
    "# Set up MLP classifier, train and predict\n",
    "clf = MLPClassifier(hidden_layer_sizes = (16, ), \n",
    "                    max_iter = 10, random_state = 0)\n",
    "y_pred = clf.fit(X_train, y_train).predict(X_test) \n",
    "\n",
    "# Evaluate precision and recall\n",
    "prec = precision_score(y_test, y_pred, average = 'weighted')\n",
    "recall = recall_score(y_test, y_pred, average = 'weighted')\n",
    "fbeta = fbeta_score(y_test, y_pred, beta  = 0.5, average = 'weighted')\n",
    "print(\"Precision: %s, Recall: %s, F-beta score: %s\" %(prec, recall, fbeta))"
   ]
  },
  {
   "cell_type": "markdown",
   "metadata": {},
   "source": [
    "**Notice how the F-beta score is closer to the precision.**"
   ]
  },
  {
   "cell_type": "code",
   "execution_count": 106,
   "metadata": {
    "ExecuteTime": {
     "end_time": "2021-11-05T16:01:12.424326Z",
     "start_time": "2021-11-05T16:01:11.228295Z"
    }
   },
   "outputs": [
    {
     "name": "stdout",
     "output_type": "stream",
     "text": [
      "Total ROI: 3.1158372566574055, Precision: 0.7789593141643513, AUC of ROC curve: 0.6941854812021604\n"
     ]
    }
   ],
   "source": [
    "# Get precision and total ROI\n",
    "prec = precision_score(y_test, y_pred, average = 'weighted')\n",
    "r = 0.2\n",
    "cost = 0.05 \n",
    "roi = prec * r / cost\n",
    "\n",
    "# Get AUC\n",
    "roc_auc = roc_auc_score(y_test, y_score[:, 1])\n",
    "\n",
    "print(\"Total ROI: %s, Precision: %s, AUC of ROC curve: %s\" %(\n",
    "  roi, prec, roc_auc))"
   ]
  },
  {
   "cell_type": "markdown",
   "metadata": {},
   "source": [
    "**Note the ROI was > 1 and the precision and ROC of the AUC are both > 0.65, suggesting this not a case of low precision and high AUC.**"
   ]
  },
  {
   "cell_type": "markdown",
   "metadata": {},
   "source": [
    "## Model comparison"
   ]
  },
  {
   "cell_type": "code",
   "execution_count": 107,
   "metadata": {
    "ExecuteTime": {
     "end_time": "2021-11-05T17:01:40.693336Z",
     "start_time": "2021-11-05T17:00:48.599528Z"
    }
   },
   "outputs": [
    {
     "name": "stdout",
     "output_type": "stream",
     "text": [
      "Evaluating classifier: Random Forest\n",
      "[[15054  1479]\n",
      " [ 2772   695]]\n",
      "Evaluating classifier: Multi-Layer Perceptron\n",
      "[[16293   240]\n",
      " [ 3198   269]]\n"
     ]
    }
   ],
   "source": [
    "# Create the list of models in the order below\n",
    "names = ['Random Forest', 'Multi-Layer Perceptron']\n",
    "classifiers = [RandomForestClassifier(), \n",
    "               MLPClassifier(hidden_layer_sizes = (10, ),\n",
    "                            max_iter = 40)]\n",
    "\n",
    "# Produce a confusion matrix for all classifiers\n",
    "for name, classifier in zip(names, classifiers):\n",
    "  print(\"Evaluating classifier: %s\" %(name))\n",
    "  classifier.fit(X_train, y_train)\n",
    "  y_pred = classifier.predict(X_test)\n",
    "  conf_matrix = confusion_matrix(y_test, y_pred)\n",
    "  print(conf_matrix)"
   ]
  },
  {
   "cell_type": "markdown",
   "metadata": {},
   "source": [
    "**The MLP had no false or true positives.**"
   ]
  },
  {
   "cell_type": "markdown",
   "metadata": {},
   "source": [
    "### Evaluating precision and ROI"
   ]
  },
  {
   "cell_type": "code",
   "execution_count": 108,
   "metadata": {
    "ExecuteTime": {
     "end_time": "2021-11-05T17:05:07.543900Z",
     "start_time": "2021-11-05T17:04:34.093325Z"
    }
   },
   "outputs": [
    {
     "name": "stdout",
     "output_type": "stream",
     "text": [
      "Precision for Logistic Regression: 0.7412129536054967 \n",
      "Precision for Decision Tree: 0.7438587361164919 \n",
      "Precision for Random Forest: 0.751787741183602 \n",
      "Precision for Multi-Layer Perceptron: 0.7796621403566513 \n"
     ]
    },
    {
     "name": "stderr",
     "output_type": "stream",
     "text": [
      "C:\\Users\\anoop\\anaconda3\\lib\\site-packages\\sklearn\\neural_network\\_multilayer_perceptron.py:692: ConvergenceWarning: Stochastic Optimizer: Maximum iterations (40) reached and the optimization hasn't converged yet.\n",
      "  warnings.warn(\n"
     ]
    }
   ],
   "source": [
    "# Create list of classifiers\n",
    "names = ['Logistic Regression',  'Decision Tree',\n",
    "         'Random Forest', 'Multi-Layer Perceptron']\n",
    "clfs = [LogisticRegression(), \n",
    "        DecisionTreeClassifier(), RandomForestClassifier(), \n",
    "        MLPClassifier(hidden_layer_sizes = (5, ), max_iter = 40)]\n",
    "\n",
    "# Fit each classifier and evaluate AUC of ROC curve \n",
    "for name, classifier in zip(names, clfs):\n",
    "  classifier.fit(X_train, y_train)\n",
    "  y_score = classifier.predict_proba(X_test)\n",
    "  y_pred = classifier.predict(X_test) \n",
    "  prec = precision_score(y_test, y_pred, average = 'weighted')\n",
    "  print(\"Precision for %s: %s \" %(name, prec))"
   ]
  },
  {
   "cell_type": "code",
   "execution_count": 109,
   "metadata": {
    "ExecuteTime": {
     "end_time": "2021-11-05T17:06:01.938780Z",
     "start_time": "2021-11-05T17:05:37.605358Z"
    }
   },
   "outputs": [
    {
     "name": "stdout",
     "output_type": "stream",
     "text": [
      "Precision for Logistic Regression: 0.7412129536054967 \n",
      "Precision for Decision Tree: 0.742908731607457 \n",
      "Precision for Random Forest: 0.753705515483561 \n",
      "Precision for Multi-Layer Perceptron: 0.7732069921367379 \n"
     ]
    },
    {
     "name": "stderr",
     "output_type": "stream",
     "text": [
      "C:\\Users\\anoop\\anaconda3\\lib\\site-packages\\sklearn\\neural_network\\_multilayer_perceptron.py:692: ConvergenceWarning: Stochastic Optimizer: Maximum iterations (40) reached and the optimization hasn't converged yet.\n",
      "  warnings.warn(\n"
     ]
    }
   ],
   "source": [
    "# Create list of classifiers\n",
    "names = ['Logistic Regression',  'Decision Tree',\n",
    "         'Random Forest', 'Multi-Layer Perceptron']\n",
    "clfs = [LogisticRegression(), \n",
    "        DecisionTreeClassifier(), RandomForestClassifier(), \n",
    "        MLPClassifier(hidden_layer_sizes = (5, ), max_iter = 40)]\n",
    "\n",
    "# Fit each classifier and evaluate AUC of ROC curve \n",
    "for name, classifier in zip(names, clfs):\n",
    "  classifier.fit(X_train, y_train)\n",
    "  y_score = classifier.predict_proba(X_test)\n",
    "  y_pred = classifier.predict(X_test) \n",
    "  prec = precision_score(y_test, y_pred, average = 'weighted')\n",
    "  print(\"Precision for %s: %s \" %(name, prec))"
   ]
  },
  {
   "cell_type": "markdown",
   "metadata": {},
   "source": [
    "**Notice that the relative ordering by ROI was the same as for precision, since the return and cost were held constant.**"
   ]
  },
  {
   "cell_type": "markdown",
   "metadata": {},
   "source": [
    "### Total scoring"
   ]
  },
  {
   "cell_type": "code",
   "execution_count": 110,
   "metadata": {
    "ExecuteTime": {
     "end_time": "2021-11-05T17:07:49.647174Z",
     "start_time": "2021-11-05T17:07:49.350937Z"
    }
   },
   "outputs": [],
   "source": [
    "def print_estimator_name(estimator):\n",
    "    return estimator.__class__.__name__\n"
   ]
  },
  {
   "cell_type": "code",
   "execution_count": 111,
   "metadata": {
    "ExecuteTime": {
     "end_time": "2021-11-05T17:10:10.528776Z",
     "start_time": "2021-11-05T17:09:27.999906Z"
    }
   },
   "outputs": [
    {
     "name": "stdout",
     "output_type": "stream",
     "text": [
      "Evaluating classifier: LogisticRegression\n",
      "Precision: 0.7412129536054967: Recall: 0.82645, F-beta score: 0.7088886736165994, AUC of ROC curve: 0.6535016078444364\n",
      "Evaluating classifier: DecisionTreeClassifier\n",
      "Precision: 0.7433518800764827: Recall: 0.7403, F-beta score: 0.7427307659628075, AUC of ROC curve: 0.5545348543894285\n",
      "Evaluating classifier: RandomForestClassifier\n",
      "Precision: 0.7525481490695897: Recall: 0.78755, F-beta score: 0.7570068163171861, AUC of ROC curve: 0.6519030010357134\n",
      "Evaluating classifier: MLPClassifier\n",
      "Precision: 0.7803236683896547: Recall: 0.82715, F-beta score: 0.7592660158814463, AUC of ROC curve: 0.701591982583504\n"
     ]
    },
    {
     "name": "stderr",
     "output_type": "stream",
     "text": [
      "C:\\Users\\anoop\\anaconda3\\lib\\site-packages\\sklearn\\neural_network\\_multilayer_perceptron.py:692: ConvergenceWarning: Stochastic Optimizer: Maximum iterations (50) reached and the optimization hasn't converged yet.\n",
      "  warnings.warn(\n"
     ]
    }
   ],
   "source": [
    "# Create classifiers\n",
    "clfs = [LogisticRegression(), DecisionTreeClassifier(), RandomForestClassifier(), \n",
    "        MLPClassifier(hidden_layer_sizes = (10, ), max_iter = 50)]\n",
    "\n",
    "# Produce all evaluation metrics for each classifier\n",
    "for clf in clfs:\n",
    "  print(\"Evaluating classifier: %s\" %(print_estimator_name(clf)))\n",
    "  y_score = clf.fit(X_train, y_train).predict_proba(X_test)\n",
    "  y_pred = clf.fit(X_train, y_train).predict(X_test)\n",
    "  prec = precision_score(y_test, y_pred, average = 'weighted')\n",
    "  recall = recall_score(y_test, y_pred, average = 'weighted')\n",
    "  fbeta = fbeta_score(y_test, y_pred, beta = 0.5, average = 'weighted')\n",
    "  roc_auc = roc_auc_score(y_test, y_score[:, 1])\n",
    "  print(\"Precision: %s: Recall: %s, F-beta score: %s, AUC of ROC curve: %s\" \n",
    "        %(prec, recall, fbeta, roc_auc))"
   ]
  },
  {
   "cell_type": "markdown",
   "metadata": {},
   "source": [
    "**The overall performance in terms of precision, recall, F-beta score, and AUC seems to be the best for the decision tree (and very closely followed by the random forest).**"
   ]
  },
  {
   "cell_type": "code",
   "execution_count": null,
   "metadata": {},
   "outputs": [],
   "source": []
  }
 ],
 "metadata": {
  "hide_input": false,
  "kernelspec": {
   "display_name": "Python 3",
   "language": "python",
   "name": "python3"
  },
  "language_info": {
   "codemirror_mode": {
    "name": "ipython",
    "version": 3
   },
   "file_extension": ".py",
   "mimetype": "text/x-python",
   "name": "python",
   "nbconvert_exporter": "python",
   "pygments_lexer": "ipython3",
   "version": "3.8.3"
  },
  "latex_envs": {
   "LaTeX_envs_menu_present": true,
   "autoclose": false,
   "autocomplete": true,
   "bibliofile": "biblio.bib",
   "cite_by": "apalike",
   "current_citInitial": 1,
   "eqLabelWithNumbers": true,
   "eqNumInitial": 1,
   "hotkeys": {
    "equation": "Ctrl-E",
    "itemize": "Ctrl-I"
   },
   "labels_anchors": false,
   "latex_user_defs": false,
   "report_style_numbering": false,
   "user_envs_cfg": false
  },
  "toc": {
   "base_numbering": 1,
   "nav_menu": {},
   "number_sections": true,
   "sideBar": true,
   "skip_h1_title": false,
   "title_cell": "Table of Contents",
   "title_sidebar": "Contents",
   "toc_cell": false,
   "toc_position": {},
   "toc_section_display": true,
   "toc_window_display": false
  }
 },
 "nbformat": 4,
 "nbformat_minor": 4
}
